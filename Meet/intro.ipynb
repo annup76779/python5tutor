{
 "cells": [
  {
   "cell_type": "code",
   "execution_count": 6,
   "metadata": {},
   "outputs": [
    {
     "name": "stdout",
     "output_type": "stream",
     "text": [
      "hello world, I live in India\n"
     ]
    }
   ],
   "source": [
    "print(\"hello world\",end=\", \")\n",
    "print(\"I live in India\")"
   ]
  },
  {
   "cell_type": "code",
   "execution_count": null,
   "metadata": {},
   "outputs": [],
   "source": [
    "var = \"Anurag\"\n",
    "print(\"Anurag\")\n",
    "print(var)"
   ]
  },
  {
   "cell_type": "markdown",
   "metadata": {},
   "source": [
    "#### datatypes in python\n",
    "##### Primitive datatypes in python\n",
    "```\n",
    "1. string(str)**immutable** -> \"data\", 'data', '''data''', \"\"\"data\"\"\"\n",
    "2. integer(int) -> 1,2,4, -5, 23, 0\n",
    "3. Floating point(float) -> 12.3, -78.9, etc\n",
    "4. boolean(bool) -> True, False\n",
    "5. complex(comp)-> i+2j\n",
    "```\n",
    "\n",
    "##### Non-Primitive datatype\n",
    "```\n",
    "1. list([])**mutable** -> [1,2,3, 4, \"anurag\", 56.3, [23,4,5,5]]\n",
    "2. tuple(())**immutable** -> (1,2,3, 4, \"anurag\", 56.3, [23,4,5,5])\n",
    "3. set(set())**mutable and hashed data** -> {1,2,3,4,5}\n",
    "4. dictionary(dict -> {})**mutable and hashed and key:value** -> {key: value}\n",
    "```"
   ]
  },
  {
   "cell_type": "code",
   "execution_count": null,
   "metadata": {},
   "outputs": [],
   "source": [
    "# a program to find the largest number among 3 number without using max() of python but by using if else\n",
    "\n",
    "n1 = 12\n",
    "n2 = 32\n",
    "n3 = 15\n",
    "\n",
    "if n1 > n2:\n",
    "    if n1 > n3:\n",
    "        print(n1, \"is the largest number among\", n1, n2, n3)\n",
    "    else:\n",
    "        print(n3, \"is the largest number among\", n1, n2, n3)\n",
    "else:\n",
    "    if n2 > n3:\n",
    "        print(n2, \"is the largest number among\", n1, n2, n3)\n",
    "    else:\n",
    "        print(n3, \"is the largest number among\", n1, n2, n3)\n"
   ]
  },
  {
   "cell_type": "markdown",
   "metadata": {},
   "source": [
    "#### looping in python\n",
    "```\n",
    "1. while loop\n",
    "syntax-\n",
    "    while bool_statement is True:\n",
    "        command 1\n",
    "        .\n",
    "        .\n",
    "        command n\n",
    "\n",
    "\n",
    "2. for loop-\n",
    "Syntax-\n",
    "    for variable_name in sequence:\n",
    "        command 1\n",
    "        .\n",
    "        .\n",
    "        command n\n",
    "```"
   ]
  },
  {
   "cell_type": "code",
   "execution_count": 14,
   "metadata": {},
   "outputs": [],
   "source": [
    "# working on while loop\n",
    "# if we have to keep taking input from user and you want you program to stop when user enters\n",
    "# without writing anything into input block\n",
    "userIn = input(\"Enter the first data: \")\n",
    "counter = 1\n",
    "\n",
    "while userIn.strip() != \"\":\n",
    "    counter+=1\n",
    "    userIn = input(\"Enter the data\"+ str(counter)+\": \")"
   ]
  },
  {
   "cell_type": "code",
   "execution_count": 15,
   "metadata": {},
   "outputs": [
    {
     "name": "stdout",
     "output_type": "stream",
     "text": [
      "210\n"
     ]
    }
   ],
   "source": [
    "# for loop\n",
    "# i want to sum_up first 20 natural number's square\n",
    "sum_ = 0\n",
    "for num in range(1, 21, 1):\n",
    "    sum_ += num\n",
    "print(sum_)"
   ]
  }
 ],
 "metadata": {
  "kernelspec": {
   "display_name": "Python 3.10.4 64-bit",
   "language": "python",
   "name": "python3"
  },
  "language_info": {
   "codemirror_mode": {
    "name": "ipython",
    "version": 3
   },
   "file_extension": ".py",
   "mimetype": "text/x-python",
   "name": "python",
   "nbconvert_exporter": "python",
   "pygments_lexer": "ipython3",
   "version": "3.10.4"
  },
  "orig_nbformat": 4,
  "vscode": {
   "interpreter": {
    "hash": "4f946df053fbf2b937619d3c5458e7af74262f9a954d8797ba0b27400bcafe06"
   }
  }
 },
 "nbformat": 4,
 "nbformat_minor": 2
}
