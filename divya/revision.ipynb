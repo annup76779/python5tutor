{
 "cells": [
  {
   "cell_type": "code",
   "execution_count": 9,
   "metadata": {},
   "outputs": [
    {
     "name": "stdout",
     "output_type": "stream",
     "text": [
      "Hello word -- I live in India\n"
     ]
    }
   ],
   "source": [
    "print(\"Hello word\", end=\" -- \")\n",
    "print(\"I live in India\")"
   ]
  },
  {
   "cell_type": "markdown",
   "metadata": {},
   "source": [
    "# datatype in python\n",
    "## builtin datatypes in python\n",
    "1. numeric data type \n",
    "```\n",
    "    1. integer(int) - 1,2,3,-1, -3,..\n",
    "    2. floating point(float) - 5.6, 23.5, 23.0, -23.9\n",
    "    3. complex number(comp) - 1+2j, 3+3j, 3+4j, 3+5j\n",
    "    4. boolean datatype(bool) - True(non 0), False(0)\n",
    "```\n",
    "2. non numeric data type\n",
    "```\n",
    "    1. strings\n",
    "    2. builtin datastructures in python \n",
    "    |- list\n",
    "    |- tuple \n",
    "    |- set\n",
    "    |- dictionary\n",
    "```\n",
    "<b>NOTE: You can define your own datatype by the help of using classes</b>"
   ]
  },
  {
   "cell_type": "markdown",
   "metadata": {},
   "source": [
    "# requently used builtin functions in python\n",
    "```\n",
    "len(sequence) -> gives the count of data present in any sequence\n",
    "sum(sequence) -> gives the sum of the data present in the sequence but the data in the sequence should be supporting addition.\n",
    "min(sequence) -> gives the minimum of data present int the sequence\n",
    "max(sequence) -> gives the maximum of data present int the sequence\n",
    "print(sequence) -> prints the data of the sequence in the ascending order\n",
    "input(__str__) -> takes input from the user using stdin stream\n",
    "```"
   ]
  },
  {
   "cell_type": "markdown",
   "metadata": {},
   "source": [
    "# taking user input \n",
    "```\n",
    "syntax\n",
    "\n",
    "variable_name = input(Prompt in string format)\n",
    "```\n",
    "for taking user input we need to use `input()` and the input type is always string. In case we need to change the type of the input we have to specifically type caste the input\n",
    "#### type casting in python\n",
    "```\n",
    "each datatype is defined by a class name in python\n",
    "so in case if you have to change the type of any data to another data(say datatype B), then you have to pass the data A to the class of Data B.\n",
    "\n",
    "Let have an example\n",
    "\n",
    "s = \"12\"\n",
    "# i want to change the type of s from string to integer\n",
    "# I should int() class to type cast the string to integer\n",
    "s_int = int(s)\n",
    "print(type(s_int))\n",
    "\n",
    "OUTPUT\n",
    "<class 'int'>\n",
    "\n",
    "```"
   ]
  },
  {
   "cell_type": "code",
   "execution_count": null,
   "metadata": {},
   "outputs": [],
   "source": [
    "# this is how we take integer input from python\n",
    "s = input(\"Enter any data\")\n",
    "print(type(s))\n",
    "s_int = int(s)\n",
    "print(type(s_int))"
   ]
  },
  {
   "cell_type": "markdown",
   "metadata": {},
   "source": [
    "# conditional statements in python(boolean statements as well)\n",
    "```\n",
    "num = 89 # which is entered by user\n",
    "# now if you want to check if the number is in b/w 80 to 90 then\n",
    "80 < num < 90 -> True or False\n",
    "```\n",
    "## how to user conditional statements\n",
    "For this you have idea how to use following keywords in python\n",
    "1. if statement\n",
    "2. if-else statement\n",
    "3. if-elif statement\n",
    "4. if-elif-else statement\n",
    "5. nested if else (when you put if-else inside if-else)"
   ]
  }
 ],
 "metadata": {
  "kernelspec": {
   "display_name": "Python 3.10.4 64-bit",
   "language": "python",
   "name": "python3"
  },
  "language_info": {
   "codemirror_mode": {
    "name": "ipython",
    "version": 3
   },
   "file_extension": ".py",
   "mimetype": "text/x-python",
   "name": "python",
   "nbconvert_exporter": "python",
   "pygments_lexer": "ipython3",
   "version": "3.10.4"
  },
  "orig_nbformat": 4,
  "vscode": {
   "interpreter": {
    "hash": "4f946df053fbf2b937619d3c5458e7af74262f9a954d8797ba0b27400bcafe06"
   }
  }
 },
 "nbformat": 4,
 "nbformat_minor": 2
}
