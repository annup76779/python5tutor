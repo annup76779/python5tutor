{
 "cells": [
  {
   "cell_type": "markdown",
   "id": "e611b481-b7f6-44d4-aa4a-62b554bd74fe",
   "metadata": {},
   "source": [
    "#### Homework 5 (Due: Wednesday, 11/30/22, 11:59pm)\n",
    "\n",
    "*****\n",
    "\n",
    "**Name:** \n",
    "\n",
    "**Collaboration disclosure (if any):**\n",
    "\n",
    "-------------\n",
    "\n",
    "#### General Instructions\n",
    "> Read the homework document **hw5.pdf** (available on Canvas) for a complete description of the problems you are asked to solve for this homework assignment. \n",
    "\n",
    "> Make sure that you add your name and cite any help that you received on the assignment.\n",
    "\n",
    "> Also follow the specific instructions on style that were provided with the first homework."
   ]
  },
  {
   "cell_type": "markdown",
   "id": "8153f73c-096b-462b-a045-94d7704d3037",
   "metadata": {},
   "source": [
    "#### Conventions on Style for Function Definitions\n",
    "\n",
    "- The name of a function should begin with lowercase letters, and should\n",
    "use underscores to separate meaningful parts\n",
    "\n",
    "- The formal parameters (or formal arguments) must have descriptive names\n",
    "\n",
    "- Each function should have a complete **docstring** (in **Google** style) with\n",
    "one line descriptions of the arguments and a description of the **return value**"
   ]
  },
  {
   "cell_type": "markdown",
   "id": "18433d24-54bd-4077-9c34-ddc08449883f",
   "metadata": {
    "tags": []
   },
   "source": [
    "#### Developing and Submitting Code\n",
    "\n",
    "As a novice programmer, the tendency is to try and write code for\n",
    "**all** the functions **before** beginning to test the code: please avoid\n",
    "this at all costs! Robust code development is \n",
    "*incremental*: you write code for a function, test it fully, and then move on to the next function. By being systematically incremental, you will cut down\n",
    "substantially on the number of errors that you make. \n",
    "\n",
    "**Each of the three problems on this homework assignment will be completed in its own Python module. Please read all instructions and complete all functions exactly as described in the homework document hw5.pdf**.\n"
   ]
  },
  {
   "cell_type": "markdown",
   "id": "f4e47613-6474-4204-989a-070637c2b0b6",
   "metadata": {
    "tags": []
   },
   "source": [
    "--------\n",
    "#### Problem 1: Formatting a text file (35 points)\n",
    "\n",
    "Implement the functions for this problem in a module called `hw5problem1.py`. \n"
   ]
  },
  {
   "cell_type": "code",
   "execution_count": null,
   "id": "67d14c69-de8c-409a-a611-5381168e5106",
   "metadata": {},
   "outputs": [],
   "source": [
    "# Do not modify this code cell\n",
    "\n",
    "from hw5problem1 import *"
   ]
  },
  {
   "cell_type": "code",
   "execution_count": null,
   "id": "65d23575-0da5-4c69-8e15-89f9523ba1f0",
   "metadata": {},
   "outputs": [],
   "source": [
    "format_essay()"
   ]
  },
  {
   "cell_type": "markdown",
   "id": "ef8ed6cb-1b42-469a-a0f5-a64004c69026",
   "metadata": {
    "tags": []
   },
   "source": [
    "---------\n",
    "#### Problem 2: Calculating student grades (35 points)\n",
    "\n",
    "Implement all functions for this problem in a module called `hw5problem2.py`.\n"
   ]
  },
  {
   "cell_type": "code",
   "execution_count": 10,
   "id": "38d28c74-b825-4c74-a0fd-d369045c50f5",
   "metadata": {},
   "outputs": [],
   "source": [
    "# Do not modify this code cell\n",
    "\n",
    "from hw5problem2 import *"
   ]
  },
  {
   "cell_type": "code",
   "execution_count": 13,
   "id": "978d3a25-4090-4d7a-8035-60c883c18346",
   "metadata": {},
   "outputs": [
    {
     "name": "stdout",
     "output_type": "stream",
     "text": [
      "Creating grade roster...\n",
      "\n",
      "None\n"
     ]
    }
   ],
   "source": [
    "print(\"Creating grade roster...\\n\")\n",
    "sdict = create_dictionary(\"studentids.txt\", \"hwscores.txt\", \"quizscores.txt\", \"examscores.txt\")\n",
    "create_graderoster(sdict, \"yourgraderoster.txt\")\n",
    "print(\"The grade roster resides in a file called yourgraderoster.txt\\n\\nGoodbye!\\n\")"
   ]
  },
  {
   "cell_type": "markdown",
   "id": "ff51c9f9-b141-47e5-9056-f9baa86cff2d",
   "metadata": {
    "tags": []
   },
   "source": [
    "-----------\n",
    "#### Problem 3: Correlating stock data (30 points)\n",
    "\n",
    "Implement the functions for this problem in a module called `hw5problem3.py`.\n"
   ]
  },
  {
   "cell_type": "code",
   "execution_count": null,
   "id": "fab205cd-05c0-4257-ba9e-a719e5b28545",
   "metadata": {},
   "outputs": [],
   "source": [
    "# Do not modify this code cell\n",
    "\n",
    "from hw5problem3 import *"
   ]
  },
  {
   "cell_type": "code",
   "execution_count": null,
   "id": "737f9979-626f-46bf-bb49-11426cc33c97",
   "metadata": {},
   "outputs": [],
   "source": [
    "appl_list = closingprices_list(\"AAPL.csv\")\n",
    "start_date = appl_list[0][1]\n",
    "end_date = appl_list[-1][1]"
   ]
  },
  {
   "cell_type": "code",
   "execution_count": null,
   "id": "a0ae3209-6efd-4a22-8757-44e4538129f7",
   "metadata": {},
   "outputs": [],
   "source": [
    "appl_best = best_days(\"AAPL.csv\", 5)\n",
    "appl_worst = worst_days(\"AAPL.csv\", 5)\n",
    "\n",
    "print(\"The five best days of Apple stock are as follows: \")\n",
    "for pr in appl_best:\n",
    "    print(\"{:>8.2f}{:>15s}\".format(pr[0], pr[1]))\n",
    "print()\n",
    "print(\"The five worst days of Apple stock are as follows: \")\n",
    "for pr in appl_worst:\n",
    "    print(\"{:>8.2f}{:>15s}\".format(pr[0], pr[1]))\n",
    "print()"
   ]
  },
  {
   "cell_type": "code",
   "execution_count": null,
   "id": "464f6234-4b20-4544-9a4c-3116c1c28402",
   "metadata": {},
   "outputs": [],
   "source": [
    "coke_best = best_days(\"COKE.csv\", 5)\n",
    "coke_worst = worst_days(\"COKE.csv\", 5)\n",
    "\n",
    "print(\"The five best days of Coke stock are as follows: \")\n",
    "for pr in coke_best:\n",
    "    print(\"{:>8.2f}{:>15s}\".format(pr[0], pr[1]))\n",
    "print()\n",
    "print(\"The five worst days of Coke stock are as follows: \")\n",
    "for pr in coke_worst:\n",
    "    print(\"{:>8.2f}{:>15s}\".format(pr[0], pr[1]))\n",
    "print()"
   ]
  },
  {
   "cell_type": "code",
   "execution_count": null,
   "id": "ea3956f2-c5be-489b-b99a-35d5a9a513bc",
   "metadata": {},
   "outputs": [],
   "source": [
    "corr_coeff = correlation_coeff(\"AAPL.csv\", \"COKE.csv\")\n",
    "print(\"The correlation coefficient between Apple and Coke stock \")\n",
    "print(\"(between the dates {} and {}) is {:>5.2f}\".format(start_date, end_date, corr_coeff))"
   ]
  },
  {
   "cell_type": "code",
   "execution_count": null,
   "id": "6ce924b4-9fe1-4fc4-9d5b-ffb6f6bcf46e",
   "metadata": {},
   "outputs": [],
   "source": []
  }
 ],
 "metadata": {
  "kernelspec": {
   "display_name": "Python 3.10.7 64-bit",
   "language": "python",
   "name": "python3"
  },
  "language_info": {
   "codemirror_mode": {
    "name": "ipython",
    "version": 3
   },
   "file_extension": ".py",
   "mimetype": "text/x-python",
   "name": "python",
   "nbconvert_exporter": "python",
   "pygments_lexer": "ipython3",
   "version": "3.10.7"
  },
  "vscode": {
   "interpreter": {
    "hash": "4c75d34ee1fcdb015885d85ab071295bd815e7d150290c0ae76b929ae622a1c7"
   }
  }
 },
 "nbformat": 4,
 "nbformat_minor": 5
}
