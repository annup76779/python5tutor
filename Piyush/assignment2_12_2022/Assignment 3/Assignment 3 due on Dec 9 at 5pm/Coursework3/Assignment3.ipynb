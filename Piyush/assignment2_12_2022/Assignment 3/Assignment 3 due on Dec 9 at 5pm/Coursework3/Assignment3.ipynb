{
 "cells": [
  {
   "cell_type": "markdown",
   "id": "d00cef7d",
   "metadata": {},
   "source": [
    "Before you turn this problem in, make sure everything runs as expected. First, **restart the kernel** (in the menubar, select Kernel$\\rightarrow$Restart) and then **run all cells** (in the menubar, select Cell$\\rightarrow$Run All).\n",
    "\n",
    "Make sure you fill in any place that says `YOUR CODE HERE` or \"YOUR ANSWER HERE\", as well as your name and collaborators below:"
   ]
  },
  {
   "cell_type": "code",
   "execution_count": null,
   "id": "c2e9c8a2",
   "metadata": {},
   "outputs": [],
   "source": [
    "STUDENT_ID = \"\""
   ]
  },
  {
   "cell_type": "markdown",
   "id": "8fbfc66c",
   "metadata": {},
   "source": [
    "---"
   ]
  },
  {
   "cell_type": "markdown",
   "id": "5367f9ce",
   "metadata": {
    "deletable": false,
    "editable": false,
    "nbgrader": {
     "cell_type": "markdown",
     "checksum": "5e51252ff7b3be970ac91b3c61426442",
     "grade": false,
     "grade_id": "cell-125b2f808476ac23",
     "locked": true,
     "schema_version": 3,
     "solution": false,
     "task": false
    }
   },
   "source": [
    "# MTH765P - Coursework 3\n",
    "This is a template notebook for the third coursework assignment for MTH765P,\n",
    "Closely follow the instructions in this template in order \n",
    "to complete the assessment and to obtain full marks. Please only\n",
    "modify cells where you are instructed to do so. Note that you may add other cells.\n",
    "Failure to comply may result in unexpected errors that can lead to mark deductions. **Please submit only this file, without changing its name to QMPlus.**\n",
    "\n",
    "\n",
    "##### DO NOT FORGET TO REMOVE THE LINE  _raise NotImplementedError()_ after you answer the question.\n",
    "\n",
    "Author: Primoz Skraba\n",
    "\n",
    "\n",
    "As usual, we begin by loading the necessary libraries. You should not \n",
    "import any other libraries."
   ]
  },
  {
   "cell_type": "code",
   "execution_count": 1,
   "id": "512d5082",
   "metadata": {
    "deletable": false,
    "editable": false,
    "nbgrader": {
     "cell_type": "code",
     "checksum": "0ea08a79a14e0bced16f1bc30ae6da47",
     "grade": false,
     "grade_id": "cell-80475a4d32a8b7f6",
     "locked": true,
     "schema_version": 3,
     "solution": false,
     "task": false
    }
   },
   "outputs": [],
   "source": [
    "import pandas as pd\n",
    "import numpy as np\n",
    "import matplotlib.pyplot as plt"
   ]
  },
  {
   "cell_type": "markdown",
   "id": "cbf1a479",
   "metadata": {
    "deletable": false,
    "editable": false,
    "nbgrader": {
     "cell_type": "markdown",
     "checksum": "c4d994b97a8982394272f478d0ffa980",
     "grade": false,
     "grade_id": "cell-36e272d2750a54d5",
     "locked": true,
     "schema_version": 3,
     "solution": false,
     "task": false
    }
   },
   "source": [
    "\n",
    "---------\n",
    "---------\n",
    " \n",
    " 1.) Linear models and residuals\n",
    "\n",
    "--------\n",
    "--------\n",
    "\n",
    "Run the next cell to load the first dataset.\n",
    "\n",
    "--------\n",
    "\n",
    "\n"
   ]
  },
  {
   "cell_type": "code",
   "execution_count": 2,
   "id": "ccbe9be8",
   "metadata": {
    "deletable": false,
    "editable": false,
    "nbgrader": {
     "cell_type": "code",
     "checksum": "862c2800a29edfa9663234960a885fce",
     "grade": false,
     "grade_id": "cell-e35ad477aa18ce29",
     "locked": true,
     "schema_version": 3,
     "solution": false,
     "task": false
    }
   },
   "outputs": [
    {
     "data": {
      "text/plain": [
       "300"
      ]
     },
     "execution_count": 2,
     "metadata": {},
     "output_type": "execute_result"
    }
   ],
   "source": [
    "X = pd.read_csv('1.csv',sep=' ')\n",
    "X.head()\n",
    "len(X)"
   ]
  },
  {
   "cell_type": "markdown",
   "id": "f23f8926",
   "metadata": {
    "deletable": false,
    "editable": false,
    "nbgrader": {
     "cell_type": "markdown",
     "checksum": "b1d3370aeaff16da08e2057d8372cc0c",
     "grade": false,
     "grade_id": "cell-a02f9d790a1e06e5",
     "locked": true,
     "schema_version": 3,
     "solution": false,
     "task": false
    }
   },
   "source": [
    "----\n",
    "\n",
    "a.) Use _numpy.polyfit()_ to fit a linear model to the data, storing the parameters into variables called _m_ and _b_ respectively for the slope and y-intercept. \n",
    "\n",
    "----"
   ]
  },
  {
   "cell_type": "code",
   "execution_count": 3,
   "id": "e8e87a79",
   "metadata": {
    "deletable": false,
    "nbgrader": {
     "cell_type": "code",
     "checksum": "440108b12843f99eb90a27c52acdacad",
     "grade": false,
     "grade_id": "cell-5d0385e8424d056d",
     "locked": false,
     "schema_version": 3,
     "solution": true,
     "task": false
    }
   },
   "outputs": [],
   "source": [
    "m, b = np.polyfit(X[\"x\"], X[\"y\"], 1)"
   ]
  },
  {
   "cell_type": "code",
   "execution_count": 4,
   "id": "44f5ae9a",
   "metadata": {
    "deletable": false,
    "editable": false,
    "nbgrader": {
     "cell_type": "code",
     "checksum": "eb8bda763904854f52b23ba99272e4ea",
     "grade": true,
     "grade_id": "cell-a510ebfd6eb31117",
     "locked": true,
     "points": 2,
     "schema_version": 3,
     "solution": false,
     "task": false
    }
   },
   "outputs": [
    {
     "data": {
      "text/plain": [
       "(6.523699151548956, -8.234591505946511)"
      ]
     },
     "execution_count": 4,
     "metadata": {},
     "output_type": "execute_result"
    }
   ],
   "source": [
    "m, b"
   ]
  },
  {
   "cell_type": "markdown",
   "id": "e4a7baf8",
   "metadata": {
    "deletable": false,
    "editable": false,
    "nbgrader": {
     "cell_type": "markdown",
     "checksum": "dff2fc4a8cdb54e59ef4236dc1a0844b",
     "grade": false,
     "grade_id": "cell-4637557f72240df6",
     "locked": true,
     "schema_version": 3,
     "solution": false,
     "task": false
    }
   },
   "source": [
    "----\n",
    "\n",
    "b.) Compute the residual of the data with respect to the model and store them in a variable called _res_\n",
    "\n",
    "----"
   ]
  },
  {
   "cell_type": "code",
   "execution_count": 5,
   "id": "0b2ade41",
   "metadata": {
    "deletable": false,
    "nbgrader": {
     "cell_type": "code",
     "checksum": "bb493beea81b90457c0161b8290a960d",
     "grade": false,
     "grade_id": "cell-bdd25af32a94f5d4",
     "locked": false,
     "schema_version": 3,
     "solution": true,
     "task": false
    }
   },
   "outputs": [],
   "source": [
    "res_df=np.polyval(np.polyfit(X[\"x\"], X[\"y\"], 1), X[\"x\"]) - X[\"y\"]**2\n",
    "res=res_df"
   ]
  },
  {
   "cell_type": "code",
   "execution_count": 6,
   "id": "179aee4c",
   "metadata": {
    "deletable": false,
    "editable": false,
    "nbgrader": {
     "cell_type": "code",
     "checksum": "f8a47d9e0ae09e06428186ce519c2033",
     "grade": true,
     "grade_id": "cell-49f5c19f12e0e32d",
     "locked": true,
     "points": 5,
     "schema_version": 3,
     "solution": false,
     "task": false
    }
   },
   "outputs": [
    {
     "data": {
      "text/plain": [
       "0     -1623.837361\n",
       "1      -382.065828\n",
       "2      -284.041612\n",
       "3      -143.664928\n",
       "4      -382.929534\n",
       "          ...     \n",
       "295   -2986.722790\n",
       "296   -3347.462024\n",
       "297      -1.564446\n",
       "298     -89.859725\n",
       "299     -33.978509\n",
       "Name: y, Length: 300, dtype: float64"
      ]
     },
     "execution_count": 6,
     "metadata": {},
     "output_type": "execute_result"
    }
   ],
   "source": [
    "res"
   ]
  },
  {
   "cell_type": "markdown",
   "id": "44596de5",
   "metadata": {
    "deletable": false,
    "editable": false,
    "nbgrader": {
     "cell_type": "markdown",
     "checksum": "267b12815fbf4918b36cfd2d25d76f6f",
     "grade": false,
     "grade_id": "cell-f1bed8e2f93abf15",
     "locked": true,
     "schema_version": 3,
     "solution": false,
     "task": false
    }
   },
   "source": [
    "----\n",
    "\n",
    "c.) Plot an unnormalised histogram of the residuals with 40 bins\n",
    "\n",
    "----"
   ]
  },
  {
   "cell_type": "code",
   "execution_count": 7,
   "id": "141c1a8c",
   "metadata": {
    "deletable": false,
    "nbgrader": {
     "cell_type": "code",
     "checksum": "4b4ef5427388147dff20465b1fe298a2",
     "grade": true,
     "grade_id": "cell-87c23e242654c4c9",
     "locked": false,
     "points": 5,
     "schema_version": 3,
     "solution": true,
     "task": false
    }
   },
   "outputs": [
    {
     "data": {
      "text/plain": [
       "(array([  1.,   0.,   0.,   0.,   0.,   0.,   1.,   0.,   0.,   1.,   1.,\n",
       "          0.,   0.,   1.,   0.,   0.,   1.,   0.,   0.,   0.,   1.,   2.,\n",
       "          1.,   3.,   1.,   0.,   0.,   0.,   1.,   1.,   0.,   1.,   1.,\n",
       "          2.,   2.,   3.,  10.,  31.,  60., 174.]),\n",
       " array([-3.98364555e+03, -3.88409352e+03, -3.78454150e+03, -3.68498947e+03,\n",
       "        -3.58543744e+03, -3.48588541e+03, -3.38633338e+03, -3.28678136e+03,\n",
       "        -3.18722933e+03, -3.08767730e+03, -2.98812527e+03, -2.88857325e+03,\n",
       "        -2.78902122e+03, -2.68946919e+03, -2.58991716e+03, -2.49036514e+03,\n",
       "        -2.39081311e+03, -2.29126108e+03, -2.19170905e+03, -2.09215703e+03,\n",
       "        -1.99260500e+03, -1.89305297e+03, -1.79350094e+03, -1.69394892e+03,\n",
       "        -1.59439689e+03, -1.49484486e+03, -1.39529283e+03, -1.29574080e+03,\n",
       "        -1.19618878e+03, -1.09663675e+03, -9.97084722e+02, -8.97532694e+02,\n",
       "        -7.97980667e+02, -6.98428639e+02, -5.98876611e+02, -4.99324584e+02,\n",
       "        -3.99772556e+02, -3.00220529e+02, -2.00668501e+02, -1.01116473e+02,\n",
       "        -1.56444572e+00]),\n",
       " <BarContainer object of 40 artists>)"
      ]
     },
     "execution_count": 7,
     "metadata": {},
     "output_type": "execute_result"
    },
    {
     "data": {
      "image/png": "[encoded data removed]",
      "text/plain": [
       "<Figure size 640x480 with 1 Axes>"
      ]
     },
     "metadata": {},
     "output_type": "display_data"
    }
   ],
   "source": [
    "plt.hist(res, bins=40)"
   ]
  },
  {
   "cell_type": "markdown",
   "id": "94496680",
   "metadata": {
    "deletable": false,
    "editable": false,
    "nbgrader": {
     "cell_type": "markdown",
     "checksum": "5a5a6f4d01ad5b1610b6d5eff9434b86",
     "grade": false,
     "grade_id": "cell-c04efdd669ff991e",
     "locked": true,
     "schema_version": 3,
     "solution": false,
     "task": false
    }
   },
   "source": [
    "----\n",
    "\n",
    "d.) Is the linear model a good fit? (one or two sentences)\n",
    "\n",
    "----"
   ]
  },
  {
   "attachments": {},
   "cell_type": "markdown",
   "id": "e6d9cbd7",
   "metadata": {
    "deletable": false,
    "nbgrader": {
     "cell_type": "markdown",
     "checksum": "c9ff2ea92e7b83f28707ebc457ca2916",
     "grade": true,
     "grade_id": "cell-042efc41467b5bb0",
     "locked": false,
     "points": 3,
     "schema_version": 3,
     "solution": true,
     "task": false
    }
   },
   "source": [
    "YOUR ANSWER HERE\n",
    "yes the linear model is a good fit because the linear model works really great for 2 variable and here only two variables are given which are X[\"x\"] and X[\"y\"] ,also linear model are used for drawing a line and predicting"
   ]
  },
  {
   "cell_type": "markdown",
   "id": "894ffeb0",
   "metadata": {
    "deletable": false,
    "editable": false,
    "nbgrader": {
     "cell_type": "markdown",
     "checksum": "fe7241662af6208f4e2674ee6db40f5e",
     "grade": false,
     "grade_id": "cell-34745a4e5d2edefd",
     "locked": true,
     "schema_version": 3,
     "solution": false,
     "task": false
    }
   },
   "source": [
    "----\n",
    "\n",
    "e.) Complete the function below to compute hinges of the input x, which should be set at the 30th and 70th quantile.\n",
    "\n",
    "----"
   ]
  },
  {
   "cell_type": "code",
   "execution_count": 8,
   "id": "eccc8785",
   "metadata": {
    "deletable": false,
    "nbgrader": {
     "cell_type": "code",
     "checksum": "77cb03e2a804e66344d2cc0b669e0604",
     "grade": false,
     "grade_id": "cell-9a6a0df2fe278068",
     "locked": false,
     "schema_version": 3,
     "solution": true,
     "task": false
    }
   },
   "outputs": [],
   "source": [
    "def hinges(x):\n",
    "    k = sorted(x)\n",
    "    k = pd.Series(k)\n",
    "    # median = k.median()\n",
    "    lower = k.iloc[round(len(k) * 0.3)]\n",
    "    upper = k.iloc[round(len(k) * 0.7)]\n",
    "    return lower, upper"
   ]
  },
  {
   "cell_type": "code",
   "execution_count": null,
   "id": "ff21674b",
   "metadata": {
    "deletable": false,
    "editable": false,
    "nbgrader": {
     "cell_type": "code",
     "checksum": "6919d3cdc2e506c1cc5f7ef1a5560d10",
     "grade": true,
     "grade_id": "cell-b0cfceae9fee3684",
     "locked": true,
     "points": 5,
     "schema_version": 3,
     "solution": false,
     "task": false
    }
   },
   "outputs": [],
   "source": []
  },
  {
   "cell_type": "markdown",
   "id": "892890b2",
   "metadata": {
    "deletable": false,
    "editable": false,
    "nbgrader": {
     "cell_type": "markdown",
     "checksum": "cb42c1cd969e67f2c5cfa19f10e2863a",
     "grade": false,
     "grade_id": "cell-45a212ec3ffa89ed",
     "locked": true,
     "schema_version": 3,
     "solution": false,
     "task": false
    }
   },
   "source": [
    "----\n",
    "\n",
    "f.) Use the above function to compute the inner fences of the residuals. Store the results in the variables _lower_fence_ and _upper_fence_ respectively.\n",
    "\n",
    "----"
   ]
  },
  {
   "cell_type": "code",
   "execution_count": 9,
   "id": "6b7f3103",
   "metadata": {
    "deletable": false,
    "nbgrader": {
     "cell_type": "code",
     "checksum": "cc5476e1e5653435c8908eed1cc4fc4e",
     "grade": false,
     "grade_id": "cell-0c9813f56d0b5880",
     "locked": false,
     "schema_version": 3,
     "solution": true,
     "task": false
    }
   },
   "outputs": [],
   "source": [
    "lower_fence, upper_fence = hinges(res)"
   ]
  },
  {
   "cell_type": "code",
   "execution_count": 10,
   "id": "dea07d33",
   "metadata": {
    "deletable": false,
    "editable": false,
    "nbgrader": {
     "cell_type": "code",
     "checksum": "44f2e97d093034598009c082a13c2f2d",
     "grade": true,
     "grade_id": "cell-02e6a1b75db70ab7",
     "locked": true,
     "points": 2,
     "schema_version": 3,
     "solution": false,
     "task": false
    }
   },
   "outputs": [
    {
     "data": {
      "text/plain": [
       "(-145.80476045015865, -27.109195533432988)"
      ]
     },
     "execution_count": 10,
     "metadata": {},
     "output_type": "execute_result"
    }
   ],
   "source": [
    "lower_fence, upper_fence"
   ]
  },
  {
   "cell_type": "markdown",
   "id": "8ada1415",
   "metadata": {
    "deletable": false,
    "editable": false,
    "nbgrader": {
     "cell_type": "markdown",
     "checksum": "0050c1698ae3b27b9052d3e129c54367",
     "grade": false,
     "grade_id": "cell-ab135b5db7d34a72",
     "locked": true,
     "schema_version": 3,
     "solution": false,
     "task": false
    }
   },
   "source": [
    "----\n",
    "\n",
    "g.) Create a new Dataframe called _Y_ with all the values corresponding to residuals which are beyond the inner fences removed.\n",
    "\n",
    "----"
   ]
  },
  {
   "cell_type": "code",
   "execution_count": 14,
   "id": "3adf9d84",
   "metadata": {
    "deletable": false,
    "nbgrader": {
     "cell_type": "code",
     "checksum": "5d32ce4bc254f7b7908a047006dd7bb2",
     "grade": false,
     "grade_id": "cell-9df6b079e5d05ed9",
     "locked": false,
     "schema_version": 3,
     "solution": true,
     "task": false
    }
   },
   "outputs": [],
   "source": [
    "sorted_res = sorted(res)\n",
    "x = X.iloc[:sorted_res.index(lower_fence)]\n",
    "y = X.iloc[sorted_res.index(upper_fence)+1:]"
   ]
  },
  {
   "cell_type": "code",
   "execution_count": 15,
   "id": "6c249563",
   "metadata": {
    "deletable": false,
    "editable": false,
    "nbgrader": {
     "cell_type": "code",
     "checksum": "c4dc53c8e41cd6dae567a65032f69de7",
     "grade": false,
     "grade_id": "cell-5587eaeba70f827e",
     "locked": true,
     "schema_version": 3,
     "solution": false,
     "task": false
    }
   },
   "outputs": [],
   "source": [
    "Y = pd.concat([x, y], ignore_index=True)"
   ]
  },
  {
   "cell_type": "code",
   "execution_count": 16,
   "id": "3be71450",
   "metadata": {
    "deletable": false,
    "editable": false,
    "nbgrader": {
     "cell_type": "code",
     "checksum": "8b48df349f3630b54a93048b7389daec",
     "grade": true,
     "grade_id": "cell-915dde633ddedd13",
     "locked": true,
     "points": 5,
     "schema_version": 3,
     "solution": false,
     "task": false
    }
   },
   "outputs": [
    {
     "data": {
      "text/html": [
       "<div>\n",
       "<style scoped>\n",
       "    .dataframe tbody tr th:only-of-type {\n",
       "        vertical-align: middle;\n",
       "    }\n",
       "\n",
       "    .dataframe tbody tr th {\n",
       "        vertical-align: top;\n",
       "    }\n",
       "\n",
       "    .dataframe thead th {\n",
       "        text-align: right;\n",
       "    }\n",
       "</style>\n",
       "<table border=\"1\" class=\"dataframe\">\n",
       "  <thead>\n",
       "    <tr style=\"text-align: right;\">\n",
       "      <th></th>\n",
       "      <th>x</th>\n",
       "      <th>y</th>\n",
       "    </tr>\n",
       "  </thead>\n",
       "  <tbody>\n",
       "    <tr>\n",
       "      <th>0</th>\n",
       "      <td>-1.167390</td>\n",
       "      <td>-40.099714</td>\n",
       "    </tr>\n",
       "    <tr>\n",
       "      <th>1</th>\n",
       "      <td>-1.082710</td>\n",
       "      <td>-19.151187</td>\n",
       "    </tr>\n",
       "    <tr>\n",
       "      <th>2</th>\n",
       "      <td>-1.063447</td>\n",
       "      <td>-16.397238</td>\n",
       "    </tr>\n",
       "    <tr>\n",
       "      <th>3</th>\n",
       "      <td>-1.061148</td>\n",
       "      <td>-11.336125</td>\n",
       "    </tr>\n",
       "    <tr>\n",
       "      <th>4</th>\n",
       "      <td>-0.993360</td>\n",
       "      <td>-19.188918</td>\n",
       "    </tr>\n",
       "    <tr>\n",
       "      <th>...</th>\n",
       "      <td>...</td>\n",
       "      <td>...</td>\n",
       "    </tr>\n",
       "    <tr>\n",
       "      <th>174</th>\n",
       "      <td>1.017310</td>\n",
       "      <td>-54.636296</td>\n",
       "    </tr>\n",
       "    <tr>\n",
       "      <th>175</th>\n",
       "      <td>1.029627</td>\n",
       "      <td>-57.844139</td>\n",
       "    </tr>\n",
       "    <tr>\n",
       "      <th>176</th>\n",
       "      <td>1.038887</td>\n",
       "      <td>-0.327475</td>\n",
       "    </tr>\n",
       "    <tr>\n",
       "      <th>177</th>\n",
       "      <td>1.081022</td>\n",
       "      <td>9.416868</td>\n",
       "    </tr>\n",
       "    <tr>\n",
       "      <th>178</th>\n",
       "      <td>1.099560</td>\n",
       "      <td>-5.737344</td>\n",
       "    </tr>\n",
       "  </tbody>\n",
       "</table>\n",
       "<p>179 rows × 2 columns</p>\n",
       "</div>"
      ],
      "text/plain": [
       "            x          y\n",
       "0   -1.167390 -40.099714\n",
       "1   -1.082710 -19.151187\n",
       "2   -1.063447 -16.397238\n",
       "3   -1.061148 -11.336125\n",
       "4   -0.993360 -19.188918\n",
       "..        ...        ...\n",
       "174  1.017310 -54.636296\n",
       "175  1.029627 -57.844139\n",
       "176  1.038887  -0.327475\n",
       "177  1.081022   9.416868\n",
       "178  1.099560  -5.737344\n",
       "\n",
       "[179 rows x 2 columns]"
      ]
     },
     "execution_count": 16,
     "metadata": {},
     "output_type": "execute_result"
    }
   ],
   "source": [
    "Y"
   ]
  },
  {
   "cell_type": "markdown",
   "id": "27b9774b",
   "metadata": {
    "deletable": false,
    "editable": false,
    "nbgrader": {
     "cell_type": "markdown",
     "checksum": "eb2a2aa70021621bb1872aa4ade05324",
     "grade": false,
     "grade_id": "cell-6a49739aee69c15b",
     "locked": true,
     "schema_version": 3,
     "solution": false,
     "task": false
    }
   },
   "source": [
    "----\n",
    "\n",
    "h.) Fit a new linear model and plot the  outliers as red points, the remainder of the points (non-outliers) as blue stars (\\*), the original model as a black line and the new model shown as a green line. Store the new model parameters in the variables _m\\_new_ and _b\\_new_.\n",
    "\n",
    "----"
   ]
  },
  {
   "cell_type": "code",
   "execution_count": 30,
   "id": "319bb134",
   "metadata": {
    "deletable": false,
    "nbgrader": {
     "cell_type": "code",
     "checksum": "04511de03a1890ec704e45f06cb250a5",
     "grade": true,
     "grade_id": "cell-5f22fe29f2335091",
     "locked": false,
     "points": 5,
     "schema_version": 3,
     "solution": true,
     "task": false
    }
   },
   "outputs": [
    {
     "name": "stderr",
     "output_type": "stream",
     "text": [
      "C:\\Users\\annup\\AppData\\Local\\Temp\\ipykernel_4900\\440155031.py:5: UserWarning: color is redundantly defined by the 'color' keyword argument and the fmt string \"y*\" (-> color='y'). The keyword argument will take precedence.\n",
      "  plt.plot(Y[\"x\"], Y[\"y\"], 'y*', Y[\"x\"], m*Y[\"x\"]+b, '--k', color= \"blue\")\n",
      "C:\\Users\\annup\\AppData\\Local\\Temp\\ipykernel_4900\\440155031.py:5: UserWarning: color is redundantly defined by the 'color' keyword argument and the fmt string \"--k\" (-> color='k'). The keyword argument will take precedence.\n",
      "  plt.plot(Y[\"x\"], Y[\"y\"], 'y*', Y[\"x\"], m*Y[\"x\"]+b, '--k', color= \"blue\")\n"
     ]
    },
    {
     "data": {
      "text/plain": [
       "[<matplotlib.lines.Line2D at 0x27833ea18a0>,\n",
       " <matplotlib.lines.Line2D at 0x27833ea19f0>]"
      ]
     },
     "execution_count": 30,
     "metadata": {},
     "output_type": "execute_result"
    },
    {
     "data": {
      "image/png": "[encoded data removed]",
      "text/plain": [
       "<Figure size 640x480 with 1 Axes>"
      ]
     },
     "metadata": {},
     "output_type": "display_data"
    }
   ],
   "source": [
    "m, b = np.polyfit(Y[\"x\"], Y[\"y\"], 1)\n",
    "X1 = X.iloc[sorted_res.index(lower_fence):sorted_res.index(upper_fence)]\n",
    "\n",
    "plt.plot(X1[\"x\"], X1[\"y\"], 'yo', X1[\"x\"], m*X1[\"x\"]+b, '--k' )\n",
    "plt.plot(Y[\"x\"], Y[\"y\"], 'y*', Y[\"x\"], m*Y[\"x\"]+b, '--k', color= \"blue\")"
   ]
  },
  {
   "cell_type": "markdown",
   "id": "8f14734b",
   "metadata": {
    "deletable": false,
    "editable": false,
    "nbgrader": {
     "cell_type": "markdown",
     "checksum": "4227b3ad08f298bc425470b065dc5b52",
     "grade": false,
     "grade_id": "cell-0ac06d00a2d4e370",
     "locked": true,
     "schema_version": 3,
     "solution": false,
     "task": false
    }
   },
   "source": [
    "----\n",
    "\n",
    "j.) Is what you did above different from computing (and filtering) the outliers on the original data? If so, describe how, otherwise explain why they are the same. (a few sentences)\n",
    "\n",
    "----"
   ]
  },
  {
   "cell_type": "markdown",
   "id": "63155e5d",
   "metadata": {
    "deletable": false,
    "nbgrader": {
     "cell_type": "markdown",
     "checksum": "21b17392bec6f8648d67913424d95777",
     "grade": true,
     "grade_id": "cell-b16cf6f03074fa73",
     "locked": false,
     "points": 5,
     "schema_version": 3,
     "solution": true,
     "task": false
    }
   },
   "source": [
    "YOUR ANSWER HERE"
   ]
  },
  {
   "cell_type": "markdown",
   "id": "a828a5b7",
   "metadata": {
    "deletable": false,
    "editable": false,
    "nbgrader": {
     "cell_type": "markdown",
     "checksum": "a58a97b7ff9433dd6beb9df82a40d45c",
     "grade": false,
     "grade_id": "cell-7c41d349c1de066d",
     "locked": true,
     "schema_version": 3,
     "solution": false,
     "task": false
    }
   },
   "source": [
    "### 2.)\n",
    "\n",
    "The next dataset is on the sales of video games. \n",
    "\n",
    "---------\n",
    "---------\n",
    "\n",
    "a.) Use pandas to read in the file **games.csv** into a dataframe called _games_\n",
    "\n"
   ]
  },
  {
   "cell_type": "code",
   "execution_count": 18,
   "id": "9497311d",
   "metadata": {
    "deletable": false,
    "editable": false,
    "nbgrader": {
     "cell_type": "code",
     "checksum": "96ba6113c20ff432feb524c5ab59a1fc",
     "grade": false,
     "grade_id": "cell-ef8aa8eb7eb5367b",
     "locked": true,
     "schema_version": 3,
     "solution": false,
     "task": false
    }
   },
   "outputs": [
    {
     "data": {
      "text/html": [
       "<div>\n",
       "<style scoped>\n",
       "    .dataframe tbody tr th:only-of-type {\n",
       "        vertical-align: middle;\n",
       "    }\n",
       "\n",
       "    .dataframe tbody tr th {\n",
       "        vertical-align: top;\n",
       "    }\n",
       "\n",
       "    .dataframe thead th {\n",
       "        text-align: right;\n",
       "    }\n",
       "</style>\n",
       "<table border=\"1\" class=\"dataframe\">\n",
       "  <thead>\n",
       "    <tr style=\"text-align: right;\">\n",
       "      <th></th>\n",
       "      <th>Rank</th>\n",
       "      <th>Name</th>\n",
       "      <th>Platform</th>\n",
       "      <th>Year</th>\n",
       "      <th>Genre</th>\n",
       "      <th>Publisher</th>\n",
       "      <th>NA_Sales</th>\n",
       "      <th>EU_Sales</th>\n",
       "      <th>JP_Sales</th>\n",
       "      <th>Other_Sales</th>\n",
       "      <th>Global_Sales</th>\n",
       "    </tr>\n",
       "  </thead>\n",
       "  <tbody>\n",
       "    <tr>\n",
       "      <th>0</th>\n",
       "      <td>1</td>\n",
       "      <td>Wii Sports</td>\n",
       "      <td>Wii</td>\n",
       "      <td>2006.0</td>\n",
       "      <td>Sports</td>\n",
       "      <td>Nintendo</td>\n",
       "      <td>41.49</td>\n",
       "      <td>29.02</td>\n",
       "      <td>3.77</td>\n",
       "      <td>8.46</td>\n",
       "      <td>82.74</td>\n",
       "    </tr>\n",
       "    <tr>\n",
       "      <th>1</th>\n",
       "      <td>2</td>\n",
       "      <td>Super Mario Bros.</td>\n",
       "      <td>NES</td>\n",
       "      <td>1985.0</td>\n",
       "      <td>Platform</td>\n",
       "      <td>Nintendo</td>\n",
       "      <td>29.08</td>\n",
       "      <td>3.58</td>\n",
       "      <td>6.81</td>\n",
       "      <td>0.77</td>\n",
       "      <td>40.24</td>\n",
       "    </tr>\n",
       "    <tr>\n",
       "      <th>2</th>\n",
       "      <td>3</td>\n",
       "      <td>Mario Kart Wii</td>\n",
       "      <td>Wii</td>\n",
       "      <td>2008.0</td>\n",
       "      <td>Racing</td>\n",
       "      <td>Nintendo</td>\n",
       "      <td>15.85</td>\n",
       "      <td>12.88</td>\n",
       "      <td>3.79</td>\n",
       "      <td>3.31</td>\n",
       "      <td>35.82</td>\n",
       "    </tr>\n",
       "    <tr>\n",
       "      <th>3</th>\n",
       "      <td>4</td>\n",
       "      <td>Wii Sports Resort</td>\n",
       "      <td>Wii</td>\n",
       "      <td>2009.0</td>\n",
       "      <td>Sports</td>\n",
       "      <td>Nintendo</td>\n",
       "      <td>15.75</td>\n",
       "      <td>11.01</td>\n",
       "      <td>3.28</td>\n",
       "      <td>2.96</td>\n",
       "      <td>33.00</td>\n",
       "    </tr>\n",
       "    <tr>\n",
       "      <th>4</th>\n",
       "      <td>5</td>\n",
       "      <td>Pokemon Red/Pokemon Blue</td>\n",
       "      <td>GB</td>\n",
       "      <td>1996.0</td>\n",
       "      <td>Role-Playing</td>\n",
       "      <td>Nintendo</td>\n",
       "      <td>11.27</td>\n",
       "      <td>8.89</td>\n",
       "      <td>10.22</td>\n",
       "      <td>1.00</td>\n",
       "      <td>31.37</td>\n",
       "    </tr>\n",
       "  </tbody>\n",
       "</table>\n",
       "</div>"
      ],
      "text/plain": [
       "   Rank                      Name Platform    Year         Genre Publisher  \\\n",
       "0     1                Wii Sports      Wii  2006.0        Sports  Nintendo   \n",
       "1     2         Super Mario Bros.      NES  1985.0      Platform  Nintendo   \n",
       "2     3            Mario Kart Wii      Wii  2008.0        Racing  Nintendo   \n",
       "3     4         Wii Sports Resort      Wii  2009.0        Sports  Nintendo   \n",
       "4     5  Pokemon Red/Pokemon Blue       GB  1996.0  Role-Playing  Nintendo   \n",
       "\n",
       "   NA_Sales  EU_Sales  JP_Sales  Other_Sales  Global_Sales  \n",
       "0     41.49     29.02      3.77         8.46         82.74  \n",
       "1     29.08      3.58      6.81         0.77         40.24  \n",
       "2     15.85     12.88      3.79         3.31         35.82  \n",
       "3     15.75     11.01      3.28         2.96         33.00  \n",
       "4     11.27      8.89     10.22         1.00         31.37  "
      ]
     },
     "execution_count": 18,
     "metadata": {},
     "output_type": "execute_result"
    }
   ],
   "source": [
    "games = pd.read_csv('2.csv')\n",
    "games.head()"
   ]
  },
  {
   "cell_type": "markdown",
   "id": "452dc588",
   "metadata": {
    "deletable": false,
    "editable": false,
    "nbgrader": {
     "cell_type": "markdown",
     "checksum": "398221e9e8c3a1f3c7c2f0af07eab95b",
     "grade": false,
     "grade_id": "cell-83c932189e7038a7",
     "locked": true,
     "schema_version": 3,
     "solution": false,
     "task": false
    }
   },
   "source": [
    "\n",
    " ----\n",
    " \n",
    "a.) Find answers to the following questions about the dataframe.\n",
    "- How many genres are there? Store the answer in a variable called _num_genres_. \n",
    "- How many publishers are there? Store the answer in a variable _num_publishers_.\n",
    "- How many platforms are there? Store the answer in a variable _num_platforms_.\n",
    "\n",
    "----\n"
   ]
  },
  {
   "cell_type": "code",
   "execution_count": 19,
   "id": "e1d49973",
   "metadata": {
    "deletable": false,
    "nbgrader": {
     "cell_type": "code",
     "checksum": "a3d5c64cfd1f2efeae1d050adbc9bd83",
     "grade": false,
     "grade_id": "cell-a895136977a65809",
     "locked": false,
     "schema_version": 3,
     "solution": true,
     "task": false
    }
   },
   "outputs": [],
   "source": [
    "# finding the count of genres\n",
    "num_genres = len(games[\"Genre\"].unique())\n",
    "\n",
    "# finding the number of publishers\n",
    "num_publishers = len(games[\"Publisher\"].unique())\n",
    "\n",
    "# finding the number of platforms\n",
    "num_platforms = len(games[\"Platform\"].unique())"
   ]
  },
  {
   "cell_type": "code",
   "execution_count": 20,
   "id": "c19288af",
   "metadata": {
    "deletable": false,
    "editable": false,
    "nbgrader": {
     "cell_type": "code",
     "checksum": "6fa9030818d36a419032cdb29c0a120f",
     "grade": true,
     "grade_id": "cell-9bd4d3c9745b9b6e",
     "locked": true,
     "points": 3,
     "schema_version": 3,
     "solution": false,
     "task": false
    }
   },
   "outputs": [
    {
     "data": {
      "text/plain": [
       "(12, 579, 31)"
      ]
     },
     "execution_count": 20,
     "metadata": {},
     "output_type": "execute_result"
    }
   ],
   "source": [
    "num_genres, num_publishers, num_platforms"
   ]
  },
  {
   "cell_type": "markdown",
   "id": "bdc7785f",
   "metadata": {
    "deletable": false,
    "editable": false,
    "nbgrader": {
     "cell_type": "markdown",
     "checksum": "c107c079e55bf256ced593c8cece6350",
     "grade": false,
     "grade_id": "cell-92502e03ec31ec1a",
     "locked": true,
     "schema_version": 3,
     "solution": false,
     "task": false
    }
   },
   "source": [
    "----\n",
    "\n",
    "b.) Create a box-and-whisker plot of Global Sales by genre.\n",
    "\n",
    "----"
   ]
  },
  {
   "cell_type": "code",
   "execution_count": 6,
   "id": "e21b3947",
   "metadata": {
    "deletable": false,
    "nbgrader": {
     "cell_type": "code",
     "checksum": "fa005e2d90f6ec72ad9490b919bd38cc",
     "grade": true,
     "grade_id": "cell-ad05bdfe1f74fd5a",
     "locked": false,
     "points": 4,
     "schema_version": 3,
     "solution": true,
     "task": false
    }
   },
   "outputs": [
    {
     "data": {
      "image/png": "[encoded data removed]",
      "text/plain": [
       "<Figure size 2000x1000 with 12 Axes>"
      ]
     },
     "metadata": {},
     "output_type": "display_data"
    }
   ],
   "source": [
    "# %matplotlib inline\n",
    "\n",
    "fig, axs = plt.subplots(1, num_genres, figsize = (20, 10))\n",
    "genres = (x for x in games[\"Genre\"].unique())\n",
    "\n",
    "for i, ax in enumerate(axs.flat):\n",
    "    genre = next(genres)\n",
    "    global_sales = games[games[\"Genre\"] == genre][\"Global_Sales\"]\n",
    "    val_min = global_sales.min()\n",
    "    val_max = global_sales.max()\n",
    "    val_75 = global_sales.sum() * 0.75\n",
    "    val_25 = global_sales.sum() * 0.25\n",
    "    ax.boxplot((val_min, val_max))\n",
    "    ax.set_title(genre, fontsize=20, fontweight=\"bold\")\n",
    "    ax.tick_params(axis='y', labelsize=14)\n",
    "plt.tight_layout()"
   ]
  },
  {
   "cell_type": "markdown",
   "id": "ed539631",
   "metadata": {
    "deletable": false,
    "editable": false,
    "nbgrader": {
     "cell_type": "markdown",
     "checksum": "9372bd187655b364dde2bded134cae07",
     "grade": false,
     "grade_id": "cell-6753222df59f8cc9",
     "locked": true,
     "schema_version": 3,
     "solution": false,
     "task": false
    }
   },
   "source": [
    "----\n",
    "\n",
    "c.) Find the upper outer fence thresholds for each genre (assuming hinges at the 25th and 75th percentile). Store them in a dictionary {genre:upper outer fence} called ufence.\n",
    "\n",
    "---"
   ]
  },
  {
   "cell_type": "code",
   "execution_count": 9,
   "id": "675ad765",
   "metadata": {
    "deletable": false,
    "nbgrader": {
     "cell_type": "code",
     "checksum": "e122bd72e575b38a74916eaa733b6566",
     "grade": false,
     "grade_id": "cell-efe4710776f50850",
     "locked": false,
     "schema_version": 3,
     "solution": true,
     "task": false
    }
   },
   "outputs": [],
   "source": [
    "genre_outer_fence_dict = dict()\n",
    "\n",
    "for genre in games[\"Genre\"].unique():\n",
    "    global_sales = games[games[\"Genre\"] == genre][\"Global_Sales\"]\n",
    "\n",
    "    Q3 = global_sales.sum() * 0.75\n",
    "    Q1 = global_sales.sum() * 0.25\n",
    "\n",
    "    iqr = Q3 - Q1\n",
    "    upper_fence = Q3 + (1.5 * iqr)\n",
    "    genre_outer_fence_dict[genre] = upper_fence\n"
   ]
  },
  {
   "cell_type": "code",
   "execution_count": 10,
   "id": "6291c7a4",
   "metadata": {
    "deletable": false,
    "editable": false,
    "nbgrader": {
     "cell_type": "code",
     "checksum": "a9412a82a02e5dc3363bf7391f29abf8",
     "grade": true,
     "grade_id": "cell-b19900eb856a4a17",
     "locked": true,
     "points": 12,
     "schema_version": 3,
     "solution": false,
     "task": false
    }
   },
   "outputs": [
    {
     "data": {
      "text/plain": [
       "{'Sports': 1996.395,\n",
       " 'Platform': 1247.0550000000003,\n",
       " 'Racing': 1098.06,\n",
       " 'Role-Playing': 1391.0550000000003,\n",
       " 'Puzzle': 367.42499999999995,\n",
       " 'Misc': 1214.9400000000005,\n",
       " 'Shooter': 1556.0550000000003,\n",
       " 'Simulation': 588.3000000000002,\n",
       " 'Action': 2626.7699999999995,\n",
       " 'Fighting': 673.365,\n",
       " 'Adventure': 358.55999999999995,\n",
       " 'Strategy': 262.68000000000006}"
      ]
     },
     "execution_count": 10,
     "metadata": {},
     "output_type": "execute_result"
    }
   ],
   "source": [
    "genre_outer_fence_dict"
   ]
  },
  {
   "cell_type": "markdown",
   "id": "6ab2f434",
   "metadata": {
    "deletable": false,
    "editable": false,
    "nbgrader": {
     "cell_type": "markdown",
     "checksum": "e5a63c7b4ef8cfbf1879323ccc5eddb5",
     "grade": false,
     "grade_id": "cell-4df6d7939b1cd6de",
     "locked": true,
     "schema_version": 3,
     "solution": false,
     "task": false
    }
   },
   "source": [
    "----\n",
    "\n",
    "d.) Plot the unnormalised histogram with 20 bins for all sports games whose Global sales which are beyond the outer fence.\n",
    "\n",
    "\n",
    "----\n"
   ]
  },
  {
   "cell_type": "code",
   "execution_count": null,
   "id": "7eee0275",
   "metadata": {
    "deletable": false,
    "nbgrader": {
     "cell_type": "code",
     "checksum": "f3b3ef5917b7d9bb693933a834e776a6",
     "grade": true,
     "grade_id": "cell-0ec4c9ec902d4aba",
     "locked": false,
     "points": 5,
     "schema_version": 3,
     "solution": true,
     "task": false
    }
   },
   "outputs": [],
   "source": [
    "# YOUR CODE HERE\n",
    "raise NotImplementedError()"
   ]
  },
  {
   "cell_type": "markdown",
   "id": "48b238e3",
   "metadata": {
    "deletable": false,
    "editable": false,
    "nbgrader": {
     "cell_type": "markdown",
     "checksum": "0c9da3fc3adfa5a89b006dd3f44e1b06",
     "grade": false,
     "grade_id": "cell-db7439f2e21a666d",
     "locked": true,
     "schema_version": 3,
     "solution": false,
     "task": false
    }
   },
   "source": [
    "---- \n",
    "e.) If these are successful games - what can you say about the maximum versus the typical successful game? What are the problems with using the average (overall or just the succesful games).\n",
    "\n",
    "---"
   ]
  },
  {
   "cell_type": "markdown",
   "id": "52a8c0fb",
   "metadata": {
    "deletable": false,
    "nbgrader": {
     "cell_type": "markdown",
     "checksum": "56bab1e0c38fcdff1867915c5a0513cd",
     "grade": true,
     "grade_id": "cell-73becb7b6ff394e2",
     "locked": false,
     "points": 4,
     "schema_version": 3,
     "solution": true,
     "task": false
    }
   },
   "source": [
    "YOUR ANSWER HERE"
   ]
  },
  {
   "cell_type": "markdown",
   "id": "b0d417e0",
   "metadata": {
    "deletable": false,
    "editable": false,
    "nbgrader": {
     "cell_type": "markdown",
     "checksum": "1bd8ad4b0b2825de7f97642aab72a264",
     "grade": false,
     "grade_id": "cell-e4f6208a960302e8",
     "locked": true,
     "schema_version": 3,
     "solution": false,
     "task": false
    }
   },
   "source": [
    "----\n",
    "\n",
    "f.) Create a plot of Global Sales with a line for the following platforms per year.\n",
    "- 2600, NES, SNES, GEN, N64, GC, WII, PS, PS2, PS3, PS4, X360, XB, XOne\n",
    "\n",
    "----\n"
   ]
  },
  {
   "cell_type": "code",
   "execution_count": null,
   "id": "aa5921ed",
   "metadata": {
    "deletable": false,
    "nbgrader": {
     "cell_type": "code",
     "checksum": "4ad33b0148c65d6ae468882874b8af43",
     "grade": true,
     "grade_id": "cell-d2695e9a2a0dee9d",
     "locked": false,
     "points": 10,
     "schema_version": 3,
     "solution": true,
     "task": false
    }
   },
   "outputs": [],
   "source": [
    "# YOUR CODE HERE\n",
    "raise NotImplementedError()"
   ]
  }
 ],
 "metadata": {
  "kernelspec": {
   "display_name": "Python 3",
   "language": "python",
   "name": "python3"
  },
  "language_info": {
   "codemirror_mode": {
    "name": "ipython",
    "version": 3
   },
   "file_extension": ".py",
   "mimetype": "text/x-python",
   "name": "python",
   "nbconvert_exporter": "python",
   "pygments_lexer": "ipython3",
   "version": "3.10.7"
  },
  "vscode": {
   "interpreter": {
    "hash": "4c75d34ee1fcdb015885d85ab071295bd815e7d150290c0ae76b929ae622a1c7"
   }
  }
 },
 "nbformat": 4,
 "nbformat_minor": 5
}
