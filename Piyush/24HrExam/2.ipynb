{
 "cells": [
  {
   "cell_type": "code",
   "execution_count": 1,
   "metadata": {},
   "outputs": [],
   "source": [
    "import random\n",
    "import numpy as np"
   ]
  },
  {
   "cell_type": "code",
   "execution_count": 3,
   "metadata": {},
   "outputs": [],
   "source": [
    "# # the state of seed\n",
    "random.seed(123)\n",
    "\n",
    "simulation_count = 10000\n",
    "no_of_seats = 189\n",
    "\n",
    "fare = {\n",
    "    \"s\": 249,\n",
    "    \"p\": 349\n",
    "}\n",
    "\n",
    "s_mean = 150\n",
    "p_mean = 100\n",
    "s_deviation = 30\n",
    "p_deviation = 40"
   ]
  },
  {
   "attachments": {},
   "cell_type": "markdown",
   "metadata": {},
   "source": [
    "#### Question 1"
   ]
  },
  {
   "cell_type": "code",
   "execution_count": 4,
   "metadata": {},
   "outputs": [],
   "source": [
    "def first_simulation():\n",
    "    demand_of_standard_seats = int(np.random.normal(s_mean, s_deviation))\n",
    "    demand_of_premium_seats = int(np.random.normal(p_mean, p_deviation))\n",
    "    return demand_of_premium_seats * fare['p'] + demand_of_standard_seats * fare['s']"
   ]
  },
  {
   "cell_type": "code",
   "execution_count": 9,
   "metadata": {},
   "outputs": [
    {
     "name": "stdout",
     "output_type": "stream",
     "text": [
      "Expected Revenue without any limit of bookings:  72051.2351\n"
     ]
    }
   ],
   "source": [
    "# running first simulation \n",
    "sum_of_revenue = 0\n",
    "for _ in range(simulation_count):\n",
    "    sum_of_revenue += first_simulation()\n",
    "\n",
    "expected_revenue = sum_of_revenue / simulation_count\n",
    "print(\"Expected Revenue without any limit of bookings: \", expected_revenue)"
   ]
  },
  {
   "attachments": {},
   "cell_type": "markdown",
   "metadata": {},
   "source": [
    "#### Question 2"
   ]
  },
  {
   "cell_type": "code",
   "execution_count": 6,
   "metadata": {},
   "outputs": [],
   "source": [
    "def second_simulation(booking_limit):\n",
    "    demand_of_standard_seats = int(np.random.normal(s_mean, s_deviation))\n",
    "    demand_of_premium_seats = int(np.random.normal(p_mean, p_deviation))\n",
    "    # get the total number of requirement of the seats\n",
    "    total_demand_of_seats = demand_of_standard_seats + demand_of_premium_seats\n",
    "\n",
    "    # if the total number of requests for standard is greater than limit\n",
    "    # we need to deduct the booking of standard demands\n",
    "    if demand_of_standard_seats > booking_limit:\n",
    "        revenue_generated = booking_limit * fare[\"s\"] + demand_of_premium_seats * fare['p']\n",
    "    else:\n",
    "        revenue_generated = demand_of_standard_seats * fare[\"s\"] + demand_of_premium_seats * fare['p']\n",
    "\n",
    "    return revenue_generated"
   ]
  },
  {
   "cell_type": "code",
   "execution_count": 8,
   "metadata": {},
   "outputs": [
    {
     "name": "stdout",
     "output_type": "stream",
     "text": [
      "Expected Revenue with a limit of bookings as 110:  61860.5408\n"
     ]
    }
   ],
   "source": [
    "# running the second simulation \n",
    "sum_of_revenue = 0\n",
    "for _ in range(simulation_count):\n",
    "    sum_of_revenue += second_simulation(110)\n",
    "\n",
    "expected_revenue = sum_of_revenue / simulation_count\n",
    "print(\"Expected Revenue with a limit of bookings as 110: \", expected_revenue)"
   ]
  }
 ],
 "metadata": {
  "kernelspec": {
   "display_name": "Python 3",
   "language": "python",
   "name": "python3"
  },
  "language_info": {
   "codemirror_mode": {
    "name": "ipython",
    "version": 3
   },
   "file_extension": ".py",
   "mimetype": "text/x-python",
   "name": "python",
   "nbconvert_exporter": "python",
   "pygments_lexer": "ipython3",
   "version": "3.10.7"
  },
  "orig_nbformat": 4,
  "vscode": {
   "interpreter": {
    "hash": "4c75d34ee1fcdb015885d85ab071295bd815e7d150290c0ae76b929ae622a1c7"
   }
  }
 },
 "nbformat": 4,
 "nbformat_minor": 2
}
