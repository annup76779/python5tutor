{
 "cells": [
  {
   "cell_type": "code",
   "execution_count": 1,
   "metadata": {},
   "outputs": [
    {
     "name": "stdout",
     "output_type": "stream",
     "text": [
      "    2010 cm    ->        0.02 kilometers (converted).\n",
      "    1234 m     ->        1.23 kilometers (converted).\n",
      "  129.59 km    ->      129.59 kilometers .\n",
      "   41231 m     ->       41.23 kilometers (converted).\n",
      "      67 km    ->        67.0 kilometers .\n"
     ]
    }
   ],
   "source": [
    "# 15\n",
    "\n",
    "unit_scale = {\"km\": 1, 'm': 1000, 'cm': 1000*100, 'mm': 1000*100*10}\n",
    "pairs = ((2010, 'cm'), (1234, 'm'), (129.59, 'km'), (41231, 'm'), (67, 'km'))\n",
    "for pair in pairs:\n",
    "    distance, unit = pair\n",
    "    distance_in_km = round(distance / unit_scale[unit],2)\n",
    "    print(f\"{distance}\".rjust(8), f\"{unit}\".ljust(3), \"  ->\", f\"{distance_in_km}\".rjust(11),\\\n",
    "     f\"kilometers {'(converted)' if distance != distance_in_km else ''}.\")\n"
   ]
  },
  {
   "cell_type": "code",
   "execution_count": 2,
   "metadata": {},
   "outputs": [
    {
     "name": "stdout",
     "output_type": "stream",
     "text": [
      "1. some789, 3 numbers\n",
      "2. th3e4r1e23, 5 numbers\n",
      "3. r3oos5ting5, 3 numbers\n",
      "4. 2honk3honk45, 4 numbers\n"
     ]
    }
   ],
   "source": [
    "# 16\n",
    "strings = [\"some789\", \"th3e4r1e23\", \"r3oos5ting5\", \"2honk3honk45\"]\n",
    "\n",
    "for index, string_data in enumerate(strings):\n",
    "    counter = 0\n",
    "    for i in string_data:\n",
    "        if i.isdigit():\n",
    "            counter += 1\n",
    "    print(f\"{index+1}. {string_data}, {counter} numbers\")"
   ]
  },
  {
   "cell_type": "code",
   "execution_count": 2,
   "metadata": {},
   "outputs": [
    {
     "data": {
      "text/plain": [
       "[(8, 'Oxygen'), (10, 'Neon'), (26, 'Iron'), (50, 'Tin')]"
      ]
     },
     "execution_count": 2,
     "metadata": {},
     "output_type": "execute_result"
    }
   ],
   "source": [
    "# 17\n",
    "d = {\"Iron\": 26, \"Oxygen\": 8, \"Neon\": 10, \"Tin\": 50}\n",
    "\n",
    "elements = [item[::-1] for item in d.items()]\n",
    "elements.sort()\n",
    "elements"
   ]
  },
  {
   "cell_type": "code",
   "execution_count": 8,
   "metadata": {},
   "outputs": [
    {
     "name": "stdout",
     "output_type": "stream",
     "text": [
      "[4, 9, 16, 64, 81, 144]\n",
      "[0, 2, -6, 36, 32, 10, 54, -21]\n",
      "[4, 12, 8, 9]\n"
     ]
    }
   ],
   "source": [
    "# 19\n",
    "values = [4, 2, -3, 12, 8, 2, 9, -3]\n",
    "\n",
    "unique_powers = sorted(list({x ** 2 for x in values}))\n",
    "print(unique_powers)\n",
    "product = [i* val for i, val in enumerate(values)]\n",
    "print(product)\n",
    "avg = sum(values)/len(values)\n",
    "bigger_number = [x for x in values if x > avg]\n",
    "print(bigger_number)"
   ]
  },
  {
   "cell_type": "code",
   "execution_count": 9,
   "metadata": {},
   "outputs": [
    {
     "ename": "SyntaxError",
     "evalue": "'return' outside function (4027163733.py, line 13)",
     "output_type": "error",
     "traceback": [
      "\u001b[1;36m  Cell \u001b[1;32mIn [9], line 13\u001b[1;36m\u001b[0m\n\u001b[1;33m    return check, age\u001b[0m\n\u001b[1;37m    ^\u001b[0m\n\u001b[1;31mSyntaxError\u001b[0m\u001b[1;31m:\u001b[0m 'return' outside function\n"
     ]
    }
   ],
   "source": [
    "# 10\n",
    "def check_valid_age():\n",
    "    age = input(\"Age: \")\n",
    "    check = False\n",
    "    try:\n",
    "        age = int(age)\n",
    "        if 18<= age <= 45:\n",
    "            print(\"Dear applicant, you can serve as a military nurse for another 15 years\")\n",
    "            check = True\n",
    "        else:\n",
    "            print(\"Age must be between 18 and 45 inclusive\")\n",
    "    except ValueError:\n",
    "        print(\"Invalid integer\")\n",
    "    return check, age\n",
    "\n",
    "while True:\n",
    "    check, age =check_valid_age():\n",
    "    if check:\n",
    "        break"
   ]
  },
  {
   "cell_type": "code",
   "execution_count": 11,
   "metadata": {},
   "outputs": [
    {
     "name": "stdout",
     "output_type": "stream",
     "text": [
      "{'1': ['2', '4'], '2': ['3'], '3': ['1', '2', '4'], '4': ['1', '2']}\n"
     ]
    }
   ],
   "source": [
    "my_graph = [\"124\", \"23\", \"3124\", \"412\"]\n",
    "\n",
    "out_graph = {x[0]: list(x[1:]) for x in my_graph}\n",
    "print(out_graph)"
   ]
  }
 ],
 "metadata": {
  "kernelspec": {
   "display_name": "Python 3.10.7 64-bit",
   "language": "python",
   "name": "python3"
  },
  "language_info": {
   "codemirror_mode": {
    "name": "ipython",
    "version": 3
   },
   "file_extension": ".py",
   "mimetype": "text/x-python",
   "name": "python",
   "nbconvert_exporter": "python",
   "pygments_lexer": "ipython3",
   "version": "3.10.7"
  },
  "orig_nbformat": 4,
  "vscode": {
   "interpreter": {
    "hash": "4c75d34ee1fcdb015885d85ab071295bd815e7d150290c0ae76b929ae622a1c7"
   }
  }
 },
 "nbformat": 4,
 "nbformat_minor": 2
}
