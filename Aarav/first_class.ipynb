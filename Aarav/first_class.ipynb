{
 "cells": [
  {
   "cell_type": "markdown",
   "metadata": {},
   "source": [
    "## datatypes\n",
    "\n",
    "1. integer - (1, 2, 5, 23423432423423423432, -233232432432, 0) \n",
    "2. decimal number - (15.5, 3.14, -45.90)\n",
    "3. string[textual data] - (\"Arav\", \"anurag\")\n",
    "4. boolean information (True, False)\n",
    "\n",
    "#### Actual names of above mentioned datatypes in python \n",
    "1. integer  is called `int`\n",
    "2. decimal is called `float`\n",
    "3. string is called `str`\n",
    "4. boolean is called `bool`"
   ]
  },
  {
   "cell_type": "code",
   "execution_count": 9,
   "metadata": {},
   "outputs": [
    {
     "name": "stdout",
     "output_type": "stream",
     "text": [
      "1\n"
     ]
    }
   ],
   "source": [
    "print(5 + 2)\n",
    "print(5 - 2)\n",
    "print(5 * 2)\n",
    "print(5 / 2)  # deciaml division\n",
    "print(5 // 2)  # floor division\n",
    "print(5 % 2)  # floor division"
   ]
  }
 ],
 "metadata": {
  "kernelspec": {
   "display_name": "Python 3",
   "language": "python",
   "name": "python3"
  },
  "language_info": {
   "codemirror_mode": {
    "name": "ipython",
    "version": 3
   },
   "file_extension": ".py",
   "mimetype": "text/x-python",
   "name": "python",
   "nbconvert_exporter": "python",
   "pygments_lexer": "ipython3",
   "version": "3.10.7"
  },
  "orig_nbformat": 4
 },
 "nbformat": 4,
 "nbformat_minor": 2
}
