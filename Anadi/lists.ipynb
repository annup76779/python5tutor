{
 "cells": [
  {
   "cell_type": "markdown",
   "metadata": {},
   "source": [
    "## list in python\n",
    "1. is a tool or datastructure that is used to hold any data of any datatype and the count of data is not to be defined.\n",
    "2. there is no way of defining the size of list\n",
    "3. in list the indexing is suported.\n",
    "    1. there two type of indexings present in python list\n",
    "        ```\n",
    "            normal indexing starting from 0 to length of list -1\n",
    "\n",
    "            lenght of list * (-1) to -1\n",
    "        ```"
   ]
  },
  {
   "cell_type": "code",
   "execution_count": null,
   "metadata": {},
   "outputs": [],
   "source": [
    "lst = [9, 'a', True, 8.9, 80, \"Anu\", \"Rag\", \"Anadi\", 89.23, 2334, None]\n",
    "len(lst) * (-1)\n",
    "dir(list)"
   ]
  },
  {
   "cell_type": "markdown",
   "metadata": {},
   "source": [
    "#### append method of list\n",
    "append method of list is used to add new data into the list at the end of the list\n",
    "```\n",
    "lst = [1,2,3,3,44]\n",
    "\n",
    "# inserting element into the list using append method \n",
    "lst.append(56)\n",
    "\n",
    "print(lst)\n",
    "\n",
    "--------------------------\n",
    "OUTPUT\n",
    "[1,2,3,3,44,56]\n",
    "```"
   ]
  },
  {
   "cell_type": "code",
   "execution_count": null,
   "metadata": {},
   "outputs": [],
   "source": [
    "lst = [1,2,3,3,44]\n",
    "\n",
    "# inserting element into the list using append method \n",
    "lst.append(56) # add to the end\n",
    "\n",
    "print(lst)"
   ]
  },
  {
   "cell_type": "markdown",
   "metadata": {},
   "source": [
    "program to make a list having all the odd number between 2 to any integer entered by user."
   ]
  },
  {
   "cell_type": "code",
   "execution_count": null,
   "metadata": {},
   "outputs": [],
   "source": [
    "ending_number  = int(input(\"Enter the last number:\" ))\n",
    "\n",
    "lst = []\n",
    "for i in range(3, ending_number+1, 2):\n",
    "    lst.append(i)\n",
    "    print(lst)\n",
    "150 * 8"
   ]
  },
  {
   "cell_type": "markdown",
   "metadata": {},
   "source": [
    "### insert\n",
    "`insert(index, value)`"
   ]
  },
  {
   "cell_type": "code",
   "execution_count": 5,
   "metadata": {},
   "outputs": [
    {
     "name": "stdout",
     "output_type": "stream",
     "text": [
      "[1, 2, 4, 'Anurag', 3, 4, 5, 33]\n"
     ]
    }
   ],
   "source": [
    "lst = [1,2,4,3,4,5,33]\n",
    "lst.insert(3, \"Anurag\")\n",
    "print(lst)"
   ]
  },
  {
   "cell_type": "code",
   "execution_count": null,
   "metadata": {},
   "outputs": [],
   "source": []
  },
  {
   "cell_type": "code",
   "execution_count": null,
   "metadata": {},
   "outputs": [],
   "source": [
    "# program to insert names at the top of list\n",
    "lst = []\n",
    "for i in range(5):\n",
    "    name = input(\"Enter the next name: \")\n",
    "    lst.insert(0, name)\n",
    "\n",
    "    print(lst)"
   ]
  },
  {
   "cell_type": "markdown",
   "metadata": {},
   "source": [
    "### you and to insert data into list in a ascending order"
   ]
  },
  {
   "cell_type": "code",
   "execution_count": 8,
   "metadata": {},
   "outputs": [
    {
     "name": "stdout",
     "output_type": "stream",
     "text": [
      "[4]\n",
      "[3, 4]\n",
      "[2, 3, 4]\n",
      "[1, 2, 3, 4]\n",
      "[1, 2, 3, 4, 6]\n"
     ]
    },
    {
     "data": {
      "text/plain": [
       "[1, 2, 3, 4, 6]"
      ]
     },
     "execution_count": 8,
     "metadata": {},
     "output_type": "execute_result"
    }
   ],
   "source": [
    "lst = []\n",
    "n = int(input(\"Enter the no. of data to be inserted: \"))\n",
    "for i in range(n):\n",
    "    user_in = int(input(\"enter the next number: \"))\n",
    "    index = 0\n",
    "    for j in range(len(lst)):\n",
    "        if lst[j] >= user_in: # checking if the number entered is less than lst[j]\n",
    "            break\n",
    "        index += 1\n",
    "    lst.insert(index, user_in)\n",
    "    print(lst)\n",
    "\n",
    "lst"
   ]
  }
 ],
 "metadata": {
  "kernelspec": {
   "display_name": "Python 3.10.4 64-bit",
   "language": "python",
   "name": "python3"
  },
  "language_info": {
   "codemirror_mode": {
    "name": "ipython",
    "version": 3
   },
   "file_extension": ".py",
   "mimetype": "text/x-python",
   "name": "python",
   "nbconvert_exporter": "python",
   "pygments_lexer": "ipython3",
   "version": "3.10.4"
  },
  "orig_nbformat": 4,
  "vscode": {
   "interpreter": {
    "hash": "4f946df053fbf2b937619d3c5458e7af74262f9a954d8797ba0b27400bcafe06"
   }
  }
 },
 "nbformat": 4,
 "nbformat_minor": 2
}
