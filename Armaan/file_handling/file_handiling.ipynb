{
 "cells": [
  {
   "cell_type": "markdown",
   "metadata": {},
   "source": [
    "```\n",
    "when you have to perform any kind of operation on files using python \n",
    "we use file handling of python\n",
    "\n",
    "types of files supported by python\n",
    "'r'       open for reading (default)\n",
    "'w'       open for writing, truncating the file first\n",
    "'x'       create a new file and open it for writing\n",
    "'a'       open for writing, appending to the end of the file if it exists\n",
    "'b'       binary mode\n",
    "'t'       text mode (default)\n",
    "'+'       open a disk file for updating (reading and writing)\n",
    "'U'       universal newline mode (deprecated)\n",
    "```"
   ]
  },
  {
   "cell_type": "code",
   "execution_count": null,
   "metadata": {},
   "outputs": [],
   "source": [
    "f = open(\"test.txt\", 'r')\n",
    "print(f.read())"
   ]
  },
  {
   "cell_type": "code",
   "execution_count": null,
   "metadata": {},
   "outputs": [],
   "source": []
  },
  {
   "cell_type": "markdown",
   "metadata": {},
   "source": [
    "#### write a program to take multiple names of students from user \n",
    "```\n",
    "but name will be in the following format\n",
    " -\n",
    "user will enter first name\n",
    "then user may or may not enter the middle name \n",
    "then user may or may not enter the last name \n",
    "```\n",
    "\n",
    "your task is to save the names entered in the file as full name\n",
    "```\n",
    "for example\n",
    "first name: Ashwani \n",
    "middle name: kumar\n",
    "last name: pandey\n",
    "\n",
    "what you will write into the file will be like - Ashwani Kumar Pandey\n",
    "```\n",
    "##### Extension to the above task\n",
    "```\n",
    "you can allow the user to enter total no. of name to be saved in the file and then ask the user to enter same no. of names\n",
    "```"
   ]
  },
  {
   "cell_type": "code",
   "execution_count": 30,
   "metadata": {},
   "outputs": [
    {
     "name": "stdout",
     "output_type": "stream",
     "text": [
      "Anurag  Pandey\n"
     ]
    }
   ],
   "source": [
    "first_name = input(\"Enter the first name: \")\n",
    "middle_name = input(\"Enter the middle name: \")\n",
    "last_name = input(\"Enter the last name: \")\n",
    "\n",
    "full_name = first_name + \" \" + middle_name + \" \" + last_name\n",
    "print(full_name)\n",
    "_file = open(\"name_list.txt\", \"w\")\n",
    "_file.write(full_name)\n",
    "# _file.close() # save the data in file and close the file\n",
    "_file.flush() # save the data in file \n",
    "\n",
    "\n",
    "# assignment\n",
    "# you have to take 10 names from user and save each name into the file in new line"
   ]
  },
  {
   "cell_type": "markdown",
   "metadata": {},
   "source": [
    "`Enter total no. of inputs:` <font color=\"green\">5</font><br>\n",
    "`Enter your name: `<font color=\"green\">Anurag Pandey</font><br>\n",
    "\n",
    "`Enter subject name 1: `<font color=\"green\">Maths</font><br>\n",
    "`Enter Maths marks: `<font color=\"green\">70</font><br>\n",
    "`Enter Maths Max Marks: `<font color=\"green\">80</font><br>\n",
    "... <font color=\"yellow\">this should be done for 5 times</font><br>\n",
    "`Enter subject name 5: `<font color=\"green\">Hindi</font><br>\n",
    "`Enter Hindi marks: `<font color=\"green\">61</font><br>\n",
    "`Enter Hindi Max Marks: `<font color=\"green\">100</font><br>\n",
    "\n",
    "# you must be getting a .txt file have output as \n",
    "```\n",
    "Name: Anurag Pandey\n",
    "subject name            marks obtained              max marks  \n",
    "...\n",
    "\n",
    "--------------------------------------------------------------\n",
    "total                   sum of obtained             sub of max marks\n",
    "\n",
    "```"
   ]
  },
  {
   "cell_type": "code",
   "execution_count": 25,
   "metadata": {},
   "outputs": [],
   "source": [
    "def write_table_to_n(n):\n",
    "    with open(\"tables.txt\", \"w\", encoding=\"utf-8\") as f:\n",
    "        s = \"\"\n",
    "        for i in range(10, 10+n+1):\n",
    "            s+=(\"#\"* 15)+\"\\n\"\n",
    "            s+=f\"# Table of {i}\\n\"\n",
    "            s+=(\"#\"* 15)+\"\\n\"\n",
    "            first = f\"|{str(i).center(2)} x {'1'.center(2)} | \"\n",
    "            header = \"+\" + (\"-\" * (len(first)-3))+ \"+\" + (\"-\"*5 )+ \"+\"\n",
    "            first += str(i).center(4) + \"|\"\n",
    "            s+= f\"{header}\\n{first}\\n\"\n",
    "            for j in range(2, 11):\n",
    "                s+=header+\"\\n\"\n",
    "                s+=f\"|{str(i).center(2)} x {str(j).center(2)} | {str(i * j).center(4)}|\\n\"\n",
    "            s+=header+\"\\n\\n\"\n",
    "        f.write(s)\n",
    "\n",
    "write_table_to_n(2)"
   ]
  },
  {
   "cell_type": "markdown",
   "metadata": {},
   "source": [
    "#### read and write into the file\n",
    "we have to read some data from the file names - name_list.txt\n",
    "and then we have make a new file with will have names with their lenght"
   ]
  },
  {
   "cell_type": "code",
   "execution_count": 8,
   "metadata": {},
   "outputs": [
    {
     "name": "stdout",
     "output_type": "stream",
     "text": [
      "['Anruag\\n', 'Shivendra\\n', 'Abhinav\\n', 'Ayushi\\n', 'Rohan \\n', 'Surendra\\n', 'Shashank\\n', 'Vandita\\n', 'Avantika\\n', 'Sayan']\n",
      "['Anruag', 'Shivendra', 'Abhinav', 'Ayushi', 'Rohan', 'Surendra', 'Shashank', 'Vandita', 'Avantika', 'Sayan']\n"
     ]
    }
   ],
   "source": [
    "with open(\"name_list.txt\", \"r\", encoding =\" utf-8\") as name_file:\n",
    "    name_lst= name_file.readlines()\n",
    "    print(name_lst)\n",
    "    for index, name in enumerate(name_lst):\n",
    "        name_lst[index] = name.strip()\n",
    "    print(name_lst)\n",
    "\n",
    "with open(\"new_name_lst.txt\", \"w\", encoding=\"utf-8\") as name_lst_with_length:\n",
    "    for name in name_lst:\n",
    "        name_lst_with_length.write(name + \", \" + str(len(name)) + \"\\n\")"
   ]
  }
 ],
 "metadata": {
  "interpreter": {
   "hash": "4f946df053fbf2b937619d3c5458e7af74262f9a954d8797ba0b27400bcafe06"
  },
  "kernelspec": {
   "display_name": "Python 3.10.4 64-bit",
   "language": "python",
   "name": "python3"
  },
  "language_info": {
   "codemirror_mode": {
    "name": "ipython",
    "version": 3
   },
   "file_extension": ".py",
   "mimetype": "text/x-python",
   "name": "python",
   "nbconvert_exporter": "python",
   "pygments_lexer": "ipython3",
   "version": "3.10.4"
  },
  "orig_nbformat": 4
 },
 "nbformat": 4,
 "nbformat_minor": 2
}
