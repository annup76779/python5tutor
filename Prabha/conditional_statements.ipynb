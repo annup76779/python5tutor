{
 "cells": [
  {
   "attachments": {},
   "cell_type": "markdown",
   "metadata": {},
   "source": [
    "1. if \n",
    "2. if - else \n",
    "3. if elif else \n",
    "4. if [if - else] else [if - else]"
   ]
  },
  {
   "cell_type": "code",
   "execution_count": 3,
   "metadata": {},
   "outputs": [
    {
     "name": "stdout",
     "output_type": "stream",
     "text": [
      "Have fun\n",
      "Have fun\n",
      "Have fun\n",
      "Have fun\n",
      "Have fun\n",
      "Have fun\n",
      "Have fun\n",
      "Have fun\n",
      "Have fun\n",
      "Have fun\n",
      "Have fun\n"
     ]
    }
   ],
   "source": [
    "x = 49\n",
    "\n",
    "while x % 7 == 0:\n",
    "    print(\"Have fun\")\n",
    "    print(\"Have fun\")\n",
    "    print(\"Have fun\")\n",
    "    print(\"Have fun\")\n",
    "    print(\"Have fun\")\n",
    "    print(\"Have fun\")\n",
    "    print(\"Have fun\")\n",
    "    print(\"Have fun\")\n",
    "    print(\"Have fun\")\n",
    "    print(\"Have fun\")\n",
    "    print(\"Have fun\")\n",
    "    x = x % 7 - 1"
   ]
  },
  {
   "cell_type": "code",
   "execution_count": 7,
   "metadata": {},
   "outputs": [
    {
     "name": "stdout",
     "output_type": "stream",
     "text": [
      "I am trying to check for 3\n",
      "div by 3\n"
     ]
    }
   ],
   "source": [
    "x = 12\n",
    "if x % 5 == 0:\n",
    "    print(\"div by 5\")\n",
    "elif x % 3 == 0:\n",
    "    print(\"div by 3\")\n",
    "else:\n",
    "    print(\"i don't know what to do\")"
   ]
  },
  {
   "cell_type": "code",
   "execution_count": 3,
   "metadata": {},
   "outputs": [
    {
     "name": "stdout",
     "output_type": "stream",
     "text": [
      "8 is the largest number\n"
     ]
    }
   ],
   "source": [
    "# here we are writing a program that can tell the largest number of the three numbers\n",
    "\n",
    "x=0\n",
    "y=1\n",
    "z=8\n",
    "\n",
    "if x > y: # x is greater than y, then\n",
    "    if x > z: # check if x is greater than z also\n",
    "        print(x, \"is the largest number\")\n",
    "    else: # if x is less then z but x is greater than y, this makes z the largest number\n",
    "        print(z, \"is the largest number\")\n",
    "\n",
    "else: # x is less than y, then \n",
    "    if y > z: # check if y is greater than z\n",
    "        print(y, \"is the largest number\")\n",
    "    else:\n",
    "        print(z, \"is the largest number\")\n",
    "\n"
   ]
  },
  {
   "attachments": {
    "image.png": {
     "image/png": "[encoded data removed]"
    }
   },
   "cell_type": "markdown",
   "metadata": {},
   "source": [
    "is a coding contest there are five targets\n",
    "1. coding technique\n",
    "2. DSA\n",
    "3. Optimization\n",
    "4. time \n",
    "5. errors \n",
    "\n",
    "they all are goin to be scored on the scale of 0 to 10\n",
    "\n",
    "![image.png](attachment:image.png)"
   ]
  },
  {
   "cell_type": "code",
   "execution_count": null,
   "metadata": {},
   "outputs": [],
   "source": [
    "ct=6\n",
    "dsa=4\n",
    "opt=7\n",
    "time=2\n",
    "errors=10"
   ]
  }
 ],
 "metadata": {
  "kernelspec": {
   "display_name": "Python 3",
   "language": "python",
   "name": "python3"
  },
  "language_info": {
   "codemirror_mode": {
    "name": "ipython",
    "version": 3
   },
   "file_extension": ".py",
   "mimetype": "text/x-python",
   "name": "python",
   "nbconvert_exporter": "python",
   "pygments_lexer": "ipython3",
   "version": "3.10.7"
  },
  "orig_nbformat": 4,
  "vscode": {
   "interpreter": {
    "hash": "4c75d34ee1fcdb015885d85ab071295bd815e7d150290c0ae76b929ae622a1c7"
   }
  }
 },
 "nbformat": 4,
 "nbformat_minor": 2
}
