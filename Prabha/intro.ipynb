{
 "cells": [
  {
   "cell_type": "code",
   "execution_count": 2,
   "metadata": {},
   "outputs": [
    {
     "name": "stdout",
     "output_type": "stream",
     "text": [
      "Hello Prabha, Good to teach you I am good at python\n"
     ]
    }
   ],
   "source": [
    "print(\"Hello Prabha, Good to teach you\", \"I am good at python\")"
   ]
  },
  {
   "attachments": {},
   "cell_type": "markdown",
   "metadata": {},
   "source": [
    "## datatypes supported by python\n",
    "\n",
    "1. integer -> -32,32, 0\n",
    "2. floating point [decimal numbers]-> 78.9, 34.23432, 3.14\n",
    "3. string -> anything written within \"ch\", 'ch', '''ch''', \"\"\"ch\"\"\"\n",
    "4. boolean -> True, False"
   ]
  },
  {
   "cell_type": "code",
   "execution_count": 16,
   "metadata": {},
   "outputs": [
    {
     "name": "stdout",
     "output_type": "stream",
     "text": [
      "16\n"
     ]
    }
   ],
   "source": [
    "print(2 ** 4)"
   ]
  },
  {
   "attachments": {},
   "cell_type": "markdown",
   "metadata": {},
   "source": [
    "# integer "
   ]
  },
  {
   "attachments": {},
   "cell_type": "markdown",
   "metadata": {},
   "source": [
    "-- operations on integer\n",
    "1. addition (+)\n",
    "2. subtraction (-)\n",
    "3. multiplication (*)\n",
    "4. division (`/, %, //`)\n",
    "   1. normal division -> (/)\n",
    "   2. modulus (%)\n",
    "   3. floor division (//)\n",
    "5. exponentiation (**)"
   ]
  },
  {
   "cell_type": "code",
   "execution_count": 25,
   "metadata": {},
   "outputs": [
    {
     "name": "stdout",
     "output_type": "stream",
     "text": [
      "37.3\n"
     ]
    }
   ],
   "source": [
    "print(32 + 5.3)"
   ]
  },
  {
   "cell_type": "code",
   "execution_count": 27,
   "metadata": {},
   "outputs": [
    {
     "name": "stdout",
     "output_type": "stream",
     "text": [
      "27.320000000000004\n"
     ]
    }
   ],
   "source": [
    "print(32.52 - 5.2)"
   ]
  },
  {
   "cell_type": "code",
   "execution_count": 28,
   "metadata": {},
   "outputs": [
    {
     "name": "stdout",
     "output_type": "stream",
     "text": [
      "173.448\n"
     ]
    }
   ],
   "source": [
    "print(32.12 * 5.4)"
   ]
  },
  {
   "cell_type": "code",
   "execution_count": null,
   "metadata": {},
   "outputs": [],
   "source": [
    "print(32.2 / 5.2)\n",
    "print(32.2 // 5.2)\n",
    "print(32 % 5)\n",
    "print(5.0 + 5.0)"
   ]
  },
  {
   "attachments": {},
   "cell_type": "markdown",
   "metadata": {},
   "source": [
    "## strings data type"
   ]
  },
  {
   "cell_type": "code",
   "execution_count": 29,
   "metadata": {},
   "outputs": [
    {
     "name": "stdout",
     "output_type": "stream",
     "text": [
      "this is \"Anurag's class\"\n",
      "this is a valid string\n"
     ]
    }
   ],
   "source": [
    "print(\"this is \\\"Anurag\\'s class\\\"\")\n",
    "\n",
    "print(\"this is a valid string\")"
   ]
  },
  {
   "cell_type": "code",
   "execution_count": 35,
   "metadata": {},
   "outputs": [
    {
     "name": "stdout",
     "output_type": "stream",
     "text": [
      "This is my python class.\tI am enjoying learning python\n"
     ]
    }
   ],
   "source": [
    "print(\"This is my python class.\"+\"\\t\"+\"I am enjoying learning python\")"
   ]
  },
  {
   "cell_type": "code",
   "execution_count": 40,
   "metadata": {},
   "outputs": [
    {
     "name": "stdout",
     "output_type": "stream",
     "text": [
      "777777777\n"
     ]
    }
   ],
   "source": [
    "print(\"7\" * 9)"
   ]
  },
  {
   "attachments": {},
   "cell_type": "markdown",
   "metadata": {},
   "source": [
    "# boolean datatype\n",
    "\n",
    "this is used the most when doing any conditional programming but you will not directly face it."
   ]
  },
  {
   "attachments": {
    "image.png": {
     "image/png": "[encoded data removed]"
    }
   },
   "cell_type": "markdown",
   "metadata": {},
   "source": [
    "### conditional operators\n",
    "```\n",
    "== [check equality]\n",
    "!= [unequal condition]\n",
    "< [less than]\n",
    "> [greater than]\n",
    "<= [less than and equal to condition]\n",
    ">= [greater than and equal to condition]\n",
    "```\n",
    "\n",
    "### logical operators\n",
    "```\n",
    "and [used when the condition at left and right hand side are needed to be true]\n",
    "or [used when the condition at left or right hand side are needed to be true]\n",
    "not [transpose the output]\n",
    "```\n",
    "![image.png](attachment:image.png)"
   ]
  },
  {
   "cell_type": "code",
   "execution_count": 48,
   "metadata": {},
   "outputs": [
    {
     "name": "stdout",
     "output_type": "stream",
     "text": [
      "True\n",
      "True\n",
      "False\n",
      "True\n",
      "True\n",
      "True\n"
     ]
    }
   ],
   "source": [
    "print(7 == 7) # to check the equality of two things you use == \n",
    "print(6 != 7)\n",
    "print(7 < 7)\n",
    "print(8 > 7)\n",
    "print(7 <= 7)\n",
    "print(7 >= 7)"
   ]
  },
  {
   "cell_type": "code",
   "execution_count": 56,
   "metadata": {},
   "outputs": [
    {
     "name": "stdout",
     "output_type": "stream",
     "text": [
      "True\n",
      "True\n",
      "False\n"
     ]
    }
   ],
   "source": [
    "print(7 < 8 and 8 < 9)\n",
    "print(7 > 8 or 8 < 9)\n",
    "print(not (7 < 9))"
   ]
  },
  {
   "cell_type": "code",
   "execution_count": 60,
   "metadata": {},
   "outputs": [
    {
     "name": "stdout",
     "output_type": "stream",
     "text": [
      "25\n",
      "144\n"
     ]
    }
   ],
   "source": [
    "x = 2\n",
    "y = 3\n",
    "output = x ** 2 + y ** 2 + 2 * x * y\n",
    "print(output)\n",
    "x = 5\n",
    "y = 7\n",
    "output = x ** 2 + y ** 2 + 2 * x * y\n",
    "print(output)"
   ]
  }
 ],
 "metadata": {
  "kernelspec": {
   "display_name": "Python 3",
   "language": "python",
   "name": "python3"
  },
  "language_info": {
   "codemirror_mode": {
    "name": "ipython",
    "version": 3
   },
   "file_extension": ".py",
   "mimetype": "text/x-python",
   "name": "python",
   "nbconvert_exporter": "python",
   "pygments_lexer": "ipython3",
   "version": "3.10.7 (tags/v3.10.7:6cc6b13, Sep  5 2022, 14:08:36) [MSC v.1933 64 bit (AMD64)]"
  },
  "orig_nbformat": 4,
  "vscode": {
   "interpreter": {
    "hash": "4c75d34ee1fcdb015885d85ab071295bd815e7d150290c0ae76b929ae622a1c7"
   }
  }
 },
 "nbformat": 4,
 "nbformat_minor": 2
}
