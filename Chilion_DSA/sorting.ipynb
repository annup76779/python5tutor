{
 "cells": [
  {
   "cell_type": "code",
   "execution_count": 1,
   "metadata": {},
   "outputs": [
    {
     "name": "stdout",
     "output_type": "stream",
     "text": [
      "[4, 4, 5, 5, 5, 6, 6, 7, 23, 23, 32, 34, 34, 56, 56, 68, 76, 79, 85, 234, 423, 432, 455, 532, 547, 634, 679, 745, 6854, 23534, 856856, 3465454]\n"
     ]
    }
   ],
   "source": [
    "lst = [234,23,432,4,32,4,23534,5,3465454,7,56,856856,745,6,34,532,5,23,423,5,34,634,76,547,56,85,68,679,79,6854,6,455]\n",
    "\n",
    "# smallest to largest number\n",
    "lst.sort()\n",
    "print(lst)"
   ]
  },
  {
   "cell_type": "markdown",
   "metadata": {},
   "source": [
    "## sorting \n",
    "sorting is a technique of arranging anything is a sequence either in ascending order or descending order.\n",
    "\n",
    "1. Bubble sort\n",
    "2. Selection sort\n",
    "3. insertion sort\n",
    "4. quick sort\n",
    "5. merge sort\n",
    "6. heap sort\n",
    "7. trim sort  -> lst.sort()\n",
    "8. bucket sort\n",
    "\n",
    "and many more... "
   ]
  },
  {
   "cell_type": "code",
   "execution_count": 20,
   "metadata": {},
   "outputs": [
    {
     "name": "stdout",
     "output_type": "stream",
     "text": [
      "[11, 18, 23, 26, 38, 43, 44, 44, 79, 102, 116, 119, 134, 155, 164, 174, 185, 193, 224, 231, 231, 254, 255, 281, 313, 320, 327, 363, 366, 369, 379, 379, 389, 404, 409, 409, 409, 410, 418, 450, 453, 462, 469, 484, 495, 499, 518, 541, 563, 565, 577, 583, 584, 589, 595, 597, 599, 625, 629, 631, 638, 646, 651, 677, 680, 681, 701, 701, 720, 742, 747, 764, 767, 769, 771, 771, 779, 783, 833, 844, 848, 861, 891, 904, 907, 918, 926, 929, 930, 939, 939, 963, 973, 1014, 1019, 1029, 1036, 1053, 1071, 1092, 1097, 1097, 1110, 1124, 1190, 1193, 1217, 1220, 1267, 1287, 1289, 1305, 1318, 1324, 1338, 1341, 1350, 1357, 1367, 1370, 1398, 1398, 1413, 1421, 1422, 1430, 1431, 1438, 1445, 1447, 1459, 1470, 1470, 1473, 1480, 1481, 1488, 1498, 1515, 1516, 1527, 1532, 1538, 1538, 1540, 1563, 1567, 1584, 1594, 1606, 1606, 1607, 1610, 1631, 1632, 1641, 1649, 1672, 1675, 1715, 1719, 1720, 1725, 1728, 1749, 1767, 1779, 1793, 1797, 1810, 1816, 1843, 1846, 1864, 1867, 1878, 1880, 1884, 1894, 1896, 1901, 1910, 1935, 1949, 1950, 1971, 1977, 1985, 1999, 2017, 2028, 2034, 2048, 2052, 2066, 2072, 2074, 2075, 2076, 2087, 2106, 2108, 2113, 2144, 2162, 2167, 2181, 2187, 2190, 2195, 2204, 2216, 2222, 2225, 2238, 2239, 2243, 2260, 2275, 2279, 2299, 2309, 2309, 2314, 2317, 2328, 2336, 2345, 2348, 2358, 2370, 2380, 2394, 2411, 2417, 2432, 2463, 2465, 2468, 2471, 2485, 2490, 2498, 2523, 2529, 2539, 2563, 2566, 2583, 2595, 2597, 2610, 2613, 2628, 2629, 2634, 2648, 2651, 2659, 2677, 2691, 2694, 2708, 2712, 2727, 2736, 2785, 2792, 2797, 2813, 2817, 2852, 2863, 2885, 2892, 2900, 2958, 2968, 2978, 2978, 2994, 3006, 3008, 3010, 3015, 3021, 3030, 3031, 3045, 3049, 3056, 3092, 3095, 3095, 3102, 3131, 3141, 3145, 3161, 3163, 3174, 3189, 3217, 3240, 3248, 3258, 3267, 3268, 3274, 3283, 3283, 3292, 3300, 3309, 3321, 3333, 3347, 3353, 3354, 3377, 3379, 3382, 3394, 3396, 3403, 3425, 3430, 3444, 3455, 3458, 3467, 3479, 3533, 3542, 3544, 3547, 3570, 3572, 3580, 3600, 3602, 3615, 3619, 3637, 3641, 3661, 3667, 3676, 3683, 3714, 3721, 3725, 3726, 3727, 3731, 3752, 3761, 3771, 3772, 3778, 3806, 3821, 3852, 3860, 3861, 3866, 3867, 3870, 3873, 3895, 3911, 3917, 3930, 3946, 3946, 3955, 3979, 4005, 4026, 4028, 4031, 4035, 4048, 4060, 4066, 4067, 4092, 4098, 4098, 4107, 4110, 4111, 4122, 4171, 4179, 4206, 4209, 4211, 4226, 4241, 4246, 4257, 4257, 4258, 4280, 4280, 4290, 4300, 4300, 4304, 4306, 4313, 4336, 4344, 4352, 4355, 4356, 4363, 4369, 4370, 4385, 4389, 4397, 4407, 4414, 4423, 4423, 4434, 4438, 4440, 4454, 4527, 4528, 4543, 4560, 4569, 4571, 4591, 4591, 4625, 4633, 4634, 4640, 4681, 4722, 4727, 4736, 4750, 4753, 4773, 4773, 4785, 4790, 4813, 4832, 4844, 4844, 4851, 4858, 4866, 4875, 4890, 4899, 4904, 4921, 4922, 4924, 4932, 4938, 4951, 4967, 4990, 5011, 5014, 5016, 5020, 5029, 5053, 5060, 5075, 5080, 5104, 5118, 5128, 5136, 5154, 5169, 5203, 5206, 5243, 5293, 5298, 5311, 5312, 5313, 5357, 5379, 5383, 5384, 5385, 5388, 5389, 5390, 5405, 5408, 5409, 5411, 5417, 5422, 5448, 5450, 5468, 5484, 5504, 5519, 5534, 5547, 5554, 5563, 5572, 5577, 5577, 5580, 5582, 5592, 5601, 5603, 5608, 5628, 5629, 5647, 5651, 5656, 5657, 5666, 5678, 5694, 5713, 5723, 5739, 5742, 5751, 5762, 5762, 5762, 5765, 5783, 5784, 5788, 5788, 5815, 5820, 5824, 5836, 5843, 5845, 5851, 5865, 5882, 5910, 5910, 5920, 5931, 5946, 5953, 5967, 5970, 5972, 5974, 5974, 5978, 5987, 5992, 6005, 6031, 6040, 6043, 6072, 6072, 6085, 6085, 6093, 6097, 6101, 6113, 6148, 6185, 6205, 6237, 6247, 6257, 6286, 6294, 6300, 6315, 6317, 6317, 6321, 6322, 6332, 6342, 6350, 6370, 6378, 6382, 6383, 6388, 6398, 6402, 6412, 6413, 6426, 6438, 6449, 6463, 6471, 6479, 6481, 6484, 6487, 6491, 6502, 6515, 6522, 6525, 6530, 6535, 6536, 6538, 6542, 6546, 6554, 6556, 6563, 6568, 6572, 6615, 6617, 6620, 6624, 6637, 6648, 6659, 6665, 6672, 6679, 6683, 6689, 6689, 6703, 6721, 6751, 6755, 6756, 6757, 6757, 6781, 6788, 6789, 6792, 6798, 6821, 6829, 6854, 6863, 6870, 6887, 6923, 6934, 6949, 6953, 6969, 6979, 6986, 6988, 6995, 7002, 7002, 7004, 7010, 7020, 7027, 7045, 7047, 7049, 7052, 7075, 7095, 7096, 7112, 7127, 7132, 7151, 7154, 7156, 7170, 7206, 7212, 7228, 7230, 7239, 7246, 7264, 7266, 7268, 7268, 7291, 7302, 7319, 7327, 7351, 7351, 7354, 7372, 7382, 7384, 7390, 7395, 7408, 7429, 7429, 7430, 7445, 7445, 7448, 7452, 7476, 7491, 7498, 7514, 7526, 7529, 7539, 7544, 7550, 7557, 7565, 7572, 7591, 7595, 7595, 7601, 7604, 7619, 7625, 7628, 7629, 7630, 7638, 7652, 7655, 7664, 7669, 7669, 7672, 7691, 7692, 7692, 7702, 7707, 7715, 7718, 7718, 7719, 7725, 7738, 7777, 7787, 7799, 7808, 7814, 7845, 7845, 7849, 7852, 7857, 7860, 7862, 7862, 7869, 7872, 7873, 7879, 7886, 7898, 7901, 7916, 7929, 7947, 7956, 7965, 7976, 7990, 8003, 8011, 8012, 8032, 8033, 8051, 8064, 8071, 8077, 8077, 8105, 8116, 8133, 8135, 8151, 8166, 8170, 8171, 8172, 8180, 8184, 8194, 8209, 8220, 8227, 8229, 8245, 8248, 8248, 8256, 8267, 8274, 8274, 8276, 8284, 8285, 8294, 8299, 8302, 8304, 8314, 8317, 8351, 8368, 8377, 8382, 8385, 8387, 8390, 8392, 8409, 8430, 8440, 8443, 8452, 8466, 8467, 8482, 8485, 8486, 8497, 8501, 8540, 8542, 8542, 8544, 8547, 8565, 8568, 8576, 8577, 8579, 8580, 8586, 8609, 8611, 8617, 8621, 8629, 8630, 8632, 8650, 8665, 8689, 8692, 8698, 8715, 8742, 8746, 8747, 8758, 8762, 8771, 8791, 8811, 8826, 8830, 8878, 8882, 8884, 8884, 8886, 8892, 8904, 8913, 8932, 8942, 8943, 8974, 8978, 8999, 9026, 9038, 9040, 9059, 9065, 9070, 9088, 9092, 9092, 9095, 9096, 9123, 9144, 9166, 9167, 9175, 9181, 9181, 9183, 9204, 9216, 9224, 9229, 9238, 9243, 9253, 9267, 9285, 9290, 9293, 9299, 9305, 9320, 9344, 9345, 9357, 9371, 9371, 9375, 9399, 9441, 9475, 9478, 9480, 9481, 9482, 9491, 9503, 9518, 9524, 9552, 9563, 9576, 9599, 9621, 9634, 9654, 9655, 9671, 9678, 9679, 9687, 9687, 9692, 9693, 9694, 9703, 9705, 9707, 9715, 9717, 9723, 9745, 9773, 9790, 9797, 9802, 9825, 9837, 9840, 9841, 9843, 9865, 9866, 9875, 9902, 9903, 9926, 9935, 9947, 9962, 9964, 9965, 9980, 9981, 9986]\n"
     ]
    }
   ],
   "source": [
    "import random\n",
    "\n",
    "def bubble_sort(arr):\n",
    "    n = len(arr)  # to check how many index I have to compare\n",
    "    # and for each index I have to compare the total - index number of indexs\n",
    "\n",
    "    # total indexs are 5, that means there are 6 values in the array\n",
    "    # and if the current index (green box or selected index ) is 2 then I need to compare total - current index i.e 5 - 2 = 3\n",
    "\n",
    "    for i in range(n-1):\n",
    "        for j in range(0, n - i - 1):\n",
    "            if arr[j] > arr[j+1]:\n",
    "                # swap the code\n",
    "                arr[j], arr[j+1] = arr[j+1], arr[j]\n",
    "\n",
    "lst = [random.randint(5, 10000) for i in range(1000)]\n",
    "bubble_sort(lst)\n",
    "print(lst)"
   ]
  },
  {
   "cell_type": "code",
   "execution_count": 22,
   "metadata": {},
   "outputs": [],
   "source": [
    "lst = [random.randint(5, 10000) for i in range(1000)]\n",
    "lst.sort()  # consumes memory"
   ]
  },
  {
   "cell_type": "markdown",
   "metadata": {},
   "source": [
    "# Selection sort\n",
    "\n",
    "there are total 6 steps to sort any array"
   ]
  },
  {
   "cell_type": "markdown",
   "metadata": {},
   "source": [
    "1. set the first element of the list as the minimum\n",
    "2. loop through the list and then find the minimum element in the list. \n",
    "3. if the minimum element found is not the element you started with, swap them\n",
    "   first element was 5, and the new minimum element found is 3 then we need to swap and if the new minimum element is again 5 then leave it as it is.\n",
    "4. once you are done with the first element, then move to the next element, i.e. move to second element and so on...\n",
    "5. Repead this process i.e. repeat 2, 3, 4\n",
    "6. Once you will reach to the last element of the list, the new array will be the sorted array, i.e. all the elements in the array will be in accending order."
   ]
  },
  {
   "cell_type": "code",
   "execution_count": 8,
   "metadata": {},
   "outputs": [],
   "source": [
    "def selection_sort(arr):\n",
    "    # traverse through all the elements\n",
    "    for i in range(len(arr)):\n",
    "        # find the minimum element in the remaining unsorted array.\n",
    "\n",
    "        # the current index i.e. `i` will show the hypothetical minimum element.\n",
    "        min_idx = i\n",
    "        print(arr[: min_idx+1], arr[i+1:])\n",
    "        for j in range(i+1, len(arr)):\n",
    "            if arr[min_idx] > arr[j]:\n",
    "                min_idx = j\n",
    "\n",
    "        # swap the found minimum element with the first element\n",
    "        arr[i], arr[min_idx] = arr[min_idx], arr[i]\n",
    "\n",
    "    return arr"
   ]
  },
  {
   "cell_type": "code",
   "execution_count": 9,
   "metadata": {},
   "outputs": [
    {
     "name": "stdout",
     "output_type": "stream",
     "text": [
      "[29] [10, 14, 37, 13]\n",
      "[10, 29] [14, 37, 13]\n",
      "[10, 13, 14] [37, 29]\n",
      "[10, 13, 14, 37] [29]\n",
      "[10, 13, 14, 29, 37] []\n"
     ]
    },
    {
     "data": {
      "text/plain": [
       "[10, 13, 14, 29, 37]"
      ]
     },
     "execution_count": 9,
     "metadata": {},
     "output_type": "execute_result"
    }
   ],
   "source": [
    "lst = [29,10, 14, 37, 13]\n",
    "selection_sort(lst)"
   ]
  },
  {
   "cell_type": "markdown",
   "metadata": {},
   "source": [
    "# Insertion  sort \n",
    "1. start with the second element\n",
    "2. compare with the previous element: Take the next elemetn and compare it witht eh lemens in the sorted portion of the array(to the left)\n",
    "3. shift the element if necessary\n",
    "4. insert the current element: insert the current element at the correct position in the sorted portion\n",
    "5. Move to the next element\n",
    "6. Repeat all of the above until the array is sorted."
   ]
  },
  {
   "cell_type": "code",
   "execution_count": 10,
   "metadata": {},
   "outputs": [],
   "source": [
    "def insertion_sort(arr):\n",
    "    # traverse through 1 to len(arr)\n",
    "    for i in range(1, len(arr)):\n",
    "        key = arr[i]\n",
    "\n",
    "        # move elements of arr[0, .. i-1], that are \n",
    "        # greater than key, to one prositon ahead of \n",
    "        # their current position\n",
    "        j = i - 1\n",
    "        # [5, 5, 7, 6, 9, 10]\n",
    "        while j >= 0 and key < arr[j]:  # j=-1\n",
    "            arr[j + 1] = arr[j]\n",
    "            j -= 1\n",
    "\n",
    "        arr[j+1] = key\n",
    "\n",
    "    return arr\n"
   ]
  },
  {
   "cell_type": "code",
   "execution_count": 11,
   "metadata": {},
   "outputs": [
    {
     "data": {
      "text/plain": [
       "[10, 13, 14, 29, 37]"
      ]
     },
     "execution_count": 11,
     "metadata": {},
     "output_type": "execute_result"
    }
   ],
   "source": [
    "lst = [29,10, 14, 37, 13]\n",
    "insertion_sort(lst)"
   ]
  }
 ],
 "metadata": {
  "kernelspec": {
   "display_name": "Python 3",
   "language": "python",
   "name": "python3"
  },
  "language_info": {
   "codemirror_mode": {
    "name": "ipython",
    "version": 3
   },
   "file_extension": ".py",
   "mimetype": "text/x-python",
   "name": "python",
   "nbconvert_exporter": "python",
   "pygments_lexer": "ipython3",
   "version": "3.10.7"
  }
 },
 "nbformat": 4,
 "nbformat_minor": 2
}
