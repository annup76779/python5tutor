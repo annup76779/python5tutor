{
 "cells": [
  {
   "attachments": {},
   "cell_type": "markdown",
   "metadata": {},
   "source": [
    "```\n",
    "********\n",
    "********\n",
    "********\n",
    "********\n",
    "```"
   ]
  },
  {
   "cell_type": "code",
   "execution_count": null,
   "metadata": {},
   "outputs": [],
   "source": [
    "n = int(input(\"Enter the number of rows: \"))\n",
    "\n",
    "for i in range(n): # 0 to n - 1\n",
    "    row = \"\"\n",
    "    for j in range(n):\n",
    "        row += \"**\"  # end default value in \\n -> new line [Enter]\n",
    "    print(row)\n"
   ]
  },
  {
   "attachments": {},
   "cell_type": "markdown",
   "metadata": {},
   "source": [
    "```\n",
    "1\n",
    "12\n",
    "123\n",
    "1234\n",
    "12345\n",
    "123456\n",
    "```"
   ]
  },
  {
   "cell_type": "code",
   "execution_count": 3,
   "metadata": {},
   "outputs": [
    {
     "name": "stdout",
     "output_type": "stream",
     "text": [
      "1\n",
      "12\n",
      "123\n",
      "1234\n",
      "12345\n",
      "123456\n"
     ]
    }
   ],
   "source": [
    "n = 6\n",
    "for i in range(1, n+1):\n",
    "    for j in range(1, i+1):\n",
    "        print(j, end=\"\")\n",
    "    print()"
   ]
  },
  {
   "attachments": {},
   "cell_type": "markdown",
   "metadata": {},
   "source": [
    "```\n",
    "*          *\n",
    " *        *\n",
    "  *      *\n",
    "   *    *\n",
    "    *  *\n",
    "     **\n",
    "```"
   ]
  },
  {
   "cell_type": "code",
   "execution_count": 12,
   "metadata": {},
   "outputs": [
    {
     "name": "stdout",
     "output_type": "stream",
     "text": [
      "*            *\n",
      " *          *\n",
      "  *        *\n",
      "   *      *\n",
      "    *    *\n",
      "     *  *\n",
      "      **\n"
     ]
    }
   ],
   "source": [
    "n=7\n",
    "space = (n * 2) - 2\n",
    "for i in range(n): # rows\n",
    "    for j in range(i): # columns\n",
    "        print(\" \", end=\"\")\n",
    "    print(\"*\", end=\"\")\n",
    "    for j in range(space):\n",
    "        print(\" \", end=\"\")\n",
    "    space -= 2\n",
    "    print(\"*\")\n"
   ]
  },
  {
   "cell_type": "code",
   "execution_count": 16,
   "metadata": {},
   "outputs": [
    {
     "name": "stdout",
     "output_type": "stream",
     "text": [
      "     **\n",
      "    *  *\n",
      "   *    *\n",
      "  *      *\n"
     ]
    }
   ],
   "source": [
    "# ---**---\n",
    "# --*--*--\n",
    "# -*----*-\n",
    "# *------*\n",
    "\n",
    "n=4\n",
    "\n",
    "for i in range(n):\n",
    "    for j in range(n-i+1):\n",
    "        print(\" \",end=\"\")\n",
    "    print(\"*\", end=\"\")  \n",
    "    for j in range(i * 2):\n",
    "        print(\" \",end=\"\")\n",
    "    print(\"*\")"
   ]
  },
  {
   "attachments": {},
   "cell_type": "markdown",
   "metadata": {},
   "source": [
    "```\n",
    "    *\n",
    "   ***\n",
    "  *****\n",
    " *******\n",
    "*********\n",
    "```\n",
    "\n",
    "```\n",
    "_____\n",
    "   _____\n",
    "      _____\n",
    "         _____\n",
    "            _____\n",
    "       _____\n",
    "   _____\n",
    "_____\n",
    "```\n",
    "\n",
    "\n",
    "```\n",
    "_____                          _____\n",
    "   _____                   _____\n",
    "      _____            _____\n",
    "         _____      _____\n",
    "            __________\n",
    "       _____        _____\n",
    "   _____               _____\n",
    "_____                       _____\n",
    "```\n",
    "\n",
    "\n",
    "```\n",
    "**********\n",
    " *      *\n",
    "  *    *\n",
    "   *  *\n",
    "   *  *\n",
    "  *    *\n",
    " *      *\n",
    "**********\n",
    "```\n",
    "\n"
   ]
  }
 ],
 "metadata": {
  "kernelspec": {
   "display_name": "Python 3",
   "language": "python",
   "name": "python3"
  },
  "language_info": {
   "codemirror_mode": {
    "name": "ipython",
    "version": 3
   },
   "file_extension": ".py",
   "mimetype": "text/x-python",
   "name": "python",
   "nbconvert_exporter": "python",
   "pygments_lexer": "ipython3",
   "version": "3.10.7 (tags/v3.10.7:6cc6b13, Sep  5 2022, 14:08:36) [MSC v.1933 64 bit (AMD64)]"
  },
  "orig_nbformat": 4,
  "vscode": {
   "interpreter": {
    "hash": "4c75d34ee1fcdb015885d85ab071295bd815e7d150290c0ae76b929ae622a1c7"
   }
  }
 },
 "nbformat": 4,
 "nbformat_minor": 2
}
