{
 "cells": [
  {
   "attachments": {},
   "cell_type": "markdown",
   "metadata": {},
   "source": [
    "```\n",
    "lst1 = [1,2,3,5,4,5,6,6,7,77]\n",
    "lst2 = list((1,2,4,3,543543,5,34,5))\n",
    "lst3 = lst1 + lst2 # merge\n",
    "\n",
    "# empty \n",
    "lst = []\n",
    "lst = list()\n",
    "```\n",
    "#### data insert methods\n",
    "1. append -> add any data at the end of the list\n",
    "2. insert -> insert any data at any specified position\n",
    "3. extend -> extend all the data of any other list into the original list\n",
    "4. `+` operator -> merge two list and return a new list"
   ]
  },
  {
   "cell_type": "code",
   "execution_count": 26,
   "metadata": {},
   "outputs": [
    {
     "name": "stdout",
     "output_type": "stream",
     "text": [
      "['700', 2, '700', 'Pandey', '700', '700', 43, 432, 4, 32, 4, 324, 23, 432, 'Anurag']\n",
      "['700', 2, '700', 'Pandey', '700', '700', 43, 432, 4, 32, 4, 324, 23, 432, 'Anurag', 32432, 324, 32, 432, 4, 324, 32, 4, 324, 2, 43]\n"
     ]
    }
   ],
   "source": [
    "lst = [12,2,12, 12, 12,43,432,4,32,4,324,23,432]\n",
    "lst2 = [32432,324,32,432,4,324,32,4,324,2,43]\n",
    "\n",
    "lst.append(\"Anurag\") # puts data inplace\n",
    "lst.insert(3, \"Pandey\") # where to insert and then what to insert\n",
    "while 12 in lst:\n",
    "    lst[lst.index(12)] = \"700\" # replace or update \n",
    "\n",
    "# lst.extend(lst2)\n",
    "# lst = lst+lst2 # not recommended to extend\n",
    "# but it you want a new list then this method may work\n",
    "# for merging\n",
    "lst3 = lst + lst2\n",
    "\n",
    "print(lst)\n",
    "print(lst3)"
   ]
  },
  {
   "attachments": {},
   "cell_type": "markdown",
   "metadata": {},
   "source": [
    "#### fetch data from list\n",
    "```\n",
    "this can be done only by indexing\n",
    "there are two ways to do indexing\n",
    "1. positive indexing starts form 0\n",
    "2. negative indexing starts form -1\n",
    "```"
   ]
  },
  {
   "cell_type": "code",
   "execution_count": 31,
   "metadata": {},
   "outputs": [
    {
     "name": "stdout",
     "output_type": "stream",
     "text": [
      "4\n",
      "123\n"
     ]
    }
   ],
   "source": [
    "lst = [123,123,21,2,432,4,32,4,324,324,32,4]\n",
    "print(lst[len(lst)-1]) # get last element by positive indexing\n",
    "print(lst[len(lst) * (-1)]) # get first element by negative indexing"
   ]
  },
  {
   "attachments": {},
   "cell_type": "markdown",
   "metadata": {},
   "source": [
    "#### deleting data from list or entire list\n",
    "1. pop -> this deletes the last element of the list of the element at the given index\n",
    "2. remove -> this has nothing to do with index, it removes the first occurrence of the element you want to delete\n",
    "3. del keyword -> this deletes the refence of list"
   ]
  },
  {
   "cell_type": "code",
   "execution_count": 48,
   "metadata": {},
   "outputs": [
    {
     "name": "stdout",
     "output_type": "stream",
     "text": [
      "[234, 324, 34, 32, 43, 4, 34, 32, 432, 5, 45, 3, 432, 432, 44] 34\n",
      "[234, 324, 34, 32, 43, 34, 32, 432, 5, 45, 3, 432, 432, 44] 4\n",
      "2\n",
      "[234, 324, 32, 43, 32, 432, 5, 45, 3, 432, 432, 44]\n"
     ]
    },
    {
     "ename": "NameError",
     "evalue": "name 'lst' is not defined",
     "output_type": "error",
     "traceback": [
      "\u001b[1;31m---------------------------------------------------------------------------\u001b[0m",
      "\u001b[1;31mNameError\u001b[0m                                 Traceback (most recent call last)",
      "Cell \u001b[1;32mIn [48], line 17\u001b[0m\n\u001b[0;32m     15\u001b[0m \u001b[39m# del keyword\u001b[39;00m\n\u001b[0;32m     16\u001b[0m \u001b[39mdel\u001b[39;00m lst\n\u001b[1;32m---> 17\u001b[0m \u001b[39mprint\u001b[39m(lst)\n",
      "\u001b[1;31mNameError\u001b[0m: name 'lst' is not defined"
     ]
    }
   ],
   "source": [
    "lst = [234,324,34,32,43,4,34,32,432,5,45,3,432,432,44,34]\n",
    "# deletion by index\n",
    "k = lst.pop() # remove last data\n",
    "print(lst, k)\n",
    "j = lst.pop(5) # remove the data at index 5\n",
    "print(lst, j)\n",
    "\n",
    "\n",
    "# remove method to remove the first occurrence of any data\n",
    "print(lst.count(34))\n",
    "for i in range(lst.count(34)):\n",
    "    lst.remove(34)\n",
    "print(lst)\n",
    "\n",
    "# del keyword\n",
    "del lst\n",
    "print(lst)"
   ]
  },
  {
   "cell_type": "code",
   "execution_count": 77,
   "metadata": {},
   "outputs": [
    {
     "name": "stdout",
     "output_type": "stream",
     "text": [
      "[234, 324, 34, 32, 43, 4, 34, 32, 432, 5, 45, 3, 432, 432, 44, 34]\n",
      "2\n",
      "[34, 32, 43, 4, 34, 32, 432, 5, 45, 3, 432, 432, 44, 34]\n",
      "4\n",
      "[43, 4, 34, 32, 432, 5, 45, 3, 432, 432, 44, 34]\n",
      "6\n"
     ]
    }
   ],
   "source": [
    "# find the all the index of element \n",
    "lst = [234,324,34,32,43,4,34,32,432,5,45,3,432,432,44,34]\n",
    "count = lst.count(34)\n",
    "start = 0\n",
    "last = lst.index(34)\n",
    "temp = lst[start: ]\n",
    "for _ in range(count):\n",
    "    print(temp[start:])\n",
    "    start += len(lst[:lst.index(34)])\n"
   ]
  },
  {
   "cell_type": "code",
   "execution_count": 82,
   "metadata": {},
   "outputs": [
    {
     "data": {
      "text/plain": [
       "[29, 3243, 4, [0, 32, 5, 5], 34, 5, 345, 324, 32]"
      ]
     },
     "execution_count": 82,
     "metadata": {},
     "output_type": "execute_result"
    }
   ],
   "source": [
    "\n",
    "from copy import deepcopy\n",
    "lst = [29,3243,4,[324,32,5,5],34,5,345,324,32]\n",
    "lst1=deepcopy(lst)\n",
    "lst1[3][0] = 0\n"
   ]
  }
 ],
 "metadata": {
  "kernelspec": {
   "display_name": "Python 3",
   "language": "python",
   "name": "python3"
  },
  "language_info": {
   "codemirror_mode": {
    "name": "ipython",
    "version": 3
   },
   "file_extension": ".py",
   "mimetype": "text/x-python",
   "name": "python",
   "nbconvert_exporter": "python",
   "pygments_lexer": "ipython3",
   "version": "3.10.7"
  },
  "orig_nbformat": 4,
  "vscode": {
   "interpreter": {
    "hash": "4c75d34ee1fcdb015885d85ab071295bd815e7d150290c0ae76b929ae622a1c7"
   }
  }
 },
 "nbformat": 4,
 "nbformat_minor": 2
}
