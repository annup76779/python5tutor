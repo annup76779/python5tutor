{
 "cells": [
  {
   "cell_type": "code",
   "execution_count": null,
   "metadata": {},
   "outputs": [],
   "source": [
    "def foo(*args):\n",
    "    for i in args:\n",
    "        print(round((i * 100)/3) ** 0.5)\n",
    "\n",
    "lst1 = [1,2,3,4,5,6,7,8,9,10]\n",
    "\n",
    "foo(*lst1)"
   ]
  },
  {
   "cell_type": "code",
   "execution_count": 42,
   "metadata": {},
   "outputs": [
    {
     "data": {
      "text/plain": [
       "'Ravindra Kumar'"
      ]
     },
     "execution_count": 42,
     "metadata": {},
     "output_type": "execute_result"
    }
   ],
   "source": [
    "def get_full_name(**kwargs):\n",
    "    \"\"\"\n",
    "        keys -> fist_name, middle_name, last_name\n",
    "    \"\"\"\n",
    "    name = []\n",
    "    if kwargs.get(\"first_name\", \"\").strip():\n",
    "        name.append(str(kwargs.get(\"first_name\").strip()))\n",
    "\n",
    "    if kwargs.get(\"middle_name\", \"\").strip():\n",
    "        name.append(str(kwargs.get(\"middle_name\").strip()))\n",
    "\n",
    "    if kwargs.get(\"last_name\", \"\").strip():\n",
    "        name.append(str(kwargs.get(\"last_name\").strip()))\n",
    "    \n",
    "    return \" \".join(name)\n",
    "\n",
    "data = {\n",
    "    \"first_name\": \"Ravindra\",\n",
    "    \"middle_name\": \"Kumar\",\n",
    "    \"last_name\": \"\"\n",
    "}\n",
    "\n",
    "get_full_name(**data)"
   ]
  }
 ],
 "metadata": {
  "kernelspec": {
   "display_name": "Python 3",
   "language": "python",
   "name": "python3"
  },
  "language_info": {
   "codemirror_mode": {
    "name": "ipython",
    "version": 3
   },
   "file_extension": ".py",
   "mimetype": "text/x-python",
   "name": "python",
   "nbconvert_exporter": "python",
   "pygments_lexer": "ipython3",
   "version": "3.10.7 (tags/v3.10.7:6cc6b13, Sep  5 2022, 14:08:36) [MSC v.1933 64 bit (AMD64)]"
  },
  "orig_nbformat": 4,
  "vscode": {
   "interpreter": {
    "hash": "4c75d34ee1fcdb015885d85ab071295bd815e7d150290c0ae76b929ae622a1c7"
   }
  }
 },
 "nbformat": 4,
 "nbformat_minor": 2
}
