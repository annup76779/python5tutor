{
 "cells": [
  {
   "attachments": {},
   "cell_type": "markdown",
   "metadata": {},
   "source": [
    "# function \n",
    "function are used to perform a set of task, that is predefined by calling the function.\n",
    "\n",
    "```\n",
    "you needed add 2 number frequently into your code. \n",
    "you can make a function for addition of two numbers\n",
    "\n",
    "that can be called whenever you want to use perform addition.\n",
    "```\n",
    "\n",
    "## syntax of making functions in python\n",
    "```\n",
    "def - a keyword\n",
    "then - name of the function\n",
    "then - withing paranthesis () put parameters if required\n",
    "then - put : at the end of the line\n",
    "then - move to new line and put consistant space from the left side of the line(at least one space) so keep the following set of lines within the function\n",
    "NOTE: it is recommended to not put one space at the beginning of the line but to put 1 tab space from the beginning of the line.\n",
    "\n",
    "Also: - all the code that is written with a consistent amount of space will be considered as part of the function\n",
    "and when you want to exit out of the function just stop putting that consistent space\n",
    "```"
   ]
  },
  {
   "cell_type": "code",
   "execution_count": 1,
   "metadata": {},
   "outputs": [
    {
     "name": "stdout",
     "output_type": "stream",
     "text": [
      "Starting addition\n",
      "36\n"
     ]
    }
   ],
   "source": [
    "# example \n",
    "# function code for addition\n",
    "def addition(): # the block of code started\n",
    "    num1 = 23\n",
    "    num2 = 13\n",
    "    num3 = num1 + num2\n",
    "    print(num3)\n",
    "    y = 13\n",
    "\n",
    "print(\"Starting addition\")\n",
    "addition()\n",
    "\n"
   ]
  },
  {
   "attachments": {},
   "cell_type": "markdown",
   "metadata": {},
   "source": [
    "#### function to check if the number is even or odd"
   ]
  },
  {
   "cell_type": "code",
   "execution_count": 7,
   "metadata": {},
   "outputs": [
    {
     "name": "stdout",
     "output_type": "stream",
     "text": [
      "this is even? False\n"
     ]
    }
   ],
   "source": [
    "def isEven():\n",
    "    num = int(input(\"Enter the number of user: \"))\n",
    "    return num % 2 == 0\n",
    "\n",
    "print(\"this is even?\", isEven())"
   ]
  },
  {
   "cell_type": "code",
   "execution_count": 3,
   "metadata": {},
   "outputs": [
    {
     "name": "stdout",
     "output_type": "stream",
     "text": [
      "('Pandey Anurag', 8)\n"
     ]
    }
   ],
   "source": [
    "def someFunction(a, b):\n",
    "    num = 8\n",
    "    res = a + b\n",
    "    return res, num\n",
    "\n",
    "# collecting data\n",
    "var1 = input(\"Enter any value: \")\n",
    "var2 = input(\"Enter another value: \")\n",
    "\n",
    "# transfering the data to the function\n",
    "response = someFunction(var2, var1)\n",
    "print(response)"
   ]
  },
  {
   "cell_type": "markdown",
   "metadata": {},
   "source": [
    "1. print\n",
    "2. input\n",
    "3. len - get the length of any set of data.\n",
    "4. max\n",
    "5. min\n",
    "6. next\n",
    "7. sum\n",
    "8. all\n",
    "9. any\n",
    "10. ord\n",
    "11. abs\n",
    "12. str"
   ]
  },
  {
   "cell_type": "code",
   "execution_count": 41,
   "metadata": {},
   "outputs": [
    {
     "name": "stdout",
     "output_type": "stream",
     "text": [
      "10000\n",
      "10000\n"
     ]
    }
   ],
   "source": [
    "num = -10000\n",
    "print(num * (-1))\n",
    "print(abs(num))"
   ]
  },
  {
   "cell_type": "code",
   "execution_count": 39,
   "metadata": {},
   "outputs": [
    {
     "name": "stdout",
     "output_type": "stream",
     "text": [
      "97\n",
      "0b1100001\n",
      "0x61\n",
      "0o141\n",
      "0x61\n",
      "0000000000000000000000000000000000000000000000000000000001110001\n"
     ]
    }
   ],
   "source": [
    "print(ord(\"a\"))  # ASCII character  - UTF-8 character\n",
    "print(bin(ord('a')))\n",
    "print(hex(ord('a')))\n",
    "print(oct(ord('a')))\n",
    "\n",
    "print((\"0\" * (64-7)) + \"1110001\")"
   ]
  },
  {
   "cell_type": "code",
   "execution_count": 27,
   "metadata": {},
   "outputs": [
    {
     "data": {
      "text/plain": [
       "False"
      ]
     },
     "execution_count": 27,
     "metadata": {},
     "output_type": "execute_result"
    }
   ],
   "source": [
    "# if you want to check if **all** the number of a list or set of data are less than 1000 or not\n",
    "lst = [21,234,324,32,42,34,23,43,32,3,22,3,2, 0,343]\n",
    "all(lst)  # all checks if all the values are True value"
   ]
  },
  {
   "cell_type": "code",
   "execution_count": 28,
   "metadata": {},
   "outputs": [
    {
     "data": {
      "text/plain": [
       "True"
      ]
     },
     "execution_count": 28,
     "metadata": {},
     "output_type": "execute_result"
    }
   ],
   "source": [
    "any(lst)  # if any of the values is True"
   ]
  },
  {
   "cell_type": "code",
   "execution_count": 17,
   "metadata": {},
   "outputs": [
    {
     "name": "stdout",
     "output_type": "stream",
     "text": [
      "126\n"
     ]
    }
   ],
   "source": [
    "res1 = sum((5, 6, 7, 8, 9, 10, 11, 12, 13, 14, 15, 16))\n",
    "print(res1)"
   ]
  },
  {
   "cell_type": "code",
   "execution_count": 2,
   "metadata": {},
   "outputs": [
    {
     "name": "stdout",
     "output_type": "stream",
     "text": [
      "13\n"
     ]
    }
   ],
   "source": [
    "s = \"Anurag Pandey\"\n",
    "print(len(s))"
   ]
  },
  {
   "cell_type": "code",
   "execution_count": 5,
   "metadata": {},
   "outputs": [
    {
     "name": "stdout",
     "output_type": "stream",
     "text": [
      "2332\n",
      "4\n"
     ]
    }
   ],
   "source": [
    "num1, num2 = 5, 6\n",
    "print(max(num1, num2, 51, 345, 32,4,2332))\n",
    "print(min(num1, num2, 51, 345, 32,4,2332))"
   ]
  },
  {
   "cell_type": "code",
   "execution_count": 14,
   "metadata": {},
   "outputs": [
    {
     "name": "stdout",
     "output_type": "stream",
     "text": [
      "1\n",
      "2\n",
      "3\n",
      "4\n",
      "5\n",
      "\n",
      "1\n",
      "2\n",
      "3\n",
      "4\n",
      "5\n"
     ]
    }
   ],
   "source": [
    "lst = [1,2,3,4,5]\n",
    "lst_iter = lst.__iter__()\n",
    "print(next(lst_iter))\n",
    "print(next(lst_iter))\n",
    "print(next(lst_iter))\n",
    "print(next(lst_iter))\n",
    "print(next(lst_iter))\n",
    "\n",
    "print()\n",
    "\n",
    "for i in lst:\n",
    "    print(i)"
   ]
  },
  {
   "cell_type": "code",
   "execution_count": 1,
   "metadata": {},
   "outputs": [
    {
     "data": {
      "text/plain": [
       "9"
      ]
     },
     "execution_count": 1,
     "metadata": {},
     "output_type": "execute_result"
    }
   ],
   "source": [
    "## a program where if any number is given, we need to sum up all the digits of the number till that number is only of one digit\n",
    "## example: 99 -> 18 -> 9\n",
    "\n",
    "def sum_up_digits(number, sum_=0):\n",
    "    \"\"\"\n",
    "    Sum up all the digits of the number.\n",
    "    RETURN: number: int\n",
    "    \"\"\"\n",
    "    sum_ += number % 10\n",
    "    if number // 10 == 0: # 9 -> 9 // 10 -> 0\n",
    "        return sum_\n",
    "    return sum_up_digits(number // 10, sum_)\n",
    "\n",
    "\n",
    "def reduce_number_unit_digit(number):\n",
    "    # sum up all the digits\n",
    "    number = sum_up_digits(number)\n",
    "    # then it will check if the number is not of one digit, repeat the same process\n",
    "    if number // 10 != 0:\n",
    "        # means that the number has at least 2 digits in it.\n",
    "        number = reduce_number_unit_digit(number)\n",
    "    \n",
    "    # once the number is of one digit, stop and return the number\n",
    "    return number\n",
    "\n",
    "\n",
    "reduce_number_unit_digit(99)"
   ]
  }
 ],
 "metadata": {
  "kernelspec": {
   "display_name": "Python 3",
   "language": "python",
   "name": "python3"
  },
  "language_info": {
   "codemirror_mode": {
    "name": "ipython",
    "version": 3
   },
   "file_extension": ".py",
   "mimetype": "text/x-python",
   "name": "python",
   "nbconvert_exporter": "python",
   "pygments_lexer": "ipython3",
   "version": "3.10.7"
  },
  "orig_nbformat": 4
 },
 "nbformat": 4,
 "nbformat_minor": 2
}
