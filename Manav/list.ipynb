{
 "cells": [
  {
   "cell_type": "markdown",
   "metadata": {},
   "source": [
    "# lists \n",
    "- lists are used to store the collection of data of anytype at one place\n",
    "- a list can hold in itself anytype of data\n",
    "- list have no defined size\n",
    "- they can be of any size, it just depends on the amount of memory your computer has at the point of time.\n",
    "- list is dynamic, i.e. you can add or remove any item of the list at runtime.\n",
    "- list can be created empty as well as with some default. \n",
    "\n",
    "## Below are some properties of list - \n",
    "- **Ordered Collection**: Lists maintain the order of elements based on their insertion. The first element in the list has an index of 0, the second element has an index of 1, and so on.\n",
    "\n",
    "- **Mutable:** You can modify the elements of a list after its creation. You can change, add, or remove elements using various methods.\n",
    "\n",
    "- **Heterogeneous Elements:** A list can contain elements of different data types, such as integers, strings, floats, other lists, dictionaries, etc.\n",
    "\n",
    "- **Dynamic Size:** Lists can grow or shrink in size dynamically. You don't need to specify the size beforehand.\n",
    "\n",
    "- **Square Brackets:** Lists are defined using square brackets [ ].\n",
    "\n",
    "- **Accessing Elements:** You can access elements in a list using their index. For example, my_list[0] will access the first element.\n",
    "\n",
    "- **Slicing:** Lists support slicing, allowing you to access a portion of the list using the colon (:) operator.\n",
    "\n",
    "- **Common Methods:** Lists have several built-in methods like append(), insert(), extend(), remove(), pop(), index(), count(), sort(), reverse(), etc."
   ]
  },
  {
   "cell_type": "code",
   "execution_count": 4,
   "metadata": {},
   "outputs": [
    {
     "name": "stdout",
     "output_type": "stream",
     "text": [
      "76\n"
     ]
    }
   ],
   "source": [
    "lst = [1, 98, 76, 54, 90, 120, 130, 120, 45, 45]\n",
    "    #  0   1  2    3   4   5    6    7    8  9\n",
    "    #-10  -9  -8  -7  -6  -5   -4   -3   -2  -1\n",
    "print(lst[2])"
   ]
  },
  {
   "cell_type": "code",
   "execution_count": 6,
   "metadata": {},
   "outputs": [
    {
     "data": {
      "text/plain": [
       "5"
      ]
     },
     "execution_count": 6,
     "metadata": {},
     "output_type": "execute_result"
    }
   ],
   "source": [
    "record = [\"Anurag\", 12, False, True, True, [\"Manav\", \"Sayan\", \"...\"]]\n",
    "\n",
    "matrix = [[1, 2, 3], [4, 5, 6], [7, 8, 9]]\n",
    "\n",
    "matrix[1][1]"
   ]
  },
  {
   "cell_type": "code",
   "execution_count": 1,
   "metadata": {},
   "outputs": [],
   "source": [
    "list_name = []\n",
    "n = int(input(\"enter the number of names you have to enter: \"))\n",
    "for i in range(n): \n",
    "    new_name = input(f\"Enter the name {i}: \")\n",
    "    list_name.append(new_name)"
   ]
  },
  {
   "cell_type": "code",
   "execution_count": 2,
   "metadata": {},
   "outputs": [
    {
     "name": "stdout",
     "output_type": "stream",
     "text": [
      "Hello, good morning Jhon!\n",
      "Hello, good morning Sayan!\n",
      "Hello, good morning Anurag!\n",
      "Hello, good morning Shashank!\n",
      "Hello, good morning Manav!\n"
     ]
    }
   ],
   "source": [
    "greetingMessage = \"Hello, good morning %s!\"\n",
    "\n",
    "for names in list_name:\n",
    "    print(greetingMessage % names)\n"
   ]
  },
  {
   "cell_type": "code",
   "execution_count": 3,
   "metadata": {},
   "outputs": [
    {
     "name": "stdout",
     "output_type": "stream",
     "text": [
      "['Manav', 'Viral', 'Ayushi', 'shashank', 'Abhinav']\n"
     ]
    }
   ],
   "source": [
    "print(list_name)\n",
    "\n",
    "name = input(\"Enter the name: \")\n",
    "position = int(input(\"Enter the position of the new name in list: \"))\n",
    "list_name.insert(position- 1, name)"
   ]
  },
  {
   "cell_type": "code",
   "execution_count": 6,
   "metadata": {},
   "outputs": [
    {
     "name": "stdout",
     "output_type": "stream",
     "text": [
      "['Manav', 'Viral', 'Ayushi', 'Anurag', 'shashank']\n",
      "shashank\n",
      "['Manav', 'Viral', 'Ayushi', 'Anurag']\n"
     ]
    }
   ],
   "source": [
    "print(list_name)\n",
    "\n",
    "# remove the last element from the list\n",
    "popped_element = list_name.pop()\n",
    "print(popped_element)\n",
    "print(list_name)"
   ]
  },
  {
   "cell_type": "code",
   "execution_count": 7,
   "metadata": {},
   "outputs": [
    {
     "name": "stdout",
     "output_type": "stream",
     "text": [
      "Viral\n",
      "['Manav', 'Ayushi', 'Anurag']\n"
     ]
    }
   ],
   "source": [
    "# removing the element based on index\n",
    "\n",
    "new_popped = list_name.pop(1)\n",
    "print(new_popped)\n",
    "print(list_name)"
   ]
  },
  {
   "cell_type": "code",
   "execution_count": 6,
   "metadata": {},
   "outputs": [
    {
     "name": "stdout",
     "output_type": "stream",
     "text": [
      "[1, 2, 3, 4, 4, 5, 6, 7, 7, 8, 9, 9]\n",
      "[1, 2, 3, 4, 4, 5, 6, 7, 7, 8]\n"
     ]
    }
   ],
   "source": [
    "lst = [1 , 2 ,3 ,4,4,5,6,7,7,8,9,9]\n",
    "print(lst)\n",
    "count = lst.count(9)\n",
    "for _ in range(count):\n",
    "    lst.remove(9)\n",
    "print(lst)\n"
   ]
  },
  {
   "cell_type": "code",
   "execution_count": 7,
   "metadata": {},
   "outputs": [
    {
     "name": "stdout",
     "output_type": "stream",
     "text": [
      "[0, 2, 6, 12, 20, 30, 42, 56]\n"
     ]
    }
   ],
   "source": [
    "def foo(lst):\n",
    "    for i in range(len(lst)):\n",
    "        lst[i] = lst[i] * i\n",
    "\n",
    "lst = [1,2,3,4,5,6,7,8]\n",
    "foo(lst)\n",
    "print(lst)"
   ]
  },
  {
   "cell_type": "code",
   "execution_count": 11,
   "metadata": {},
   "outputs": [
    {
     "name": "stdout",
     "output_type": "stream",
     "text": [
      "[1, 2, 3, 4, 5, [234, 32, 432, 4, 324, 32, 432, 4], 6, 7, 8]\n",
      "[1, 2, 3, 4, 5, [0, 160, 4320, 60, 6480, 800, 12960, 140], 6, 7, 8]\n",
      "[0, 2, 6, 12, 20, [0, 160, 4320, 60, 6480, 800, 12960, 140], 36, 49, 64]\n"
     ]
    }
   ],
   "source": [
    "def foo(lst):\n",
    "    for i in range(len(lst)):\n",
    "        if isinstance(lst[i], int):\n",
    "            lst[i] = lst[i] * i\n",
    "        elif isinstance(lst[i], list):\n",
    "            for j in range(len(lst[i])):\n",
    "                lst[i][j] = lst[i][j] * (i * j)\n",
    "    return lst\n",
    "\n",
    "lst = [1,2,3,4,5, [234,32,432,4,324,32,432,4],6,7,8]\n",
    "print(lst)\n",
    "clst = foo(lst.copy())\n",
    "print(lst)\n",
    "print(clst)"
   ]
  },
  {
   "cell_type": "code",
   "execution_count": 12,
   "metadata": {},
   "outputs": [
    {
     "name": "stdout",
     "output_type": "stream",
     "text": [
      "[1, 2, 3, 4, 5, [234, 32, 432, 4, 324, 32, 432, 4], 6, 7, 8]\n",
      "[1, 2, 3, 4, 5, [234, 32, 432, 4, 324, 32, 432, 4], 6, 7, 8]\n",
      "[0, 2, 6, 12, 20, [0, 160, 4320, 60, 6480, 800, 12960, 140], 36, 49, 64]\n"
     ]
    }
   ],
   "source": [
    "from copy import deepcopy\n",
    "\n",
    "def foo(lst):\n",
    "    for i in range(len(lst)):\n",
    "        if isinstance(lst[i], int):\n",
    "            lst[i] = lst[i] * i\n",
    "        elif isinstance(lst[i], list):\n",
    "            for j in range(len(lst[i])):\n",
    "                lst[i][j] = lst[i][j] * (i * j)\n",
    "    return lst\n",
    "\n",
    "lst = [1,2,3,4,5, [234,32,432,4,324,32,432,4],6,7,8]\n",
    "print(lst)\n",
    "clst = foo(deepcopy(lst))\n",
    "print(lst)\n",
    "print(clst)"
   ]
  },
  {
   "cell_type": "markdown",
   "metadata": {},
   "source": [
    "## tech Slicing in list"
   ]
  },
  {
   "cell_type": "code",
   "execution_count": 13,
   "metadata": {},
   "outputs": [
    {
     "data": {
      "text/plain": [
       "[345, 34, 6, 346]"
      ]
     },
     "execution_count": 13,
     "metadata": {},
     "output_type": "execute_result"
    }
   ],
   "source": [
    "lst = [1,2,3,4,3345,345,34,6,346,54,645,6,54,645,4]\n",
    "lst[5:9]"
   ]
  }
 ],
 "metadata": {
  "kernelspec": {
   "display_name": "Python 3",
   "language": "python",
   "name": "python3"
  },
  "language_info": {
   "codemirror_mode": {
    "name": "ipython",
    "version": 3
   },
   "file_extension": ".py",
   "mimetype": "text/x-python",
   "name": "python",
   "nbconvert_exporter": "python",
   "pygments_lexer": "ipython3",
   "version": "3.10.7"
  },
  "orig_nbformat": 4
 },
 "nbformat": 4,
 "nbformat_minor": 2
}
