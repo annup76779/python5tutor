{
 "cells": [
  {
   "cell_type": "markdown",
   "metadata": {},
   "source": [
    "# lists \n",
    "- lists are used to store the collection of data of anytype at one place\n",
    "- a list can hold in itself anytype of data\n",
    "- list have no defined size\n",
    "- they can be of any size, it just depends on the amount of memory your computer has at the point of time.\n",
    "- list is dynamic, i.e. you can add or remove any item of the list at runtime.\n",
    "- list can be created empty as well as with some default. \n",
    "\n",
    "## Below are some properties of list - \n",
    "- **Ordered Collection**: Lists maintain the order of elements based on their insertion. The first element in the list has an index of 0, the second element has an index of 1, and so on.\n",
    "\n",
    "- **Mutable:** You can modify the elements of a list after its creation. You can change, add, or remove elements using various methods.\n",
    "\n",
    "- **Heterogeneous Elements:** A list can contain elements of different data types, such as integers, strings, floats, other lists, dictionaries, etc.\n",
    "\n",
    "- **Dynamic Size:** Lists can grow or shrink in size dynamically. You don't need to specify the size beforehand.\n",
    "\n",
    "- **Square Brackets:** Lists are defined using square brackets [ ].\n",
    "\n",
    "- **Accessing Elements:** You can access elements in a list using their index. For example, my_list[0] will access the first element.\n",
    "\n",
    "- **Slicing:** Lists support slicing, allowing you to access a portion of the list using the colon (:) operator.\n",
    "\n",
    "- **Common Methods:** Lists have several built-in methods like append(), insert(), extend(), remove(), pop(), index(), count(), sort(), reverse(), etc."
   ]
  },
  {
   "cell_type": "code",
   "execution_count": 4,
   "metadata": {},
   "outputs": [
    {
     "name": "stdout",
     "output_type": "stream",
     "text": [
      "76\n"
     ]
    }
   ],
   "source": [
    "lst = [1, 98, 76, 54, 90, 120, 130, 120, 45, 45]\n",
    "    #  0   1  2    3   4   5    6    7    8  9\n",
    "    #-10  -9  -8  -7  -6  -5   -4   -3   -2  -1\n",
    "print(lst[2])"
   ]
  },
  {
   "cell_type": "code",
   "execution_count": 6,
   "metadata": {},
   "outputs": [
    {
     "data": {
      "text/plain": [
       "5"
      ]
     },
     "execution_count": 6,
     "metadata": {},
     "output_type": "execute_result"
    }
   ],
   "source": [
    "record = [\"Anurag\", 12, False, True, True, [\"Manav\", \"Sayan\", \"...\"]]\n",
    "\n",
    "matrix = [[1, 2, 3], [4, 5, 6], [7, 8, 9]]\n",
    "\n",
    "matrix[1][1]"
   ]
  }
 ],
 "metadata": {
  "kernelspec": {
   "display_name": "Python 3",
   "language": "python",
   "name": "python3"
  },
  "language_info": {
   "codemirror_mode": {
    "name": "ipython",
    "version": 3
   },
   "file_extension": ".py",
   "mimetype": "text/x-python",
   "name": "python",
   "nbconvert_exporter": "python",
   "pygments_lexer": "ipython3",
   "version": "3.10.7"
  },
  "orig_nbformat": 4
 },
 "nbformat": 4,
 "nbformat_minor": 2
}
