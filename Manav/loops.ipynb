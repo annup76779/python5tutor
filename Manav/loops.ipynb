{
 "cells": [
  {
   "cell_type": "markdown",
   "metadata": {},
   "source": [
    "# loops in python\n",
    "1. `while loop`\n",
    "2. `for loop`\n",
    "\n",
    "`while loop` - it is used when there is no definite end of the looping situation\n",
    "`for loop` - it is used when we know exactly after how many interation the loop will end.\n",
    "\n",
    "what is iteration?\n",
    "--\n",
    "iteration is nothing but the a unit task that is going to be performed in the loop\n",
    "\n",
    "-- set of iteration is collectively called loop."
   ]
  },
  {
   "cell_type": "markdown",
   "metadata": {},
   "source": [
    "`example of for loop` - \n",
    "Suppose you have a list of names, and you want to check if there is any name that is `Manav`\n",
    "\n",
    "\n",
    "`example of while loop` - \n",
    "if you want to write a program where the some set of task will keep of executing till the user press `ctrl+c`"
   ]
  },
  {
   "cell_type": "markdown",
   "metadata": {},
   "source": [
    "## for loops\n",
    "1. on range - specified number of iteration\n",
    "2. some data\n",
    "\n",
    "## while loop\n",
    "1. condtions - exactly like `if` statement works"
   ]
  },
  {
   "cell_type": "code",
   "execution_count": null,
   "metadata": {},
   "outputs": [],
   "source": [
    "for var in range(0, 12, 1):  # 0, 1, 2, 3, 4, 5, 6, 7, 8, 9, 10, 11,\n",
    "    print(var)\n",
    "    print(var)\n",
    "    print(var)\n",
    "    print()\n",
    "\n",
    "# there are 12 iterations"
   ]
  },
  {
   "cell_type": "code",
   "execution_count": 14,
   "metadata": {},
   "outputs": [
    {
     "name": "stdout",
     "output_type": "stream",
     "text": [
      "-275264606114823679801052037785492781962370429385126144787167211167753726318359375\n"
     ]
    }
   ],
   "source": [
    "# sum - up all the numbers from 0 to 100\n",
    "\n",
    "multiply = 1\n",
    "for i in range(-1, -102, -2):\n",
    "    multiply *= i\n",
    "\n",
    "print(multiply)\n",
    "\n",
    "\n"
   ]
  },
  {
   "cell_type": "markdown",
   "metadata": {},
   "source": [
    "# Patter printing"
   ]
  },
  {
   "cell_type": "markdown",
   "metadata": {},
   "source": [
    "```\n",
    "*\n",
    "* *\n",
    "* * *\n",
    "* * * *\n",
    "* * * * * \n",
    "* * * * * *\n",
    "```\n",
    "\n",
    "1. take an integer value from user \n",
    "2. that value will tell exactly how many rows of pattern should be printed. \n",
    "3. then print the above pattern of stars on the screen. "
   ]
  },
  {
   "cell_type": "code",
   "execution_count": 1,
   "metadata": {},
   "outputs": [
    {
     "name": "stdout",
     "output_type": "stream",
     "text": [
      "* \n",
      "* * \n",
      "* * * \n",
      "* * * * \n",
      "* * * * * \n",
      "* * * * * * \n"
     ]
    }
   ],
   "source": [
    "n = int(input(\"Enter the number of rows: \")) # 6\n",
    "# 1, 2, 3, 4, 5, 6\n",
    "for row in range(1, n+1, 1): # creating a new row\n",
    "    # the inner loop will be used for printing stars in the newly created row\n",
    "    for star in range(0, row):\n",
    "        print(\"*\", end=\" \")\n",
    "    # once printing of stars in the inner loop is done, we print an empty print() to create a new row\n",
    "    # creating a new row\n",
    "    print()\n",
    "\n"
   ]
  },
  {
   "cell_type": "markdown",
   "metadata": {},
   "source": [
    "```\n",
    "          *\n",
    "        * *\n",
    "      * * *\n",
    "    * * * *\n",
    "  * * * * * \n",
    "* * * * * *\n",
    "```\n",
    "\n",
    "1. take an integer value from user \n",
    "2. that value will tell exactly how many rows of pattern should be printed. \n",
    "3. then print the above pattern of stars on the screen. "
   ]
  },
  {
   "cell_type": "markdown",
   "metadata": {},
   "source": [
    "iterables - > any thing which have any kind of pre defined relationship between data components of the whole data set/structure. and can be accessed sequentially, is called iterables. \n",
    "\n",
    "for loop words on three type of data\n",
    "1. iterables\n",
    "2. iterators\n",
    "3. generators"
   ]
  },
  {
   "cell_type": "code",
   "execution_count": 3,
   "metadata": {},
   "outputs": [
    {
     "name": "stdout",
     "output_type": "stream",
     "text": [
      "M a n a v\n"
     ]
    }
   ],
   "source": [
    "s = \"Manav\" # iterable that can be used in for loop.\n",
    "print(s[0], s[1], s[2], s[3], s[4])"
   ]
  },
  {
   "cell_type": "code",
   "execution_count": 4,
   "metadata": {},
   "outputs": [
    {
     "name": "stdout",
     "output_type": "stream",
     "text": [
      "M\n",
      "a\n",
      "n\n",
      "a\n",
      "v\n"
     ]
    }
   ],
   "source": [
    "for i in s:\n",
    "    print(i)"
   ]
  },
  {
   "cell_type": "markdown",
   "metadata": {},
   "source": [
    "write a program to make a new string by reversing the original string and print the original string and the reversed string side by side. \n",
    "then extent this program to take 5 user inputs from user and then print the original input and then the reversed string by the side of original string."
   ]
  },
  {
   "cell_type": "code",
   "execution_count": 7,
   "metadata": {},
   "outputs": [
    {
     "name": "stdout",
     "output_type": "stream",
     "text": [
      "Anurag garunA\n",
      "Manav vanaM\n",
      "Shubahngi ignhabuhS\n",
      "Ram maR\n",
      "Ayushi ihsuyA\n"
     ]
    }
   ],
   "source": [
    "def reverse_string(s):\n",
    "    new_s = \"\"\n",
    "    for i in s:  # 6\n",
    "        new_s = i + new_s\n",
    "\n",
    "    return new_s\n",
    "\n",
    "def main():\n",
    "    for i in range(5):\n",
    "        s = input(\"enter original string: \")\n",
    "        rev_s = reverse_string(s)\n",
    "\n",
    "        print(s, rev_s)\n",
    "\n",
    "main()"
   ]
  },
  {
   "cell_type": "code",
   "execution_count": 8,
   "metadata": {},
   "outputs": [
    {
     "data": {
      "text/plain": [
       "688.0"
      ]
     },
     "execution_count": 8,
     "metadata": {},
     "output_type": "execute_result"
    }
   ],
   "source": [
    "s= \"Anurag\"\n",
    "s2 = 'a'"
   ]
  },
  {
   "cell_type": "markdown",
   "metadata": {},
   "source": [
    "## Looping on list using for loop"
   ]
  },
  {
   "cell_type": "code",
   "execution_count": 1,
   "metadata": {},
   "outputs": [
    {
     "name": "stdout",
     "output_type": "stream",
     "text": [
      "[115, 2160, 2160, 20, 1625, 170, 25, 2175, 1720, 115, 20, 115]\n"
     ]
    }
   ],
   "source": [
    "# traditional way\n",
    "# using ranges or say working with indexes\n",
    "\n",
    "lst = [23,432,432,4,325,34,5,435,344,23,4,23]\n",
    "# i want to update the original list by multiplying 5 to each element of the list\n",
    "\n",
    "for i in range(len(lst)):\n",
    "    lst[i] = lst[i] * 5\n",
    "\n",
    "print(lst)\n"
   ]
  },
  {
   "cell_type": "code",
   "execution_count": 2,
   "metadata": {},
   "outputs": [
    {
     "name": "stdout",
     "output_type": "stream",
     "text": [
      "115\n",
      "2160\n",
      "2160\n",
      "20\n",
      "1625\n",
      "170\n",
      "25\n",
      "2175\n",
      "1720\n",
      "115\n",
      "20\n",
      "115\n"
     ]
    }
   ],
   "source": [
    "lst = [23,432,432,4,325,34,5,435,344,23,4,23]\n",
    "\n",
    "for val in lst:\n",
    "    print(val * 5)"
   ]
  },
  {
   "cell_type": "code",
   "execution_count": 3,
   "metadata": {},
   "outputs": [
    {
     "data": {
      "text/plain": [
       "[23, 432, 432, 4, 325, 34, 5, 435, 344, 23, 4, 23]"
      ]
     },
     "execution_count": 3,
     "metadata": {},
     "output_type": "execute_result"
    }
   ],
   "source": [
    "lst"
   ]
  },
  {
   "cell_type": "code",
   "execution_count": null,
   "metadata": {},
   "outputs": [],
   "source": [
    "lst = [\n",
    "    [1, 2, 3, 4, 5],\n",
    "    [2, 3, 4, 5, 6], \n",
    "    [3, 4, 5, 6, 7], \n",
    "    [4, 5, 6, 7, 8],\n",
    "    [5, 6, 7, 8, 9],\n",
    "]\n",
    "\n"
   ]
  },
  {
   "cell_type": "code",
   "execution_count": 1,
   "metadata": {},
   "outputs": [
    {
     "data": {
      "text/plain": [
       "[5, 6, 91, 10, 11, 12]"
      ]
     },
     "execution_count": 1,
     "metadata": {},
     "output_type": "execute_result"
    }
   ],
   "source": [
    "lst = [-5, -6, 91, 10, -11, -12]\n",
    "\n",
    "for i in range(len(lst)):\n",
    "    lst[i] = abs(lst[i])  # abs is used to get the abosolute value of the interger value.\n",
    "\n",
    "lst\n"
   ]
  },
  {
   "cell_type": "code",
   "execution_count": 14,
   "metadata": {},
   "outputs": [],
   "source": []
  },
  {
   "cell_type": "code",
   "execution_count": 15,
   "metadata": {},
   "outputs": [],
   "source": [
    "print(\"\\n\".join(k), file=open(\"output.txt\", \"w\"), flush=True)"
   ]
  },
  {
   "cell_type": "code",
   "execution_count": null,
   "metadata": {},
   "outputs": [],
   "source": [
    "lst = [\"anurag\", \"shashank\", \"Ayushi\", \"abhinav\"]\n",
    "\n",
    "\n",
    "for i in lst: #  0 -> \"anurag\" , 1 -> \"shashank, 2 -> Ayushi, 3 -> abhinav\n",
    "    print(i, lst)\n",
    "    lst.remove(i)\n",
    "\n",
    "lst"
   ]
  },
  {
   "cell_type": "code",
   "execution_count": 6,
   "metadata": {},
   "outputs": [
    {
     "data": {
      "text/plain": [
       "[423,\n",
       " 23423,\n",
       " 4,\n",
       " 32432,\n",
       " 32,\n",
       " 4,\n",
       " 32432,\n",
       " 324,\n",
       " 324,\n",
       " 4324,\n",
       " 23432,\n",
       " 324234,\n",
       " 324,\n",
       " 234,\n",
       " 5,\n",
       " 423,\n",
       " 32,\n",
       " 325342,\n",
       " 234,\n",
       " 4,\n",
       " 432]"
      ]
     },
     "execution_count": 6,
     "metadata": {},
     "output_type": "execute_result"
    }
   ],
   "source": [
    "lst = [32,432,432,4,234,325342,32,423,5,234,324,324234,23432,4324,324,324,32432,4,32,32432,4,23423,423,423,2]\n",
    "\n",
    "lst[-3: (len(lst) - 1) * (-1) : -1]"
   ]
  },
  {
   "cell_type": "code",
   "execution_count": 1,
   "metadata": {},
   "outputs": [
    {
     "name": "stdout",
     "output_type": "stream",
     "text": [
      "[432, 423, 42, 34, 232, 34, 2, 42, 3, 324423, 2, 423, 42, 4, 34, 324, 32, 4, 32, 42]\n",
      "[432, 423, 42, 34, 232, 34, 2, 42, 3, 324423, 2, 423, 42, 4, 34, 324, 32, 4, 32, 42]\n"
     ]
    }
   ],
   "source": [
    "lst1=[432,423,42,34,232,34,2,42,3]\n",
    "lst2 = [324423,2,423,42,4,34,324,32,4,32,42]\n",
    "lst = lst1 + lst2  # create new list \n",
    "\n",
    "# what if you want to merge and get the final result in any one of the list\n",
    "# you want to append all the data of list2 into list1\n",
    "\n",
    "lst1.extend(lst2)\n",
    "print(lst)\n",
    "print(lst1)"
   ]
  },
  {
   "cell_type": "code",
   "execution_count": 4,
   "metadata": {},
   "outputs": [
    {
     "name": "stdout",
     "output_type": "stream",
     "text": [
      "['Anruag', 'Manav', 'Fahran', 'Shashank', 'Ayushi', 'Shoeb']\n"
     ]
    }
   ],
   "source": [
    "# unlike append we can use insert method of list to add data at any specific position/index\n",
    "\n",
    "lst = [\"Anruag\", \"Manav\", \"Fahran\", \"Ayushi\", \"Shoeb\"]\n",
    "\n",
    "# lst.append(\"Shashank\")  # X\n",
    "\n",
    "lst.insert(-2, \"Shashank\")\n",
    "print(lst)"
   ]
  },
  {
   "cell_type": "code",
   "execution_count": 6,
   "metadata": {},
   "outputs": [
    {
     "name": "stdout",
     "output_type": "stream",
     "text": [
      "Shoeb\n",
      "['Anruag', 'Manav', 'Fahran', 'Ayushi']\n",
      "Fahran\n",
      "['Anruag', 'Manav', 'Ayushi']\n"
     ]
    }
   ],
   "source": [
    "# pop method takes optional argument name index \n",
    "# if the index is provided then data from the list at that index is removed and the pop method returns that data to be saved for later use\n",
    "# but if no index is provided then the last data from the list is deleted\n",
    "\n",
    "lst = [\"Anruag\", \"Manav\", \"Fahran\", \"Ayushi\", \"Shoeb\"]\n",
    "\n",
    "# no index provided\n",
    "data_deleted = lst.pop()\n",
    "print(data_deleted)\n",
    "print(lst)\n",
    "\n",
    "\n",
    "# when the index is provided\n",
    "new_data_deleted = lst.pop(2)\n",
    "print(new_data_deleted) \n",
    "print(lst)\n"
   ]
  },
  {
   "cell_type": "code",
   "execution_count": null,
   "metadata": {},
   "outputs": [],
   "source": [
    "# your task is empty this list using pop and any loop of your choice\n",
    "lst = [\"Anruag\", \"Manav\", \"Fahran\", \"Ayushi\", \"Shoeb\"]\n",
    "\n",
    "# write your loop logic here\n",
    "\n",
    "print(lst)  # []"
   ]
  },
  {
   "cell_type": "code",
   "execution_count": 8,
   "metadata": {},
   "outputs": [
    {
     "name": "stdout",
     "output_type": "stream",
     "text": [
      "['Anruag', 'Fahran', 'Manav', 'Ayushi', 'Shoeb']\n"
     ]
    }
   ],
   "source": [
    "# other method of deleting data from the list\n",
    "# the method is `remove` that works on the data and not on the index\n",
    "# unlike pop method remove method searches for the data and then deleted it from the list\n",
    "\n",
    "lst = [\"Anruag\", \"Manav\", \"Fahran\", \"Manav\", \"Ayushi\", \"Shoeb\"]\n",
    "\n",
    "lst.remove(\"Manav\")\n",
    "print(lst)\n",
    "\n",
    "\n",
    "# your task is to find a way so that you can delete all occurences of `Manav` from the list"
   ]
  },
  {
   "cell_type": "code",
   "execution_count": 13,
   "metadata": {},
   "outputs": [
    {
     "name": "stdout",
     "output_type": "stream",
     "text": [
      "409\n",
      "409\n",
      "409\n"
     ]
    }
   ],
   "source": [
    "# I have list of numbers in string format and then I want to get the sum of all the numbers\n",
    "\n",
    "lst = [\"1\", \"34\", \"324\", \"32\", \"9\", \"9\"]\n",
    "\n",
    "sum_ = 0\n",
    "for i in lst:\n",
    "    sum_ += int(i)\n",
    "\n",
    "print(sum_)\n",
    "\n",
    "# other solution by list comprehension\n",
    "sum_ = sum([int(i) for i in lst])\n",
    "print(sum_)\n",
    "\n",
    "\n",
    "# other solution by map\n",
    "sum_ = sum(map(int, lst))  # fastest way- as fast as C code\n",
    "print(sum_)\n",
    "\n"
   ]
  },
  {
   "cell_type": "code",
   "execution_count": 15,
   "metadata": {},
   "outputs": [
    {
     "name": "stdout",
     "output_type": "stream",
     "text": [
      "[23, 235, 23, 35, 345, 63, 5]\n"
     ]
    }
   ],
   "source": [
    "lst = [234,32,432,34,23,4,235,34654546,34,534,542,34,23,42,35,345,34,63,5,234,2]\n",
    "\n",
    "def is_odd(x):\n",
    "    return x % 2 != 0  # if the number is odd it will return True\n",
    "\n",
    "odd_list = list(filter(is_odd, lst))\n",
    "print(odd_list)\n",
    "\n",
    "\n",
    "# explain much about iterators"
   ]
  },
  {
   "cell_type": "code",
   "execution_count": 21,
   "metadata": {},
   "outputs": [
    {
     "data": {
      "text/plain": [
       "[[1879, 777, 208, 1054, 1185],\n",
       " [758, 298, 23, 404, 635],\n",
       " [1559, 1615, 1139, 1056, 339],\n",
       " [969, 188, 1240, 382, 285],\n",
       " [1042, 513, 1971, 904, 1750]]"
      ]
     },
     "execution_count": 21,
     "metadata": {},
     "output_type": "execute_result"
    }
   ],
   "source": [
    "import random\n",
    "\n",
    "def get_2d_list():\n",
    "    lst = [[random.randint(0, 1999) for x in range(5)] for x in range(5)]\n",
    "    return lst\n",
    "\n",
    "lst = get_2d_list()\n",
    "lst\n",
    "\n"
   ]
  },
  {
   "cell_type": "code",
   "execution_count": 56,
   "metadata": {},
   "outputs": [
    {
     "data": {
      "text/plain": [
       "[[1879, 777, 208, 1054, 1185],\n",
       " [758, 298, 30, 404, 635],\n",
       " [1559, 1615, 1139, 1056, 339],\n",
       " [969, 188, 1240, 382, 285],\n",
       " [1042, 513, 1971, 904, 1750]]"
      ]
     },
     "execution_count": 56,
     "metadata": {},
     "output_type": "execute_result"
    }
   ],
   "source": [
    "lst[1][2] = random.randint(0,100)  # (1, 2)\n",
    "lst"
   ]
  },
  {
   "cell_type": "code",
   "execution_count": 18,
   "metadata": {},
   "outputs": [
    {
     "name": "stdout",
     "output_type": "stream",
     "text": [
      "4998168608\n"
     ]
    }
   ],
   "source": [
    "sum_ = 0  # for sum operation, the index value for sumation is 0\n",
    "\n",
    "for current_row in lst:\n",
    "    for current_data in current_row:\n",
    "        sum_ += current_data\n",
    "\n",
    "print(sum_)"
   ]
  },
  {
   "cell_type": "code",
   "execution_count": 20,
   "metadata": {},
   "outputs": [
    {
     "data": {
      "text/plain": [
       "4998168608"
      ]
     },
     "execution_count": 20,
     "metadata": {},
     "output_type": "execute_result"
    }
   ],
   "source": [
    "sum((sum(x) for x in lst))"
   ]
  },
  {
   "cell_type": "code",
   "execution_count": 5,
   "metadata": {},
   "outputs": [
    {
     "name": "stdout",
     "output_type": "stream",
     "text": [
      "902761335549554419908804603425910058461345730307381320553255141376000\n"
     ]
    }
   ],
   "source": [
    "multi = 1\n",
    "\n",
    "for current_row in lst:\n",
    "    for current_data in current_row:\n",
    "        multi *= current_data\n",
    "\n",
    "\n",
    "print(multi)"
   ]
  }
 ],
 "metadata": {
  "kernelspec": {
   "display_name": "Python 3",
   "language": "python",
   "name": "python3"
  },
  "language_info": {
   "codemirror_mode": {
    "name": "ipython",
    "version": 3
   },
   "file_extension": ".py",
   "mimetype": "text/x-python",
   "name": "python",
   "nbconvert_exporter": "python",
   "pygments_lexer": "ipython3",
   "version": "3.10.7"
  },
  "orig_nbformat": 4
 },
 "nbformat": 4,
 "nbformat_minor": 2
}
