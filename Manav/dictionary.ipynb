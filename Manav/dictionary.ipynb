{
 "cells": [
  {
   "cell_type": "code",
   "execution_count": 35,
   "metadata": {},
   "outputs": [],
   "source": [
    "d = {\n",
    "    \"name\": \"Anurag Pandey\", \n",
    "    \"age\": 23, \n",
    "    \"gender\": \"male\", \n",
    "    \"profession\": \"SDE\", \n",
    "    \"location\": \"Delhi\"\n",
    "}"
   ]
  },
  {
   "cell_type": "code",
   "execution_count": 36,
   "metadata": {},
   "outputs": [
    {
     "name": "stdout",
     "output_type": "stream",
     "text": [
      "Anurag Pandey 23 male SDE\n",
      "Anurag Pandey 23 male SDE Delhi\n"
     ]
    }
   ],
   "source": [
    "print(d[\"name\"], d[\"age\"], d[\"gender\"], d[\"profession\"],)\n",
    "print(d.get(\"name\"), d.get(\"age\"), d.get(\"gender\"), d.get(\"profession\"), d.get(\"location\"))"
   ]
  },
  {
   "cell_type": "markdown",
   "metadata": {},
   "source": [
    "### Data Reading from dictionary"
   ]
  },
  {
   "cell_type": "code",
   "execution_count": 37,
   "metadata": {},
   "outputs": [
    {
     "name": "stdout",
     "output_type": "stream",
     "text": [
      "23\n"
     ]
    }
   ],
   "source": [
    "print(d[\"age\"])  \n",
    "# dict[key] pattern is used to fetch data from key assuming that the key is defined strictly in the dictionary.\n",
    "# there is no way to set the default value to the key when the key is not defined in the dictionary."
   ]
  },
  {
   "cell_type": "code",
   "execution_count": 38,
   "metadata": {},
   "outputs": [
    {
     "name": "stdout",
     "output_type": "stream",
     "text": [
      "No Father\n"
     ]
    }
   ],
   "source": [
    "print(d.get(\"father\", \"No Father\"))\n",
    "# dict.get(key) patter is used to retrieve data assuming that the key may not b be defined in the dictionary\n",
    "# thus, the get method of dictionary handles the error ans returns by default None."
   ]
  },
  {
   "cell_type": "markdown",
   "metadata": {},
   "source": [
    "### Adding new data in the dictionary"
   ]
  },
  {
   "cell_type": "code",
   "execution_count": 39,
   "metadata": {},
   "outputs": [
    {
     "data": {
      "text/plain": [
       "{'name': 'Anurag Pandey',\n",
       " 'age': 23,\n",
       " 'gender': 'male',\n",
       " 'profession': 'SDE',\n",
       " 'location': 'Delhi'}"
      ]
     },
     "execution_count": 39,
     "metadata": {},
     "output_type": "execute_result"
    }
   ],
   "source": [
    "d"
   ]
  },
  {
   "cell_type": "code",
   "execution_count": 40,
   "metadata": {},
   "outputs": [],
   "source": [
    "# dict[keyName] = ValueOfThatKey\n",
    "d[\"father\"] = \"Ashwani Kumary Pandey\""
   ]
  },
  {
   "cell_type": "code",
   "execution_count": 41,
   "metadata": {},
   "outputs": [
    {
     "data": {
      "text/plain": [
       "{'name': 'Anurag Pandey',\n",
       " 'age': 23,\n",
       " 'gender': 'male',\n",
       " 'profession': 'SDE',\n",
       " 'location': 'Delhi',\n",
       " 'father': 'Ashwani Kumary Pandey'}"
      ]
     },
     "execution_count": 41,
     "metadata": {},
     "output_type": "execute_result"
    }
   ],
   "source": [
    "d"
   ]
  },
  {
   "cell_type": "code",
   "execution_count": 42,
   "metadata": {},
   "outputs": [
    {
     "name": "stdout",
     "output_type": "stream",
     "text": [
      "Ashwani Kumary Pandey\n"
     ]
    }
   ],
   "source": [
    "print(d[\"father\"]) "
   ]
  },
  {
   "cell_type": "markdown",
   "metadata": {},
   "source": [
    "### Update data of the dictionary"
   ]
  },
  {
   "cell_type": "code",
   "execution_count": 43,
   "metadata": {},
   "outputs": [],
   "source": [
    "# dict[KeyName] = NewValueOfThatKey\n",
    "d[\"age\"] = 25"
   ]
  },
  {
   "cell_type": "code",
   "execution_count": 44,
   "metadata": {},
   "outputs": [
    {
     "data": {
      "text/plain": [
       "{'name': 'Anurag Pandey',\n",
       " 'age': 25,\n",
       " 'gender': 'male',\n",
       " 'profession': 'SDE',\n",
       " 'location': 'Delhi',\n",
       " 'father': 'Ashwani Kumary Pandey'}"
      ]
     },
     "execution_count": 44,
     "metadata": {},
     "output_type": "execute_result"
    }
   ],
   "source": [
    "d"
   ]
  },
  {
   "cell_type": "markdown",
   "metadata": {},
   "source": [
    "### Merging two dictionaries - Continuation of Updating dictionary"
   ]
  },
  {
   "cell_type": "code",
   "execution_count": 45,
   "metadata": {},
   "outputs": [],
   "source": [
    "d2 = {\n",
    "    \"UG\": \"B.Tech in Computer Science\", \n",
    "    \"Diploma\": \"Polytechnic in Information Technology\",\n",
    "    \"age\": 28\n",
    "}\n",
    "\n",
    "d.update(d2)"
   ]
  },
  {
   "cell_type": "code",
   "execution_count": 46,
   "metadata": {},
   "outputs": [
    {
     "data": {
      "text/plain": [
       "{'name': 'Anurag Pandey',\n",
       " 'age': 28,\n",
       " 'gender': 'male',\n",
       " 'profession': 'SDE',\n",
       " 'location': 'Delhi',\n",
       " 'father': 'Ashwani Kumary Pandey',\n",
       " 'UG': 'B.Tech in Computer Science',\n",
       " 'Diploma': 'Polytechnic in Information Technology'}"
      ]
     },
     "execution_count": 46,
     "metadata": {},
     "output_type": "execute_result"
    }
   ],
   "source": [
    "d"
   ]
  },
  {
   "cell_type": "markdown",
   "metadata": {},
   "source": [
    "#### Delete data from dictionary"
   ]
  },
  {
   "cell_type": "code",
   "execution_count": 47,
   "metadata": {},
   "outputs": [],
   "source": [
    "last_age = d.pop(\"age\")"
   ]
  },
  {
   "cell_type": "code",
   "execution_count": 48,
   "metadata": {},
   "outputs": [
    {
     "data": {
      "text/plain": [
       "28"
      ]
     },
     "execution_count": 48,
     "metadata": {},
     "output_type": "execute_result"
    }
   ],
   "source": [
    "last_age"
   ]
  },
  {
   "cell_type": "code",
   "execution_count": null,
   "metadata": {},
   "outputs": [
    {
     "data": {
      "text/plain": [
       "{'name': 'Anurag Pandey',\n",
       " 'gender': 'male',\n",
       " 'profession': 'SDE',\n",
       " 'location': 'Delhi',\n",
       " 'father': 'Ashwani Kumary Pandey',\n",
       " 'UG': 'B.Tech in Computer Science',\n",
       " 'Diploma': 'Polytechnic in Information Technology'}"
      ]
     },
     "execution_count": 23,
     "metadata": {},
     "output_type": "execute_result"
    }
   ],
   "source": [
    "d"
   ]
  },
  {
   "cell_type": "markdown",
   "metadata": {},
   "source": [
    "### Conditional operations posible"
   ]
  },
  {
   "cell_type": "code",
   "execution_count": 50,
   "metadata": {},
   "outputs": [
    {
     "name": "stdout",
     "output_type": "stream",
     "text": [
      "Father key is missing\n"
     ]
    }
   ],
   "source": [
    "if \"father\" in d.keys():\n",
    "    print(\"Father key is present\")\n",
    "else:\n",
    "    print(\"Father key is missing\")"
   ]
  },
  {
   "cell_type": "code",
   "execution_count": 52,
   "metadata": {},
   "outputs": [
    {
     "name": "stdout",
     "output_type": "stream",
     "text": [
      "SDE key is missing\n"
     ]
    }
   ],
   "source": [
    "if \"SDE\" in d.values():\n",
    "    print(\"SDE key is present\")\n",
    "else: \n",
    "    print(\"SDE key is missing\")"
   ]
  },
  {
   "cell_type": "markdown",
   "metadata": {},
   "source": [
    "### looping on Disctonary"
   ]
  },
  {
   "cell_type": "code",
   "execution_count": 60,
   "metadata": {},
   "outputs": [
    {
     "name": "stdout",
     "output_type": "stream",
     "text": [
      "name : Anurag Pandey\n",
      "gender : male\n",
      "profession : SDE\n",
      "location : Delhi\n",
      "father : Ashwani Kumary Pandey\n",
      "UG : B.Tech in Computer Science\n",
      "Diploma : Polytechnic in Information Technology\n",
      "name\n",
      "gender\n",
      "profession\n",
      "location\n",
      "father\n",
      "UG\n",
      "Diploma\n",
      "Anurag Pandey\n",
      "male\n",
      "SDE\n",
      "Delhi\n",
      "Ashwani Kumary Pandey\n",
      "B.Tech in Computer Science\n",
      "Polytechnic in Information Technology\n"
     ]
    }
   ],
   "source": [
    "for key, value in d.items():  # dict.items() returns tuple of key and value\n",
    "    print(key, \":\", value)\n",
    "\n",
    "for key in d.keys():\n",
    "    print(key)\n",
    "\n",
    "for value in d.values(): # dict.values() returns tuple of key and value\n",
    "    print(value)"
   ]
  },
  {
   "cell_type": "code",
   "execution_count": 55,
   "metadata": {},
   "outputs": [
    {
     "data": {
      "text/plain": [
       "{'name': 'Anurag Pandey',\n",
       " 'gender': 'male',\n",
       " 'profession': 'SDE',\n",
       " 'location': 'Delhi',\n",
       " 'father': 'Ashwani Kumary Pandey',\n",
       " 'UG': 'B.Tech in Computer Science',\n",
       " 'Diploma': 'Polytechnic in Information Technology'}"
      ]
     },
     "execution_count": 55,
     "metadata": {},
     "output_type": "execute_result"
    }
   ],
   "source": [
    "dict([('name', 'Anurag Pandey'), ('gender', 'male'), ('profession', 'SDE'), ('location', 'Delhi'), ('father', 'Ashwani Kumary Pandey'), ('UG', 'B.Tech in Computer Science'), ('Diploma', 'Polytechnic in Information Technology')])\n",
    "\n",
    "# MySQL, Oracle, "
   ]
  },
  {
   "cell_type": "code",
   "execution_count": 57,
   "metadata": {},
   "outputs": [
    {
     "data": {
      "text/plain": [
       "dict_items([('name', 'Anurag Pandey'), ('gender', 'male'), ('profession', 'SDE'), ('location', 'Delhi'), ('father', 'Ashwani Kumary Pandey'), ('UG', 'B.Tech in Computer Science'), ('Diploma', 'Polytechnic in Information Technology')])"
      ]
     },
     "execution_count": 57,
     "metadata": {},
     "output_type": "execute_result"
    }
   ],
   "source": [
    "d.items()"
   ]
  }
 ],
 "metadata": {
  "kernelspec": {
   "display_name": "Python 3",
   "language": "python",
   "name": "python3"
  },
  "language_info": {
   "codemirror_mode": {
    "name": "ipython",
    "version": 3
   },
   "file_extension": ".py",
   "mimetype": "text/x-python",
   "name": "python",
   "nbconvert_exporter": "python",
   "pygments_lexer": "ipython3",
   "version": "3.11.9"
  }
 },
 "nbformat": 4,
 "nbformat_minor": 2
}
