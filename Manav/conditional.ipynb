{
 "cells": [
  {
   "cell_type": "code",
   "execution_count": 2,
   "metadata": {},
   "outputs": [
    {
     "name": "stdout",
     "output_type": "stream",
     "text": [
      "140+ odd\n"
     ]
    }
   ],
   "source": [
    "def max_of_three(x, y, z):\n",
    "    if x > y:\n",
    "    "
   ]
  },
  {
   "cell_type": "markdown",
   "metadata": {},
   "source": [
    "1. Write a function called `is_positive` that takes a number as an argument and returns True if the number is positive and False otherwise.\n",
    "2. write a function called `is_even` that takes a number as an argument and returns True if the number is even and False otherwise.\n",
    "3. write a function named `max_of_three` that takes three numbers as arguments and returns the maximum number of them.\n",
    "4. Write a function called grade_converter that takes a numerical grade as an argument and returns the corresponding letter grade \n",
    "```\n",
    "90 and above: \"A\"\n",
    "80-89: \"B\"\n",
    "70-79: \"C\"\n",
    "60-69: \"D\"\n",
    "Below 60: \"F\"\n",
    "```"
   ]
  }
 ],
 "metadata": {
  "kernelspec": {
   "display_name": "Python 3",
   "language": "python",
   "name": "python3"
  },
  "language_info": {
   "codemirror_mode": {
    "name": "ipython",
    "version": 3
   },
   "file_extension": ".py",
   "mimetype": "text/x-python",
   "name": "python",
   "nbconvert_exporter": "python",
   "pygments_lexer": "ipython3",
   "version": "3.10.7"
  },
  "orig_nbformat": 4
 },
 "nbformat": 4,
 "nbformat_minor": 2
}
