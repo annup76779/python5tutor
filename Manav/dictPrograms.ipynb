{
 "cells": [
  {
   "cell_type": "markdown",
   "metadata": {},
   "source": [
    "## Student Management System\n",
    "1. The program should be able to add new students \n",
    "2. The program should be able to remove student\n",
    "3. the program should be able to update student data\n",
    "4. the program should be able to read single student data"
   ]
  },
  {
   "cell_type": "code",
   "execution_count": 1,
   "metadata": {},
   "outputs": [],
   "source": [
    "def add_new_student(db):\n",
    "    roll_number = input(\"Roll number: \")\n",
    "    name = input(\"Name: \")\n",
    "    age = input(\"Age: \")\n",
    "    subject = input(\"Subject: \")\n",
    "\n",
    "    db[roll_number] = {\n",
    "        \"name\": name, \"age\": age, \"subject\": subject\n",
    "    }\n",
    "\n",
    "\n",
    "def main():\n",
    "    # create a database[dictionary]\n",
    "    database = dict()\n",
    "\n",
    "    # add new student\n",
    "    for i in range(2):\n",
    "        add_new_student(database)\n",
    "\n",
    "    print(database)\n",
    "\n",
    "    # read all student\n",
    "\n",
    "\n",
    "    # read single student based on roll number\n",
    "\n",
    "\n",
    "    # update student data by searching using roll number\n",
    "main()"
   ]
  }
 ],
 "metadata": {
  "kernelspec": {
   "display_name": "Python 3",
   "language": "python",
   "name": "python3"
  },
  "language_info": {
   "codemirror_mode": {
    "name": "ipython",
    "version": 3
   },
   "file_extension": ".py",
   "mimetype": "text/x-python",
   "name": "python",
   "nbconvert_exporter": "python",
   "pygments_lexer": "ipython3",
   "version": "3.10.7"
  }
 },
 "nbformat": 4,
 "nbformat_minor": 2
}
