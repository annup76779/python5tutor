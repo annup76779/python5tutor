{
 "cells": [
  {
   "cell_type": "markdown",
   "metadata": {},
   "source": [
    "## Student Management System\n",
    "1. The program should be able to add new students \n",
    "2. The program should be able to remove student\n",
    "3. the program should be able to update student data\n",
    "4. the program should be able to read single student data"
   ]
  },
  {
   "cell_type": "code",
   "execution_count": 2,
   "metadata": {},
   "outputs": [
    {
     "name": "stdout",
     "output_type": "stream",
     "text": [
      "{'12': {'name': 'Anurag Pandey', 'age': '23', 'subject': 'CS'}, '13': {'name': 'Manav', 'age': '15', 'subject': 'Python'}}\n"
     ]
    }
   ],
   "source": [
    "def add_new_student(db):\n",
    "    roll_number = input(\"Roll number: \")\n",
    "    name = input(\"Name: \")\n",
    "    age = input(\"Age: \")\n",
    "    subject = input(\"Subject: \")\n",
    "\n",
    "    db[roll_number] = {\n",
    "        \"name\": name, \"age\": age, \"subject\": subject\n",
    "    }\n",
    "\n",
    "\n",
    "def main():\n",
    "    # create a database[dictionary]\n",
    "    database = dict()\n",
    "\n",
    "    # add new student\n",
    "    for i in range(2):\n",
    "        add_new_student(database)\n",
    "\n",
    "    print(database)\n",
    "\n",
    "    # read all student\n",
    "\n",
    "\n",
    "    # read single student based on roll number\n",
    "\n",
    "\n",
    "    # update student data by searching using roll number\n",
    "main()"
   ]
  },
  {
   "cell_type": "code",
   "execution_count": 24,
   "metadata": {},
   "outputs": [
    {
     "ename": "SyntaxError",
     "evalue": "unmatched ')' (244748350.py, line 26)",
     "output_type": "error",
     "traceback": [
      "\u001b[1;36m  Cell \u001b[1;32mIn [24], line 26\u001b[1;36m\u001b[0m\n\u001b[1;33m    print(data.get(\"first_name\"), data.get(\"middle_name\"), data.get(\"last_name\")))\u001b[0m\n\u001b[1;37m                                                                                 ^\u001b[0m\n\u001b[1;31mSyntaxError\u001b[0m\u001b[1;31m:\u001b[0m unmatched ')'\n"
     ]
    }
   ],
   "source": [
    "d = [\n",
    "    {\n",
    "        \"name\": {\n",
    "            \"first_name\": \"Anurag\", \n",
    "            \"last_name\": \"Pandey\",\n",
    "        }\n",
    "    }, \n",
    "    {\n",
    "        \"name\": {\n",
    "            \"first_name\": \"Ashwani\", \n",
    "            \"middle_name\": \"kumar\",\n",
    "            \"last_name\": \"Pandey\",\n",
    "        }\n",
    "    }\n",
    "]\n",
    "\n",
    "\n",
    "for name_Data in d:\n",
    "    data = name_Data[\"name\"]\n",
    "    # if \"middle_name\" in data.keys():\n",
    "    #     print(data[\"first_name\"], data[\"middle_name\"], data[\"last_name\"])\n",
    "    # else:\n",
    "    #     print(data[\"first_name\"], data[\"last_name\"])\n",
    "\n",
    "    # print(\" \".join(data.values()))  # smartest way\n",
    "    print(data.get(\"first_name\"), data.get(\"middle_name\"), data.get(\"last_name\"))\n",
    "\n",
    "print(d)"
   ]
  }
 ],
 "metadata": {
  "kernelspec": {
   "display_name": "Python 3",
   "language": "python",
   "name": "python3"
  },
  "language_info": {
   "codemirror_mode": {
    "name": "ipython",
    "version": 3
   },
   "file_extension": ".py",
   "mimetype": "text/x-python",
   "name": "python",
   "nbconvert_exporter": "python",
   "pygments_lexer": "ipython3",
   "version": "3.10.7"
  }
 },
 "nbformat": 4,
 "nbformat_minor": 2
}
