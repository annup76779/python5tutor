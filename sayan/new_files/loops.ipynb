{
 "cells": [
  {
   "cell_type": "code",
   "execution_count": 16,
   "metadata": {},
   "outputs": [
    {
     "name": "stdout",
     "output_type": "stream",
     "text": [
      "[0, 0, 2, 31, 14, 0, 3, 9, 4]\n"
     ]
    }
   ],
   "source": [
    "# multiline string or doc string\n",
    "s = \"\"\"\n",
    "In September, we experienced one incident that resulted in significant impact and degraded state of availability to multiple GitHub services. We also experienced one incident resulting in significant impact to Codespaces. We are still investigating that incident and will include it in next month’s report. This report also sheds light into an incident that impacted Codespaces in August and an incident that impacted GitHub Actions in August.\n",
    "\n",
    "September 8 19:44 UTC (lasting 5 hours and 11 minutes)\n",
    "\n",
    "On September 8, 2022 at 19:44 UTC, our monitoring detected an increase in the number of pull request merge failures. The impact was concentrated on Enterprise Managed Users (EMUs) with a small number of bot accounts also affected.\n",
    "\n",
    "Within 45 minutes, we traced the cause to a data transition that removed inconsistent data from profile records. Unfortunately, the transition incorrectly operated on EMU accounts, removing some data that is required to successfully merge pull requests via the UI and our API. CLI merges were unaffected.\n",
    "\n",
    "We restored the data from backup, but this took longer than we had anticipated. We simultaneously pursued a workaround in code, but opted not to proceed with it as it could introduce data inconsistencies. Our restore operation resolved the issue with our pull request monitors having recovered by September 9, 2022 at 00:55 UTC.\n",
    "\n",
    "Following this incident, we have made changes to our data transition procedures to allow for faster restores and transitions that can be automatically rolled back without relying on backups. We are also working on multiple improvements to our testing processes as they relate to EMUs.\n",
    "\n",
    "September 28 03:53 UTC (lasting 1 hour and 16 minutes)\n",
    "\n",
    "Our alerting systems detected an incident that impacted most Codespaces customers. Due to the recency of this incident, we are still investigating the contributing factors and will provide a more detailed update on cause and remediation in the October Availability Report, which we will publish the first Wednesday of November.\n",
    "\n",
    "Follow up to August 29 12:51 UTC (lasting 5 hours and 40 minutes)\n",
    "\n",
    "On August 29, 2022 at 12:51 UTC, our monitoring detected an increase in Codespaces create and start errors. We also started seeing DNS-related networking errors in some running Codespaces where outbound DNS resolutions were failing. At 14:19 UTC, we updated the status for Codespaces from yellow to red due to broad user impact.\n",
    "\n",
    "This incident was caused by an Ubuntu security patch in systemd that broke DNS resolution. In recent versions of Ubuntu, unattended upgrades for security fixes are enabled by default. Codespaces host VMs were using the default recommended settings to apply security patches automatically on running VMs. When this patch was published, Codespaces host VMs started installing and applying the patch after the VM was created. Once the patch was installed on a VM, DNS resolution was broken. Depending on the timing of when the patch was installed on the host VM, this led to a few different failure modes, including failure creating/starting Codespaces or failure, making outbound network calls inside of a codespace that was already\n",
    "\"\"\"\n",
    "\n",
    "word_list = [\"GIT\", \"git\", \"Git\", \"on\", \"is\", \"token\", \"security\", \"Codespaces\", \"DNS\"]\n",
    "count_lst = [0, 0, 0, 0, 0, 0, 0, 0, 0]\n",
    "\n",
    "for index, word in enumerate(word_list):\n",
    "    count_lst[index] = s.count(word)\n",
    "\n",
    "print(count_lst)    "
   ]
  },
  {
   "cell_type": "markdown",
   "metadata": {},
   "source": [
    "#### zip \n",
    "zip is used to bunlde multiple sequence of python\n",
    "\n",
    "for example:\n",
    "    ```\n",
    "    if there are two list of same size and are needed to be used in the same loop in parallel\n",
    "    then this zip come in handy as it bind both of then together and the values of the two lists can be access simultaneously.\n",
    "\n",
    "\n",
    "    lst=[1,2,3,4,5,6,7,8,9]\n",
    "    lst1  = [6,7,3,4,5,2,4,6,4]\n",
    "    ```"
   ]
  },
  {
   "cell_type": "code",
   "execution_count": null,
   "metadata": {},
   "outputs": [],
   "source": [
    "lst=[1,2,3,4,5,6,7,8,9]\n",
    "lst1  = [6,7,3,4,5,2,23434,32,324,23,4,3232,4]\n",
    "\n",
    "for i, j in zip(lst1,\"1233432433432432\"):\n",
    "    print(i * int(j))"
   ]
  },
  {
   "cell_type": "markdown",
   "metadata": {},
   "source": [
    "#### manipulation of sort method of list\n",
    "```\n",
    "suppose the list is [[\"Anurag\", 12], [\"Sayan\", 131], [\"Sudan\", 10], [\"Vishal\", 8], [\"Ayushi\", 9], [\"Shashank\", 2], [\"Abhinav\", 121]]\n",
    "you have a threshhold of 3\n",
    "```"
   ]
  },
  {
   "cell_type": "code",
   "execution_count": 2,
   "metadata": {},
   "outputs": [
    {
     "data": {
      "text/plain": [
       "[['Anurag', 12],\n",
       " ['Ayushi', 9],\n",
       " ['Sudan', 10],\n",
       " ['Abhinav', 121],\n",
       " ['Sayan', 131],\n",
       " ['Vishal', 8],\n",
       " ['Shashank', 2]]"
      ]
     },
     "execution_count": 2,
     "metadata": {},
     "output_type": "execute_result"
    }
   ],
   "source": [
    "lst = [[\"Anurag\", 12], [\"Sayan\", 131], [\"Sudan\", 10], [\"Vishal\", 8], [\"Ayushi\", 9], [\"Shashank\", 2], [\"Abhinav\", 121]]\n",
    "\n",
    "def get_index_past_theshhold(x:list):\n",
    "    return x[1] % 3\n",
    "\n",
    "lst.sort(key = get_index_past_theshhold)\n",
    "lst\n"
   ]
  },
  {
   "cell_type": "code",
   "execution_count": 10,
   "metadata": {},
   "outputs": [
    {
     "data": {
      "text/plain": [
       "[]"
      ]
     },
     "execution_count": 10,
     "metadata": {},
     "output_type": "execute_result"
    }
   ],
   "source": [
    "# list comprehension\n",
    "# it the process of making a list with the help of some repeating code being placed in for loop and can have some conditions\n",
    "lst2 = [x for x in range(2, 1000, 2) if x % 18 != 0]\n",
    "lst2"
   ]
  },
  {
   "cell_type": "code",
   "execution_count": 6,
   "metadata": {},
   "outputs": [
    {
     "data": {
      "text/plain": [
       "True"
      ]
     },
     "execution_count": 6,
     "metadata": {},
     "output_type": "execute_result"
    }
   ],
   "source": [
    "lst3 = []\n",
    "for x in range(2, 1000, 2):\n",
    "    if x % 18 == 0:\n",
    "        continue\n",
    "    lst3.append(x)\n",
    "lst3 == lst2"
   ]
  },
  {
   "cell_type": "code",
   "execution_count": 15,
   "metadata": {},
   "outputs": [
    {
     "data": {
      "text/plain": [
       "[[0, 0, 0],\n",
       " [0, 1, 1],\n",
       " [0, 2, 2],\n",
       " [1, 0, 1],\n",
       " [1, 1, 2],\n",
       " [1, 2, 3],\n",
       " [2, 0, 2],\n",
       " [2, 1, 3],\n",
       " [2, 2, 4],\n",
       " [3, 0, 3],\n",
       " [3, 1, 4],\n",
       " [3, 2, 5]]"
      ]
     },
     "execution_count": 15,
     "metadata": {},
     "output_type": "execute_result"
    }
   ],
   "source": [
    "lst = []\n",
    "for i in range(4):\n",
    "    for j in range(3):\n",
    "        lst.append([i, j, i+j])\n",
    "lst"
   ]
  },
  {
   "cell_type": "code",
   "execution_count": 16,
   "metadata": {},
   "outputs": [
    {
     "data": {
      "text/plain": [
       "[[0, 0, 0],\n",
       " [0, 1, 1],\n",
       " [0, 2, 2],\n",
       " [1, 0, 1],\n",
       " [1, 1, 2],\n",
       " [1, 2, 3],\n",
       " [2, 0, 2],\n",
       " [2, 1, 3],\n",
       " [2, 2, 4],\n",
       " [3, 0, 3],\n",
       " [3, 1, 4],\n",
       " [3, 2, 5]]"
      ]
     },
     "execution_count": 16,
     "metadata": {},
     "output_type": "execute_result"
    }
   ],
   "source": [
    "lst2 = [[i, j, i + j] for i in range(4) for j in range(3)]\n",
    "lst2"
   ]
  }
 ],
 "metadata": {
  "kernelspec": {
   "display_name": "Python 3.10.7 64-bit",
   "language": "python",
   "name": "python3"
  },
  "language_info": {
   "codemirror_mode": {
    "name": "ipython",
    "version": 3
   },
   "file_extension": ".py",
   "mimetype": "text/x-python",
   "name": "python",
   "nbconvert_exporter": "python",
   "pygments_lexer": "ipython3",
   "version": "3.10.7"
  },
  "orig_nbformat": 4,
  "vscode": {
   "interpreter": {
    "hash": "4c75d34ee1fcdb015885d85ab071295bd815e7d150290c0ae76b929ae622a1c7"
   }
  }
 },
 "nbformat": 4,
 "nbformat_minor": 2
}
