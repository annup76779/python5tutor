{
 "cells": [
  {
   "cell_type": "markdown",
   "metadata": {},
   "source": [
    "#### Recursion\n",
    "\n",
    "we call the function with in the same function till the base condition is not satisfied\n",
    "\n",
    "what is base condition \n",
    "- the base condition is the condition or situation within the same fuction when the function starts returning physical value instead of calling the funtion. "
   ]
  },
  {
   "cell_type": "code",
   "execution_count": 3,
   "metadata": {},
   "outputs": [
    {
     "data": {
      "text/plain": [
       "36"
      ]
     },
     "execution_count": 3,
     "metadata": {},
     "output_type": "execute_result"
    }
   ],
   "source": [
    "n = 12345678\n",
    "\n",
    "\n",
    "def sum_digits(x):\n",
    "    # what is the base condtion \n",
    "    # when the value of x//10 is 0 we start returning the value x\n",
    "    if x // 10 == 0:  # 1 // 10  ->  0\n",
    "        return x\n",
    "    return x % 10 + sum_digits(x // 10)\n",
    "\n",
    "\n",
    "sum_digits(n)\n"
   ]
  },
  {
   "cell_type": "markdown",
   "metadata": {},
   "source": [
    "## Getter and setters\n",
    "- getter and setter are always made to work for a single variable or list of variables\n",
    "- setter and getter are nothing but simple function with quite a bit extra manipulation.\n",
    "\n",
    "## how to create a getter\n",
    "1. there are two methods. \n",
    "   1. using property builtin function\n",
    "   2. using property decorator"
   ]
  },
  {
   "cell_type": "code",
   "execution_count": 16,
   "metadata": {},
   "outputs": [
    {
     "name": "stdout",
     "output_type": "stream",
     "text": [
      "Anurag...\n",
      "sayan...\n"
     ]
    }
   ],
   "source": [
    "class A:\n",
    "    def __init__(self):\n",
    "        self.__name = \"Anurag Pandey\"\n",
    "\n",
    "    @property\n",
    "    def name(self):  # created getter by method 2\n",
    "        return self.__name[:7].strip()+\"...\"\n",
    "\n",
    "    @name.setter\n",
    "    def name(self, value): # setter by method 2\n",
    "        self.__name = value\n",
    "\n",
    "a = A()\n",
    "print(a.name)\n",
    "a.name = \"sayan\"  # use of setter in python by method 2\n",
    "print(a.name)"
   ]
  },
  {
   "cell_type": "code",
   "execution_count": 18,
   "metadata": {},
   "outputs": [
    {
     "name": "stdout",
     "output_type": "stream",
     "text": [
      "Anurag...\n",
      "syan...\n"
     ]
    }
   ],
   "source": [
    "class B:\n",
    "    def __init__(self):\n",
    "        self.__name = \"Anurag Pandey\"\n",
    "\n",
    "    def truncate_name(self):  # created getter by method 1\n",
    "        return self.__name[:7].strip()+\"...\"\n",
    "\n",
    "    def set_name(self, value):  # created setter by method 1\n",
    "        self.__name = value\n",
    "\n",
    "    name = property(truncate_name, set_name)\n",
    "\n",
    "b = B()\n",
    "print(b.name)\n",
    "b.name = \"syan\"\n",
    "print(b.name)"
   ]
  },
  {
   "cell_type": "code",
   "execution_count": 29,
   "metadata": {},
   "outputs": [
    {
     "name": "stdout",
     "output_type": "stream",
     "text": [
      "1\n",
      "1\n",
      "2\n",
      "3\n",
      "5\n",
      "8\n",
      "13\n",
      "21\n",
      "34\n",
      "55\n"
     ]
    }
   ],
   "source": [
    "def fibonacci_series(end_count):\n",
    "    second_last = 0\n",
    "    last = 1\n",
    "    print(last)\n",
    "    end_count -= 1\n",
    "    while end_count:\n",
    "        temp = last\n",
    "        last = second_last + last\n",
    "        second_last = temp\n",
    "        print(last)\n",
    "        end_count -= 1\n",
    "\n",
    "fibonacci_series(10)"
   ]
  },
  {
   "cell_type": "code",
   "execution_count": 27,
   "metadata": {},
   "outputs": [
    {
     "name": "stdout",
     "output_type": "stream",
     "text": [
      "1\n",
      "1\n",
      "2\n",
      "3\n",
      "5\n",
      "8\n",
      "13\n",
      "21\n",
      "34\n",
      "55\n"
     ]
    }
   ],
   "source": [
    "def fibonacci_series(end_count, second_last=0, last=1):\n",
    "    if end_count-1 == 0:\n",
    "        print(last)\n",
    "        return last\n",
    "    print(last)\n",
    "    fibonacci_series(end_count= end_count-1, second_last=last, last=second_last+last)\n",
    "\n",
    "\n",
    "fibonacci_series(10)"
   ]
  }
 ],
 "metadata": {
  "kernelspec": {
   "display_name": "Python 3",
   "language": "python",
   "name": "python3"
  },
  "language_info": {
   "codemirror_mode": {
    "name": "ipython",
    "version": 3
   },
   "file_extension": ".py",
   "mimetype": "text/x-python",
   "name": "python",
   "nbconvert_exporter": "python",
   "pygments_lexer": "ipython3",
   "version": "3.10.7"
  },
  "orig_nbformat": 4
 },
 "nbformat": 4,
 "nbformat_minor": 2
}
