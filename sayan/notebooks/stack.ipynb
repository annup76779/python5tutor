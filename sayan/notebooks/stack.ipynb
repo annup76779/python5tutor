{
 "cells": [
  {
   "cell_type": "code",
   "execution_count": null,
   "metadata": {},
   "outputs": [],
   "source": [
    "lst = []\n",
    "print(lst)\n",
    "for i in range(10):\n",
    "    lst.append(i)\n",
    "    print(lst)\n",
    "\n",
    "for i in range(len(lst)):\n",
    "    lst.pop()\n",
    "    print(lst)"
   ]
  },
  {
   "cell_type": "markdown",
   "metadata": {},
   "source": [
    "a<sup>n</sup>b<sup>n</sup><br/>\n",
    "where n >= 1"
   ]
  },
  {
   "cell_type": "code",
   "execution_count": 11,
   "metadata": {},
   "outputs": [
    {
     "name": "stdout",
     "output_type": "stream",
     "text": [
      "no. of 'a' and 'b' are equal in the given string.\n"
     ]
    }
   ],
   "source": [
    "s = (\"a\" * 14)+(\"b\" * 7)\n",
    "\n",
    "\n",
    "# we will use stack to solve the problem \n",
    "stack = [] # list as stack\n",
    "\n",
    "for char in s:\n",
    "    if char == \"a\":\n",
    "        stack.append(char)\n",
    "    elif char == \"b\":\n",
    "        if not len(stack):\n",
    "            stack.append(\"z\")\n",
    "            break\n",
    "        stack.pop()\n",
    "        stack.pop()\n",
    "\n",
    "if len(stack) == 0:\n",
    "    print(\"no. of 'a' and 'b' are equal in the given string.\")\n",
    "else:\n",
    "    print(\"String not passed the test.\")"
   ]
  },
  {
   "cell_type": "code",
   "execution_count": 14,
   "metadata": {},
   "outputs": [
    {
     "name": "stdout",
     "output_type": "stream",
     "text": [
      "brackets are not matching\n"
     ]
    }
   ],
   "source": [
    "s = \"{][{}}\"\n",
    "\n",
    "stack = []\n",
    "match_dict = {\n",
    "    \"[\": ']',\n",
    "    '(': \")\",\n",
    "    \"{\": \"}\"\n",
    "  }\n",
    "\n",
    "for bracket in s:\n",
    "    if bracket in match_dict.keys():\n",
    "        stack.append(bracket)\n",
    "    elif bracket in match_dict.values():\n",
    "        if match_dict[stack[-1]] == bracket:\n",
    "            stack.pop()\n",
    "        else:\n",
    "            stack.append(bracket)\n",
    "            break\n",
    "\n",
    "if len(stack) == 0:\n",
    "    print(\"brackets matched\")\n",
    "else:\n",
    "    print(\"brackets are not matching\")"
   ]
  },
  {
   "cell_type": "code",
   "execution_count": 61,
   "metadata": {},
   "outputs": [],
   "source": [
    "class Goods:\n",
    "    def __init__(self):\n",
    "        self.__id = None\n",
    "        self.__cost = None\n",
    "\n",
    "    def getId(self):\n",
    "        return self.__id\n",
    "    \n",
    "    def getCost(self):\n",
    "        return self.__cost\n",
    "\n",
    "    def setId(self, id):\n",
    "        self.__id = id\n",
    "\n",
    "    def setCost(self, cost):\n",
    "        self.__cost = cost\n",
    "\n",
    "class Stack:\n",
    "    def __init__(self):\n",
    "        self.data = []\n",
    "        self.top = -1\n",
    "\n",
    "    def isEmpty(self):\n",
    "        return len(self.data) == 0\n",
    "\n",
    "    def isFull(self):\n",
    "        return len(self.data) == 9\n",
    "\n",
    "    def Push(self, good: Goods):\n",
    "        if isinstance(good, Goods):\n",
    "            if not self.isFull():\n",
    "                self.data.append(good)\n",
    "                self.top += 1\n",
    "            else:\n",
    "                print(\"stack is full\")\n",
    "        else:\n",
    "            raise TypeError(\"Data must of type Goods.\")\n",
    "\n",
    "    def Pop(self) -> Goods:\n",
    "        if not self.isEmpty():\n",
    "            return self.data.pop()\n",
    "            self.top -= 1\n",
    "        else:\n",
    "            raise IndexError(\"Stack out of Data.\")\n",
    "    \n",
    "    def Display(self):\n",
    "        print(\"Top -> \", \"Id: \", self.data[self.top-1].getId(), \"Cost:\", self.data[self.top -1].getCost())\n",
    "        for i in self.data[::-1]:\n",
    "            print(\"Id: \", i.getId(), \"Cost:\", i.getCost())\n",
    "    "
   ]
  },
  {
   "cell_type": "code",
   "execution_count": null,
   "metadata": {},
   "outputs": [],
   "source": [
    "stack = Stack()\n",
    "\n",
    "with open(\"GOODS.txt\", \"r\") as file_:\n",
    "    for line in file_.readlines():\n",
    "        id_, cost = line.strip().split(\", \")\n",
    "        good = Goods()\n",
    "        good.setId(id_) # setting id\n",
    "        good.setCost(cost) # setting cost\n",
    "\n",
    "        stack.Push(good)\n",
    "stack.Pop()\n",
    "stack.Display()"
   ]
  },
  {
   "cell_type": "code",
   "execution_count": 76,
   "metadata": {},
   "outputs": [],
   "source": [
    "class Product:\n",
    "    def __init__(self):\n",
    "        self.id = None\n",
    "        self.brand = \"\"\n",
    "        self.description = \"\"\n",
    "        self.cost = None\n",
    "        self.quantity = None\n",
    "\n",
    "    def UpdateId(self, id):\n",
    "        self.id = id\n",
    "\n",
    "    def UpdateBrand(self, brand):\n",
    "        self.brand = brand\n",
    "\n",
    "    def UpdateDescription(self, description):\n",
    "        self.description = description\n",
    "\n",
    "    def UpdateCost(self, cost):\n",
    "        self.cost = cost\n",
    "    \n",
    "    def UpdateQuantity(self, quantity):\n",
    "        self.quantity = quantity\n",
    "\n",
    "    def GetId(self):\n",
    "        return int(self.id)\n",
    "    \n",
    "    def GetBrand(self):\n",
    "        return self.brand\n",
    "\n",
    "    def GetDescription(self):\n",
    "        return self.description\n",
    "\n",
    "    def GetCost(self):\n",
    "        return float(self.cost)\n",
    "    \n",
    "    def GetQuantity(self):\n",
    "        return int(self.quantity)\n",
    "\n",
    "    def CalcTotalCost(self):\n",
    "        return self.GetCost() * self.GetQuantity()\n",
    "\n",
    "class Inventory:\n",
    "    def __init__(self):\n",
    "        self.ProductList = []\n",
    "    \n",
    "    def GetProducts(self):\n",
    "        return self.ProductList\n",
    "\n",
    "    def AddProduct(self, item: Product):\n",
    "        self.ProductList.append(item)\n",
    "\n",
    "        # insertion sort\n",
    "        for i in range(1, len(self.ProductList)):\n",
    "            key = self.ProductList[i].GetId() # id is the key of sorting\n",
    "\n",
    "            j = i - 1\n",
    "\n",
    "            while j >= 0 and key < self.ProductList[j].GetId():\n",
    "                self.ProductList[j+1] = self.ProductList[j]\n",
    "                j -= 1\n",
    "\n",
    "            self.ProductList[j + 1] = self.ProductList[i]\n",
    "\n",
    "    def CalcTotalInventoryCost(self):\n",
    "        sum_ = 0\n",
    "        for product in self.ProductList:\n",
    "            sum_ += product.CalcTotalCost()\n",
    "\n",
    "    def DisplayInventory(self):\n",
    "        print(\"Total inventory cost: $\", self.CalcTotalInventoryCost())\n",
    "        print()\n",
    "\n",
    "        print(\"ID\".rjust(6), \"Brand\".rjust(15), \"Description\".rjust(50), \"Total Cost\".rjust(15))\n",
    "        for product in self.ProductList:\n",
    "            print(str(product.GetId()).rjust(6), product.GetBrand().rjust(15), product.GetDescription().rjust(50), str(product.CalcTotalCost()).rjust(15))"
   ]
  },
  {
   "cell_type": "code",
   "execution_count": 78,
   "metadata": {},
   "outputs": [
    {
     "name": "stdout",
     "output_type": "stream",
     "text": [
      "['1,ABC,3-in-1', 'coffee,', '1200,', '200']\n",
      "['2,rebook,Best', 'brand', 'of', 'clothing,', '1200,', '200']\n",
      "['3,Lipton,Oats', 'cookies,', '12,', '2']\n",
      "Total inventory cost: $ None\n",
      "\n",
      "    ID           Brand                                        Description      Total Cost\n",
      "     1             ABC                                      3-in-1 coffee        240000.0\n",
      "     2          rebook                             Best brand of clothing        240000.0\n",
      "     3          Lipton                                       Oats cookies            24.0\n"
     ]
    }
   ],
   "source": [
    "inventory = Inventory()\n",
    "\n",
    "with open(\"PURCHASE.txt\", \"r\") as file_:\n",
    "    for line in file_.readlines():\n",
    "        id_, brand, description, price, quantity = line.strip().split(\",\")\n",
    "\n",
    "        product = Product()\n",
    "        product.UpdateId(id_.strip())\n",
    "        product.UpdateBrand(brand.strip())\n",
    "        product.UpdateDescription(description.strip())  \n",
    "        product.UpdateQuantity(quantity.strip())\n",
    "        product.UpdateCost(price.strip())\n",
    "        inventory.AddProduct(product)\n",
    "\n",
    "inventory.DisplayInventory()  "
   ]
  }
 ],
 "metadata": {
  "kernelspec": {
   "display_name": "Python 3.10.4 64-bit",
   "language": "python",
   "name": "python3"
  },
  "language_info": {
   "codemirror_mode": {
    "name": "ipython",
    "version": 3
   },
   "file_extension": ".py",
   "mimetype": "text/x-python",
   "name": "python",
   "nbconvert_exporter": "python",
   "pygments_lexer": "ipython3",
   "version": "3.10.4"
  },
  "orig_nbformat": 4,
  "vscode": {
   "interpreter": {
    "hash": "4f946df053fbf2b937619d3c5458e7af74262f9a954d8797ba0b27400bcafe06"
   }
  }
 },
 "nbformat": 4,
 "nbformat_minor": 2
}
