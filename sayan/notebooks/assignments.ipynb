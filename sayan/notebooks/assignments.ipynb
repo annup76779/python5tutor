{
 "cells": [
  {
   "cell_type": "code",
   "execution_count": 1,
   "metadata": {},
   "outputs": [
    {
     "data": {
      "text/plain": [
       "['5001', '5002', '5005', '5007', '5009']"
      ]
     },
     "execution_count": 1,
     "metadata": {},
     "output_type": "execute_result"
    }
   ],
   "source": [
    "def uniqueValues(dic):\n",
    "    lst = []\n",
    "    for val in dic.values():\n",
    "        if val not in lst:\n",
    "            lst.append(val)\n",
    "\n",
    "    lst.sort()\n",
    "    return lst\n",
    "\n",
    "dic_ = {\n",
    "    'Mark': \"5001\",\n",
    "    'Vonny': '5002',\n",
    "    'Ash': '5001',\n",
    "    'Joyce': '5005',\n",
    "    'Weiling': '5005',\n",
    "    'Jhon':'5009',\n",
    "    'Tim': '5007'\n",
    "}\n",
    "\n",
    "uniqueValues(dic_)"
   ]
  },
  {
   "cell_type": "code",
   "execution_count": 2,
   "metadata": {},
   "outputs": [
    {
     "data": {
      "text/plain": [
       "{'a': 400, 'b': 400, 'c': 300, 'd': 400}"
      ]
     },
     "execution_count": 2,
     "metadata": {},
     "output_type": "execute_result"
    }
   ],
   "source": [
    "def combine(d1, d2):\n",
    "    out_dic = {}\n",
    "    for key in list(d1.keys())+list(d2.keys()):\n",
    "        try:\n",
    "            out_dic[key] = d1[key] + d2[key]\n",
    "        except KeyError:\n",
    "            if key not in d1.keys():\n",
    "                out_dic[key] = d2[key]\n",
    "            else:\n",
    "                out_dic[key] = d1[key]\n",
    "    return out_dic\n",
    "\n",
    "d1 = {'a': 100, 'b': 200, 'c': 300}\n",
    "d2 = {'a': 300, 'b': 200, 'd': 400}\n",
    "combine(d1, d2)"
   ]
  },
  {
   "cell_type": "code",
   "execution_count": null,
   "metadata": {},
   "outputs": [],
   "source": [
    "lst = [[34, 89], [12, 90], [90, 11], [-12, 20], [-10, 10], [12, -122]]\n",
    "\n",
    "lst.sort(key=lambda x:x[0]+x[1])\n",
    "lst\n",
    "# bubble or selection sort"
   ]
  }
 ],
 "metadata": {
  "kernelspec": {
   "display_name": "Python 3.10.4 64-bit",
   "language": "python",
   "name": "python3"
  },
  "language_info": {
   "codemirror_mode": {
    "name": "ipython",
    "version": 3
   },
   "file_extension": ".py",
   "mimetype": "text/x-python",
   "name": "python",
   "nbconvert_exporter": "python",
   "pygments_lexer": "ipython3",
   "version": "3.10.4"
  },
  "orig_nbformat": 4,
  "vscode": {
   "interpreter": {
    "hash": "4f946df053fbf2b937619d3c5458e7af74262f9a954d8797ba0b27400bcafe06"
   }
  }
 },
 "nbformat": 4,
 "nbformat_minor": 2
}
