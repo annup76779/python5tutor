{
 "cells": [
  {
   "cell_type": "code",
   "execution_count": null,
   "metadata": {},
   "outputs": [],
   "source": [
    "user_in = input(\"Enter the full name of user: \")\n",
    "lst = []\n",
    "current_index = -1\n",
    "is_last_char_space =  True\n",
    "for character in user_in:\n",
    "    if character != \" \":\n",
    "        if is_last_char_space:\n",
    "            lst.append(character)\n",
    "            is_last_char_space = False\n",
    "            current_index += 1\n",
    "        else:\n",
    "            lst[current_index] += character\n",
    "    else:\n",
    "        is_last_char_space = True\n",
    "print(lst)\n",
    "\n",
    "first_name = lst[0]\n",
    "second_name = lst[1]\n",
    "print(first_name)\n",
    "print(second_name)"
   ]
  },
  {
   "cell_type": "markdown",
   "metadata": {},
   "source": [
    "###### do the last cell code in single line using python string split method."
   ]
  },
  {
   "cell_type": "code",
   "execution_count": 16,
   "metadata": {},
   "outputs": [
    {
     "name": "stdout",
     "output_type": "stream",
     "text": [
      "['anurag', 'Pandey']\n"
     ]
    }
   ],
   "source": [
    "lst = input(\"Enter the full name of user: \").split()\n",
    "print(lst)\n",
    "\n",
    "# teach the spilt and partition method in next class and difference"
   ]
  },
  {
   "cell_type": "markdown",
   "metadata": {},
   "source": [
    "## addtion to the digits of the list \n",
    "```\n",
    "lets say I have list like - [8,1,1,9]\n",
    "I want to add 1 to this list \n",
    "then output must be - [8, 1, 2, 0]\n",
    "```"
   ]
  },
  {
   "cell_type": "code",
   "execution_count": 16,
   "metadata": {},
   "outputs": [
    {
     "name": "stdout",
     "output_type": "stream",
     "text": [
      "[1, 0, 0, 0, 0]\n"
     ]
    }
   ],
   "source": [
    "lst = [0,9, 9, 9, 9]\n",
    "cr = 1 # which will be holding the current carry\n",
    "index=len(lst)-1 # generalized way to get the index\n",
    "\n",
    "while cr:\n",
    "    res = lst[index] + cr\n",
    "    cr = res // 10\n",
    "    lst[index] = res % 10\n",
    "    index -= 1  # 0 -1 -> -1 + 1 = 0\n",
    "    if cr and index == -1:\n",
    "        index += 1\n",
    "        lst.insert(0, 0)\n",
    "\n",
    "print(lst)"
   ]
  },
  {
   "cell_type": "markdown",
   "metadata": {},
   "source": [
    "### you are writing a  program for a market which has some shares in it\n",
    "### you will be provided with the share price of each day of week \n",
    "### your task is to help your client to find which day should he the share and which day should he sell the share to \n",
    "##### get the max profit of the trade.\n",
    "##### selling and buying will cost same \n",
    "\n",
    "```\n",
    "suppose prices are - 7 1 8 5 2 9\n",
    "tell the days of buying and selling and the profit\n",
    "```"
   ]
  }
 ],
 "metadata": {
  "interpreter": {
   "hash": "4f946df053fbf2b937619d3c5458e7af74262f9a954d8797ba0b27400bcafe06"
  },
  "kernelspec": {
   "display_name": "Python 3.10.4 64-bit",
   "language": "python",
   "name": "python3"
  },
  "language_info": {
   "codemirror_mode": {
    "name": "ipython",
    "version": 3
   },
   "file_extension": ".py",
   "mimetype": "text/x-python",
   "name": "python",
   "nbconvert_exporter": "python",
   "pygments_lexer": "ipython3",
   "version": "3.10.4"
  },
  "orig_nbformat": 4
 },
 "nbformat": 4,
 "nbformat_minor": 2
}
