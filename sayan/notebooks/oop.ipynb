{
 "cells": [
  {
   "cell_type": "markdown",
   "metadata": {},
   "source": [
    "## what is class?\n",
    "```\n",
    "A class is a blueprint or a template out of which we can make an object.\n",
    "class contains-\n",
    "1. properties\n",
    "2. methods\n",
    "3. instance variables\n",
    "4. class variables\n",
    "5. staticmethods\n",
    "6. operator overloaded methods\n",
    "7. inherited methods\n",
    "```\n",
    "\n",
    "## what is an object?\n",
    "```\n",
    "An object is a real entity that consumes some memory and has some reality and have all the properties and stuff that are defined in the \n",
    "class that it is made of. \n",
    "Object can have some personal instance variable.\n",
    "Each variable shared same data for class variables, but have unique data for the instance variable.\n",
    "```"
   ]
  },
  {
   "cell_type": "code",
   "execution_count": 13,
   "metadata": {},
   "outputs": [
    {
     "name": "stdout",
     "output_type": "stream",
     "text": [
      "Hello world in class\n",
      "<class '__main__.name_of_class'>\n",
      "<__main__.name_of_class object at 0x7f491417acb0>\n",
      "<function fun at 0x7f49141d4af0>\n"
     ]
    }
   ],
   "source": [
    "# how to make a class?\n",
    "class name_of_class:\n",
    "    print(\"Hello world in class\")\n",
    "\n",
    "print(name_of_class)\n",
    "print(name_of_class())\n",
    "\n",
    "def fun():\n",
    "    return None\n",
    "\n",
    "print(fun)"
   ]
  },
  {
   "cell_type": "code",
   "execution_count": null,
   "metadata": {},
   "outputs": [],
   "source": [
    "# want to define a class(datatype to store person) Person\n",
    "\n",
    "class Person:\n",
    "    def __init__(self, name, age):\n",
    "        self.name_of_person = name \n",
    "        self.age_of_person = age\n",
    "\n",
    "    def display(self):\n",
    "        print(self.name_of_person, self.age_of_person)\n",
    "\n",
    "person = Person(\"Anruag\", 21)\n",
    "person.display()"
   ]
  },
  {
   "cell_type": "code",
   "execution_count": 1,
   "metadata": {},
   "outputs": [
    {
     "name": "stdout",
     "output_type": "stream",
     "text": [
      "1 1\n"
     ]
    }
   ],
   "source": [
    "class Attendance:\n",
    "    def __init__(self, date, status):\n",
    "        self.Date = date\n",
    "        self.Status = status\n",
    "\n",
    "class Student:\n",
    "    def __init__(self, name, fromclass):\n",
    "        self.Name = name\n",
    "        self.FromClass = fromclass\n",
    "        self.AttendanceRecord = []\n",
    "        # later data will be appenede by AddAttendance method of Student class\n",
    "\n",
    "    def AddAttendance(self, record):\n",
    "        self.AttendanceRecord.append(record)\n",
    "\n",
    "    def CountAbsent(self):\n",
    "        counter = 0\n",
    "        for record in self.AttendanceRecord:\n",
    "            if record.Status == \"ABSENT\":\n",
    "                counter += 1\n",
    "        return counter\n",
    "\n",
    "    def CountLate(self):\n",
    "        counter = 0\n",
    "        for record in self.AttendanceRecord:\n",
    "            if record.Status == \"LATE\":\n",
    "                counter += 1\n",
    "        return counter\n",
    "\n",
    "    def Display(self):\n",
    "        print(f\"{self.Name} from {self.FromClass} was absent on {self.CountAbsent()} day(s) and late on {self.CountLate()} day(s).\")\n",
    "\n",
    "\n",
    "a1 =Attendance(\"01/08/2021\", \"PRESENT\")\n",
    "a2 = Attendance(\"02/08/2021\", \"LATE\")\n",
    "a3 = Attendance(\"03/08/2021\", \"ABSENT\")\n",
    "\n",
    "student = Student(\"Joyce Ng\", '21S24')\n",
    "student.AddAttendance(a1)\n",
    "student.AddAttendance(a2)\n",
    "student.AddAttendance(a3)\n",
    "\n",
    "absent = student.CountAbsent()\n",
    "late = student.CountLate()\n",
    "\n"
   ]
  },
  {
   "cell_type": "code",
   "execution_count": 4,
   "metadata": {},
   "outputs": [],
   "source": [
    "def Question2():\n",
    "    with open(\"SCMOBILE.txt\", \"r\", encoding='utf-8') as f:\n",
    "        name, fromclass = f.readline().strip().split(\",\")\n",
    "        student = Student(name, fromclass)\n",
    "        for line in f.readlines():\n",
    "            date, status = line.strip().split(\",\")\n",
    "            student.AddAttendance(\n",
    "                Attendance(date, status)\n",
    "            )\n",
    "    return student\n",
    "\n",
    "student = Question2()\n",
    "name = student.Name\n",
    "fromclass = student.FromClass\n",
    "late = student.CountLate()\n"
   ]
  },
  {
   "cell_type": "code",
   "execution_count": 8,
   "metadata": {},
   "outputs": [
    {
     "name": "stdout",
     "output_type": "stream",
     "text": [
      "Name of Pet is Tom\n",
      "Type of pet is Cat\n",
      "Owner of pet is Anurag\n"
     ]
    }
   ],
   "source": [
    "class Pet:\n",
    "    def __init__(self, name, type_, owner):\n",
    "        assert isinstance(type_, str) and type_.isalpha()\n",
    "        self.name= name\n",
    "        self.type = type_\n",
    "        self.owner = owner\n",
    "\n",
    "    def show(self):\n",
    "        print(\"Name of Pet is\", self.name)\n",
    "        print(\"Type of pet is\",self.type)\n",
    "        print(\"Owner of pet is\", self.owner)\n",
    "\n",
    "def display_pet(pet):\n",
    "    print(\"Name of Pet is\",pet[0])\n",
    "    print(\"Type of pet is\",pet[1])\n",
    "    print(\"Owner of pet is\",pet[2])\n",
    "\n",
    "# pet = [\"Tom\", \"Cat\", \"Anurag\"]\n",
    "# display_pet(pet)\n",
    "\n",
    "pet2 = Pet(\"Tom\", \"Cat\", \"Anurag\")\n",
    "pet2.show()\n"
   ]
  }
 ],
 "metadata": {
  "kernelspec": {
   "display_name": "Python 3.10.4 64-bit",
   "language": "python",
   "name": "python3"
  },
  "language_info": {
   "codemirror_mode": {
    "name": "ipython",
    "version": 3
   },
   "file_extension": ".py",
   "mimetype": "text/x-python",
   "name": "python",
   "nbconvert_exporter": "python",
   "pygments_lexer": "ipython3",
   "version": "3.10.4"
  },
  "orig_nbformat": 4,
  "vscode": {
   "interpreter": {
    "hash": "4f946df053fbf2b937619d3c5458e7af74262f9a954d8797ba0b27400bcafe06"
   }
  }
 },
 "nbformat": 4,
 "nbformat_minor": 2
}
