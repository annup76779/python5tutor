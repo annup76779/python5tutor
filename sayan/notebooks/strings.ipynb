{
 "cells": [
  {
   "cell_type": "markdown",
   "metadata": {},
   "source": [
    "### strings are immutable datatype of python that is written in quotes.\n",
    "##### we can see that string exists very freely in python, means most of the data is in string format by default.\n",
    "\n",
    "but strings not actually exsist freely\n",
    "```\n",
    "\"Anurag\"\n",
    "['A', 'n', 'u', 'r', 'a', 'g'] # array of characters\n",
    "[65, ]\n",
    "```"
   ]
  },
  {
   "cell_type": "code",
   "execution_count": null,
   "metadata": {},
   "outputs": [],
   "source": [
    "l = [ord(i) for i in \"Anurag\"]\n",
    "print(l)"
   ]
  },
  {
   "cell_type": "markdown",
   "metadata": {},
   "source": [
    "when ever we take user input we are not sure that user is going to enter the data with no extra unwanted characters(mostly whitespace like (space, enter, tabs))\n",
    "we can get rid of the unwanted characters problem by using following methods of python\n",
    "1. strip(\"unwanted character(s)\") - removes extra data from both edges of the string(defualt value is whitespace)\n",
    "2. lstrip(\"unwanted character(s)\")\n",
    "3. rstrip(\"unwanted character(s)\")"
   ]
  },
  {
   "cell_type": "code",
   "execution_count": null,
   "metadata": {},
   "outputs": [],
   "source": [
    "k = input(\"Enter some data\").strip()\n",
    "print(\"Hey\",k, \"! Have a nice day.\")"
   ]
  },
  {
   "cell_type": "markdown",
   "metadata": {},
   "source": [
    "Write a program to take first name and last name from user and then print it with a greeting, saying \"Hello username, good morning!\"<br>\n",
    "repeat this process till the user enters done in the place of first_name."
   ]
  },
  {
   "cell_type": "code",
   "execution_count": 4,
   "metadata": {},
   "outputs": [],
   "source": [
    "while True:\n",
    "    first_name = input(\"Enter the first name: \").strip()\n",
    "    if first_name.lower() == \"done\":\n",
    "        break\n",
    "    last_name = input(\"Enter the last name: \").strip()\n",
    "    print(\"Hello\", first_name, last_name, \"good morning!\")"
   ]
  }
 ],
 "metadata": {
  "kernelspec": {
   "display_name": "Python 3.10.4 64-bit",
   "language": "python",
   "name": "python3"
  },
  "language_info": {
   "codemirror_mode": {
    "name": "ipython",
    "version": 3
   },
   "file_extension": ".py",
   "mimetype": "text/x-python",
   "name": "python",
   "nbconvert_exporter": "python",
   "pygments_lexer": "ipython3",
   "version": "3.10.4"
  },
  "orig_nbformat": 4,
  "vscode": {
   "interpreter": {
    "hash": "4f946df053fbf2b937619d3c5458e7af74262f9a954d8797ba0b27400bcafe06"
   }
  }
 },
 "nbformat": 4,
 "nbformat_minor": 2
}
