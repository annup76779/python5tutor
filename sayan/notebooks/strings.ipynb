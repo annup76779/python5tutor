{
 "cells": [
  {
   "cell_type": "markdown",
   "metadata": {},
   "source": [
    "### strings are immutable datatype of python that is written in quotes.\n",
    "##### we can see that string exists very freely in python, means most of the data is in string format by default.\n",
    "\n",
    "but strings not actually exsist freely\n",
    "```\n",
    "\"Anurag\"\n",
    "['A', 'n', 'u', 'r', 'a', 'g'] # array of characters\n",
    "[65, ]\n",
    "```"
   ]
  },
  {
   "cell_type": "code",
   "execution_count": null,
   "metadata": {},
   "outputs": [],
   "source": [
    "l = [ord(i) for i in \"Anurag\"]\n",
    "print(l)"
   ]
  },
  {
   "cell_type": "markdown",
   "metadata": {},
   "source": [
    "when ever we take user input we are not sure that user is going to enter the data with no extra unwanted characters(mostly whitespace like (space, enter, tabs))\n",
    "we can get rid of the unwanted characters problem by using following methods of python\n",
    "1. strip(\"unwanted character(s)\") - removes extra data from both edges of the string(defualt value is whitespace)\n",
    "2. lstrip(\"unwanted character(s)\")\n",
    "3. rstrip(\"unwanted character(s)\")"
   ]
  },
  {
   "cell_type": "code",
   "execution_count": null,
   "metadata": {},
   "outputs": [],
   "source": [
    "k = input(\"Enter some data\").strip()\n",
    "print(\"Hey\",k, \"! Have a nice day.\")"
   ]
  },
  {
   "cell_type": "markdown",
   "metadata": {},
   "source": [
    "Write a program to take first name and last name from user and then print it with a greeting, saying \"Hello username, good morning!\"<br>\n",
    "repeat this process till the user enters done in the place of first_name."
   ]
  },
  {
   "cell_type": "code",
   "execution_count": 2,
   "metadata": {},
   "outputs": [
    {
     "name": "stdout",
     "output_type": "stream",
     "text": [
      "Hello anurag Pandey good morning!\n"
     ]
    }
   ],
   "source": [
    "while True:\n",
    "    first_name = input(\"Enter the first name: \").strip()\n",
    "    if first_name.lower() == \"done\":\n",
    "        break\n",
    "    last_name = input(\"Enter the last name: \").strip()\n",
    "    print(\"Hello\", first_name, last_name, \"good morning!\")"
   ]
  },
  {
   "cell_type": "markdown",
   "metadata": {},
   "source": [
    "#### let's see what are the things that strip method of string can remove from the egeds of the string \n",
    "by defualt `strip()` method removes whitespaces from edges of the string, but you may sometime need to remove any other character or set of character form\n",
    "the edges of the string. \n",
    "For that `strip(substring)` takes one argument which is the substring of the string which you are expecting to be removed.\n",
    "```\n",
    "s = \"%anurag pandey%%\"\n",
    "s_new = s.strip(\"%\")\n",
    "\n",
    "s_new -> \"anurag pandey\"\n",
    "```\n",
    "\n",
    "\n",
    "#### and also we will see the two sub classifications of `strip()` of string\n",
    "1. `lstrip()`\n",
    "2. `rstrip()`"
   ]
  },
  {
   "cell_type": "code",
   "execution_count": 9,
   "metadata": {},
   "outputs": [
    {
     "data": {
      "text/plain": [
       "'anurag pandey'"
      ]
     },
     "execution_count": 9,
     "metadata": {},
     "output_type": "execute_result"
    }
   ],
   "source": [
    "s = \"panurag pandeypb\"\n",
    "s_new = s.strip(\"pb\")\n",
    "s_new"
   ]
  },
  {
   "cell_type": "markdown",
   "metadata": {},
   "source": [
    "## `split()` method of python string\n",
    "```\n",
    "Help on method_descriptor:\n",
    "\n",
    "split(self, /, sep=None, maxsplit=-1)\n",
    "    Return a list of the words in the string, using sep as the delimiter string.\n",
    "    \n",
    "    sep\n",
    "      The delimiter according which to split the string.\n",
    "      None (the default value) means split according to any whitespace,\n",
    "      and discard empty strings from the result.\n",
    "    maxsplit\n",
    "      Maximum number of splits to do.\n",
    "      -1 (the default value) means no limit.\n",
    "\n",
    "```\n",
    "```\n",
    "example\n",
    "s = \"1,3,4,5,6,7,7,8,6,5,4,4\"\n",
    "s_num_lst = s.split(\",\")\n",
    "['1', '3', '4', '5', '6', '7', '7', '8', '6', '5', '4', '4']\n",
    "```"
   ]
  },
  {
   "cell_type": "code",
   "execution_count": 18,
   "metadata": {},
   "outputs": [
    {
     "data": {
      "text/plain": [
       "['1', '3', '4', '5', '6,7,7,8,6,5,4,4']"
      ]
     },
     "execution_count": 18,
     "metadata": {},
     "output_type": "execute_result"
    }
   ],
   "source": [
    "s = \"1,3,4,5,6,7,7,8,6,5,4,4\"\n",
    "s_num_lst = s.split(\",\", maxsplit=4)\n",
    "s_num_lst"
   ]
  },
  {
   "cell_type": "code",
   "execution_count": 26,
   "metadata": {},
   "outputs": [
    {
     "data": {
      "text/plain": [
       "['1,3,4,5,6,7,7,8', '6', '5', '4', '4']"
      ]
     },
     "execution_count": 26,
     "metadata": {},
     "output_type": "execute_result"
    }
   ],
   "source": [
    "# i want to get the last 4 data into split\n",
    "\n",
    "s = \"1,3,4,5,6,7,7,8,6,5,4,4\"\n",
    "s_num_lst =[s[:len(s)-8]] + s[len(s)-7:len(s)].split(\",\")\n",
    "s_num_lst"
   ]
  },
  {
   "cell_type": "markdown",
   "metadata": {},
   "source": [
    "### execise over split and strip\n",
    "you will be provided with a string being read fron a file(for now code to read and write into the file will be provided to you)\n",
    "and there will be function which will be returning a list of all the numbers in string format which are prime and read form the file.\n",
    "```\n",
    "input string => \"34, 89, 76, 57, 23, 234,34, 563,34, 454,6, 43,5\"\n",
    "output of function must be -> ['89','57', '23', ... all the primes in string format]\n",
    "```"
   ]
  },
  {
   "cell_type": "code",
   "execution_count": 33,
   "metadata": {},
   "outputs": [],
   "source": [
    "from random import randint\n",
    "def find_prime(s: str)->list:\n",
    "    # TODO return a list of prime number from the given string in string format\n",
    "    return s.split(\",\")\n",
    "\n",
    "# DRIVER CODE\n",
    "# {\n",
    "if __name__ == \"__main__\":\n",
    "\n",
    "    with open('file.txt', 'w') as in_file:\n",
    "        for x in range(randint(5, 7)):\n",
    "            in_file.write(\n",
    "               \", \".join([str(randint(10, 1000)) for y in range(randint(5, 10))]) + \"\\n\"\n",
    "            )\n",
    "\n",
    "    with open(\"file.txt\",\"r\") as in_file:\n",
    "        lst = []\n",
    "        for line in in_file.readlines():\n",
    "            lst.append(\n",
    "                find_prime(line.strip())\n",
    "            )\n",
    "            \n",
    "    with open(\"out.txt\", 'w') as out_file:\n",
    "        out_file.write(\"\\n\".join(\n",
    "            [\",\".join(x) for x in lst]\n",
    "        ))\n",
    "# }"
   ]
  },
  {
   "cell_type": "code",
   "execution_count": null,
   "metadata": {},
   "outputs": [],
   "source": [
    "# word counter by split method\n",
    "\n",
    "s = \"The output generated is just the input image with a padding added to it. Here it appears as a border, since the values given for each side were equal. For different values non-uniform padding can be observed.\"\n",
    "\n",
    "word_lst = []\n",
    "for word in s.split():\n",
    "    if word.endswith(\",\"):\n",
    "        word = word.strip(\",\")\n",
    "    if word.endswith(\".\"):\n",
    "        word = word.strip(\".\")\n",
    "\n",
    "\n",
    "    if \"-\" in word:\n",
    "        for sub_word in word.strip(\"-\").split(\"-\"):\n",
    "            word_lst.append(sub_word)\n",
    "        continue\n",
    "\n",
    "    word_lst.append(word)\n",
    "\n",
    "word_lst"
   ]
  },
  {
   "cell_type": "code",
   "execution_count": 15,
   "metadata": {},
   "outputs": [
    {
     "name": "stdout",
     "output_type": "stream",
     "text": [
      "1, 2, 345, 435, 43, 54, 5, 345, 345, 34, 53, 5436, 36, 345, 345, 34534\n",
      "1, 2, 345, 435, 43, 54, 5, 345, 345, 34, 53, 5436, 36, 345, 345, 34534\n",
      "1, 2, 345, 435, 43, 54, 5, 345, 345, 34, 53, 5436, 36, 345, 345, 34534\n",
      "4, 3, 5, 4, 5, 2, 3, 4, 2, 3, 4, 2, 3, 4, 3, 2, 3\n"
     ]
    }
   ],
   "source": [
    "# rejoin all the words and make a new string\n",
    "print(\", \".join(map(str, [1,2,345,435,43,54,5,345,345,34,53,5436,36,345,345,34534])))\n",
    "print(\", \".join((str(x) for x in [1,2,345,435,43,54,5,345,345,34,53,5436,36,345,345,34534])))\n",
    "print(\", \".join([str(x) for x in [1,2,345,435,43,54,5,345,345,34,53,5436,36,345,345,34534]]))\n",
    "print(\", \".join(\"43545234234234323\"))"
   ]
  },
  {
   "cell_type": "code",
   "execution_count": 19,
   "metadata": {},
   "outputs": [
    {
     "name": "stdout",
     "output_type": "stream",
     "text": [
      "E:\\python5tutor\\sayan\\notebooks\\strings.ipynb\n"
     ]
    }
   ],
   "source": [
    "s = r\"E:\\python5tutor\\sayan\\notebooks\\strings.ipynb\"\n",
    "# give the drive name(here it is E)\n",
    "# must give the name of all the folders in a list in the proper sequence\n",
    "'''\n",
    "You are in 'E' drive\n",
    "['python5tutor', 'sayan', 'notebooks']\n",
    "'''"
   ]
  }
 ],
 "metadata": {
  "kernelspec": {
   "display_name": "Python 3.10.7 64-bit",
   "language": "python",
   "name": "python3"
  },
  "language_info": {
   "codemirror_mode": {
    "name": "ipython",
    "version": 3
   },
   "file_extension": ".py",
   "mimetype": "text/x-python",
   "name": "python",
   "nbconvert_exporter": "python",
   "pygments_lexer": "ipython3",
   "version": "3.10.7 (tags/v3.10.7:6cc6b13, Sep  5 2022, 14:08:36) [MSC v.1933 64 bit (AMD64)]"
  },
  "orig_nbformat": 4,
  "vscode": {
   "interpreter": {
    "hash": "4c75d34ee1fcdb015885d85ab071295bd815e7d150290c0ae76b929ae622a1c7"
   }
  }
 },
 "nbformat": 4,
 "nbformat_minor": 2
}
