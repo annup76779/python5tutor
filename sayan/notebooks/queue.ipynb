{
 "cells": [
  {
   "cell_type": "markdown",
   "metadata": {},
   "source": [
    "## Assignment of the school"
   ]
  },
  {
   "cell_type": "code",
   "execution_count": 19,
   "metadata": {},
   "outputs": [
    {
     "name": "stdout",
     "output_type": "stream",
     "text": [
      "0\n",
      "[2]\n",
      "1\n"
     ]
    }
   ],
   "source": [
    "class Queue:\n",
    "    def __init__(self):\n",
    "        self.list_queue = [] # queue is implemented here\n",
    "    \n",
    "    def enqueue(self,item):\n",
    "        self.list_queue.append(item) # adding new data to the end of the queue\n",
    "\n",
    "    def dequeue(self):\n",
    "        return self.list_queue.pop(0)\n",
    "\n",
    "    def size(self):\n",
    "        return len(self.list_queue)\n",
    "\n",
    "q = Queue()\n",
    "a = q.size()\n",
    "q.enqueue(1)\n",
    "q.enqueue(2)\n",
    "b = q.dequeue()\n",
    "c = q.list_queue\n",
    "print(a)\n",
    "print(c)\n",
    "print(b)\n"
   ]
  },
  {
   "cell_type": "code",
   "execution_count": 39,
   "metadata": {},
   "outputs": [
    {
     "name": "stdout",
     "output_type": "stream",
     "text": [
      "['poo', 'ste', 'sim', 'nic', 'luo', 'ibr', 'sie', 'zhe']\n",
      "['sie', 'zhe', 'poo', 'ste', 'sim', 'nic', 'luo']\n",
      "['luo', 'sie', 'zhe', 'poo', 'ste', 'sim']\n",
      "['luo', 'sie', 'zhe', 'poo', 'ste']\n",
      "['sie', 'zhe', 'poo', 'ste']\n",
      "['poo', 'ste', 'sie']\n",
      "['poo', 'ste']\n",
      "['poo']\n"
     ]
    },
    {
     "data": {
      "text/plain": [
       "['poo']"
      ]
     },
     "execution_count": 39,
     "metadata": {},
     "output_type": "execute_result"
    }
   ],
   "source": [
    "lst = ['poo', 'ste', 'sim', 'nic','luo', 'ibr', 'sie', 'zhe']\n",
    "m = 5\n",
    "print(lst)\n",
    "def who_wins(m, players):\n",
    "    q = Queue()\n",
    "    \n",
    "    q.list_queue = players\n",
    "\n",
    "    while q.size() > 1:\n",
    "        for _ in range(m):\n",
    "            q.enqueue(q.dequeue())\n",
    "        q.dequeue()\n",
    "        print(q.list_queue)\n",
    "    return q.list_queue\n",
    "\n",
    "who_wins(m, lst)"
   ]
  },
  {
   "cell_type": "code",
   "execution_count": 42,
   "metadata": {},
   "outputs": [
    {
     "name": "stdout",
     "output_type": "stream",
     "text": [
      "['poo', 'ste', 'sim', 'nic', 'luo', 'ibr', 'sie', 'zhe']\n",
      "['poo', 'ste', 'sim', 'luo', 'ibr', 'sie', 'zhe']\n",
      "['poo', 'ste', 'sim', 'luo', 'ibr', 'sie']\n",
      "['poo', 'ste', 'sim', 'ibr', 'sie']\n",
      "['poo', 'sim', 'ibr', 'sie']\n",
      "['sim', 'ibr', 'sie']\n",
      "['ibr', 'sie']\n"
     ]
    }
   ],
   "source": [
    "m=3\n",
    "lst = ['poo', 'ste', 'sim', 'nic','luo', 'ibr', 'sie', 'zhe']\n",
    "print(lst)\n",
    "def who_wins(m, q):\n",
    "    front = m\n",
    "    while len(q) > m-1:\n",
    "        del q[front]\n",
    "        front = front + m if len(q) > front+m else (lambda : 0 if len(q) == m else (front+m) % len(q))()\n",
    "        print(q)\n",
    "who_wins(m, lst)"
   ]
  }
 ],
 "metadata": {
  "kernelspec": {
   "display_name": "Python 3.10.4 64-bit",
   "language": "python",
   "name": "python3"
  },
  "language_info": {
   "codemirror_mode": {
    "name": "ipython",
    "version": 3
   },
   "file_extension": ".py",
   "mimetype": "text/x-python",
   "name": "python",
   "nbconvert_exporter": "python",
   "pygments_lexer": "ipython3",
   "version": "3.10.4"
  },
  "orig_nbformat": 4,
  "vscode": {
   "interpreter": {
    "hash": "4f946df053fbf2b937619d3c5458e7af74262f9a954d8797ba0b27400bcafe06"
   }
  }
 },
 "nbformat": 4,
 "nbformat_minor": 2
}
