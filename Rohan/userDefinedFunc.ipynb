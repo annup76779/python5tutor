{
 "cells": [
  {
   "cell_type": "code",
   "execution_count": 6,
   "metadata": {},
   "outputs": [
    {
     "name": "stdout",
     "output_type": "stream",
     "text": [
      "Hello\n"
     ]
    }
   ],
   "source": [
    "# Here we are create/defining a function\n",
    "def calc():\n",
    "    k = 12 +90\n",
    "    print(k)\n",
    "\n",
    "# NOTE: to use this calc function you need to call the function\n",
    "\n",
    "print(\"Hello\")\n"
   ]
  },
  {
   "cell_type": "code",
   "execution_count": 7,
   "metadata": {},
   "outputs": [
    {
     "name": "stdout",
     "output_type": "stream",
     "text": [
      "102\n"
     ]
    }
   ],
   "source": [
    "calc()  # used/called the function calc"
   ]
  },
  {
   "cell_type": "markdown",
   "metadata": {},
   "source": [
    "#### Different parts of a function \n",
    "1. Name of the function \n",
    "2. Body of the function\n",
    "3. Parameter(s) of the function\n",
    "4. Value returned from the function \n",
    "\n",
    "\n",
    "- Def: `Parameter`: variables made to hold the values that are send while function call\n",
    "- Def: `Arguments`: the actual values that are sent to these parameters are called arguments"
   ]
  },
  {
   "cell_type": "code",
   "execution_count": 15,
   "metadata": {},
   "outputs": [],
   "source": [
    "def full_name(first_name, last_name):\n",
    "    print(first_name, last_name)\n"
   ]
  },
  {
   "cell_type": "code",
   "execution_count": 17,
   "metadata": {},
   "outputs": [
    {
     "name": "stdout",
     "output_type": "stream",
     "text": [
      "Ayushi  Yadav\n"
     ]
    }
   ],
   "source": [
    "def take_user_name():\n",
    "    first_name = input(\"Enter the first name: \")\n",
    "    last_name = input(\"Enter the last name: \")\n",
    "\n",
    "    full_name(first_name, last_name)\n",
    "\n",
    "take_user_name()"
   ]
  }
 ],
 "metadata": {
  "kernelspec": {
   "display_name": "Python 3",
   "language": "python",
   "name": "python3"
  },
  "language_info": {
   "codemirror_mode": {
    "name": "ipython",
    "version": 3
   },
   "file_extension": ".py",
   "mimetype": "text/x-python",
   "name": "python",
   "nbconvert_exporter": "python",
   "pygments_lexer": "ipython3",
   "version": "3.12.1"
  }
 },
 "nbformat": 4,
 "nbformat_minor": 2
}
