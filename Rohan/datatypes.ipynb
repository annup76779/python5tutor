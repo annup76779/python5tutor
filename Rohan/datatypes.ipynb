{
 "cells": [
  {
   "cell_type": "code",
   "execution_count": 3,
   "metadata": {},
   "outputs": [
    {
     "name": "stdout",
     "output_type": "stream",
     "text": [
      "kjadjfk\n"
     ]
    }
   ],
   "source": [
    "print(\"kjadjfk\")\n",
    "s ='3423'"
   ]
  },
  {
   "cell_type": "markdown",
   "metadata": {},
   "source": [
    "#### Primitive Datatypes in python\n",
    "1. Integer - `int` Eg.: 12, -234, 0, 12\n",
    "2. Floating point - `float` Eg.: 12.44, -12.0, -22.3499324\n",
    "3. String - `str` Eg.: anything written withing `\" \"` or `' '`, `\"\"\" \"\"\"`, `''' '''`\n",
    "4. Boolean - `bool` Eg.: True, False"
   ]
  },
  {
   "cell_type": "markdown",
   "metadata": {},
   "source": [
    "#### Integer \n",
    "\n",
    "Integer is represented as `int` and is a datatype that is used to handle integer data from user that can varry from -ve infinity to +ve infinity including 0"
   ]
  },
  {
   "cell_type": "code",
   "execution_count": 6,
   "metadata": {},
   "outputs": [
    {
     "name": "stdout",
     "output_type": "stream",
     "text": [
      "168\n"
     ]
    }
   ],
   "source": [
    "print(234 + -66)\n"
   ]
  },
  {
   "cell_type": "markdown",
   "metadata": {},
   "source": [
    "#### Floating \n",
    "\n",
    "It is represented as `float` and is a datatype that is used to for working with rational data\n",
    "eg: 56.34, -98.34, 22/7"
   ]
  },
  {
   "cell_type": "code",
   "execution_count": 8,
   "metadata": {},
   "outputs": [
    {
     "name": "stdout",
     "output_type": "stream",
     "text": [
      "3.142857142857143\n",
      "7953.658513200001\n"
     ]
    }
   ],
   "source": [
    "print(22/7)\n",
    "print(23.2343 * 342.324)"
   ]
  },
  {
   "cell_type": "markdown",
   "metadata": {},
   "source": [
    "#### String\n",
    " \n",
    "It is represented as `str` and is a datatype that is used to handle any kind of textual data from user/ input or file or data from internet or socket communication etc."
   ]
  },
  {
   "cell_type": "code",
   "execution_count": 9,
   "metadata": {},
   "outputs": [
    {
     "name": "stdout",
     "output_type": "stream",
     "text": [
      "My name is Anurag Pandey, and I an teaching Rohan python programming.\n"
     ]
    }
   ],
   "source": [
    "print(\"My name is Anurag Pandey, and I an teaching Rohan python programming.\")"
   ]
  },
  {
   "cell_type": "markdown",
   "metadata": {},
   "source": [
    "#### Boolean\n",
    "\n",
    "It is represented as `bool` and is a datatype that is used to to handle any kind of conditional data result used to make decision making, choice picking etc."
   ]
  },
  {
   "cell_type": "code",
   "execution_count": 12,
   "metadata": {},
   "outputs": [
    {
     "name": "stdout",
     "output_type": "stream",
     "text": [
      "True False\n"
     ]
    }
   ],
   "source": [
    "print(6 < 5)"
   ]
  }
 ],
 "metadata": {
  "kernelspec": {
   "display_name": "Python 3",
   "language": "python",
   "name": "python3"
  },
  "language_info": {
   "codemirror_mode": {
    "name": "ipython",
    "version": 3
   },
   "file_extension": ".py",
   "mimetype": "text/x-python",
   "name": "python",
   "nbconvert_exporter": "python",
   "pygments_lexer": "ipython3",
   "version": "3.11.9"
  }
 },
 "nbformat": 4,
 "nbformat_minor": 2
}
