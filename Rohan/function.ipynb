{
 "cells": [
  {
   "cell_type": "markdown",
   "metadata": {},
   "source": [
    "### builtin functions\n",
    "1. These are the function that are provided to all the users of python.\n",
    "2. these are the function that are either utilties or comonally used functions like finding length of any collection of data.\n",
    "\n",
    "#### Commanly used builtin function is pytho\n",
    "1. print\n",
    "2. input\n",
    "3. min\n",
    "4. max\n",
    "5. sum\n",
    "6. len\n",
    "7. abs\n",
    "8. ord\n",
    "9. bin\n",
    "10. hash\n",
    "11. next\n",
    "13. eval\n",
    "14. isinstance\n",
    "15. type\n",
    "16. open"
   ]
  },
  {
   "cell_type": "code",
   "execution_count": 53,
   "metadata": {},
   "outputs": [
    {
     "data": {
      "text/plain": [
       "275003728891497367"
      ]
     },
     "execution_count": 53,
     "metadata": {},
     "output_type": "execute_result"
    }
   ],
   "source": [
    "# hash is a mathematical function that always return same output for same input, after performing some mathematical operation\n",
    "# the output value is not reversible, thus it makes it best to use then something has to be checked, verified, or searched\n",
    "# 1. the actual data cannot be retrieved from hash\n",
    "# 2. it is always same irrespective of machine and its architecture\n",
    "# 3. this makes it best for verification of data integrity\n",
    "# 4. the length of hash value is same for any length of data\n",
    "\n",
    "hash(\"akjsdnlkaurdjajksjd\") # 2953812631150317639, 275003728891497367"
   ]
  },
  {
   "cell_type": "code",
   "execution_count": 28,
   "metadata": {},
   "outputs": [
    {
     "data": {
      "text/plain": [
       "'0b11101010'"
      ]
     },
     "execution_count": 28,
     "metadata": {},
     "output_type": "execute_result"
    }
   ],
   "source": [
    "bin(234)\n",
    "# returns the binary representation of any decimal value padded with 0b"
   ]
  },
  {
   "cell_type": "code",
   "execution_count": 25,
   "metadata": {},
   "outputs": [
    {
     "data": {
      "text/plain": [
       "(65, 90, 97, 122)"
      ]
     },
     "execution_count": 25,
     "metadata": {},
     "output_type": "execute_result"
    }
   ],
   "source": [
    "# ASCII Table\n",
    "# what it is\n",
    "# why it was made\n",
    "# how to use it\n",
    "# range for a-z and A-Z\n",
    "ord('A'), ord('Z'), ord('a'), ord('z')"
   ]
  },
  {
   "cell_type": "code",
   "execution_count": 20,
   "metadata": {},
   "outputs": [
    {
     "data": {
      "text/plain": [
       "0"
      ]
     },
     "execution_count": 20,
     "metadata": {},
     "output_type": "execute_result"
    }
   ],
   "source": [
    "u = False\n",
    "abs(u)"
   ]
  },
  {
   "cell_type": "code",
   "execution_count": 12,
   "metadata": {},
   "outputs": [
    {
     "name": "stdout",
     "output_type": "stream",
     "text": [
      "11\n"
     ]
    }
   ],
   "source": [
    "h = (2,234,234,23,32,4,324,23,423,4,234)\n",
    "print(len(h))"
   ]
  },
  {
   "cell_type": "code",
   "execution_count": 11,
   "metadata": {},
   "outputs": [
    {
     "name": "stdout",
     "output_type": "stream",
     "text": [
      "1537\n"
     ]
    }
   ],
   "source": [
    "# sum function is used to find the addition value from the given collection of data\n",
    "j = sum((2,234,234,23,32,4,324,23,423,4,234))\n",
    "print(j)"
   ]
  },
  {
   "cell_type": "code",
   "execution_count": 9,
   "metadata": {},
   "outputs": [
    {
     "name": "stdout",
     "output_type": "stream",
     "text": [
      "423\n"
     ]
    }
   ],
   "source": [
    "# max function is used to find the maximum value from the given collection of data\n",
    "j = max(2,234,234,23,32,4,324,23,423,4,234)\n",
    "print(j)"
   ]
  },
  {
   "cell_type": "code",
   "execution_count": 8,
   "metadata": {},
   "outputs": [
    {
     "name": "stdout",
     "output_type": "stream",
     "text": [
      "2\n"
     ]
    }
   ],
   "source": [
    "# min function is used to find the minimun value from the given collection of data\n",
    "j = min(2,234,234,23,32,4,324,23,423,4,234)\n",
    "print(j)"
   ]
  },
  {
   "cell_type": "code",
   "execution_count": 1,
   "metadata": {},
   "outputs": [
    {
     "name": "stdout",
     "output_type": "stream",
     "text": [
      "Used to print any information that can be somehow converted to string\n"
     ]
    }
   ],
   "source": [
    "print(\"Used to print any information that can be somehow converted to string\")"
   ]
  },
  {
   "cell_type": "code",
   "execution_count": 4,
   "metadata": {},
   "outputs": [
    {
     "name": "stdout",
     "output_type": "stream",
     "text": [
      "<class 'str'> 2343242343423\n"
     ]
    }
   ],
   "source": [
    "k = input(\"Enter any text: \")\n",
    "# input function takes a user input and returns that input in string format in response\n",
    "# which means that `k` will have a value after taking input and the type of tht value is going to be string, and it is fixed.\n",
    "\n",
    "print(type(k), k)"
   ]
  },
  {
   "cell_type": "code",
   "execution_count": 6,
   "metadata": {},
   "outputs": [
    {
     "name": "stdout",
     "output_type": "stream",
     "text": [
      "1\n",
      "2\n",
      "4\n",
      "5\n",
      "35345\n",
      "435\n",
      "3\n"
     ]
    }
   ],
   "source": [
    "# next - it is used to get the one step after the last accessed item from a collection of data\n",
    "lst = iter((1, 2, 4, 5, 35345,435,3,3,423))\n",
    "new_element = next(lst)\n",
    "print(new_element)\n",
    "\n",
    "new_element = next(lst)\n",
    "print(new_element)\n",
    "\n",
    "new_element = next(lst)\n",
    "print(new_element)\n",
    "\n",
    "new_element = next(lst)\n",
    "print(new_element)\n",
    "\n",
    "new_element = next(lst)\n",
    "print(new_element)\n",
    "\n",
    "new_element = next(lst)\n",
    "print(new_element)\n",
    "\n",
    "new_element = next(lst)\n",
    "print(new_element)"
   ]
  },
  {
   "cell_type": "code",
   "execution_count": 9,
   "metadata": {},
   "outputs": [
    {
     "name": "stdout",
     "output_type": "stream",
     "text": [
      "192360.50406504064\n"
     ]
    }
   ],
   "source": [
    "# eval - this builtin function is used to evaluate any expression provided in string form\n",
    "# for example if you have \"12+3*11\" -> then even will calculate this \n",
    "\n",
    "exp = \"12*3+11*154+123+23432423/123\"\n",
    "print(eval(exp))"
   ]
  },
  {
   "cell_type": "code",
   "execution_count": 12,
   "metadata": {},
   "outputs": [
    {
     "name": "stdout",
     "output_type": "stream",
     "text": [
      "<class 'str'>\n",
      "True\n"
     ]
    }
   ],
   "source": [
    "# type - this is the base class of all the data types and it is generally used to get the type of any value\n",
    "k = \"Anurag\"\n",
    "print(type(k))\n",
    "\n",
    "user_in = input(\"Enter yes or no: \")\n",
    "if user_in == \"yes\":\n",
    "    k = 12\n",
    "\n",
    "print(isinstance(k, str))\n"
   ]
  },
  {
   "cell_type": "markdown",
   "metadata": {},
   "source": [
    "1. r - read a file\n",
    "2. x - create a file\n",
    "3. w - write a file\n",
    "4. a - add new data into existing file\n",
    "5. rb - read binary file, like image, video, etc.\n",
    "6. wb - write binary file"
   ]
  },
  {
   "cell_type": "code",
   "execution_count": 16,
   "metadata": {},
   "outputs": [],
   "source": [
    "f = open(\"text_file.txt\", \"x\")"
   ]
  },
  {
   "cell_type": "code",
   "execution_count": 17,
   "metadata": {},
   "outputs": [
    {
     "name": "stdout",
     "output_type": "stream",
     "text": [
      "Hello, my name is Anurag Pandey\n",
      "I am teaching Rohan, Python programming\n"
     ]
    }
   ],
   "source": [
    "print(f.read())"
   ]
  },
  {
   "cell_type": "code",
   "execution_count": 21,
   "metadata": {},
   "outputs": [],
   "source": [
    "f= open(\"text2_file.txt\", \"w\")\n",
    "f.write(\"This is a text file\")\n",
    "f.flush()\n",
    "f.close()"
   ]
  },
  {
   "cell_type": "code",
   "execution_count": 22,
   "metadata": {},
   "outputs": [],
   "source": [
    "f= open(\"text2_file.txt\", \"a\")\n",
    "f.write(\"This is a text file\")\n",
    "f.flush()\n",
    "f.close()"
   ]
  },
  {
   "cell_type": "code",
   "execution_count": 23,
   "metadata": {},
   "outputs": [
    {
     "data": {
      "text/plain": [
       "262772"
      ]
     },
     "execution_count": 23,
     "metadata": {},
     "output_type": "execute_result"
    }
   ],
   "source": [
    "img = open(r\"C:\\Users\\annup\\Desktop\\LoginWelcomeImage.png\", \"rb\")\n",
    "copy_img = open(\"copy_imag.png\", \"wb\")\n",
    "copy_img.write(img.read())"
   ]
  }
 ],
 "metadata": {
  "kernelspec": {
   "display_name": "Python 3",
   "language": "python",
   "name": "python3"
  },
  "language_info": {
   "codemirror_mode": {
    "name": "ipython",
    "version": 3
   },
   "file_extension": ".py",
   "mimetype": "text/x-python",
   "name": "python",
   "nbconvert_exporter": "python",
   "pygments_lexer": "ipython3",
   "version": "3.11.9"
  }
 },
 "nbformat": 4,
 "nbformat_minor": 2
}
