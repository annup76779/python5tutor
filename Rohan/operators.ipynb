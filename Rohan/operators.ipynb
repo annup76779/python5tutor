{
 "cells": [
  {
   "cell_type": "markdown",
   "metadata": {},
   "source": [
    "#### What are operators\n",
    "These are special symbols with special meaning or special set of defined operations, like addition, subtraction, multiplication, exponent, etc\n",
    "\n",
    "So, they are categorised into following types - \n",
    "1. Arithmatic operator\n",
    "2. Assignment operator\n",
    "3. Comparison operator\n",
    "4. Logical operator\n",
    "5. Membership operator\n",
    "6. Intentitly operator\n",
    "7. bitwise operator"
   ]
  },
  {
   "cell_type": "markdown",
   "metadata": {},
   "source": [
    "#### Arithmatic operators \n",
    "+, -, *, /, //, %, **\n",
    "\n",
    "1. `+` -> `Addition`\n",
    "2. `-` -> `Subtraction`\n",
    "3. `*` -> `Multiplication`\n",
    "4. `/` -> `nomal division`\n",
    "5. `//` -> `floor division`\n",
    "6. `%` -> `modulus`\n",
    "7. `**` -> `Exponentiation`"
   ]
  },
  {
   "cell_type": "code",
   "execution_count": 3,
   "metadata": {},
   "outputs": [
    {
     "name": "stdout",
     "output_type": "stream",
     "text": [
      "15\n",
      "-3\n",
      "54\n",
      "0.6666666666666666\n",
      "0\n",
      "6\n",
      "3.0\n"
     ]
    }
   ],
   "source": [
    "print(6+9)\n",
    "print(6 - 9)\n",
    "print(6 * 9)\n",
    "print(6/9)\n",
    "print(6 // 9)\n",
    "print(6 % 9)\n",
    "print(9 ** 0.5)"
   ]
  },
  {
   "cell_type": "markdown",
   "metadata": {},
   "source": [
    "### Assignment operators \n",
    "1. We use these to assign any value to any variable\n",
    "2. variable is written on the left hand side of the operator and then we use the assignment operator and then we write the actual value\n",
    "\n",
    "Example:\n",
    "```python\n",
    "var1 = 12\n",
    "var1 += 2\n",
    "```"
   ]
  },
  {
   "cell_type": "code",
   "execution_count": 1,
   "metadata": {},
   "outputs": [],
   "source": [
    "var1 = 12"
   ]
  },
  {
   "cell_type": "code",
   "execution_count": 8,
   "metadata": {},
   "outputs": [],
   "source": [
    "var1 += 2\n",
    "var1 -= 2\n",
    "var1 *= 4\n",
    "var1 /=5\n",
    "# var1 = var1 + 2"
   ]
  },
  {
   "cell_type": "markdown",
   "metadata": {},
   "source": [
    "### Comparison operators \n",
    "1. These operators are used to compare two values with each other and then get the result in boolean [True or False]\n",
    "\n",
    "```\n",
    "==    to check equality  \n",
    "!=    to check inequality\n",
    "<     to check if left had side is less than right hand side\n",
    ">     to check if left had side is greater than right hand side\n",
    "<=    to check if left had side is less than or equal to right hand side\n",
    ">=    to check if left had side is greater than or equal to right hand side\n",
    "```"
   ]
  },
  {
   "cell_type": "code",
   "execution_count": 9,
   "metadata": {},
   "outputs": [
    {
     "name": "stdout",
     "output_type": "stream",
     "text": [
      "False\n",
      "True\n",
      "True\n"
     ]
    }
   ],
   "source": [
    "num1 = 19\n",
    "num2 = 32\n",
    "print(num1 == num2)\n",
    "print(num1 != num2)\n",
    "print(num1 < num2)\n"
   ]
  },
  {
   "cell_type": "markdown",
   "metadata": {},
   "source": [
    "### logical operator\n",
    "1. and\n",
    "2. or\n",
    "3. not\n",
    "\n",
    "<table>\n",
    "    <thead>\n",
    "        <tr>\n",
    "            <th>Operator</th>\n",
    "            <th>bool 1</th>\n",
    "            <th>bool 2</th>\n",
    "            <th>result</th>\n",
    "        </tr>\n",
    "    </thead>\n",
    "    <tbody>\n",
    "        <tr>\n",
    "            <td>`and`</td>\n",
    "            <td>True</td>\n",
    "            <td>True</td>\n",
    "            <td>True</td>\n",
    "        </tr>\n",
    "        <tr>\n",
    "            <td>`and`</td>\n",
    "            <td>False</td>\n",
    "            <td>True</td>\n",
    "            <td>False</td>\n",
    "        </tr>\n",
    "        <tr>\n",
    "            <td>`and`</td>\n",
    "            <td>True</td>\n",
    "            <td>False</td>\n",
    "            <td>False</td>\n",
    "        </tr>\n",
    "        <tr>\n",
    "            <td>`and`</td>\n",
    "            <td>False</td>\n",
    "            <td>False</td>\n",
    "            <td>False</td>\n",
    "        </tr>\n",
    "        <tr>\n",
    "            <td>`or`</td>\n",
    "            <td>True</td>\n",
    "            <td>True</td>\n",
    "            <td>True</td>\n",
    "        </tr>\n",
    "        <tr>\n",
    "            <td>`or`</td>\n",
    "            <td>False</td>\n",
    "            <td>True</td>\n",
    "            <td>True</td>\n",
    "        </tr>\n",
    "        <tr>\n",
    "            <td>`or`</td>\n",
    "            <td>True</td>\n",
    "            <td>False</td>\n",
    "            <td>True</td>\n",
    "        </tr>\n",
    "        <tr>\n",
    "            <td>`or`</td>\n",
    "            <td>False</td>\n",
    "            <td>False</td>\n",
    "            <td>False</td>\n",
    "        </tr>\n",
    "        <tr>\n",
    "            <td>`not`</td>\n",
    "            <td> - </td>\n",
    "            <td>True</td>\n",
    "            <td>False</td>\n",
    "        </tr>\n",
    "        <tr>\n",
    "            <td>`not`</td>\n",
    "            <td> - </td>\n",
    "            <td>False</td>\n",
    "            <td>True</td>\n",
    "        </tr>\n",
    "    </tbody>\n",
    "</table>\n"
   ]
  },
  {
   "cell_type": "code",
   "execution_count": 15,
   "metadata": {},
   "outputs": [
    {
     "name": "stdout",
     "output_type": "stream",
     "text": [
      "False\n"
     ]
    }
   ],
   "source": [
    "num1 = 12\n",
    "num2 = 10\n",
    "\n",
    "print(num1 == num2 and num1 > num2)"
   ]
  },
  {
   "cell_type": "markdown",
   "metadata": {},
   "source": [
    "### Membership operators\n",
    "1. Membership operators are used to determine if any value is present in set of values\n",
    "2. Eg. if you have a list of names and you want to check if any single value is present in list of names \n",
    "\n",
    "---- \n",
    "1. `in`: to check if any value is present in set of values\n",
    "2. `not in`: to check if any value is not present in set of values "
   ]
  },
  {
   "cell_type": "code",
   "execution_count": 4,
   "metadata": {},
   "outputs": [
    {
     "data": {
      "text/plain": [
       "False"
      ]
     },
     "execution_count": 4,
     "metadata": {},
     "output_type": "execute_result"
    }
   ],
   "source": [
    "s = \"akljdfkljakfkjakfjklajkfjklasjfaklsjaklfjkla;sjfkjask;l jfasjfklasjjasdj iasdjfklj askl;hfaks fioqwjwfiojasdom aklsdjfklasdjfkljklasdjfasdjkl fjfaklsdfkajsd a dsjfklasdklfjtasdjfk;laksj\"\n",
    "\n",
    "val = \"l\"\n",
    "val not in s"
   ]
  },
  {
   "cell_type": "markdown",
   "metadata": {},
   "source": [
    "### Identity operator\n",
    "1. `is`  -> True if identity matches\n",
    "2. `is not` -> False if identity matches"
   ]
  },
  {
   "cell_type": "code",
   "execution_count": 15,
   "metadata": {},
   "outputs": [
    {
     "name": "stdout",
     "output_type": "stream",
     "text": [
      "140705517171848\n",
      "140705517171848\n"
     ]
    },
    {
     "data": {
      "text/plain": [
       "False"
      ]
     },
     "execution_count": 15,
     "metadata": {},
     "output_type": "execute_result"
    }
   ],
   "source": [
    "var = 12\n",
    "var2 = 12\n",
    "\n",
    "print(id(var))\n",
    "print(id(var2))\n",
    "\n",
    "var is not var2"
   ]
  },
  {
   "cell_type": "code",
   "execution_count": 20,
   "metadata": {},
   "outputs": [
    {
     "data": {
      "text/plain": [
       "('0b1', '0b0')"
      ]
     },
     "execution_count": 20,
     "metadata": {},
     "output_type": "execute_result"
    }
   ],
   "source": [
    "bin(1), bin(0)\n",
    "\n",
    "1 & 0"
   ]
  }
 ],
 "metadata": {
  "kernelspec": {
   "display_name": "Python 3",
   "language": "python",
   "name": "python3"
  },
  "language_info": {
   "codemirror_mode": {
    "name": "ipython",
    "version": 3
   },
   "file_extension": ".py",
   "mimetype": "text/x-python",
   "name": "python",
   "nbconvert_exporter": "python",
   "pygments_lexer": "ipython3",
   "version": "3.11.9"
  }
 },
 "nbformat": 4,
 "nbformat_minor": 2
}
