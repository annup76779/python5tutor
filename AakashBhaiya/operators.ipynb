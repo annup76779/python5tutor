{
 "cells": [
  {
   "attachments": {},
   "cell_type": "markdown",
   "metadata": {},
   "source": [
    "## integer and float operations\n",
    "\n",
    "# Arithmatic operators\n",
    "1. add -> +\n",
    "2. subtract -> -\n",
    "3. multiply -> *\n",
    "4. divide -> /, //, %\n",
    "   1. normal division  -> 5/2  -> 2.5\n",
    "   2. floor division   -> 5//2 -> 2\n",
    "   3. modulos division -> 5%2 -> 1\n",
    "    ```\n",
    "        100 // 10 -> 10// 10 -> 1//10 -> 0\n",
    "    ```\n",
    "5. exponent -> 64 ** 0.5"
   ]
  },
  {
   "cell_type": "code",
   "execution_count": 2,
   "metadata": {},
   "outputs": [
    {
     "name": "stdout",
     "output_type": "stream",
     "text": [
      "13\n",
      "-5\n",
      "36\n",
      "0.4444444444444444\n",
      "0\n",
      "4\n",
      "8\n"
     ]
    }
   ],
   "source": [
    "x = 4\n",
    "y = 9\n",
    "res = x + y\n",
    "print(res)\n",
    "res = x - y\n",
    "print(res)\n",
    "res = x * y\n",
    "print(res)\n",
    "res = x / y\n",
    "print(res)\n",
    "res = x // y\n",
    "print(res)\n",
    "\n",
    "res = x % y\n",
    "print(res)\n",
    "\n",
    "res = 2 ** 3\n",
    "print(res)\n"
   ]
  },
  {
   "attachments": {},
   "cell_type": "markdown",
   "metadata": {},
   "source": [
    "## assignment operators \n",
    "1. =\n",
    "2. +=\n",
    "3. -=\n",
    "4. *=\n",
    "5. /=\n",
    "6. //=\n",
    "7. %=\n",
    "8. **=\n",
    "9. &=\n",
    "10. |=\n",
    "11. ^="
   ]
  },
  {
   "cell_type": "code",
   "execution_count": 4,
   "metadata": {},
   "outputs": [
    {
     "name": "stdout",
     "output_type": "stream",
     "text": [
      "361\n",
      "841\n"
     ]
    }
   ],
   "source": [
    "g = 10 + 9\n",
    "h = 19\n",
    "print(h**2)\n",
    "h += g\n",
    "print(h**2)"
   ]
  },
  {
   "attachments": {},
   "cell_type": "markdown",
   "metadata": {},
   "source": [
    "## using +, * in strings"
   ]
  },
  {
   "cell_type": "code",
   "execution_count": 12,
   "metadata": {},
   "outputs": [
    {
     "name": "stdout",
     "output_type": "stream",
     "text": [
      "$$$$$$$$$$$$$$$$$$$$\n",
      "aaaaaaaaaa\n",
      "$$$$$$$$$$$$$$$$$$$$aaaaaaaaaa\n"
     ]
    }
   ],
   "source": [
    "s = \"$\"\n",
    "s *= 20\n",
    "print(s)\n",
    "\n",
    "\n",
    "print(10+11+12+13+14)\n",
    "\n",
    "k=\"a\"\n",
    "k = k * 10\n",
    "print(k)\n",
    "\n",
    "j = s + k\n",
    "print(j)"
   ]
  },
  {
   "attachments": {},
   "cell_type": "markdown",
   "metadata": {},
   "source": [
    "\n",
    "# Boolean Datatype [True or False]\n",
    "## Comparison operators\n",
    "1. equality (==)\n",
    "2. not equal (!=)\n",
    "3. less than (>)\n",
    "4. greater than (<)\n",
    "5. less than and equal (>=)\n",
    "6. greater than and equal (<=)"
   ]
  },
  {
   "cell_type": "code",
   "execution_count": 24,
   "metadata": {},
   "outputs": [
    {
     "name": "stdout",
     "output_type": "stream",
     "text": [
      "True\n",
      "True\n"
     ]
    }
   ],
   "source": [
    "x = \"a\"\n",
    "y = \"b\"\n",
    "z = \"c\"\n",
    "\n",
    "com = x < y\n",
    "print(com)\n"
   ]
  },
  {
   "cell_type": "code",
   "execution_count": 33,
   "metadata": {},
   "outputs": [
    {
     "name": "stdout",
     "output_type": "stream",
     "text": [
      "False\n"
     ]
    },
    {
     "data": {
      "text/plain": [
       "('0b1001', '0b1000')"
      ]
     },
     "execution_count": 33,
     "metadata": {},
     "output_type": "execute_result"
    }
   ],
   "source": [
    "# check if a number is divisible by 7\n",
    "\n",
    "x = 49\n",
    "y = 51\n",
    "res = x % 7 == 0 or y % 5 == 0\n",
    "print(res)\n"
   ]
  },
  {
   "attachments": {},
   "cell_type": "markdown",
   "metadata": {},
   "source": [
    "## logical operators\n",
    "1. and [True and True] -> True    else False\n",
    "2. or [False and False] -> False  else always True\n",
    "3. not [reverse the output] -> True to False and False to True"
   ]
  },
  {
   "attachments": {},
   "cell_type": "markdown",
   "metadata": {},
   "source": [
    "# membership operators\n",
    "\n",
    "1. in  -> [`v1` is in list of data]\n",
    "2. is  -> [`v1` is same as `v2` or any `type`]\n",
    "3. not in -> [`v1` is not in list of data]"
   ]
  }
 ],
 "metadata": {
  "kernelspec": {
   "display_name": "Python 3",
   "language": "python",
   "name": "python3"
  },
  "language_info": {
   "codemirror_mode": {
    "name": "ipython",
    "version": 3
   },
   "file_extension": ".py",
   "mimetype": "text/x-python",
   "name": "python",
   "nbconvert_exporter": "python",
   "pygments_lexer": "ipython3",
   "version": "3.10.7"
  },
  "orig_nbformat": 4,
  "vscode": {
   "interpreter": {
    "hash": "4c75d34ee1fcdb015885d85ab071295bd815e7d150290c0ae76b929ae622a1c7"
   }
  }
 },
 "nbformat": 4,
 "nbformat_minor": 2
}
