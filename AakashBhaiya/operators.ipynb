{
 "cells": [
  {
   "attachments": {},
   "cell_type": "markdown",
   "metadata": {},
   "source": [
    "## integer and float operations\n",
    "\n",
    "# Arithmatic operators\n",
    "1. add -> +\n",
    "2. subtract -> -\n",
    "3. multiply -> *\n",
    "4. divide -> /, //, %\n",
    "   1. normal division  -> 5/2  -> 2.5\n",
    "   2. floor division   -> 5//2 -> 2\n",
    "   3. modulos division -> 5%2 -> 1\n",
    "    ```\n",
    "        100 // 10 -> 10// 10 -> 1//10 -> 0\n",
    "    ```\n",
    "5. exponent -> 64 ** 0.5"
   ]
  },
  {
   "cell_type": "code",
   "execution_count": 2,
   "metadata": {},
   "outputs": [
    {
     "name": "stdout",
     "output_type": "stream",
     "text": [
      "13\n",
      "-5\n",
      "36\n",
      "0.4444444444444444\n",
      "0\n",
      "4\n",
      "8\n"
     ]
    }
   ],
   "source": [
    "x = 4\n",
    "y = 9\n",
    "res = x + y\n",
    "print(res)\n",
    "res = x - y\n",
    "print(res)\n",
    "res = x * y\n",
    "print(res)\n",
    "res = x / y\n",
    "print(res)\n",
    "res = x // y\n",
    "print(res)\n",
    "\n",
    "res = x % y\n",
    "print(res)\n",
    "\n",
    "res = 2 ** 3\n",
    "print(res)\n"
   ]
  },
  {
   "attachments": {},
   "cell_type": "markdown",
   "metadata": {},
   "source": [
    "## assignment operators \n",
    "1. =\n",
    "2. +=\n",
    "3. -=\n",
    "4. *=\n",
    "5. /=\n",
    "6. //=\n",
    "7. %=\n",
    "8. **=\n",
    "9. &=\n",
    "10. |=\n",
    "11. ^="
   ]
  },
  {
   "cell_type": "code",
   "execution_count": 4,
   "metadata": {},
   "outputs": [
    {
     "name": "stdout",
     "output_type": "stream",
     "text": [
      "361\n",
      "841\n"
     ]
    }
   ],
   "source": [
    "g = 10\n",
    "h = 19\n",
    "print(h**2)\n",
    "h += g\n",
    "print(h**2)"
   ]
  },
  {
   "attachments": {},
   "cell_type": "markdown",
   "metadata": {},
   "source": [
    "## using +, * in strings"
   ]
  },
  {
   "cell_type": "code",
   "execution_count": 12,
   "metadata": {},
   "outputs": [
    {
     "name": "stdout",
     "output_type": "stream",
     "text": [
      "$$$$$$$$$$$$$$$$$$$$\n",
      "aaaaaaaaaa\n",
      "$$$$$$$$$$$$$$$$$$$$aaaaaaaaaa\n"
     ]
    }
   ],
   "source": [
    "s = \"$\"\n",
    "s *= 20\n",
    "print(s)\n",
    "\n",
    "k=\"a\"\n",
    "k = k * 10\n",
    "print(k)\n",
    "\n",
    "j = s + k\n",
    "print(j)"
   ]
  },
  {
   "attachments": {},
   "cell_type": "markdown",
   "metadata": {},
   "source": [
    "\n",
    "# Boolean Datatype [True or False]\n",
    "## Comparison operators\n",
    "1. equality (==)\n",
    "2. not equal (!=)\n",
    "3. less than (>)\n",
    "4. greater than (<)\n",
    "5. less than and equal (>=)\n",
    "6. greater than and equal (<=)"
   ]
  },
  {
   "cell_type": "code",
   "execution_count": 23,
   "metadata": {},
   "outputs": [
    {
     "name": "stdout",
     "output_type": "stream",
     "text": [
      "True\n"
     ]
    }
   ],
   "source": [
    "x = \"a\"\n",
    "y = \"b\"\n",
    "\n",
    "com = x < y\n",
    "print(com)"
   ]
  }
 ],
 "metadata": {
  "kernelspec": {
   "display_name": "Python 3",
   "language": "python",
   "name": "python3"
  },
  "language_info": {
   "codemirror_mode": {
    "name": "ipython",
    "version": 3
   },
   "file_extension": ".py",
   "mimetype": "text/x-python",
   "name": "python",
   "nbconvert_exporter": "python",
   "pygments_lexer": "ipython3",
   "version": "3.10.7"
  },
  "orig_nbformat": 4,
  "vscode": {
   "interpreter": {
    "hash": "4c75d34ee1fcdb015885d85ab071295bd815e7d150290c0ae76b929ae622a1c7"
   }
  }
 },
 "nbformat": 4,
 "nbformat_minor": 2
}
