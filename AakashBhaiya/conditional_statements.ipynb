{
 "cells": [
  {
   "attachments": {},
   "cell_type": "markdown",
   "metadata": {},
   "source": [
    "## conditional statements \n",
    "1. if statement\n",
    "2. if else statement\n",
    "3. if elif else statement\n",
    "4. if else ladder statement"
   ]
  },
  {
   "attachments": {},
   "cell_type": "markdown",
   "metadata": {},
   "source": [
    "# block statements\n",
    "1. if else statements\n",
    "2. looping statements\n",
    "3. function definitions\n",
    "4. classes\n",
    "5. lambda functions definitions\n",
    "6. methods\n",
    "7. generators"
   ]
  },
  {
   "cell_type": "code",
   "execution_count": 4,
   "metadata": {},
   "outputs": [],
   "source": [
    "m = 270\n",
    "# indentation\n",
    "if m >= 200 and m < 400:\n",
    "    print(\"Yes, you can buy\")\n",
    "else:\n",
    "    print(\"No, you canot by\")\n"
   ]
  },
  {
   "cell_type": "code",
   "execution_count": 6,
   "metadata": {},
   "outputs": [
    {
     "name": "stdout",
     "output_type": "stream",
     "text": [
      "l is the largest number\n"
     ]
    }
   ],
   "source": [
    "n, m, l = 2, 23, 34\n",
    "\n",
    "if n > m:\n",
    "    if n > l:\n",
    "        print(\"n is the largest number\")\n",
    "    else:\n",
    "        print(\"l is the largest number\")\n",
    "else:\n",
    "    if m > l:\n",
    "        print(\"m is the largest number\")\n",
    "    else:\n",
    "        print(\"l is the largest number\")"
   ]
  },
  {
   "cell_type": "code",
   "execution_count": null,
   "metadata": {},
   "outputs": [],
   "source": [
    "n, m, l = 2, 23, 34\n",
    "if n > m:\n",
    "    if n > l:\n",
    "        print(\"n is the largest number\")\n",
    "    else:\n",
    "        print(\"l is the largest number\")\n",
    "elif m > l:\n",
    "    print(\"m is the largest number\")\n",
    "else:\n",
    "    print(\"l is the largest number\")"
   ]
  }
 ],
 "metadata": {
  "kernelspec": {
   "display_name": "Python 3",
   "language": "python",
   "name": "python3"
  },
  "language_info": {
   "codemirror_mode": {
    "name": "ipython",
    "version": 3
   },
   "file_extension": ".py",
   "mimetype": "text/x-python",
   "name": "python",
   "nbconvert_exporter": "python",
   "pygments_lexer": "ipython3",
   "version": "3.10.7"
  },
  "orig_nbformat": 4,
  "vscode": {
   "interpreter": {
    "hash": "4c75d34ee1fcdb015885d85ab071295bd815e7d150290c0ae76b929ae622a1c7"
   }
  }
 },
 "nbformat": 4,
 "nbformat_minor": 2
}
