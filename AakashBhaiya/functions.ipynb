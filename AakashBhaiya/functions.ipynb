{
 "cells": [
  {
   "cell_type": "markdown",
   "metadata": {},
   "source": [
    "1. why to make this function\n",
    "2. what we need to do something\n",
    "3. how that task should be performed \n",
    "4. what should be the output"
   ]
  },
  {
   "cell_type": "markdown",
   "metadata": {},
   "source": [
    "Write a function to take 5 subject marks in float datatype and then find the percentage of it and give it's output"
   ]
  },
  {
   "cell_type": "code",
   "execution_count": 16,
   "metadata": {},
   "outputs": [
    {
     "name": "stdout",
     "output_type": "stream",
     "text": [
      "Final percentage is: 1.0\n",
      "38\n",
      "1.0\n"
     ]
    }
   ],
   "source": [
    "sub1 = 38\n",
    "\n",
    "def calculate_percentage():\n",
    "    sub1 = float(input(\"Enter the marks of first subject: \"))\n",
    "    sub2 = float(input(\"Enter the marks of second subject: \"))\n",
    "    sub3 = float(input(\"Enter the marks of third subject: \"))\n",
    "    sub4 = float(input(\"Enter the marks of fourth subject: \"))\n",
    "    sub5 = float(input(\"Enter the marks of fifth subject: \"))\n",
    "    percentage = (sum((sub1, sub2, sub3, sub4, sub5))/500) * 100\n",
    "    print(\"Final percentage is:\", percentage)\n",
    "    return percentage\n",
    "\n",
    "k = calculate_percentage()\n",
    "print(sub1)\n",
    "print(k)"
   ]
  },
  {
   "cell_type": "code",
   "execution_count": 17,
   "metadata": {},
   "outputs": [],
   "source": [
    "# make a program to get the sub of (sum of 5 subject)/500\n",
    "def get_subject_by_500():\n",
    "    sub1 = float(input(\"Enter the marks of first subject: \"))\n",
    "    sub2 = float(input(\"Enter the marks of second subject: \"))\n",
    "    sub3 = float(input(\"Enter the marks of third subject: \"))\n",
    "    sub4 = float(input(\"Enter the marks of fourth subject: \"))\n",
    "    sub5 = float(input(\"Enter the marks of fifth subject: \"))\n",
    "\n",
    "    result = (sub1 + sub2 + sub3 + sub4 + sub5)/500\n",
    "    return result\n",
    "\n",
    "\n",
    "# make another function that return the percentage \n",
    "def calculate_percentage():\n",
    "    percent = get_subject_by_500() * 100\n",
    "    return percent\n",
    "\n",
    "\n",
    "# a function that gives the grade, pecentage of the result\n",
    "def get_grade():\n",
    "    percent = calculate_percentage()\n",
    "    if percent > 90:\n",
    "        return \"A Grade\"\n",
    "    elif percent > 80:\n",
    "        return \"B Grade\"\n",
    "    elif percent > 60:\n",
    "        return \"C Grade\"\n",
    "    elif percent > 40:\n",
    "        return \"D Grade\"\n",
    "    else:\n",
    "        return \"Failed\"\n",
    "\n",
    "\n",
    "final_grade = get_grade()\n",
    "print(\"My final grade is:\", final_grade)"
   ]
  }
 ],
 "metadata": {
  "kernelspec": {
   "display_name": "Python 3",
   "language": "python",
   "name": "python3"
  },
  "language_info": {
   "codemirror_mode": {
    "name": "ipython",
    "version": 3
   },
   "file_extension": ".py",
   "mimetype": "text/x-python",
   "name": "python",
   "nbconvert_exporter": "python",
   "pygments_lexer": "ipython3",
   "version": "3.10.7"
  },
  "orig_nbformat": 4
 },
 "nbformat": 4,
 "nbformat_minor": 2
}
