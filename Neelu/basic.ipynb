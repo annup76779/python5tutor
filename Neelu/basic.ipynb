{
 "cells": [
  {
   "cell_type": "markdown",
   "metadata": {},
   "source": [
    "## datatype in python\n",
    "1. integer(int) -> 8, 9, 10, -10, -9, 0\n",
    "2. floating point number(float) -> 8.0, 8.9, 9.1, -5.5, 8.987654321234567\n",
    "3. string(str)-> anything in \"str\" or 'str', or\"\"\"str\"\"\", '''str'''\n",
    "4. Boolean(bool) -> True, False"
   ]
  },
  {
   "cell_type": "code",
   "execution_count": 4,
   "metadata": {},
   "outputs": [
    {
     "name": "stdout",
     "output_type": "stream",
     "text": [
      "-1\n"
     ]
    }
   ],
   "source": [
    "# integer\n",
    "num1 = 8\n",
    "num2 = 9\n",
    "print(num1-num2)"
   ]
  },
  {
   "cell_type": "code",
   "execution_count": 6,
   "metadata": {},
   "outputs": [
    {
     "name": "stdout",
     "output_type": "stream",
     "text": [
      "18.0\n",
      "16.0\n"
     ]
    }
   ],
   "source": [
    "# float\n",
    "fnum = 9.9\n",
    "fnum2 = 8.1\n",
    "print(fnum + fnum2)\n",
    "\n",
    "# float and integer combo\n",
    "num1 = 8\n",
    "fnum = 8.0\n",
    "print(num1 + fnum)"
   ]
  },
  {
   "cell_type": "code",
   "execution_count": 13,
   "metadata": {},
   "outputs": [
    {
     "name": "stdout",
     "output_type": "stream",
     "text": [
      "Anurag Pandey\n"
     ]
    }
   ],
   "source": [
    "# strings\n",
    "first_name = \"Anurag\"\n",
    "last_name = \"Pandey\"\n",
    "print(first_name, last_name)"
   ]
  },
  {
   "cell_type": "code",
   "execution_count": 15,
   "metadata": {},
   "outputs": [
    {
     "name": "stdout",
     "output_type": "stream",
     "text": [
      "Ayushi  Yadav\n"
     ]
    }
   ],
   "source": [
    "# user input in python \n",
    "# for this we use input() of python\n",
    "first_name = input(\"Enter your first name: \")\n",
    "last_name = input(\"Enter your last name: \")\n",
    "print(first_name, last_name)\n",
    "# NOTE: input() of python always returns input data in string format"
   ]
  },
  {
   "cell_type": "code",
   "execution_count": 21,
   "metadata": {},
   "outputs": [
    {
     "name": "stdout",
     "output_type": "stream",
     "text": [
      "17.1\n"
     ]
    }
   ],
   "source": [
    "num1 = float(input(\"Enter the first number: \"))\n",
    "num2 = int(input(\"Emnter the second number: \"))\n",
    "\n",
    "# type casting from string to integer\n",
    "# num1 = int(num1)\n",
    "# num2 = int(num2)\n",
    "print(num1 + num2)"
   ]
  },
  {
   "cell_type": "code",
   "execution_count": 27,
   "metadata": {},
   "outputs": [
    {
     "data": {
      "text/plain": [
       "True"
      ]
     },
     "execution_count": 27,
     "metadata": {},
     "output_type": "execute_result"
    }
   ],
   "source": [
    "check1= True\n",
    "check2 =0\n",
    "check3 = False\n",
    "check4 = \"g\"\n",
    "check3 == check2\n",
    "bool(\"0\")"
   ]
  }
 ],
 "metadata": {
  "kernelspec": {
   "display_name": "Python 3.10.4 64-bit",
   "language": "python",
   "name": "python3"
  },
  "language_info": {
   "codemirror_mode": {
    "name": "ipython",
    "version": 3
   },
   "file_extension": ".py",
   "mimetype": "text/x-python",
   "name": "python",
   "nbconvert_exporter": "python",
   "pygments_lexer": "ipython3",
   "version": "3.10.4"
  },
  "orig_nbformat": 4,
  "vscode": {
   "interpreter": {
    "hash": "4f946df053fbf2b937619d3c5458e7af74262f9a954d8797ba0b27400bcafe06"
   }
  }
 },
 "nbformat": 4,
 "nbformat_minor": 2
}
