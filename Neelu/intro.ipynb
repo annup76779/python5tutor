{
 "cells": [
  {
   "cell_type": "code",
   "execution_count": null,
   "metadata": {},
   "outputs": [],
   "source": [
    "var = 1\n",
    "print(var)"
   ]
  },
  {
   "cell_type": "markdown",
   "metadata": {},
   "source": [
    "## print statements\n",
    "you have to put you data in any of the following ways in the print -\n",
    "1. you data should be string\n",
    "2. if your data is text but written without \"\" or '' this must be any identifier\n",
    "3. print statement only print any python object(you can say it as python data as well)\n",
    "\n",
    "if you have multiple data to be printed you can put that into print seperated with (,)"
   ]
  },
  {
   "cell_type": "code",
   "execution_count": 10,
   "metadata": {},
   "outputs": [
    {
     "name": "stdout",
     "output_type": "stream",
     "text": [
      "My name is Anurag I am teaching Neelu\n",
      "76 89.6\n"
     ]
    }
   ],
   "source": [
    "print(\"My name is Anurag\" , \"I am teaching Neelu\")\n",
    "print(\"76\", 89.6)"
   ]
  }
 ],
 "metadata": {
  "kernelspec": {
   "display_name": "Python 3.10.4 64-bit",
   "language": "python",
   "name": "python3"
  },
  "language_info": {
   "codemirror_mode": {
    "name": "ipython",
    "version": 3
   },
   "file_extension": ".py",
   "mimetype": "text/x-python",
   "name": "python",
   "nbconvert_exporter": "python",
   "pygments_lexer": "ipython3",
   "version": "3.10.4"
  },
  "orig_nbformat": 4,
  "vscode": {
   "interpreter": {
    "hash": "4f946df053fbf2b937619d3c5458e7af74262f9a954d8797ba0b27400bcafe06"
   }
  }
 },
 "nbformat": 4,
 "nbformat_minor": 2
}
