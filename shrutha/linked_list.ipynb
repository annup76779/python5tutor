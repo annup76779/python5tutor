{
 "cells": [
  {
   "cell_type": "markdown",
   "metadata": {},
   "source": [
    "### linked list\n",
    "A linked list is a linear data structure used generally when it is needed to traverse the data in some order but not randomly.\n",
    "\n",
    "#### example\n",
    "1. we may want to make a undo and redo system in a software, there linked list is used\n",
    "2. linked list is used in case browser to store the states of the tabs."
   ]
  },
  {
   "cell_type": "code",
   "execution_count": 13,
   "metadata": {},
   "outputs": [
    {
     "name": "stdout",
     "output_type": "stream",
     "text": [
      "[Anurag Pandey] -> [Teaching] -> [Shurtha] -> None\n"
     ]
    }
   ],
   "source": [
    "class Node:\n",
    "    def __init__(self, data, next_ = None):\n",
    "        self.data = data\n",
    "        self.next = next_\n",
    "\n",
    "    def __str__(self):\n",
    "        return f\"[{self.data}] -> {self.next}\"\n",
    "\n",
    "    def __repr__(self):\n",
    "        return str(self)\n",
    "\n",
    "\n",
    "class LinkedList:\n",
    "    def __init__(self, data = None):\n",
    "        if data is not None:\n",
    "            self.head = Node(data)\n",
    "            self.length = 1\n",
    "        else:\n",
    "            self.head = None\n",
    "            self.length = 0\n",
    "\n",
    "    # insertion methods\n",
    "    ## append -> to insert data at the next of the linked list\n",
    "    def append(self, data):\n",
    "        node = Node(data)\n",
    "        if self.head is None:\n",
    "            self.head = node\n",
    "        else:\n",
    "            # move to the end then insert data\n",
    "            current_node = self.head\n",
    "            while current_node.next is not None:\n",
    "                current_node = current_node.next # moving the next node\n",
    "            current_node.next = node\n",
    "        self.length += 1\n",
    "\n",
    "    ## prepend -> to insert data at the starting of the linked list\n",
    "    ## insert -> insert data at any index within the linked list\n",
    "``\n",
    "    def __str__(self):\n",
    "        return str(self.head)\n",
    "\n",
    "    def __repr__(self):\n",
    "        return str(self.head)\n",
    "\n",
    "\n",
    "ll = LinkedList(\"Anurag Pandey\")\n",
    "ll.append(\"Teaching\")\n",
    "ll.append(\"Shurtha\")\n",
    "\n",
    "print(ll)"
   ]
  }
 ],
 "metadata": {
  "kernelspec": {
   "display_name": "Python 3.10.4 64-bit",
   "language": "python",
   "name": "python3"
  },
  "language_info": {
   "codemirror_mode": {
    "name": "ipython",
    "version": 3
   },
   "file_extension": ".py",
   "mimetype": "text/x-python",
   "name": "python",
   "nbconvert_exporter": "python",
   "pygments_lexer": "ipython3",
   "version": "3.10.4"
  },
  "orig_nbformat": 4,
  "vscode": {
   "interpreter": {
    "hash": "4f946df053fbf2b937619d3c5458e7af74262f9a954d8797ba0b27400bcafe06"
   }
  }
 },
 "nbformat": 4,
 "nbformat_minor": 2
}
