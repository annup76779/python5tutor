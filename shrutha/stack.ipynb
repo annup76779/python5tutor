{
 "cells": [
  {
   "cell_type": "markdown",
   "metadata": {},
   "source": [
    "I want to check if the string provided is palindromic or not?"
   ]
  },
  {
   "cell_type": "code",
   "execution_count": 11,
   "metadata": {},
   "outputs": [
    {
     "name": "stdout",
     "output_type": "stream",
     "text": [
      "[]\n",
      "['a']\n",
      "['a', 'b']\n",
      "['a', 'b', 'c']\n",
      "['a', 'b'] c popped it\n",
      "['a'] b popped it\n",
      "[] a popped it\n",
      "the String is palindromic.\n"
     ]
    }
   ],
   "source": [
    "s = \"abcdcba\"\n",
    "isOdd = (len(s) % 2 != 0)\n",
    "if isOdd:\n",
    "    mid = len(s) // 2\n",
    "else:\n",
    "    mid = 0\n",
    "stack = []\n",
    "print(stack)\n",
    "for index, i in enumerate(s):\n",
    "    if index == mid and isOdd:\n",
    "        continue\n",
    "    if stack:\n",
    "        if stack[-1] == i:\n",
    "            print(stack, stack.pop(), \"popped it\")\n",
    "            continue\n",
    "    stack.append(i)\n",
    "    print(stack)\n",
    "if len(stack) == 0:\n",
    "    print(\"the String is palindromic.\")\n",
    "else:\n",
    "    print(\"It is not palindromic.\")"
   ]
  },
  {
   "cell_type": "markdown",
   "metadata": {},
   "source": [
    "12321\n",
    "\n",
    "\n",
    "1221\n",
    "[\n",
    "\n",
    "                    # try to inser 2 at the top of the stack, but since 2 is already there in the stack and at the top we will pop the top.\n",
    "    2\n",
    "    1\n",
    "]"
   ]
  }
 ],
 "metadata": {
  "kernelspec": {
   "display_name": "Python 3.10.7 64-bit",
   "language": "python",
   "name": "python3"
  },
  "language_info": {
   "codemirror_mode": {
    "name": "ipython",
    "version": 3
   },
   "file_extension": ".py",
   "mimetype": "text/x-python",
   "name": "python",
   "nbconvert_exporter": "python",
   "pygments_lexer": "ipython3",
   "version": "3.10.7"
  },
  "orig_nbformat": 4,
  "vscode": {
   "interpreter": {
    "hash": "4c75d34ee1fcdb015885d85ab071295bd815e7d150290c0ae76b929ae622a1c7"
   }
  }
 },
 "nbformat": 4,
 "nbformat_minor": 2
}
