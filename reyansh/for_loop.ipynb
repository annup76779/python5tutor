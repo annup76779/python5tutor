{
 "cells": [
  {
   "cell_type": "code",
   "execution_count": null,
   "metadata": {},
   "outputs": [],
   "source": [
    "# for loop is used to loop over any sequence or collection of data\n",
    "k = range(1, 100)\n",
    "for number in k: \n",
    "    # for all the data in the range loop over it and take each data one by one and put it into the number\n",
    "    print(number)"
   ]
  },
  {
   "attachments": {},
   "cell_type": "markdown",
   "metadata": {},
   "source": [
    "1. range\n",
    "2. list\n",
    "3. tuple\n",
    "4. dict\n",
    "5. string\n",
    "6. set\n",
    "7. map\n",
    "8. few other advance collection "
   ]
  },
  {
   "cell_type": "code",
   "execution_count": 7,
   "metadata": {},
   "outputs": [
    {
     "data": {
      "text/plain": [
       "10"
      ]
     },
     "execution_count": 7,
     "metadata": {},
     "output_type": "execute_result"
    }
   ],
   "source": [
    "s = \"how much would wood a wood chuk chuk if a wood chuk chuk chuk chuk wood chuk wood chuk wood chuk chuk.\"\n",
    "# in the string above I want to get the count of '2'\n",
    "\n",
    "s.count(\"chuk\")\n"
   ]
  },
  {
   "cell_type": "code",
   "execution_count": null,
   "metadata": {},
   "outputs": [],
   "source": [
    "# let's start list\n",
    "# what is list\n",
    "# it is collection of data of any datatype\n",
    "\n",
    "a = [54, 6, 433, 432, 423, 42, 34, 2342, 34, 32, 100] # list of data\n",
    "\n",
    "# some long task of 15 lines of code\n",
    "for i in range(1000, 10000):\n",
    "    a.append(i) # add new data to the list at the end\n",
    "\n",
    "print(a)"
   ]
  },
  {
   "attachments": {},
   "cell_type": "markdown",
   "metadata": {},
   "source": [
    "### what is list?\n",
    "A list is collection of data of any type."
   ]
  },
  {
   "cell_type": "code",
   "execution_count": 16,
   "execution_count": null,
   "metadata": {},
   "outputs": [
    {
     "name": "stdout",
     "output_type": "stream",
     "text": [
      "[0, 20, 40, 60, 80, 100, 120, 140, 160, 180, 200, 220, 240, 260, 280, 300, 320, 340, 360, 380, 400, 420, 440, 460, 480, 500, 520, 540, 560, 580, 600, 620, 640, 660, 680, 700, 720, 740, 760, 780, 800, 820, 840, 860, 880, 900, 920, 940, 960, 980, 1000]\n"
      "1"
     ]
    }
   ],
   "source": [
    "# i want to make a list of first 50 numbers multiplied by 20\n",
    "# 1 * 20 -> 20\n",
    "# 2 * 20 -> 40\n",
    "\n",
    "multiples_of_20 = [] # a empty list\n",
    "\n",
    "for i in range(0, 1001, 20):\n",
    "    multiples_of_20.append(i)\n",
    "# for loops are meant to work on collection of data.\n",
    "\n",
    "\n",
    "# lets say that we want all the numbers from 1 to 100\n",
    "for k in range(1, 101):\n",
    "    print(k)\n",
    "\n",
    "print(multiples_of_20)"
   ]
  },
  {
   "cell_type": "code",
   "execution_count": 21,
   "metadata": {},
   "outputs": [
    {
     "name": "stdout",
     "output_type": "stream",
     "text": [
      "[0, 20, 40, 60, 80, 100, 120, 140, 160, 180, 200, 220, 240, 260, 280, 300, 320, 340, 360, 380, 400, 420, 440, 460, 480, 500, 520, 540, 560, 580, 600, 620, 640, 660, 680, 700, 720, 740, 760, 780, 800, 820, 840, 860, 880, 900, 920, 940, 960, 980, 1000]\n"
     ]
    }
   ],
   "source": [
    "lst= []\n",
    "for i in range(0, 51):\n",
    "    lst.append(i * 20)\n",
    "\n",
    "print(lst)"
   ]
  },
  {
   "attachments": {},
   "cell_type": "markdown",
   "metadata": {},
   "source": [
    "##### insert method of list"
   ]
  },
  {
   "cell_type": "code",
   "execution_count": null,
   "metadata": {},
   "outputs": [],
   "source": [
    "lst= []\n",
    "for i in range(0, 51):\n",
    "    lst.insert(0, i * 20)\n",
    "    print(lst)"
    "print(\"final statemnt\")"
   ]
  }
 ],
 "metadata": {
  "kernelspec": {
   "display_name": "Python 3",
   "display_name": "Python 3",
   "language": "python",
   "name": "python3"
  },
  "language_info": {
   "codemirror_mode": {
    "name": "ipython",
    "version": 3
   },
   "file_extension": ".py",
   "mimetype": "text/x-python",
   "name": "python",
   "nbconvert_exporter": "python",
   "pygments_lexer": "ipython3",
   "version": "3.10.7"
   "version": "3.10.7"
  },
  "orig_nbformat": 4,
  "vscode": {
   "interpreter": {
    "hash": "4c75d34ee1fcdb015885d85ab071295bd815e7d150290c0ae76b929ae622a1c7"
    "hash": "4c75d34ee1fcdb015885d85ab071295bd815e7d150290c0ae76b929ae622a1c7"
   }
  }
 },
 "nbformat": 4,
 "nbformat_minor": 2
}
