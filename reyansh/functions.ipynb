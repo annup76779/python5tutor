{
 "cells": [
  {
   "cell_type": "code",
   "execution_count": 2,
   "metadata": {},
   "outputs": [],
   "source": [
    "def full_name(first_name, last_name):\n",
    "    return first_name + \" \" + last_name\n",
    "\n",
    "def greeting(first_name, last_name):\n",
    "    # len() is used to count the number of data in string like len(\"Anurag123\") is 9\n",
    "    name = full_name(first_name, last_name)\n",
    "    print(\"Hello\", name, \", with full name size\", len(name), \", good to see you!\")\n",
    "\n",
    "def main():\n",
    "    first_name = input(\"Please enter first name: \")\n",
    "    last_name = input(\"Please enter last name: \")\n",
    "\n",
    "    greeting(first_name, last_name)\n",
    "\n",
    "main()"
   ]
  },
  {
   "cell_type": "code",
   "execution_count": null,
   "metadata": {},
   "outputs": [],
   "source": [
    "def do_something_on_number(num1, num2, num3, num4):\n",
    "    print(num1+num2+num3/num4)\n",
    "    print(num1**num4)\n",
    "\n",
    "def do_something_on_number2(num1, num3, num2, num4):\n",
    "    print(num1+num2+num3/num4)\n",
    "    print(num1**num4)\n",
    "\n",
    "def main():\n",
    "    num1 = int(input(\"Enter some number: \"))\n",
    "    num2 = int(input(\"Enter some number: \"))\n",
    "    num3 = int(input(\"Enter some number: \"))\n",
    "    num4 = int(input(\"Enter some number: \"))\n",
    "\n",
    "    do_something_on_number2(num1, num2, num3, num4)\n",
    "    do_something_on_number(num1, num2, num3, num4)\n",
    "\n",
    "main()"
   ]
  },
  {
   "cell_type": "markdown",
   "metadata": {},
   "source": [
    "https://drive.google.com/file/d/1x-ESFdv03gpzEJVDi2UlX16DjcR7WM3S/view?usp=sharing"
   ]
  },
  {
   "cell_type": "code",
   "execution_count": 7,
   "metadata": {},
   "outputs": [
    {
     "name": "stdout",
     "output_type": "stream",
     "text": [
      "whatever\n",
      "143\n"
     ]
    }
   ],
   "source": [
    "def someFun(fun_param1, fun_param2, fun_param3, fun_param4, fun_param5):\n",
    "    var1 = fun_param1 - fun_param2 - fun_param3 - fun_param4\n",
    "    var2  = fun_param1 + fun_param2 + fun_param3 + fun_param4\n",
    "    a = var1 , var2\n",
    "    return a\n",
    "\n",
    "print(\"whatever\")\n",
    "print(67+76)\n",
    "someFun(23,334,235,43,3)\n",
    "someFun(23,334,235,43,3)\n",
    "someFun(23,334,235,43,3)"
   ]
  },
  {
   "cell_type": "markdown",
   "metadata": {},
   "source": [
    "##### I will give you some length in centimeters and your function must return the value conveted to kilo meters.\n",
    "```\n",
    "if I give 200000 -> 2\n",
    "```"
   ]
  },
  {
   "cell_type": "code",
   "execution_count": 5,
   "metadata": {},
   "outputs": [],
   "source": [
    "def counter(num, count=0):\n",
    "    if count == num:\n",
    "        print(count)\n",
    "        return\n",
    "    print(count)\n",
    "    counter(num, count+1)\n",
    "\n",
    "counter(10)"
   ]
  },
  {
   "cell_type": "code",
   "execution_count": 2,
   "metadata": {},
   "outputs": [
    {
     "data": {
      "text/plain": [
       "-9"
      ]
     },
     "execution_count": 2,
     "metadata": {},
     "output_type": "execute_result"
    }
   ],
   "source": [
    "# i want to take three inputs from user \n",
    "# input 1 will be a number\n",
    "# input 2 will be a string which may have any of the given alphabets -> 'a', 'b', 'c', 'd'\n",
    "# # 'a' denotes adition\n",
    "# # 'b' denotes subtraction\n",
    "# # 'c' denotes multiplication\n",
    "# # 'd' denotes division\n",
    "\n",
    "# input3 will again be a number\n",
    "# now we have to write a function that can return the result based on the given parameters\n",
    "\n",
    "def calculate(num1, operation, num2):\n",
    "    if operation == 'a':\n",
    "        return num1 + num2\n",
    "    elif operation == 'b':\n",
    "        return num1 - num2\n",
    "    elif operation == 'c':\n",
    "        return num1 * num2\n",
    "    elif operation == 'd':\n",
    "        return num1 / num2\n",
    "    else:\n",
    "        print(\"Not a valid operations.\")\n",
    "        return 0\n",
    "\n",
    "first_number = int(input(\"Enter the first number: \"))# 6\n",
    "operation = input(\"Enter the operation: \")# a\n",
    "second_number = int(input(\"Enter the second number: \")) # 4\n",
    "\n",
    "# calculate(first_number, operation, second_number)\n",
    "calculate(num1 = first_number, num2 = second_number, operation = operation)"
   ]
  },
  {
   "cell_type": "markdown",
   "metadata": {},
   "source": [
    "##### 4 different structure as development point of view for making a function \n",
    "##### 4 different ways how functions are used.\n",
    "##### 4 different used cases of function."
   ]
  },
  {
   "cell_type": "markdown",
   "metadata": {},
   "source": [
    "<font color=\"lightgreen\">function with no argument/parameter and no return statement</font>"
   ]
  },
  {
   "cell_type": "code",
   "execution_count": 1,
   "metadata": {},
   "outputs": [
    {
     "name": "stdout",
     "output_type": "stream",
     "text": [
      "17\n"
     ]
    }
   ],
   "source": [
    "def foo():\n",
    "    num1 = int(input(\"Enter the first number: \"))\n",
    "    num2 = int(input(\"Enter the second number: \"))\n",
    "    print((num1 * num2) + (num1 - num2))\n",
    "\n",
    "foo()"
   ]
  },
  {
   "cell_type": "markdown",
   "metadata": {},
   "source": [
    "<font color=\"lightgreen\">function with argument/parameter and no return statement</font>"
   ]
  },
  {
   "cell_type": "code",
   "execution_count": 3,
   "metadata": {},
   "outputs": [
    {
     "name": "stdout",
     "output_type": "stream",
     "text": [
      "2301\n"
     ]
    }
   ],
   "source": [
    "def foo(num2):\n",
    "    num1 = int(input(\"Enter the first number: \"))\n",
    "    print((num1 * num2) + (num1 - num2))\n",
    "\n",
    "p=int(input())\n",
    "foo(p)"
   ]
  },
  {
   "cell_type": "markdown",
   "metadata": {},
   "source": [
    "<font color=\"lightgreen\">function with no argument/parameter and but with return statement</font>"
   ]
  },
  {
   "cell_type": "code",
   "execution_count": 4,
   "metadata": {},
   "outputs": [
    {
     "name": "stdout",
     "output_type": "stream",
     "text": [
      "My final result from foo() is 17\n"
     ]
    }
   ],
   "source": [
    "def foo():\n",
    "    num1 = int(input(\"Enter the first number: \"))\n",
    "    num2 = int(input(\"Enter the second number: \"))\n",
    "    return (num1 * num2) + (num1 - num2)\n",
    "\n",
    "result = foo()\n",
    "print(\"My final result from foo() is\", result)"
   ]
  },
  {
   "cell_type": "markdown",
   "metadata": {},
   "source": [
    "<font color=\"lightgreen\">function with argument/parameter and with return statement</font>"
   ]
  },
  {
   "cell_type": "code",
   "execution_count": 5,
   "metadata": {},
   "outputs": [
    {
     "name": "stdout",
     "output_type": "stream",
     "text": [
      "It's the final result 17\n"
     ]
    }
   ],
   "source": [
    "def foo(num1, num2):\n",
    "    return (num1 * num2) + (num1 - num2)\n",
    "\n",
    "result = foo(5, 3)\n",
    "print(\"It's the final result\", result)\n",
    "\n",
    "\n",
    "# what are lambda functions\n",
    "\n",
    "# how to work with for loop"
   ]
  },
  {
   "cell_type": "markdown",
   "metadata": {},
   "source": [
    "### lambda funcition in python\n",
    "1. lambda functions in python are kind of function can only return any value and can take any number of argument\n",
    "2. non named "
   ]
  },
  {
   "cell_type": "code",
   "execution_count": 1,
   "metadata": {},
   "outputs": [
    {
     "name": "stdout",
     "output_type": "stream",
     "text": [
      "17\n"
     ]
    }
   ],
   "source": [
    "foo = lambda num1, num2: (num1 * num2) + (num1 - num2) # single liner function\n",
    "\n",
    "# normal python function which is not used in lambda function\n",
    "result = foo(5, 3)\n",
    "print(result)"
   ]
  },
  {
   "cell_type": "code",
   "execution_count": null,
   "metadata": {},
   "outputs": [],
   "source": [
    "# let's say we have 5 number and I want to check which number is largest when it is multiplied by 9\n",
    "\n",
    "print(max(4, 9, 2, 3, 5, key = lambda x: x * 9)) # this is used to find maximum of all the given values\n",
    "print(min(4, 9, 2, 3, 5, key = lambda x: x * 9)) # this is used to find minimum of all the given values"
   ]
  }
 ],
 "metadata": {
  "kernelspec": {
   "display_name": "Python 3",
   "language": "python",
   "name": "python3"
  },
  "language_info": {
   "codemirror_mode": {
    "name": "ipython",
    "version": 3
   },
   "file_extension": ".py",
   "mimetype": "text/x-python",
   "name": "python",
   "nbconvert_exporter": "python",
   "pygments_lexer": "ipython3",
   "version": "3.10.7 (tags/v3.10.7:6cc6b13, Sep  5 2022, 14:08:36) [MSC v.1933 64 bit (AMD64)]"
  },
  "orig_nbformat": 4,
  "vscode": {
   "interpreter": {
    "hash": "4c75d34ee1fcdb015885d85ab071295bd815e7d150290c0ae76b929ae622a1c7"
   }
  }
 },
 "nbformat": 4,
 "nbformat_minor": 2
}
