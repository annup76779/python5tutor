{
 "cells": [
  {
   "cell_type": "code",
   "execution_count": 2,
   "metadata": {},
   "outputs": [],
   "source": [
    "def full_name(first_name, last_name):\n",
    "    return first_name + \" \" + last_name\n",
    "\n",
    "def greeting(first_name, last_name):\n",
    "    # len() is used to count the number of data in string like len(\"Anurag123\") is 9\n",
    "    name = full_name(first_name, last_name)\n",
    "    print(\"Hello\", name, \", with full name size\", len(name), \", good to see you!\")\n",
    "\n",
    "def main():\n",
    "    first_name = input(\"Please enter first name: \")\n",
    "    last_name = input(\"Please enter last name: \")\n",
    "\n",
    "    greeting(first_name, last_name)\n",
    "\n",
    "main()"
   ]
  },
  {
   "cell_type": "code",
   "execution_count": null,
   "metadata": {},
   "outputs": [],
   "source": [
    "def do_something_on_number(num1, num2, num3, num4):\n",
    "    print(num1+num2+num3/num4)\n",
    "    print(num1**num4)\n",
    "\n",
    "def do_something_on_number2(num1, num3, num2, num4):\n",
    "    print(num1+num2+num3/num4)\n",
    "    print(num1**num4)\n",
    "\n",
    "def main():\n",
    "    num1 = int(input(\"Enter some number: \"))\n",
    "    num2 = int(input(\"Enter some number: \"))\n",
    "    num3 = int(input(\"Enter some number: \"))\n",
    "    num4 = int(input(\"Enter some number: \"))\n",
    "\n",
    "    do_something_on_number2(num1, num2, num3, num4)\n",
    "    do_something_on_number(num1, num2, num3, num4)\n",
    "\n",
    "main()"
   ]
  }
 ],
 "metadata": {
  "kernelspec": {
   "display_name": "Python 3.10.4 64-bit",
   "language": "python",
   "name": "python3"
  },
  "language_info": {
   "codemirror_mode": {
    "name": "ipython",
    "version": 3
   },
   "file_extension": ".py",
   "mimetype": "text/x-python",
   "name": "python",
   "nbconvert_exporter": "python",
   "pygments_lexer": "ipython3",
   "version": "3.10.4"
  },
  "orig_nbformat": 4,
  "vscode": {
   "interpreter": {
    "hash": "4f946df053fbf2b937619d3c5458e7af74262f9a954d8797ba0b27400bcafe06"
   }
  }
 },
 "nbformat": 4,
 "nbformat_minor": 2
}
