{
 "cells": [
  {
   "cell_type": "markdown",
   "metadata": {},
   "source": [
    "# Functions"
   ]
  },
  {
   "cell_type": "markdown",
   "metadata": {},
   "source": [
    "## Run The Following Code\n",
    "Hit SHIFT + ENTER when your cusor is inside the cell of code.<br/>"
   ]
  },
  {
   "cell_type": "markdown",
   "metadata": {},
   "source": [
    "> You define a function as follows:"
   ]
  },
  {
   "cell_type": "code",
   "execution_count": 2,
   "metadata": {},
   "outputs": [],
   "source": [
    "def add(a, b):\n",
    "    c = a + b\n",
    "    return c"
   ]
  },
  {
   "cell_type": "markdown",
   "metadata": {},
   "source": [
    "> What you just did is to define a function called <b>add</b> that takes in two parameters <b>a</b> and <b>b</b>, and returns <b>c</b> which is a sum of the two parameters.\n",
    "> After defining a function, you can use it as many times as you want.<br/><br/>\n",
    "when you invoke/call a function, you just type out its name, followed by the brackets. If there are parameters, the parameters will be passed into the brackets."
   ]
  },
  {
   "cell_type": "code",
   "execution_count": 3,
   "metadata": {},
   "outputs": [
    {
     "data": {
      "text/plain": [
       "3"
      ]
     },
     "execution_count": 3,
     "metadata": {},
     "output_type": "execute_result"
    }
   ],
   "source": [
    "add(1, 2)"
   ]
  },
  {
   "cell_type": "code",
   "execution_count": 4,
   "metadata": {},
   "outputs": [
    {
     "data": {
      "text/plain": [
       "7"
      ]
     },
     "execution_count": 4,
     "metadata": {},
     "output_type": "execute_result"
    }
   ],
   "source": [
    "add(3,4)"
   ]
  },
  {
   "cell_type": "markdown",
   "metadata": {},
   "source": [
    "> once your function returns, the code following the return statement will not run anymore.<br/>\n",
    "You can see that the statement \"Finished adding...\" never ran."
   ]
  },
  {
   "cell_type": "code",
   "execution_count": 5,
   "metadata": {},
   "outputs": [],
   "source": [
    "def add_withprint(a, b):\n",
    "    print(\"Starting to add ...\")\n",
    "    c = a + b\n",
    "    return c\n",
    "    print(\"Finished adding...\")"
   ]
  },
  {
   "cell_type": "code",
   "execution_count": 6,
   "metadata": {},
   "outputs": [
    {
     "name": "stdout",
     "output_type": "stream",
     "text": [
      "Starting to add ...\n"
     ]
    },
    {
     "data": {
      "text/plain": [
       "3"
      ]
     },
     "execution_count": 6,
     "metadata": {},
     "output_type": "execute_result"
    }
   ],
   "source": [
    "add_withprint(1, 2)"
   ]
  },
  {
   "cell_type": "markdown",
   "metadata": {},
   "source": [
    "> A common newbie mistake is to define a function with the actual values you want to use. Like the following mistake:"
   ]
  },
  {
   "cell_type": "code",
   "execution_count": 7,
   "metadata": {},
   "outputs": [
    {
     "ename": "SyntaxError",
     "evalue": "invalid syntax (<ipython-input-7-2128d5e393c0>, line 1)",
     "output_type": "error",
     "traceback": [
      "\u001b[1;36m  File \u001b[1;32m\"<ipython-input-7-2128d5e393c0>\"\u001b[1;36m, line \u001b[1;32m1\u001b[0m\n\u001b[1;33m    def add_mistake(1,2):\u001b[0m\n\u001b[1;37m                    ^\u001b[0m\n\u001b[1;31mSyntaxError\u001b[0m\u001b[1;31m:\u001b[0m invalid syntax\n"
     ]
    }
   ],
   "source": [
    "def add_mistake(1,2):\n",
    "    return 3"
   ]
  },
  {
   "cell_type": "markdown",
   "metadata": {},
   "source": [
    "> There is no limit to the number of parameters you can take in. You can also write a function without any parameters. But there must only be at most <b>one</b> return statement. You can write a function without any return statements too."
   ]
  },
  {
   "cell_type": "code",
   "execution_count": 8,
   "metadata": {},
   "outputs": [],
   "source": [
    "def basic_function():\n",
    "    print(\"this function does nothing.\")"
   ]
  },
  {
   "cell_type": "code",
   "execution_count": 9,
   "metadata": {},
   "outputs": [
    {
     "name": "stdout",
     "output_type": "stream",
     "text": [
      "this function does nothing.\n"
     ]
    }
   ],
   "source": [
    "basic_function()"
   ]
  },
  {
   "cell_type": "code",
   "execution_count": 10,
   "metadata": {},
   "outputs": [],
   "source": [
    "def super_add(a,b,c,d,e):\n",
    "    z = a + b + c + d + e\n",
    "    return z"
   ]
  },
  {
   "cell_type": "code",
   "execution_count": 11,
   "metadata": {},
   "outputs": [
    {
     "data": {
      "text/plain": [
       "15"
      ]
     },
     "execution_count": 11,
     "metadata": {},
     "output_type": "execute_result"
    }
   ],
   "source": [
    "super_add(1,2,3,4,5)"
   ]
  },
  {
   "cell_type": "markdown",
   "metadata": {},
   "source": [
    "> Another common newbie mistake, which is harder to detect, is to use a print instead of a return. Like the following mistake:"
   ]
  },
  {
   "cell_type": "code",
   "execution_count": 12,
   "metadata": {},
   "outputs": [],
   "source": [
    "def add_wrong(a,b):\n",
    "    c = a + b\n",
    "    print(c)"
   ]
  },
  {
   "cell_type": "code",
   "execution_count": 13,
   "metadata": {},
   "outputs": [
    {
     "name": "stdout",
     "output_type": "stream",
     "text": [
      "3\n"
     ]
    }
   ],
   "source": [
    "add_wrong(1,2)"
   ]
  },
  {
   "cell_type": "markdown",
   "metadata": {},
   "source": [
    "> Now, it looks like the result is the same, but notice that there is no \"Out\" in this one. But the earlier one using return has an \"Out\".\n",
    "> You will see what's the significance of this when you use functions like the below:"
   ]
  },
  {
   "cell_type": "code",
   "execution_count": 14,
   "metadata": {},
   "outputs": [
    {
     "name": "stdout",
     "output_type": "stream",
     "text": [
      "3\n",
      "None\n"
     ]
    }
   ],
   "source": [
    "final_answer = add_wrong(1,2)\n",
    "print(final_answer)"
   ]
  },
  {
   "cell_type": "markdown",
   "metadata": {},
   "source": [
    "> Notice that a 3 is printed out, then followed by a None. The 3 is printed out when the function add_wrong is being evaluated. Then when you print the variable <b>final_answer</b>, because there is nothing being returned, it contains <b>None</b> ... which means nothing.<br/><br/>\n",
    "This is the proper way that you should have defined and used the function."
   ]
  },
  {
   "cell_type": "code",
   "execution_count": 15,
   "metadata": {},
   "outputs": [
    {
     "name": "stdout",
     "output_type": "stream",
     "text": [
      "3\n"
     ]
    }
   ],
   "source": [
    "final_answer = add(1,2)\n",
    "print(final_answer)"
   ]
  },
  {
   "cell_type": "markdown",
   "metadata": {},
   "source": [
    "> try ... except ... else ... finally clauses are usually to help you catch errors in your code, so your program doesn't crash. Run the following code and you realise that it causes some runtime error."
   ]
  },
  {
   "cell_type": "code",
   "execution_count": 16,
   "metadata": {},
   "outputs": [
    {
     "name": "stdout",
     "output_type": "stream",
     "text": [
      "doing some risky code...\n"
     ]
    },
    {
     "ename": "TypeError",
     "evalue": "unsupported operand type(s) for -: 'list' and 'int'",
     "output_type": "error",
     "traceback": [
      "\u001b[1;31m---------------------------------------------------------------------------\u001b[0m",
      "\u001b[1;31mTypeError\u001b[0m                                 Traceback (most recent call last)",
      "\u001b[1;32m<ipython-input-16-bd93e700d6be>\u001b[0m in \u001b[0;36m<module>\u001b[1;34m\u001b[0m\n\u001b[0;32m      2\u001b[0m \u001b[1;33m\u001b[0m\u001b[0m\n\u001b[0;32m      3\u001b[0m \u001b[0mdata\u001b[0m \u001b[1;33m=\u001b[0m \u001b[1;33m[\u001b[0m\u001b[1;36m1\u001b[0m\u001b[1;33m,\u001b[0m\u001b[1;36m2\u001b[0m\u001b[1;33m,\u001b[0m\u001b[1;36m3\u001b[0m\u001b[1;33m]\u001b[0m\u001b[1;33m\u001b[0m\u001b[1;33m\u001b[0m\u001b[0m\n\u001b[1;32m----> 4\u001b[1;33m \u001b[0mprint\u001b[0m\u001b[1;33m(\u001b[0m\u001b[0mdata\u001b[0m \u001b[1;33m-\u001b[0m \u001b[1;36m2\u001b[0m\u001b[1;33m)\u001b[0m\u001b[1;33m\u001b[0m\u001b[1;33m\u001b[0m\u001b[0m\n\u001b[0m\u001b[0;32m      5\u001b[0m \u001b[1;33m\u001b[0m\u001b[0m\n\u001b[0;32m      6\u001b[0m \u001b[0mprint\u001b[0m\u001b[1;33m(\u001b[0m\u001b[1;34m\"done!\"\u001b[0m\u001b[1;33m)\u001b[0m\u001b[1;33m\u001b[0m\u001b[1;33m\u001b[0m\u001b[0m\n",
      "\u001b[1;31mTypeError\u001b[0m: unsupported operand type(s) for -: 'list' and 'int'"
     ]
    }
   ],
   "source": [
    "print(\"doing some risky code...\")\n",
    "\n",
    "data = [1,2,3]\n",
    "print(data - 2)\n",
    "\n",
    "print(\"done!\")"
   ]
  },
  {
   "cell_type": "markdown",
   "metadata": {},
   "source": [
    "> the statement \"done!\" was never printed out because your code crashed.<br/><br/>\n",
    "> if you enclose this within a try ... except ... else ... finally clause, your code will continue to run."
   ]
  },
  {
   "cell_type": "code",
   "execution_count": 17,
   "metadata": {},
   "outputs": [
    {
     "name": "stdout",
     "output_type": "stream",
     "text": [
      "doing some risky code...\n",
      "An error is caught\n",
      "done!\n"
     ]
    }
   ],
   "source": [
    "print(\"doing some risky code...\")\n",
    "\n",
    "try:\n",
    "    data = [1,2,3]\n",
    "    print(data - 2)\n",
    "except:\n",
    "    print(\"An error is caught\")\n",
    "else:\n",
    "    print(\"No error!\")\n",
    "finally:\n",
    "    print(\"done!\")"
   ]
  },
  {
   "cell_type": "code",
   "execution_count": 18,
   "metadata": {},
   "outputs": [
    {
     "name": "stdout",
     "output_type": "stream",
     "text": [
      "doing some risky code...\n",
      "[1, 2, 3, 1, 2, 3]\n",
      "No error!\n",
      "done!\n"
     ]
    }
   ],
   "source": [
    "print(\"doing some risky code...\")\n",
    "\n",
    "try:\n",
    "    data = [1,2,3]\n",
    "    print(data * 2)\n",
    "except:\n",
    "    print(\"An error is caught\")\n",
    "else:\n",
    "    print(\"No error!\")\n",
    "finally:\n",
    "    print(\"done!\")"
   ]
  },
  {
   "cell_type": "markdown",
   "metadata": {},
   "source": [
    "> The simplest form is to just use try ... except"
   ]
  },
  {
   "cell_type": "code",
   "execution_count": 19,
   "metadata": {},
   "outputs": [
    {
     "name": "stdout",
     "output_type": "stream",
     "text": [
      "doing some risky code...\n",
      "An error is caught\n"
     ]
    }
   ],
   "source": [
    "print(\"doing some risky code...\")\n",
    "\n",
    "try:\n",
    "    data = [1,2,3]\n",
    "    print(data - 2)\n",
    "except:\n",
    "    print(\"An error is caught\")"
   ]
  },
  {
   "cell_type": "markdown",
   "metadata": {},
   "source": [
    "# !! Your Turn !!"
   ]
  },
  {
   "cell_type": "markdown",
   "metadata": {},
   "source": [
    "## Replace the code marked as <..> COMPLETELY with your own.\n",
    "For example:\n",
    "length = <..> will be replaced by length = 10"
   ]
  },
  {
   "cell_type": "code",
   "execution_count": 20,
   "metadata": {},
   "outputs": [
    {
     "name": "stdout",
     "output_type": "stream",
     "text": [
      "type in your full nameRosmawati Binte Abdul Latif\n",
      "Rosmawati Binte Abdul Latif\n"
     ]
    }
   ],
   "source": [
    "name = input(\"type in your full name\")\n",
    "print(name)"
   ]
  },
  {
   "cell_type": "markdown",
   "metadata": {},
   "source": [
    "# Question 1\n",
    "1) Define a simple function, <b>sayhi</b>, that prints out hello.<br/>\n",
    "2) Call the function."
   ]
  },
  {
   "cell_type": "code",
   "execution_count": 21,
   "metadata": {},
   "outputs": [
    {
     "name": "stdout",
     "output_type": "stream",
     "text": [
      "hello\n"
     ]
    }
   ],
   "source": [
    "def sayhi():\n",
    "    print('hello')\n",
    "    \n",
    "sayhi()"
   ]
  },
  {
   "cell_type": "markdown",
   "metadata": {},
   "source": [
    "# Question 2\n",
    "1) Modify the <b>sayhi</b> function to take in an argument, <b>name</b>.<br/>\n",
    "2) Modify the <b>sayhi</b> function such that when you call the function, it prints out Hello, followed by the name you passed in. <br/>\n",
    "3) For example, sayhi(\"John\") will produce<br/>\n",
    "Hello John"
   ]
  },
  {
   "cell_type": "code",
   "execution_count": 23,
   "metadata": {},
   "outputs": [
    {
     "name": "stdout",
     "output_type": "stream",
     "text": [
      "Hello John\n"
     ]
    }
   ],
   "source": [
    "def sayhi(name):\n",
    "    print(\"Hello \" + name)\n",
    "    \n",
    "sayhi(\"John\")"
   ]
  },
  {
   "cell_type": "markdown",
   "metadata": {},
   "source": [
    "# Question 3\n",
    "1) Modify the <b>sayhi</b> function such that even when you do not pass in any argument into the parameter, it will say \"Hello sweetie\".<br/>\n",
    "2) For example:<br/>\n",
    "sayhi() will produce<br/>\n",
    "    Hello sweetie<br/><br/>\n",
    "sayhi(\"John\") will produce<br/>\n",
    "    Hello John"
   ]
  },
  {
   "cell_type": "code",
   "execution_count": 25,
   "metadata": {},
   "outputs": [
    {
     "name": "stdout",
     "output_type": "stream",
     "text": [
      "Hello sweetie\n",
      "Hello John\n"
     ]
    }
   ],
   "source": [
    "def sayhi(name=\"sweetie\"):\n",
    "     print(\"Hello \" + name)\n",
    "    \n",
    "sayhi()\n",
    "sayhi(\"John\")"
   ]
  },
  {
   "cell_type": "markdown",
   "metadata": {},
   "source": [
    "# Question 4\n",
    "1) 2 to the power of 3 is written as 2**3 in Python code.<br/>\n",
    "2) 2 is called the base.<br/>\n",
    "3) 3 is called the exponent.<br/>\n",
    "4) Write a function, <b>powerof</b>, that takes in two numbers (base and exponent), and output base to the power of exponent.<br/>\n",
    "5) Call the function with base = 3, exponent = 5<br/>"
   ]
  },
  {
   "cell_type": "code",
   "execution_count": 26,
   "metadata": {},
   "outputs": [],
   "source": [
    "def powerof(base, exponent):\n",
    "    return base ** exponent"
   ]
  },
  {
   "cell_type": "code",
   "execution_count": 27,
   "metadata": {},
   "outputs": [
    {
     "data": {
      "text/plain": [
       "243"
      ]
     },
     "execution_count": 27,
     "metadata": {},
     "output_type": "execute_result"
    }
   ],
   "source": [
    "#test it out with this:\n",
    "powerof(3,5)\n",
    "\n",
    "#you should see an output of 243"
   ]
  },
  {
   "cell_type": "markdown",
   "metadata": {},
   "source": [
    "# Question 5\n",
    "1) Write a function, <b>magic</b>, that takes in two parameters:<br/>\n",
    "<b>numbers</b> (a list of numbers), and<br/>\n",
    "<b>factor</b> (an integer)<br/>\n",
    "2) First, write the function such that it simply returns (not print) out the list as it is."
   ]
  },
  {
   "cell_type": "code",
   "execution_count": 29,
   "metadata": {},
   "outputs": [],
   "source": [
    "def magic(numbers,factor):\n",
    "    return numbers"
   ]
  },
  {
   "cell_type": "code",
   "execution_count": 30,
   "metadata": {},
   "outputs": [
    {
     "data": {
      "text/plain": [
       "[1, 2, 3, 4, 5]"
      ]
     },
     "execution_count": 30,
     "metadata": {},
     "output_type": "execute_result"
    }
   ],
   "source": [
    "#test it out with this:\n",
    "magic([1,2,3,4,5],5)\n",
    "\n",
    "#you should see an output of [1,2,3,4,5]"
   ]
  },
  {
   "cell_type": "markdown",
   "metadata": {},
   "source": [
    "3) Modify the function <b>magic</b> such that it multiplies the list with the factor, and returns the output."
   ]
  },
  {
   "cell_type": "code",
   "execution_count": 31,
   "metadata": {
    "scrolled": true
   },
   "outputs": [],
   "source": [
    "def magic(numbers,factor):\n",
    "    for i in range(len(numbers)):\n",
    "        numbers[i] = numbers[i] * factor\n",
    "    return numbers"
   ]
  },
  {
   "cell_type": "code",
   "execution_count": 32,
   "metadata": {},
   "outputs": [
    {
     "data": {
      "text/plain": [
       "[5, 10, 15, 20, 25]"
      ]
     },
     "execution_count": 32,
     "metadata": {},
     "output_type": "execute_result"
    }
   ],
   "source": [
    "#test it out with this:\n",
    "magic([1,2,3,4,5],5)\n",
    "\n",
    "#you should see an output of [5, 10, 15, 20, 25]"
   ]
  },
  {
   "cell_type": "markdown",
   "metadata": {},
   "source": [
    "4) call your magic function using magic(factor = 5, numbers = [1,2,3,4,5]) instead.<br/>\n",
    "Does it still work even though your paramters are in the wrong place?"
   ]
  },
  {
   "cell_type": "code",
   "execution_count": 33,
   "metadata": {},
   "outputs": [
    {
     "data": {
      "text/plain": [
       "[5, 10, 15, 20, 25]"
      ]
     },
     "execution_count": 33,
     "metadata": {},
     "output_type": "execute_result"
    }
   ],
   "source": [
    "magic(factor = 5, numbers = [1,2,3,4,5])"
   ]
  },
  {
   "cell_type": "markdown",
   "metadata": {},
   "source": [
    "# Question 6\n",
    "1) You can't write all functions you need by yourself. import helps you bring in libraries of functions written by others.<br/>\n",
    "2) Do an import for the random library and call it ran."
   ]
  },
  {
   "cell_type": "code",
   "execution_count": 36,
   "metadata": {},
   "outputs": [],
   "source": [
    "import random as ran"
   ]
  },
  {
   "cell_type": "markdown",
   "metadata": {},
   "source": [
    "3) Create a random integer from 1 to 100 and store it in a variable <b>lucky_num</b>. Run it a few times to make sure that it's \"truly\" random."
   ]
  },
  {
   "cell_type": "code",
   "execution_count": 52,
   "metadata": {},
   "outputs": [
    {
     "name": "stdout",
     "output_type": "stream",
     "text": [
      "33\n"
     ]
    }
   ],
   "source": [
    "lucky_num = ran.randrange(1,100)\n",
    "print(lucky_num)"
   ]
  },
  {
   "cell_type": "markdown",
   "metadata": {},
   "source": [
    "4) Create a variable <b>guess</b> that stores an empty string at the onstart.<br/>\n",
    "5) Do a while loop that loops while guess is not equal to \"exit\".<br/>\n",
    "6) When the while loop runs, it asks for an input with the following prompt: \"Make a guess from 1 to 100. Type exit to stop. \"<br/>\n",
    "7) Then print out what the person's guess is. For example, if the person guessed 50, then print out<br/>\n",
    "You made a guess of 50"
   ]
  },
  {
   "cell_type": "code",
   "execution_count": 53,
   "metadata": {},
   "outputs": [
    {
     "name": "stdout",
     "output_type": "stream",
     "text": [
      "Make a guess from 1 to 100. Type exit to stop. 33\n",
      "You made a guess of 33\n",
      "Make a guess from 1 to 100. Type exit to stop. exit\n",
      "You made a guess of exit\n"
     ]
    }
   ],
   "source": [
    "guess = \"\"\n",
    "while guess != \"exit\":\n",
    "    guess = input(\"Make a guess from 1 to 100. Type exit to stop. \")\n",
    "    print(\"You made a guess of \" + guess)"
   ]
  },
  {
   "cell_type": "markdown",
   "metadata": {},
   "source": [
    "8) if the guess is the same as the lucky number, print out \"Congrats\" and break out of the while loop.<br/>\n",
    "Note: input takes in a string. Your earlier lucky number is an int. You need to cast them into the same data type before comparing."
   ]
  },
  {
   "cell_type": "code",
   "execution_count": 59,
   "metadata": {},
   "outputs": [
    {
     "name": "stdout",
     "output_type": "stream",
     "text": [
      "Make a guess from 1 to 100. Type exit to stop. 2\n",
      "You made a guess of 2\n",
      "Make a guess from 1 to 100. Type exit to stop. 3\n",
      "You made a guess of 3\n",
      "Make a guess from 1 to 100. Type exit to stop. 33\n",
      "You made a guess of 33\n",
      "Congrats\n"
     ]
    }
   ],
   "source": [
    "guess = \"\"\n",
    "while guess != \"exit\":\n",
    "    guess = input(\"Make a guess from 1 to 100. Type exit to stop. \")\n",
    "    print(f\"You made a guess of {guess}\")\n",
    "    if guess == str(lucky_num):\n",
    "        print(\"Congrats\")\n",
    "        break"
   ]
  },
  {
   "cell_type": "markdown",
   "metadata": {},
   "source": [
    "# Question 7 *\n",
    "1) Write a function, <b>splitter</b> that takes in an IC string, and outputs a tuple of the digits only.<br/>\n",
    "For example, if we do:<br/>\n",
    "a,b,c,d,e,f,g = splitter('S1234567D') <br/>\n",
    "a will store 1.<br/>\n",
    "b will store 2.<br/>\n",
    "...<br/>\n",
    "g will store 7.<br/>"
   ]
  },
  {
   "cell_type": "code",
   "execution_count": 62,
   "metadata": {},
   "outputs": [],
   "source": [
    "def splitter(ic):\n",
    "    a,b,c,d,e,f,g= [i for i in ic[1:8]]\n",
    "    return a,b,c,d,e,f,g"
   ]
  },
  {
   "cell_type": "code",
   "execution_count": 63,
   "metadata": {},
   "outputs": [
    {
     "name": "stdout",
     "output_type": "stream",
     "text": [
      "1 2 3 4 5 6 7\n"
     ]
    }
   ],
   "source": [
    "#test your function here\n",
    "a,b,c,d,e,f,g = splitter(\"s1234567z\")\n",
    "print(a,b,c,d,e,f,g)"
   ]
  },
  {
   "cell_type": "markdown",
   "metadata": {},
   "source": [
    "# Question 8 *"
   ]
  },
  {
   "cell_type": "markdown",
   "metadata": {},
   "source": [
    "Modify the code in Question 6 such that you check if the user keys in an alphabet instead of a number, and alerts the user.<br/><br/>\n",
    "Sample Output:<br/>\n",
    "For testing purposes: 67<br/>\n",
    "Make a guess from 1 to 100. Type exit to stop. 10<br/>\n",
    "You made a guess of 10<br/>\n",
    "Make a guess from 1 to 100. Type exit to stop. abc<br/>\n",
    "Please only key in a number.<br/>\n",
    "Make a guess from 1 to 100. Type exit to stop. 67<br/>\n",
    "You made a guess of 67<br/>\n",
    "Congrats<br/>"
   ]
  },
  {
   "cell_type": "code",
   "execution_count": 66,
   "metadata": {},
   "outputs": [
    {
     "name": "stdout",
     "output_type": "stream",
     "text": [
      "For testing purposes: 67\n",
      "Make a guess from 1 to 100. Type exit to stop. 12hr\n",
      "Please only key in a number.\n",
      "Make a guess from 1 to 100. Type exit to stop. 123\n",
      "You made a guess of 123\n",
      "Make a guess from 1 to 100. Type exit to stop. 82\n",
      "You made a guess of 82\n",
      "Make a guess from 1 to 100. Type exit to stop. `00\n",
      "Please only key in a number.\n",
      "Make a guess from 1 to 100. Type exit to stop. 67\n",
      "You made a guess of 67\n",
      "Congrats!\n"
     ]
    }
   ],
   "source": [
    "import random as ran\n",
    "lucky_num = 67\n",
    "print(\"For testing purposes:\",lucky_num)\n",
    "\n",
    "guess = \"\"\n",
    "\n",
    "while guess != \"exit\":\n",
    "    guess = input(\"Make a guess from 1 to 100. Type exit to stop. \")\n",
    "    if guess == \"exit\":\n",
    "        break\n",
    "    else:\n",
    "        try:\n",
    "            guess = int(guess) # plan A\n",
    "        except:\n",
    "            print(\"Please only key in a number.\") # plan B\n",
    "        else:\n",
    "            print(f\"You made a guess of {guess}\")\n",
    "            if guess == lucky_num:\n",
    "                print(\"Congrats!\")\n",
    "                break\n",
    "    "
   ]
  },
  {
   "cell_type": "markdown",
   "metadata": {},
   "source": [
    "# Question 9 *"
   ]
  },
  {
   "cell_type": "markdown",
   "metadata": {},
   "source": [
    "Modify the code in Question 9 such that after the user makes a guess, you will prompt him whether his guess is too high or too low.<br/><br/>\n",
    "Sample Output<br/>\n",
    "For testing purposes: 68<br/>\n",
    "Make a guess from 1 to 100. Type exit to stop. 4<br/>\n",
    "You made a guess of 4<br/>\n",
    "Your guess is too low.<br/>\n",
    "Make a guess from 1 to 100. Type exit to stop. 99<br/>\n",
    "You made a guess of 99<br/>\n",
    "Your guess is too high.<br/>\n",
    "Make a guess from 1 to 100. Type exit to stop. 68<br/>\n",
    "You made a guess of 68<br/>\n",
    "Congrats<br/>"
   ]
  },
  {
   "cell_type": "code",
   "execution_count": 68,
   "metadata": {},
   "outputs": [
    {
     "name": "stdout",
     "output_type": "stream",
     "text": [
      "Make a guess from 1 to 100. Type exit to stop.  23\n",
      "You have made a guess of 23\n",
      "Your guess is too low\n",
      "Make a guess from 1 to 100. Type exit to stop.  87\n",
      "You have made a guess of 87\n",
      "Your guess is too high\n",
      "Make a guess from 1 to 100. Type exit to stop.  abc\n",
      "Please only key in a number.\n",
      "Make a guess from 1 to 100. Type exit to stop.  67\n",
      "You have made a guess of 67\n",
      "Congrats\n"
     ]
    }
   ],
   "source": [
    "myname = \"Rosmawati Binte Andul Latif\"\n",
    "\n",
    "\n",
    "guess = \"\"\n",
    "\n",
    "while guess != \"exit\":\n",
    "    guess = input(\"Make a guess from 1 to 100. Type exit to stop.  \")\n",
    "    if guess == \"exit\":\n",
    "        break\n",
    "    else:\n",
    "        try:\n",
    "            guess = int(guess)\n",
    "        except:\n",
    "            print(\"Please only key in a number.\")\n",
    "        else:\n",
    "            print(\"You have made a guess of\", guess)\n",
    "            if guess == lucky_num:\n",
    "                print(\"Congrats\")\n",
    "                break\n",
    "            elif guess < lucky_num:\n",
    "                print(\"Your guess is too low\")\n",
    "            else:\n",
    "                print(\"Your guess is too high\")"
   ]
  },
  {
   "cell_type": "code",
   "execution_count": null,
   "metadata": {},
   "outputs": [],
   "source": []
  }
 ],
 "metadata": {
  "kernelspec": {
   "display_name": "Python 3",
   "language": "python",
   "name": "python3"
  },
  "language_info": {
   "codemirror_mode": {
    "name": "ipython",
    "version": 3
   },
   "file_extension": ".py",
   "mimetype": "text/x-python",
   "name": "python",
   "nbconvert_exporter": "python",
   "pygments_lexer": "ipython3",
   "version": "3.6.10"
  }
 },
 "nbformat": 4,
 "nbformat_minor": 4
}
