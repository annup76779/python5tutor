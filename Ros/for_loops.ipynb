{
 "cells": [
  {
   "cell_type": "code",
   "execution_count": 19,
   "metadata": {},
   "outputs": [
    {
     "name": "stdout",
     "output_type": "stream",
     "text": [
      "Finally learned Try except\n"
     ]
    }
   ],
   "source": [
    "num = input(\"Enter the number: \")\n",
    "try: \n",
    "    num = int(num) # plan A or default code\n",
    "    # in case if this code is not working or there is any error \n",
    "except:\n",
    "    print(\"Not a valid integer\")\n",
    "    num = 0\n",
    "finally:\n",
    "    print(\"Finally learned Try except\")"
   ]
  },
  {
   "cell_type": "markdown",
   "metadata": {},
   "source": [
    "you have to write a program that can allow your user to give any number of input and your program should print the square of the number.\n",
    "you have to take care of one thing which is to keep asking for integer input till user not enters q as input\n",
    "```\n",
    "6\n",
    "5\n",
    "4\n",
    "3\n",
    "q\n",
    "\n",
    "output\n",
    "36 25 16 9\n",
    "```"
   ]
  },
  {
   "cell_type": "code",
   "execution_count": 15,
   "metadata": {},
   "outputs": [
    {
     "name": "stdout",
     "output_type": "stream",
     "text": [
      "Exiting the program\n",
      "Invalid input! Try again.\n",
      "Exiting the program\n",
      "1\n",
      "4\n",
      "Exiting the program\n"
     ]
    }
   ],
   "source": [
    "for i in range(3):\n",
    "    while True:\n",
    "        num_square = input(\"Enter a number: \")\n",
    "        try: \n",
    "            num_square = int(num_square) ** 2\n",
    "            print(num_square)\n",
    "        except:\n",
    "            if num_square == \"q\":\n",
    "                print(\"Exiting the program\")\n",
    "                break\n",
    "            else:\n",
    "                print(\"Invalid input! Try again.\")\n"
   ]
  },
  {
   "cell_type": "markdown",
   "metadata": {},
   "source": [
    "# understanding break keyword of python\n",
    "\n",
    "break keyword of python is used to stop the working of the current running loop which is closest to the break statement that has been \n",
    "executed now."
   ]
  },
  {
   "cell_type": "code",
   "execution_count": null,
   "metadata": {},
   "outputs": [],
   "source": [
    "for i in range(10):\n",
    "    for j in range(10):\n",
    "        if i * j == 49:\n",
    "            print(\"found perfect 7 and 7\")\n",
    "            break\n",
    "        else:\n",
    "            print((i, j), end=\" \")\n",
    "    print() # using it to go to newline"
   ]
  },
  {
   "cell_type": "markdown",
   "metadata": {},
   "source": [
    "1. let's say I have to find first 100 natural number and print their sum.\n",
    "2. if i want to run a loop which should continue till I find reach the n<sup>th</sup> prime number."
   ]
  },
  {
   "cell_type": "code",
   "execution_count": 6,
   "metadata": {},
   "outputs": [
    {
     "data": {
      "text/plain": [
       "True"
      ]
     },
     "execution_count": 6,
     "metadata": {},
     "output_type": "execute_result"
    }
   ],
   "source": [
    "# program to find prime \n",
    "def isPrime(number):\n",
    "    # no even number other than 2 is prime\n",
    "    if number % 2 == 0:\n",
    "        if number == 2:\n",
    "            return True\n",
    "        else:\n",
    "            return False\n",
    "\n",
    "    # let's check for left behind odd number\n",
    "    for i in range(3, round(number ** 0.5)+1, 2):\n",
    "        if number % i == 0:\n",
    "            return False\n",
    "    return True\n",
    "\n",
    "# i want to check if the num is prime or not!\n",
    "num = 13323 # 1 which is first prime number\n",
    "counter = 0\n",
    "n = 100\n",
    "# while counter < n:\n",
    "#     if isPrime(num):\n",
    "#         print(num)\n",
    "#         counter += 1\n",
    "#     num += 1\n",
    "isPrime(127)"
   ]
  },
  {
   "cell_type": "markdown",
   "metadata": {},
   "source": [
    "# write a program to reverse a string in python\n",
    "1. write entire logic by hand \n",
    "2. write in python ways\n",
    "\n",
    "# write a program to to reverse a number\n",
    "1. write logic \n",
    "2. python ways"
   ]
  },
  {
   "cell_type": "code",
   "execution_count": 7,
   "metadata": {},
   "outputs": [
    {
     "name": "stdout",
     "output_type": "stream",
     "text": [
      "garunA\n"
     ]
    },
    {
     "data": {
      "text/plain": [
       "8"
      ]
     },
     "execution_count": 7,
     "metadata": {},
     "output_type": "execute_result"
    }
   ],
   "source": [
    "# reversing the string \n",
    "\n",
    "#-------------\n",
    "# logic 1\n",
    "#-------------\n",
    "\n",
    "# stack = []\n",
    "# s = \"Anurag\"\n",
    "# for x in s:\n",
    "#     stack.insert(0,x)\n",
    "# \"\".join(stack)\n",
    "\n",
    "#-------------\n",
    "# logic 2\n",
    "#-------------\n",
    "s = \"Anurag\"\n",
    "k = \"\"\n",
    "for x in s:\n",
    "    k = x + k\n",
    "\n",
    "print(k)\n",
    "3200//400"
   ]
  },
  {
   "cell_type": "markdown",
   "metadata": {},
   "source": [
    "Pythonic way to reverse a string\n",
    "1. slicing\n",
    "2. reverse classs"
   ]
  },
  {
   "cell_type": "code",
   "execution_count": 5,
   "metadata": {},
   "outputs": [
    {
     "name": "stdout",
     "output_type": "stream",
     "text": [
      "garunA\n"
     ]
    }
   ],
   "source": [
    "s = \"Anurag\"\n",
    "print(s[::-1])\n"
   ]
  },
  {
   "cell_type": "markdown",
   "metadata": {},
   "source": [
    "#### Exercises\n",
    "1. you are given a list of integers and strings, you are asked to write a python script that can identify any integer and leave it as it is and string should be reversed.\n",
    "    ```\n",
    "        example - lst = [45, 76, 89, 23, \"2334\", \"anurag\", 89, \"Btech\"]\n",
    "        output list should be \n",
    "                    [45, 76, 89, 23, \"4332\", \"garuna\", 89, \"hcetB\"] \n",
    "    ```\n",
    "\n",
    "2. you have to take integer inputs from user and save the input into the list. After saving the input into the list you have to find which of the number present in the list are prime numbers and their second last digit is even. "
   ]
  },
  {
   "cell_type": "code",
   "execution_count": null,
   "metadata": {},
   "outputs": [],
   "source": [
    "def take_integer_input_in_list():\n",
    "    n = int(input(\"Enter how many numbers you want to enter: \"))\n",
    "    lst = []\n",
    "    for i in range(n):\n",
    "        userIn = int(input(\"Enter number: \"))\n",
    "        lst.append(userIn)\n",
    "\n",
    "    return lst\n",
    "\n",
    "\n",
    "## function to chech if number is prime or not\n",
    "def isPrime(num):\n",
    "    if num % 2 == 0:\n",
    "        return num == 2\n",
    "\n",
    "    for n in range(3, round(num ** 0.5)+1):\n",
    "        if num % n == 0:\n",
    "            return False\n",
    "    return True\n",
    "\n",
    "def main():\n",
    "    lst = take_integer_input_in_list()\n",
    "    print(lst)\n",
    "\n",
    "    # now check if the 2nd last digit of the numebr is even or not and\n",
    "    # if the 2nd last digit is even then we will check if the number is\n",
    "    # prime number or not\n",
    "    for number in lst:\n",
    "        print(number)\n",
    "        if ((number // 10) % 10) % 2 == 0:\n",
    "            print(isPrime(number), number)\n",
    "\n",
    "\n",
    "main()\n"
   ]
  },
  {
   "cell_type": "code",
   "execution_count": 6,
   "metadata": {},
   "outputs": [
    {
     "name": "stdout",
     "output_type": "stream",
     "text": [
      "I found the number\n"
     ]
    }
   ],
   "source": [
    "lst1  = [1,45,435,436,4634,5,4523,4,235,6]\n",
    "lst2 = [1,434,654,34,645,34,6657,23,56,23]\n",
    "\n",
    "# i want you to write a program that can add both the list and then check if any given number is present in the list after addition or not\n",
    "# you have to do this in single loop\n",
    "userin = int(input(\"Enter the value to be checked: \"))\n",
    "# for index in range(len(lst2)):\n",
    "#     if userin == lst1[index] + lst2[index]:\n",
    "#         print(\"I found the presence\")\n",
    "#         break # no need to check further\n",
    "\n",
    "for data1, data2 in zip(lst1, lst2):\n",
    "    if userin == data1 + data2:\n",
    "        print(\"I found the number\")\n",
    "        break # no need to check further\n"
   ]
  },
  {
   "cell_type": "markdown",
   "metadata": {},
   "source": [
    "#### sarting to work on list of list (2D lists or matrix)\n",
    "\n",
    "```\n",
    "[\n",
    "    [data1, data2, data3, data4,...],\n",
    "    [data1, data2, data3, data4,...],\n",
    "    [data1, data2, data3, data4,...],\n",
    "    [data1, data2, data3, data4,...],\n",
    "    [data1, data2, data3, data4,...],\n",
    "    [data1, data2, data3, data4,...],\n",
    "    [data1, data2, data3, data4,...],\n",
    "    [data1, data2, data3, data4,...],\n",
    "]\n",
    "```"
   ]
  },
  {
   "cell_type": "code",
   "execution_count": 8,
   "metadata": {},
   "outputs": [
    {
     "data": {
      "text/plain": [
       "[[5, 754, 3, 7],\n",
       " [523, 5467, 56, 23],\n",
       " [7, 5, '', 56],\n",
       " [None, 54, 456, 5],\n",
       " [4325, 65, 53, 23],\n",
       " [65346, 45, 6, ''],\n",
       " ['', 23, None, 64],\n",
       " [523, '', 7, ''],\n",
       " [6, 523, None, 53],\n",
       " [43, 34, None, None]]"
      ]
     },
     "execution_count": 8,
     "metadata": {},
     "output_type": "execute_result"
    }
   ],
   "source": [
    "from random import choice\n",
    "lst = [23,4325,34,None,None,\"\",65346,3,534,523,54,None,23,634,\"\",6,546,34,53,None,246,34,645,7,548,65,754,64,5,23,523,None,56,3467,45,7,5467,None,456,43,53]\n",
    "my_data = [\n",
    "    [choice(lst), choice(lst), choice(lst), choice(lst)] for _ in range(10)\n",
    "    ]\n",
    "my_data"
   ]
  },
  {
   "cell_type": "code",
   "execution_count": 11,
   "metadata": {},
   "outputs": [
    {
     "data": {
      "text/plain": [
       "[[5, 754, 3, 7],\n",
       " [523, 5467, 56, 23],\n",
       " [7, 5, 0, 56],\n",
       " [12, 54, 456, 5],\n",
       " [4325, 65, 53, 23],\n",
       " [65346, 45, 6, 0],\n",
       " [0, 23, 12, 64],\n",
       " [523, 0, 7, 0],\n",
       " [6, 523, 12, 53],\n",
       " [43, 34, 12, 12]]"
      ]
     },
     "execution_count": 11,
     "metadata": {},
     "output_type": "execute_result"
    }
   ],
   "source": [
    "# \"\" must be replaced with 0\n",
    "# None must be replaced with 12\n",
    "\n",
    "for row_index in range(len(my_data)):\n",
    "    for col_index in range(len(my_data[row_index])):\n",
    "        if my_data[row_index][col_index] == \"\":\n",
    "            my_data[row_index][col_index] = 0\n",
    "        elif my_data[row_index][col_index] is None:\n",
    "            my_data[row_index][col_index] = 12\n",
    "my_data\n",
    "\n"
   ]
  },
  {
   "cell_type": "code",
   "execution_count": 13,
   "metadata": {},
   "outputs": [
    {
     "name": "stdout",
     "output_type": "stream",
     "text": [
      "9\n"
     ]
    }
   ],
   "source": [
    "lst = [[1,23,3], [89, 76, 56, 46, 9], [1]]\n",
    "print(lst[1][4])"
   ]
  }
 ],
 "metadata": {
  "interpreter": {
   "hash": "4f946df053fbf2b937619d3c5458e7af74262f9a954d8797ba0b27400bcafe06"
  },
  "kernelspec": {
   "display_name": "Python 3.10.4 64-bit",
   "language": "python",
   "name": "python3"
  },
  "language_info": {
   "codemirror_mode": {
    "name": "ipython",
    "version": 3
   },
   "file_extension": ".py",
   "mimetype": "text/x-python",
   "name": "python",
   "nbconvert_exporter": "python",
   "pygments_lexer": "ipython3",
   "version": "3.10.4"
  },
  "orig_nbformat": 4
 },
 "nbformat": 4,
 "nbformat_minor": 2
}
