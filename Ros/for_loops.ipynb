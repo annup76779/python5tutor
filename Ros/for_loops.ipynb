{
 "cells": [
  {
   "cell_type": "code",
   "execution_count": 19,
   "metadata": {},
   "outputs": [
    {
     "name": "stdout",
     "output_type": "stream",
     "text": [
      "Finally learned Try except\n"
     ]
    }
   ],
   "source": [
    "num = input(\"Enter the number: \")\n",
    "try: \n",
    "    num = int(num) # plan A or default code\n",
    "    # in case if this code is not working or there is any error \n",
    "except:\n",
    "    print(\"Not a valid integer\")\n",
    "    num = 0\n",
    "finally:\n",
    "    print(\"Finally learned Try except\")"
   ]
  },
  {
   "cell_type": "markdown",
   "metadata": {},
   "source": [
    "you have to write a program that can allow your user to give any number of input and your program should print the square of the number.\n",
    "you have to take care of one thing which is to keep asking for integer input till user not enters q as input\n",
    "```\n",
    "6\n",
    "5\n",
    "4\n",
    "3\n",
    "q\n",
    "\n",
    "output\n",
    "36 25 16 9\n",
    "```"
   ]
  },
  {
   "cell_type": "code",
   "execution_count": 15,
   "metadata": {},
   "outputs": [
    {
     "name": "stdout",
     "output_type": "stream",
     "text": [
      "Exiting the program\n",
      "Invalid input! Try again.\n",
      "Exiting the program\n",
      "1\n",
      "4\n",
      "Exiting the program\n"
     ]
    }
   ],
   "source": [
    "for i in range(3):\n",
    "    while True:\n",
    "        num_square = input(\"Enter a number: \")\n",
    "        try: \n",
    "            num_square = int(num_square) ** 2\n",
    "            print(num_square)\n",
    "        except:\n",
    "            if num_square == \"q\":\n",
    "                print(\"Exiting the program\")\n",
    "                break\n",
    "            else:\n",
    "                print(\"Invalid input! Try again.\")\n"
   ]
  },
  {
   "cell_type": "markdown",
   "metadata": {},
   "source": [
    "# understanding break keyword of python\n",
    "\n",
    "break keyword of python is used to stop the working of the current running loop which is closest to the break statement that has been \n",
    "executed now."
   ]
  },
  {
   "cell_type": "code",
   "execution_count": null,
   "metadata": {},
   "outputs": [],
   "source": [
    "for i in range(10):\n",
    "    for j in range(10):\n",
    "        if i * j == 49:\n",
    "            print(\"found perfect 7 and 7\")\n",
    "            break\n",
    "        else:\n",
    "            print((i, j), end=\" \")\n",
    "    print() # using it to go to newline"
   ]
  },
  {
   "cell_type": "markdown",
   "metadata": {},
   "source": [
    "1. let's say I have to find first 100 natural number and print their sum.\n",
    "2. if i want to run a loop which should continue till I find reach the n<sup>th</sup> prime number."
   ]
  },
  {
   "cell_type": "code",
   "execution_count": 6,
   "metadata": {},
   "outputs": [
    {
     "data": {
      "text/plain": [
       "True"
      ]
     },
     "execution_count": 6,
     "metadata": {},
     "output_type": "execute_result"
    }
   ],
   "source": [
    "# program to find prime \n",
    "def isPrime(number):\n",
    "    # no even number other than 2 is prime\n",
    "    if number % 2 == 0:\n",
    "        if number == 2:\n",
    "            return True\n",
    "        else:\n",
    "            return False\n",
    "\n",
    "    # let's check for left behind odd number\n",
    "    for i in range(3, round(number ** 0.5)+1, 2):\n",
    "        if number % i == 0:\n",
    "            return False\n",
    "    return True\n",
    "\n",
    "# i want to check if the num is prime or not!\n",
    "num = 13323 # 1 which is first prime number\n",
    "counter = 0\n",
    "n = 100\n",
    "# while counter < n:\n",
    "#     if isPrime(num):\n",
    "#         print(num)\n",
    "#         counter += 1\n",
    "#     num += 1\n",
    "isPrime(127)"
   ]
  },
  {
   "cell_type": "markdown",
   "metadata": {},
   "source": [
    "# write a program to reverse a string in python\n",
    "1. write entire logic by hand \n",
    "2. write in python ways\n",
    "\n",
    "# write a program to to reverse a number\n",
    "1. write logic \n",
    "2. python ways"
   ]
  },
  {
   "cell_type": "code",
   "execution_count": 7,
   "metadata": {},
   "outputs": [
    {
     "name": "stdout",
     "output_type": "stream",
     "text": [
      "garunA\n"
     ]
    },
    {
     "data": {
      "text/plain": [
       "8"
      ]
     },
     "execution_count": 7,
     "metadata": {},
     "output_type": "execute_result"
    }
   ],
   "source": [
    "# reversing the string \n",
    "\n",
    "#-------------\n",
    "# logic 1\n",
    "#-------------\n",
    "\n",
    "# stack = []\n",
    "# s = \"Anurag\"\n",
    "# for x in s:\n",
    "#     stack.insert(0,x)\n",
    "# \"\".join(stack)\n",
    "\n",
    "#-------------\n",
    "# logic 2\n",
    "#-------------\n",
    "s = \"Anurag\"\n",
    "k = \"\"\n",
    "for x in s:\n",
    "    k = x + k\n",
    "\n",
    "print(k)\n",
    "3200//400"
   ]
  },
  {
   "cell_type": "markdown",
   "metadata": {},
   "source": [
    "Pythonic way to reverse a string\n",
    "1. slicing\n",
    "2. reverse classs"
   ]
  },
  {
   "cell_type": "code",
   "execution_count": 5,
   "metadata": {},
   "outputs": [
    {
     "name": "stdout",
     "output_type": "stream",
     "text": [
      "garunA\n"
     ]
    }
   ],
   "source": [
    "s = \"Anurag\"\n",
    "print(s[::-1])\n"
   ]
  },
  {
   "cell_type": "markdown",
   "metadata": {},
   "source": [
    "#### Exercises\n",
    "1. you are given a list of integers and strings, you are asked to write a python script that can identify any integer and leave it as it is and string should be reversed.\n",
    "    ```\n",
    "        example - lst = [45, 76, 89, 23, \"2334\", \"anurag\", 89, \"Btech\"]\n",
    "        output list should be \n",
    "                    [45, 76, 89, 23, \"4332\", \"garuna\", 89, \"hcetB\"] \n",
    "    ```\n",
    "\n",
    "2. you have to take integer inputs from user and save the input into the list. After saving the input into the list you have to find which of the number present in the list are prime numbers and their second last digit is even. "
   ]
  },
  {
   "cell_type": "code",
   "execution_count": 16,
   "metadata": {},
   "outputs": [
    {
     "name": "stdout",
     "output_type": "stream",
     "text": [
      "[43, 47, 31, 91]\n",
      "43\n"
     ]
    },
    {
     "ename": "TypeError",
     "evalue": "'float' object cannot be interpreted as an integer",
     "output_type": "error",
     "traceback": [
      "\u001b[0;31m---------------------------------------------------------------------------\u001b[0m",
      "\u001b[0;31mTypeError\u001b[0m                                 Traceback (most recent call last)",
      "\u001b[1;32m/workspaces/python5tutor/Ros/for_loops.ipynb Cell 13'\u001b[0m in \u001b[0;36m<cell line: 34>\u001b[0;34m()\u001b[0m\n\u001b[1;32m     <a href='vscode-notebook-cell://codespaces%2Bannup76779-python5tutor-7g5rr7v5hx9v6/workspaces/python5tutor/Ros/for_loops.ipynb#ch0000012vscode-remote?line=29'>30</a>\u001b[0m         \u001b[39mif\u001b[39;00m ((number \u001b[39m/\u001b[39m\u001b[39m/\u001b[39m \u001b[39m10\u001b[39m) \u001b[39m%\u001b[39m \u001b[39m10\u001b[39m) \u001b[39m%\u001b[39m \u001b[39m2\u001b[39m \u001b[39m==\u001b[39m \u001b[39m0\u001b[39m:\n\u001b[1;32m     <a href='vscode-notebook-cell://codespaces%2Bannup76779-python5tutor-7g5rr7v5hx9v6/workspaces/python5tutor/Ros/for_loops.ipynb#ch0000012vscode-remote?line=30'>31</a>\u001b[0m             \u001b[39mprint\u001b[39m(isPrime(number), number)\n\u001b[0;32m---> <a href='vscode-notebook-cell://codespaces%2Bannup76779-python5tutor-7g5rr7v5hx9v6/workspaces/python5tutor/Ros/for_loops.ipynb#ch0000012vscode-remote?line=33'>34</a>\u001b[0m main()\n",
      "\u001b[1;32m/workspaces/python5tutor/Ros/for_loops.ipynb Cell 13'\u001b[0m in \u001b[0;36mmain\u001b[0;34m()\u001b[0m\n\u001b[1;32m     <a href='vscode-notebook-cell://codespaces%2Bannup76779-python5tutor-7g5rr7v5hx9v6/workspaces/python5tutor/Ros/for_loops.ipynb#ch0000012vscode-remote?line=28'>29</a>\u001b[0m \u001b[39mprint\u001b[39m(number)\n\u001b[1;32m     <a href='vscode-notebook-cell://codespaces%2Bannup76779-python5tutor-7g5rr7v5hx9v6/workspaces/python5tutor/Ros/for_loops.ipynb#ch0000012vscode-remote?line=29'>30</a>\u001b[0m \u001b[39mif\u001b[39;00m ((number \u001b[39m/\u001b[39m\u001b[39m/\u001b[39m \u001b[39m10\u001b[39m) \u001b[39m%\u001b[39m \u001b[39m10\u001b[39m) \u001b[39m%\u001b[39m \u001b[39m2\u001b[39m \u001b[39m==\u001b[39m \u001b[39m0\u001b[39m:\n\u001b[0;32m---> <a href='vscode-notebook-cell://codespaces%2Bannup76779-python5tutor-7g5rr7v5hx9v6/workspaces/python5tutor/Ros/for_loops.ipynb#ch0000012vscode-remote?line=30'>31</a>\u001b[0m     \u001b[39mprint\u001b[39m(isPrime(number), number)\n",
      "\u001b[1;32m/workspaces/python5tutor/Ros/for_loops.ipynb Cell 13'\u001b[0m in \u001b[0;36misPrime\u001b[0;34m(num)\u001b[0m\n\u001b[1;32m     <a href='vscode-notebook-cell://codespaces%2Bannup76779-python5tutor-7g5rr7v5hx9v6/workspaces/python5tutor/Ros/for_loops.ipynb#ch0000012vscode-remote?line=12'>13</a>\u001b[0m \u001b[39mif\u001b[39;00m num \u001b[39m%\u001b[39m \u001b[39m2\u001b[39m \u001b[39m==\u001b[39m \u001b[39m0\u001b[39m:\n\u001b[1;32m     <a href='vscode-notebook-cell://codespaces%2Bannup76779-python5tutor-7g5rr7v5hx9v6/workspaces/python5tutor/Ros/for_loops.ipynb#ch0000012vscode-remote?line=13'>14</a>\u001b[0m     \u001b[39mreturn\u001b[39;00m num \u001b[39m==\u001b[39m \u001b[39m2\u001b[39m\n\u001b[0;32m---> <a href='vscode-notebook-cell://codespaces%2Bannup76779-python5tutor-7g5rr7v5hx9v6/workspaces/python5tutor/Ros/for_loops.ipynb#ch0000012vscode-remote?line=15'>16</a>\u001b[0m \u001b[39mfor\u001b[39;00m n \u001b[39min\u001b[39;00m \u001b[39mrange\u001b[39m(\u001b[39mround\u001b[39;49m(\u001b[39m3\u001b[39;49m,num \u001b[39m*\u001b[39;49m\u001b[39m*\u001b[39;49m \u001b[39m0.5\u001b[39;49m)\u001b[39m+\u001b[39m\u001b[39m1\u001b[39m):\n\u001b[1;32m     <a href='vscode-notebook-cell://codespaces%2Bannup76779-python5tutor-7g5rr7v5hx9v6/workspaces/python5tutor/Ros/for_loops.ipynb#ch0000012vscode-remote?line=16'>17</a>\u001b[0m     \u001b[39mif\u001b[39;00m num \u001b[39m%\u001b[39m n \u001b[39m==\u001b[39m \u001b[39m0\u001b[39m:\n\u001b[1;32m     <a href='vscode-notebook-cell://codespaces%2Bannup76779-python5tutor-7g5rr7v5hx9v6/workspaces/python5tutor/Ros/for_loops.ipynb#ch0000012vscode-remote?line=17'>18</a>\u001b[0m         \u001b[39mreturn\u001b[39;00m \u001b[39mFalse\u001b[39;00m\n",
      "\u001b[0;31mTypeError\u001b[0m: 'float' object cannot be interpreted as an integer"
     ]
    }
   ],
   "source": [
    "def take_integer_input_in_list():\n",
    "    n = int(input(\"Enter how many numbers you want to enter: \"))\n",
    "    lst = []\n",
    "    for i in range(n):\n",
    "        userIn = int(input(\"Enter number: \"))\n",
    "        lst.append(userIn)\n",
    "\n",
    "    return lst\n",
    "\n",
    "\n",
    "## function to chech if number is prime or not\n",
    "def isPrime(num):\n",
    "    if num % 2 == 0:\n",
    "        return num == 2\n",
    "\n",
    "    for n in range(3, round(num ** 0.5)+1):\n",
    "        if num % n == 0:\n",
    "            return False\n",
    "    return True\n",
    "\n",
    "def main():\n",
    "    lst = take_integer_input_in_list()\n",
    "    print(lst)\n",
    "\n",
    "    # now check if the 2nd last digit of the numebr is even or not and\n",
    "    # if the 2nd last digit is even then we will check if the number is\n",
    "    # prime number or not\n",
    "    for number in lst:\n",
    "        print(number)\n",
    "        if ((number // 10) % 10) % 2 == 0:\n",
    "            print(isPrime(number), number)\n",
    "\n",
    "\n",
    "main()\n"
   ]
  },
  {
   "cell_type": "code",
   "execution_count": 15,
   "metadata": {},
   "outputs": [
    {
     "data": {
      "text/plain": [
       "True"
      ]
     },
     "execution_count": 15,
     "metadata": {},
     "output_type": "execute_result"
    }
   ],
   "source": [
    "number = 43\n",
    "((number // 10) % 10) % 2 == 0"
   ]
  }
 ],
 "metadata": {
  "interpreter": {
   "hash": "4f946df053fbf2b937619d3c5458e7af74262f9a954d8797ba0b27400bcafe06"
  },
  "kernelspec": {
   "display_name": "Python 3.10.4 64-bit",
   "language": "python",
   "name": "python3"
  },
  "language_info": {
   "codemirror_mode": {
    "name": "ipython",
    "version": 3
   },
   "file_extension": ".py",
   "mimetype": "text/x-python",
   "name": "python",
   "nbconvert_exporter": "python",
   "pygments_lexer": "ipython3",
   "version": "3.10.4"
  },
  "orig_nbformat": 4
 },
 "nbformat": 4,
 "nbformat_minor": 2
}
