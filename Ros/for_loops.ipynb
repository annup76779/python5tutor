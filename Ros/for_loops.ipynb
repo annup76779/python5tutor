{
 "cells": [
  {
   "cell_type": "code",
   "execution_count": 19,
   "metadata": {},
   "outputs": [
    {
     "name": "stdout",
     "output_type": "stream",
     "text": [
      "Finally learned Try except\n"
     ]
    }
   ],
   "source": [
    "num = input(\"Enter the number: \")\n",
    "try: \n",
    "    num = int(num) # plan A or default code\n",
    "    # in case if this code is not working or there is any error \n",
    "except:\n",
    "    print(\"Not a valid integer\")\n",
    "    num = 0\n",
    "finally:\n",
    "    print(\"Finally learned Try except\")"
   ]
  },
  {
   "cell_type": "markdown",
   "metadata": {},
   "source": [
    "you have to write a program that can allow your user to give any number of input and your program should print the square of the number.\n",
    "you have to take care of one thing which is to keep asking for integer input till user not enters q as input\n",
    "```\n",
    "6\n",
    "5\n",
    "4\n",
    "3\n",
    "q\n",
    "\n",
    "output\n",
    "36 25 16 9\n",
    "```"
   ]
  },
  {
   "cell_type": "code",
   "execution_count": 15,
   "metadata": {},
   "outputs": [
    {
     "name": "stdout",
     "output_type": "stream",
     "text": [
      "Exiting the program\n",
      "Invalid input! Try again.\n",
      "Exiting the program\n",
      "1\n",
      "4\n",
      "Exiting the program\n"
     ]
    }
   ],
   "source": [
    "for i in range(3):\n",
    "    while True:\n",
    "        num_square = input(\"Enter a number: \")\n",
    "        try: \n",
    "            num_square = int(num_square) ** 2\n",
    "            print(num_square)\n",
    "        except:\n",
    "            if num_square == \"q\":\n",
    "                print(\"Exiting the program\")\n",
    "                break\n",
    "            else:\n",
    "                print(\"Invalid input! Try again.\")\n"
   ]
  },
  {
   "cell_type": "markdown",
   "metadata": {},
   "source": [
    "# understanding break keyword of python\n",
    "\n",
    "break keyword of python is used to stop the working of the current running loop which is closest to the break statement that has been \n",
    "executed now."
   ]
  },
  {
   "cell_type": "code",
   "execution_count": null,
   "metadata": {},
   "outputs": [],
   "source": [
    "for i in range(10):\n",
    "    for j in range(10):\n",
    "        if i * j == 49:\n",
    "            print(\"found perfect 7 and 7\")\n",
    "            break\n",
    "        else:\n",
    "            print((i, j), end=\" \")\n",
    "    print() # using it to go to newline"
   ]
  },
  {
   "cell_type": "markdown",
   "metadata": {},
   "source": [
    "1. let's say I have to find first 100 natural number and print their sum.\n",
    "2. if i want to run a loop which should continue till I find reach the n<sup>th</sup> prime number."
   ]
  },
  {
   "cell_type": "code",
   "execution_count": 16,
   "metadata": {},
   "outputs": [
    {
     "name": "stdout",
     "output_type": "stream",
     "text": [
      "5050\n"
     ]
    }
   ],
   "source": []
  }
 ],
 "metadata": {
  "interpreter": {
   "hash": "4f946df053fbf2b937619d3c5458e7af74262f9a954d8797ba0b27400bcafe06"
  },
  "kernelspec": {
   "display_name": "Python 3.10.4 64-bit",
   "language": "python",
   "name": "python3"
  },
  "language_info": {
   "codemirror_mode": {
    "name": "ipython",
    "version": 3
   },
   "file_extension": ".py",
   "mimetype": "text/x-python",
   "name": "python",
   "nbconvert_exporter": "python",
   "pygments_lexer": "ipython3",
   "version": "3.10.4"
  },
  "orig_nbformat": 4
 },
 "nbformat": 4,
 "nbformat_minor": 2
}
