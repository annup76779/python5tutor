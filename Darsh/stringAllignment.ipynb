{
 "cells": [
  {
   "cell_type": "markdown",
   "metadata": {},
   "source": [
    "### String Alignment methods\n",
    "1. ljust\n",
    "2. rjust\n",
    "3. center"
   ]
  },
  {
   "cell_type": "code",
   "execution_count": 3,
   "metadata": {},
   "outputs": [
    {
     "name": "stdout",
     "output_type": "stream",
     "text": [
      "Anurag Pandey                                     \n",
      "                                     Anurag Pandey\n",
      "                  Anurag Pandey                   \n"
     ]
    }
   ],
   "source": [
    "s = \"Anurag Pandey\"\n",
    "print(s.ljust(50))\n",
    "print(s.rjust(50))\n",
    "print(s.center(50))"
   ]
  }
 ],
 "metadata": {
  "kernelspec": {
   "display_name": "Python 3",
   "language": "python",
   "name": "python3"
  },
  "language_info": {
   "codemirror_mode": {
    "name": "ipython",
    "version": 3
   },
   "file_extension": ".py",
   "mimetype": "text/x-python",
   "name": "python",
   "nbconvert_exporter": "python",
   "pygments_lexer": "ipython3",
   "version": "3.11.9"
  }
 },
 "nbformat": 4,
 "nbformat_minor": 2
}
