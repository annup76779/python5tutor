{
 "cells": [
  {
   "cell_type": "markdown",
   "metadata": {},
   "source": [
    "str() -> you pass anything to this function and then it will return the possible string conversion of that passed value"
   ]
  },
  {
   "cell_type": "code",
   "execution_count": 1,
   "metadata": {},
   "outputs": [
    {
     "data": {
      "text/plain": [
       "'<built-in function print>'"
      ]
     },
     "execution_count": 1,
     "metadata": {},
     "output_type": "execute_result"
    }
   ],
   "source": [
    "str(print)"
   ]
  },
  {
   "cell_type": "code",
   "execution_count": 2,
   "metadata": {},
   "outputs": [],
   "source": [
    "s = \"Anurag Pandey is Teaching DARsh. Currently Darsh ß is learning Python\"\n"
   ]
  },
  {
   "cell_type": "code",
   "execution_count": 3,
   "metadata": {},
   "outputs": [
    {
     "name": "stdout",
     "output_type": "stream",
     "text": [
      "-1\n",
      "-1\n"
     ]
    }
   ],
   "source": [
    "# find -> it is used to get the first occurrence of any asked sub string into the main string\n",
    "\n",
    "print(s.find(\"la\"))\n",
    "print(s.rfind(\"la\"))"
   ]
  },
  {
   "cell_type": "code",
   "execution_count": 4,
   "metadata": {},
   "outputs": [
    {
     "name": "stdout",
     "output_type": "stream",
     "text": [
      "Capital:  Anurag pandey is teaching darsh. currently darsh ß is learning python\n",
      "Title:  Anurag Pandey Is Teaching Darsh. Currently Darsh Ss Is Learning Python\n",
      "Lower:  anurag pandey is teaching darsh. currently darsh ß is learning python\n",
      "Upper:  ANURAG PANDEY IS TEACHING DARSH. CURRENTLY DARSH SS IS LEARNING PYTHON\n",
      "Casefold:  anurag pandey is teaching darsh. currently darsh ss is learning python\n"
     ]
    }
   ],
   "source": [
    "## Case management functions\n",
    "# capitalize, title, lower, upper, casefold\n",
    "\n",
    "print(\"Capital: \", s.capitalize())\n",
    "print(\"Title: \", s.title())\n",
    "print(\"Lower: \", s.lower())\n",
    "print(\"Upper: \", s.upper())\n",
    "print(\"Casefold: \", s.casefold())"
   ]
  },
  {
   "cell_type": "code",
   "execution_count": 5,
   "metadata": {},
   "outputs": [
    {
     "name": "stdout",
     "output_type": "stream",
     "text": [
      "666666666666aljfklasfjas                 aldjkfkaslfd66666666666\n",
      "666666666666aljfklasfjas                 aldjkfkaslfd66666666666\n",
      "666666666666aljfklasfjas                 aldjkfkaslfd66666666666\n",
      "aljfklasfjas                 aldjkfkaslfd\n",
      "aljfklasfjas                 aldjkfkaslfd66666666666\n"
     ]
    }
   ],
   "source": [
    "# Trimming of extra/unnecessary data from string\n",
    "# strip, rstrip, lstrip\n",
    "k = \"666666666666aljfklasfjas                 aldjkfkaslfd66666666666\"\n",
    "print(k.strip())\n",
    "print(k.lstrip())\n",
    "print(k.rstrip())\n",
    "print(k.strip(\"6\"))\n",
    "print(k.lstrip(\"6\"))"
   ]
  },
  {
   "cell_type": "code",
   "execution_count": 6,
   "metadata": {},
   "outputs": [
    {
     "name": "stdout",
     "output_type": "stream",
     "text": [
      "annup76779 Pandey is Teaching DARsh. Currently Darsh ß is learning Python\n"
     ]
    }
   ],
   "source": [
    "# replace a substring from the string\n",
    "s = s.replace(\"Anurag\", \"annup76779\")\n",
    "print(s)"
   ]
  },
  {
   "cell_type": "code",
   "execution_count": 7,
   "metadata": {},
   "outputs": [
    {
     "name": "stdout",
     "output_type": "stream",
     "text": [
      "True\n",
      "False\n"
     ]
    }
   ],
   "source": [
    "# if a string starts with some substring or end with some substring\n",
    "# startswith and endswith\n",
    "\n",
    "print(s.startswith(\"annup76779\"))\n",
    "print(s.endswith(\"y\"))"
   ]
  },
  {
   "cell_type": "code",
   "execution_count": 12,
   "metadata": {},
   "outputs": [
    {
     "name": "stdout",
     "output_type": "stream",
     "text": [
      "Not capital letter\n"
     ]
    }
   ],
   "source": [
    "alpha = input(\"Enter any alphabet: \")\n",
    "# if it is capital letter\n",
    "if ord(alpha[0]) >= ord('A') and ord(alpha[0]) <= ord('Z'):\n",
    "    print(\"It is capital\")\n",
    "else:\n",
    "    print(\"Not capital letter\")"
   ]
  },
  {
   "cell_type": "code",
   "execution_count": 33,
   "metadata": {},
   "outputs": [
    {
     "name": "stdout",
     "output_type": "stream",
     "text": [
      "Hello, my first name is Anurag and my last name is -23\n"
     ]
    }
   ],
   "source": [
    "# format and format_map and f string, traditional embedding of data in string\n",
    "\n",
    "first_name = \"Anurag\"\n",
    "last_name = \"Pandey\"\n",
    "name_map = {\n",
    "    \"first_name\": \"Anurag\", \"last_name\": \"Pandey\", \"occupation\": \"Software Developer\"\n",
    "}\n",
    "\n",
    "# msg = \"Hello, my first name is \" + first_name + \" and last name is \" + last_name\n",
    "# msg = \"Hello, my first name is {0} and my last name is {1}\".format(first_name, last_name)\n",
    "# msg = \"Hello, my first name is {first_name} and my last name is {last_name} and I am a {occupation}\".format_map(name_map)\n",
    "# msg = f\"Hello, my first name is {first_name} {23+34} and my last name is {last_name}.\"\n",
    "msg = \"Hello, my first name is %s and my last name is %i\" % (first_name, -23)\n",
    "print(msg)"
   ]
  },
  {
   "attachments": {
    "image.png": {
     "image/png": "[encoded data removed]"
    }
   },
   "cell_type": "markdown",
   "metadata": {},
   "source": [
    "![image.png](attachment:image.png)"
   ]
  },
  {
   "cell_type": "code",
   "execution_count": 43,
   "metadata": {},
   "outputs": [
    {
     "name": "stdout",
     "output_type": "stream",
     "text": [
      "True False\n",
      "True False False\n"
     ]
    }
   ],
   "source": [
    "s = \"ASDFAS\"\n",
    "print(s.isupper(),\n",
    "s.islower())\n",
    "s = \"ⅠⅢⅧ\"\n",
    "print(s.isnumeric(),\n",
    "s.isdigit(),\n",
    "s.isascii())"
   ]
  }
 ],
 "metadata": {
  "kernelspec": {
   "display_name": "Python 3",
   "language": "python",
   "name": "python3"
  },
  "language_info": {
   "codemirror_mode": {
    "name": "ipython",
    "version": 3
   },
   "file_extension": ".py",
   "mimetype": "text/x-python",
   "name": "python",
   "nbconvert_exporter": "python",
   "pygments_lexer": "ipython3",
   "version": "3.11.9"
  }
 },
 "nbformat": 4,
 "nbformat_minor": 2
}
