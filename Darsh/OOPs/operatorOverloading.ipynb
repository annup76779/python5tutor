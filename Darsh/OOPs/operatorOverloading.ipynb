{
 "cells": [
  {
   "cell_type": "code",
   "id": "initial_id",
   "metadata": {
    "collapsed": true,
    "jupyter": {
     "is_executing": true
    }
   },
   "source": [
    "class MyIntegerNumber:\n",
    "    def __init__(self, value: int):\n",
    "        if not isinstance(value, int):\n",
    "            raise TypeError(\"Value must be an integer\")\n",
    "        self.value = value\n",
    "\n",
    "\n",
    "n1 = MyIntegerNumber(10)\n",
    "n2 = MyIntegerNumber(20)\n",
    "\n",
    "n1.value + n2.value\n"
   ],
   "outputs": [],
   "execution_count": null
  },
  {
   "metadata": {
    "jupyter": {
     "is_executing": true
    }
   },
   "cell_type": "code",
   "source": "print(\"asldkfjksd\")",
   "id": "6eb21e736f12e059",
   "outputs": [],
   "execution_count": null
  }
 ],
 "metadata": {
  "kernelspec": {
   "display_name": "Python 3",
   "language": "python",
   "name": "python3"
  },
  "language_info": {
   "codemirror_mode": {
    "name": "ipython",
    "version": 2
   },
   "file_extension": ".py",
   "mimetype": "text/x-python",
   "name": "python",
   "nbconvert_exporter": "python",
   "pygments_lexer": "ipython2",
   "version": "2.7.6"
  }
 },
 "nbformat": 4,
 "nbformat_minor": 5
}
