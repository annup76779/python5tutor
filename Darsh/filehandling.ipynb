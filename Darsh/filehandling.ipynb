{
 "cells": [
  {
   "cell_type": "markdown",
   "metadata": {},
   "source": [
    "```python\n",
    "open(filename, mode) # mandatory\n",
    "```"
   ]
  },
  {
   "cell_type": "code",
   "execution_count": 1,
   "metadata": {},
   "outputs": [
    {
     "data": {
      "text/plain": [
       "<_io.TextIOWrapper name='test.txt' mode='x' encoding='cp1252'>"
      ]
     },
     "execution_count": 1,
     "metadata": {},
     "output_type": "execute_result"
    }
   ],
   "source": [
    "# creation of file\n",
    "open(\"test.txt\", \"x\")  # create a file\n"
   ]
  },
  {
   "cell_type": "markdown",
   "metadata": {},
   "source": [
    "#### Life Cycle of file handling \n",
    "`Opne the file -> Perform operation -> if writting, then flush the file -> close the file`"
   ]
  },
  {
   "cell_type": "code",
   "execution_count": 17,
   "metadata": {},
   "outputs": [],
   "source": [
    "# writing into the file\n",
    "f = open(\"test.txt\", \"w\")\n",
    "f.write(\"Hello, Annurag is teaching darsh\")\n",
    "# either close the file or flush the written content into the file\n",
    "# it is recommended to flush to save and when task with the file is over, then close the file\n",
    "f.flush()\n",
    "f.close()"
   ]
  },
  {
   "cell_type": "code",
   "execution_count": 16,
   "metadata": {},
   "outputs": [],
   "source": [
    "# append into the file\n",
    "f = open(\"test.txt\", \"a\")\n",
    "f.write(\"\\nHello, Annurag is teaching darsh\")\n",
    "# either close the file or flush the written content into the file\n",
    "# it is recommended to flush to save and when task with the file is over, then close the file\n",
    "f.flush()\n",
    "f.close()"
   ]
  },
  {
   "cell_type": "code",
   "execution_count": 9,
   "metadata": {},
   "outputs": [
    {
     "name": "stdout",
     "output_type": "stream",
     "text": [
      "Order:  pizza: 22.5 | 135.0 | 222.75\n",
      "\n"
     ]
    }
   ],
   "source": [
    "file_path = r\"projects\\OrderManagement\\reciept.txt\"\n",
    "\n",
    "file_object = open(file_path, 'r')\n",
    "\n",
    "for line in file_object.readlines():\n",
    "    if \"- Delivered\" in line:\n",
    "        continue\n",
    "    print(\"Order: \", line)"
   ]
  },
  {
   "cell_type": "code",
   "execution_count": 12,
   "metadata": {},
   "outputs": [],
   "source": [
    "import random\n",
    "menu = [['burger' , 17.50], ['pasta' , 19.50] , ['pizza' , 22.50] , ['sandwich' , 12.50] , ['ice cream' , 7.50] , ['coffee' , 9.50] , ['iced coffee' , 13.50]]\n",
    "\n",
    "\n",
    "def order_machine():\n",
    "    id = random.randint(0, len(menu) - 1)\n",
    "    amount = random.randint(1, 5)\n",
    "\n",
    "    \n",
    "    source = menu[id]\n",
    "\n",
    "    item = source[0]\n",
    "    price = source[1]\n",
    "\n",
    "    calc_price = price * amount\n",
    "\n",
    "    final_price = calc_price * 1.65\n",
    "\n",
    "    g = open(r\"projects\\OrderManagement\\reciept.txt\", \"a\")\n",
    "    #item , \": \" , price , \"|\" , calc_price , \"|\" , final_price , \"|\"\n",
    "    g.write(item + \": \" + str(price) + \" | \" + str(calc_price) + \" | \" + str(final_price) + \"\\n\")\n",
    "    g.flush()\n",
    "    \n",
    "\n",
    "for i in range(20):\n",
    "    order_machine()\n"
   ]
  }
 ],
 "metadata": {
  "kernelspec": {
   "display_name": "Python 3",
   "language": "python",
   "name": "python3"
  },
  "language_info": {
   "codemirror_mode": {
    "name": "ipython",
    "version": 3
   },
   "file_extension": ".py",
   "mimetype": "text/x-python",
   "name": "python",
   "nbconvert_exporter": "python",
   "pygments_lexer": "ipython3",
   "version": "3.11.9"
  }
 },
 "nbformat": 4,
 "nbformat_minor": 2
}
