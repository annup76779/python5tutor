{
 "cells": [
  {
   "cell_type": "code",
   "execution_count": null,
   "metadata": {},
   "outputs": [],
   "source": [
    "anurag_data = [\"anurag\", 23, \"engineer\", \"computer science\", \"full stack developer\", True, False]\n",
    "darsh_data = [\"darsh\", 23, \"engineer\", \"computer science\", \"student\", True, False]\n",
    "vendant_data = [\"vendant\", 23, \"engineer\", \"Information Technology\", \"student\", True, False]"
   ]
  },
  {
   "cell_type": "markdown",
   "metadata": {},
   "source": [
    "1. since there are only 3 person, we can make 3 variable to store information of 3 person\n",
    "2. What if there are 10000 of persons whose data has to be saved. \n",
    "3. making 10000 variables is not possible\n",
    "4. So we will make one list and store all the lists containing information about 10000 persons in that list, that list will become the master list. "
   ]
  },
  {
   "cell_type": "code",
   "execution_count": 10,
   "metadata": {},
   "outputs": [
    {
     "data": {
      "text/plain": [
       "[['anurag',\n",
       "  ' 23',\n",
       "  ' engineer',\n",
       "  ' computer science',\n",
       "  ' full stack developer',\n",
       "  ' True',\n",
       "  ' False'],\n",
       " ['darsh',\n",
       "  ' 23',\n",
       "  ' engineer',\n",
       "  ' computer science',\n",
       "  ' student',\n",
       "  ' True',\n",
       "  ' False'],\n",
       " ['vendant',\n",
       "  ' 23',\n",
       "  ' engineer',\n",
       "  ' Information Technology',\n",
       "  ' student',\n",
       "  ' True',\n",
       "  ' False']]"
      ]
     },
     "execution_count": 10,
     "metadata": {},
     "output_type": "execute_result"
    }
   ],
   "source": [
    "import csv\n",
    "\n",
    "reader = csv.reader(open(\"data.csv\"))\n",
    "lst = []\n",
    "next(reader)\n",
    "for row in reader:\n",
    "    lst.append(row)\n",
    "\n",
    "lst"
   ]
  },
  {
   "cell_type": "code",
   "execution_count": 15,
   "metadata": {},
   "outputs": [],
   "source": [
    "def is_student(data):\n",
    "    return data[4].strip() == \"student\"\n",
    "\n",
    "stundets = filter(is_student, lst)"
   ]
  },
  {
   "cell_type": "code",
   "execution_count": 16,
   "metadata": {},
   "outputs": [
    {
     "data": {
      "text/plain": [
       "[['darsh',\n",
       "  ' 23',\n",
       "  ' engineer',\n",
       "  ' computer science',\n",
       "  ' student',\n",
       "  ' True',\n",
       "  ' False'],\n",
       " ['vendant',\n",
       "  ' 23',\n",
       "  ' engineer',\n",
       "  ' Information Technology',\n",
       "  ' student',\n",
       "  ' True',\n",
       "  ' False']]"
      ]
     },
     "execution_count": 16,
     "metadata": {},
     "output_type": "execute_result"
    }
   ],
   "source": [
    "list(stundets)"
   ]
  },
  {
   "cell_type": "code",
   "execution_count": 17,
   "metadata": {},
   "outputs": [
    {
     "name": "stdout",
     "output_type": "stream",
     "text": [
      "enter information of your employees and their salary: \n",
      "[['Anurag', 'IT', '1000', '2323', '243423', '323432', '32432']]\n"
     ]
    }
   ],
   "source": [
    "## write a program to take user input, where user will enter, 5 months salary of their employees\n",
    "## first user will enter the name of the employee, then department, then salaries\n",
    "\n",
    "def get_information():\n",
    "    print(\"enter information of your employees and their salary: \")\n",
    "    information = []  # empty list\n",
    "    while True:\n",
    "        choose = input(\"Do you want to continue(y/n): \").strip().lower()\n",
    "        if choose == \"n\" or choose == \"no\":\n",
    "            break\n",
    "        else:\n",
    "            name = input(\"Enter employee name: \")\n",
    "            dept = input(\"Enter employee department: \")\n",
    "            row = [name, dept]\n",
    "            for i in range(5): \n",
    "                salary = input(\"Enter salary of month%s: \" % i)\n",
    "                # TODO: Convert this salary into float\n",
    "                row.append(salary)\n",
    "            information.append(row)\n",
    "    return information\n",
    "\n",
    "\n",
    "def main():\n",
    "    information = get_information()\n",
    "    print(information)\n",
    "\n",
    "    # TODO: Make a function to calculate the average salary of each employee\n",
    "    # TODO: append the average salary of each employee in their list\n",
    "    # TODO: make a function to find out top 5 employees in the list\n",
    "\n",
    "main()\n"
   ]
  },
  {
   "cell_type": "markdown",
   "metadata": {},
   "source": [
    "## what is array?\n",
    "- array is collection of multiple data of same data type. \n",
    "- mostly the array length is fixed, but there is always the method to increase the size of array.\n",
    "\n",
    "`1byte = 8bits`\n",
    "\n",
    " - b: Signed integer (1 byte)\n",
    " - B: Unsigned integer (1 byte)\n",
    " - c: Character (1 byte)\n",
    " - u: Unicode character (2 bytes)\n",
    " - h: Signed integer (2 bytes)\n",
    " - H: Unsigned integer (2 bytes)\n",
    " - i: Signed integer (2 bytes)\n",
    " - I: Unsigned integer (2 bytes)\n",
    " - l: Signed integer (4 bytes)\n",
    " - L: Unsigned integer (4 bytes)\n",
    " - f: Floating point (4 bytes)\n",
    " - d: Floating point (8 bytes)"
   ]
  },
  {
   "cell_type": "code",
   "execution_count": 29,
   "metadata": {},
   "outputs": [
    {
     "data": {
      "text/plain": [
       "array('B', [1, 1, 2, 3, 4, 3, 3, 3, 255, 4, 23])"
      ]
     },
     "execution_count": 29,
     "metadata": {},
     "output_type": "execute_result"
    }
   ],
   "source": [
    "from array import array\n",
    "\n",
    "arr = array('B', [1, 2,3,4, 3,3,3,255,4,23])\n",
    "arr.insert(0, 1)\n",
    "arr"
   ]
  }
 ],
 "metadata": {
  "kernelspec": {
   "display_name": "Python 3",
   "language": "python",
   "name": "python3"
  },
  "language_info": {
   "codemirror_mode": {
    "name": "ipython",
    "version": 3
   },
   "file_extension": ".py",
   "mimetype": "text/x-python",
   "name": "python",
   "nbconvert_exporter": "python",
   "pygments_lexer": "ipython3",
   "version": "3.11.9"
  }
 },
 "nbformat": 4,
 "nbformat_minor": 2
}
