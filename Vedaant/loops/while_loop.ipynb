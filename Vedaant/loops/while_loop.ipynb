{
 "cells": [
  {
   "cell_type": "markdown",
   "metadata": {},
   "source": [
    "##### What is while loop?\n",
    "1. While loop is a kind looping in while you have to povide a boolean condition, that will determine the start and end of the loop\n",
    "```python\n",
    "\n",
    "### Code representation of the example\n",
    "isRunning = False\n",
    "def startRunning():\n",
    "    global isRunning\n",
    "    isRunning = True\n",
    "\n",
    "def run():\n",
    "    \"\"\"Run is making on step in the running\"\"\"\n",
    "    if clash() == True:\n",
    "        return False\n",
    "    return True\n",
    "\n",
    "startRunning()\n",
    "while isRunning == True:\n",
    "    check = run()\n",
    "    if not check:\n",
    "        isRunning = False\n",
    "```\n",
    "\n",
    "##### when do we use it?\n",
    "1. We use while loops when we don't know the total number of iteration we are going to do.\n",
    "2. We use while loops in situation where we only know the start condtion or the end condition but don't have any data what we are looping on."
   ]
  },
  {
   "cell_type": "code",
   "execution_count": null,
   "metadata": {},
   "outputs": [],
   "source": [
    "num = 452342  # input number\n",
    "sum_ = 0 # the resulting number\n",
    "\n",
    "while num != 0: # termiantion condition\n",
    "    remainder = num % 10\n",
    "    quotient = num // 10\n",
    "    sum_ = sum_ + remainder\n",
    "    print(sum_)\n",
    "    num = quotient  ## statment moving loop towards termination\n",
    "\n",
    "print(sum_)\n"
   ]
  },
  {
   "cell_type": "code",
   "execution_count": null,
   "metadata": {},
   "outputs": [],
   "source": [
    "\"\"\"\n",
    "*\n",
    "* *\n",
    "* * *\n",
    "* * * *\n",
    "* * * * *\n",
    "\"\"\"\n",
    "# number of rows \n",
    "rows = 5\n",
    "stars = 1\n",
    "\n",
    "# we have to keep looping until the rows value becomes 0\n",
    "\n",
    "while rows > 0:\n",
    "    i = 0\n",
    "    while i < stars: # print stars of the row in same line\n",
    "        print(\"*\", end=\" \")\n",
    "        i += 1\n",
    "\n",
    "    print() # to move to new line\n",
    "\n",
    "    # increase the number of stars printed the next line\n",
    "    stars += 1\n",
    "    # decrease the row count to move to new line\n",
    "    rows -= 1\n",
    "\n"
   ]
  },
  {
   "cell_type": "code",
   "execution_count": null,
   "metadata": {},
   "outputs": [],
   "source": [
    "\"\"\"\n",
    "* * * * *\n",
    "* * * *\n",
    "* * * \n",
    "* *\n",
    "* \n",
    "\"\"\"\n",
    "\n",
    "rows = 5\n",
    "stars = rows\n",
    "\n",
    "# we have to keep looping until the rows value becomes 0\n",
    "\n",
    "while rows > 0:\n",
    "    i = 0\n",
    "    while i < stars: # print stars of the row in same line\n",
    "        print(\"*\", end=\" \")\n",
    "        i += 1\n",
    "\n",
    "    print() # to move to new line\n",
    "\n",
    "    # increase the number of stars printed the next line\n",
    "    stars -= 1\n",
    "    # decrease the row count to move to new line\n",
    "    rows -= 1"
   ]
  },
  {
   "attachments": {
    "WhatsApp Image 2024-09-14 at 20.52.48_fd27439b.jpg": {
     "image/jpeg": "[encoded data removed]"
    }
   },
   "cell_type": "markdown",
   "metadata": {},
   "source": [
    "![WhatsApp Image 2024-09-14 at 20.52.48_fd27439b.jpg](<attachment:WhatsApp Image 2024-09-14 at 20.52.48_fd27439b.jpg>)"
   ]
  },
  {
   "cell_type": "code",
   "execution_count": 3,
   "metadata": {},
   "outputs": [],
   "source": [
    "square_lst = []  # save all the numbers after squaring \n",
    "even_lst = []  # save all the number which are even\n",
    "\n",
    "user_input = \"1\"   # Default value\n",
    "\n",
    "while user_input.strip() != \"\":  # user_input have non empty data\n",
    "    user_input = input(\"Enter any integer: \")\n",
    "    \n",
    "    if user_input.strip():\n",
    "        num = int(user_input)\n",
    "\n",
    "        # if \n",
    "        if num % 2 == 0:\n",
    "            even_lst.append(num)\n",
    "\n",
    "        square_lst.append(num ** 2)"
   ]
  },
  {
   "cell_type": "code",
   "execution_count": null,
   "metadata": {},
   "outputs": [],
   "source": [
    "square_lst"
   ]
  },
  {
   "cell_type": "code",
   "execution_count": null,
   "metadata": {},
   "outputs": [],
   "source": [
    "even_lst"
   ]
  },
  {
   "cell_type": "code",
   "execution_count": 3,
   "metadata": {},
   "outputs": [
    {
     "ename": "KeyboardInterrupt",
     "evalue": "",
     "output_type": "error",
     "traceback": [
      "\u001b[1;31m---------------------------------------------------------------------------\u001b[0m",
      "\u001b[1;31mKeyboardInterrupt\u001b[0m                         Traceback (most recent call last)",
      "Cell \u001b[1;32mIn[3], line 2\u001b[0m\n\u001b[0;32m      1\u001b[0m count \u001b[38;5;241m=\u001b[39m \u001b[38;5;241m0\u001b[39m\n\u001b[1;32m----> 2\u001b[0m \u001b[38;5;28;01mwhile\u001b[39;00m \u001b[38;5;28;01mTrue\u001b[39;00m:\n\u001b[0;32m      3\u001b[0m     count \u001b[38;5;241m+\u001b[39m\u001b[38;5;241m=\u001b[39m \u001b[38;5;241m2\u001b[39m\n\u001b[0;32m      4\u001b[0m     count \u001b[38;5;241m-\u001b[39m\u001b[38;5;241m=\u001b[39m \u001b[38;5;241m1\u001b[39m\n",
      "\u001b[1;31mKeyboardInterrupt\u001b[0m: "
     ]
    }
   ],
   "source": [
    "\n",
    "count = 0\n",
    "while True:\n",
    "    count += 2\n",
    "    count -= 1"
   ]
  },
  {
   "cell_type": "code",
   "execution_count": 7,
   "metadata": {},
   "outputs": [],
   "source": [
    "# write a while that will continue subtracting till the value of n is not greater than 10\n",
    "\n",
    "n = -100\n",
    "while n < 10 or n <= -100:\n",
    "    n += 1"
   ]
  }
 ],
 "metadata": {
  "kernelspec": {
   "display_name": "Python 3",
   "language": "python",
   "name": "python3"
  },
  "language_info": {
   "codemirror_mode": {
    "name": "ipython",
    "version": 3
   },
   "file_extension": ".py",
   "mimetype": "text/x-python",
   "name": "python",
   "nbconvert_exporter": "python",
   "pygments_lexer": "ipython3",
   "version": "3.11.9"
  }
 },
 "nbformat": 4,
 "nbformat_minor": 2
}
