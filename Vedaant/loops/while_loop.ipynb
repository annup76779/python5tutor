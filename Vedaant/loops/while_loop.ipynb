{
 "cells": [
  {
   "cell_type": "markdown",
   "metadata": {},
   "source": [
    "##### What is while loop?\n",
    "1. While loop is a kind looping in while you have to povide a boolean condition, that will determine the start and end of the loop\n",
    "```python\n",
    "\n",
    "### Code representation of the example\n",
    "isRunning = False\n",
    "def startRunning():\n",
    "    global isRunning\n",
    "    isRunning = True\n",
    "\n",
    "def run():\n",
    "    \"\"\"Run is making on step in the running\"\"\"\n",
    "    if clash() == True:\n",
    "        return False\n",
    "    return True\n",
    "\n",
    "startRunning()\n",
    "while isRunning == True:\n",
    "    check = run()\n",
    "    if not check:\n",
    "        isRunning = False\n",
    "```\n",
    "\n",
    "##### when do we use it?\n",
    "1. We use while loops when we don't know the total number of iteration we are going to do.\n",
    "2. We use while loops in situation where we only know the start condtion or the end condition but don't have any data what we are looping on."
   ]
  },
  {
   "cell_type": "code",
   "execution_count": 1,
   "metadata": {},
   "outputs": [
    {
     "name": "stdout",
     "output_type": "stream",
     "text": [
      "2\n",
      "6\n",
      "9\n",
      "11\n",
      "16\n",
      "20\n",
      "20\n"
     ]
    }
   ],
   "source": [
    "num = 452342  # input number\n",
    "sum_ = 0 # the resulting number\n",
    "\n",
    "while num != 0: # termiantion condition\n",
    "    remainder = num % 10\n",
    "    quotient = num // 10\n",
    "    sum_ = sum_ + remainder\n",
    "    print(sum_)\n",
    "    num = quotient  ## statment moving loop towards termination\n",
    "\n",
    "print(sum_)\n"
   ]
  },
  {
   "cell_type": "code",
   "execution_count": 2,
   "metadata": {},
   "outputs": [
    {
     "name": "stdout",
     "output_type": "stream",
     "text": [
      "* \n",
      "* * \n",
      "* * * \n",
      "* * * * \n",
      "* * * * * \n"
     ]
    }
   ],
   "source": [
    "\"\"\"\n",
    "*\n",
    "* *\n",
    "* * *\n",
    "* * * *\n",
    "* * * * *\n",
    "\"\"\"\n",
    "# number of rows \n",
    "rows = 5\n",
    "stars = 1\n",
    "\n",
    "# we have to keep looping until the rows value becomes 0\n",
    "\n",
    "while rows > 0:\n",
    "    i = 0\n",
    "    while i < stars: # print stars of the row in same line\n",
    "        print(\"*\", end=\" \")\n",
    "        i += 1\n",
    "\n",
    "    print() # to move to new line\n",
    "\n",
    "    # increase the number of stars printed the next line\n",
    "    stars += 1\n",
    "    # decrease the row count to move to new line\n",
    "    rows -= 1\n",
    "\n"
   ]
  },
  {
   "cell_type": "code",
   "execution_count": 8,
   "metadata": {},
   "outputs": [
    {
     "name": "stdout",
     "output_type": "stream",
     "text": [
      "* * * * * \n",
      "* * * * \n",
      "* * * \n",
      "* * \n",
      "* \n"
     ]
    }
   ],
   "source": [
    "\"\"\"\n",
    "* * * * *\n",
    "* * * *\n",
    "* * * \n",
    "* *\n",
    "* \n",
    "\"\"\"\n",
    "\n",
    "rows = 5\n",
    "stars = rows\n",
    "\n",
    "# we have to keep looping until the rows value becomes 0\n",
    "\n",
    "while rows > 0:\n",
    "    i = 0\n",
    "    while i < stars: # print stars of the row in same line\n",
    "        print(\"*\", end=\" \")\n",
    "        i += 1\n",
    "\n",
    "    print() # to move to new line\n",
    "\n",
    "    # increase the number of stars printed the next line\n",
    "    stars -= 1\n",
    "    # decrease the row count to move to new line\n",
    "    rows -= 1"
   ]
  }
 ],
 "metadata": {
  "kernelspec": {
   "display_name": "Python 3",
   "language": "python",
   "name": "python3"
  },
  "language_info": {
   "codemirror_mode": {
    "name": "ipython",
    "version": 3
   },
   "file_extension": ".py",
   "mimetype": "text/x-python",
   "name": "python",
   "nbconvert_exporter": "python",
   "pygments_lexer": "ipython3",
   "version": "3.11.9"
  }
 },
 "nbformat": 4,
 "nbformat_minor": 2
}
