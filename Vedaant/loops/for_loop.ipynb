{
 "cells": [
  {
   "cell_type": "markdown",
   "metadata": {},
   "source": [
    "### For Loop\n",
    "#### Why do we use for loop? \n",
    "- We use for loop to loop with any set of statements written within the for loop any fixed number of time that is already defined or known to user\n",
    "- and in most of the cases, you know what is the exact count you have to loop."
   ]
  },
  {
   "cell_type": "markdown",
   "metadata": {},
   "source": [
    "##### Syntax \n",
    "```python\n",
    "for any_variable_name in any_collection_of_data:\n",
    "    statement 1\n",
    "    statement 2\n",
    "    ...\n",
    "```"
   ]
  },
  {
   "cell_type": "code",
   "execution_count": 3,
   "metadata": {},
   "outputs": [
    {
     "name": "stdout",
     "output_type": "stream",
     "text": [
      "Anurag Pandey\n",
      "Anurag Pandey\n",
      "Anurag Pandey\n",
      "Anurag Pandey\n",
      "Anurag Pandey\n"
     ]
    }
   ],
   "source": [
    "# Example 1 - Loop on and print your name for 10 times\n",
    "for i in range(10):\n",
    "    print(\"Anurag Pandey\")"
   ]
  },
  {
   "cell_type": "markdown",
   "metadata": {},
   "source": [
    "#### The `range` function \n",
    "- the `range` function returns an iterator (will learn later) that gives you each number from start to end passed in to it as argument \n",
    "\n",
    "\n",
    "##### Structure of `range`\n",
    "```\n",
    "range(\n",
    "  [start,           -> (default is 0)\n",
    "      [end,         -> (required to pass an integer value)\n",
    "          [steps]   -> (default is 1)\n",
    "      ]\n",
    "  ]\n",
    ")\n",
    "```\n",
    "\n",
    "##### Understanding range functioning\n",
    "```\n",
    "# default usage\n",
    "range(10)   -> range(1, 11, 1)\n",
    "i = 0, 1, 2, 3, 4, 5, 6, 7, 8, 9\n",
    "initially \n",
    "i = 1             -> no calculation\n",
    "i = 2             -> i = i + step     -> i = 1 + 1\n",
    "i = 3             -> i = i + step     -> i = 2 + 1 \n",
    "i = 4             -> i = i + step     -> i = 4 + 1 \n",
    "...\n",
    "i = 9             -> i = i + step     -> i = 8 + 1 \n",
    "i = 10             -> i = i + step     -> i = 9 + 1 \n",
    "\n",
    "\n",
    "# with start and end\n",
    "range(1, 20)  -> range(1, 20, 1)\n",
    "initally \n",
    "i = 1\n",
    "i = 2    -> i = i + step -> i = 1+ 1\n",
    "i = 3 -> i = i + step -> i = 2+1\n",
    "...\n",
    "i = 19 -> i = i + step -> i = 18+1\n",
    "\n",
    "\n",
    "# with start, end and step\n",
    "range(1, 25, 2)   -> range(1, 25, 2)\n",
    "initially\n",
    "i = 1\n",
    "then,\n",
    "i = 3            -> i = i + step -> i = 1 + 2\n",
    "i = 5            -> i = i + step -> i = 3+ 2\n",
    "...\n",
    "\n",
    "\n",
    "range(25, 0, -1)  -> range(25, 0, -1)\n",
    "initally\n",
    "i = 25\n",
    "then, \n",
    "i = 24           -> i = i + step -> i = i + (-1)  i = 24\n",
    "```"
   ]
  },
  {
   "cell_type": "markdown",
   "metadata": {},
   "source": [
    "##### Is the `range` only thing that can be used with for loop?  -  `No`\n",
    "\n",
    "#### Then what are the other things that can be used with for loop? \n",
    "- Anything with have collection of data, that means if there are anyhow more than on data or the data originally designed to hold more than one data, or data capable of holding more than one data, then that collection can be used with for loop\n",
    "- There is huge list of collections or datatypes that can be used with for loop, but most common are - range, list, string, tuple, dictionary, set, array\n",
    "- Growning advance, few other things can be collection module data types, Pandas Dataframe and many more\n",
    "- Also you can very easily with very less amount of effort, just with two functions make your own collection, that can work with for loop (to be taught while teaching Object Oriented Programming in Python)"
   ]
  },
  {
   "cell_type": "code",
   "execution_count": null,
   "metadata": {},
   "outputs": [],
   "source": [
    "# Example 2: Using string with for loop\n",
    "# count all the a present in a sentence \n",
    "k = \"some indeterminate amount more than a specified number —used in combination\"\n",
    "count = 0\n",
    "\n",
    "for char in k:\n",
    "    if char == \"a\" or char == \"A\":\n",
    "        count += 1\n",
    "\n",
    "print(count)"
   ]
  }
 ],
 "metadata": {
  "kernelspec": {
   "display_name": "Python 3",
   "language": "python",
   "name": "python3"
  },
  "language_info": {
   "codemirror_mode": {
    "name": "ipython",
    "version": 3
   },
   "file_extension": ".py",
   "mimetype": "text/x-python",
   "name": "python",
   "nbconvert_exporter": "python",
   "pygments_lexer": "ipython3",
   "version": "3.11.9"
  }
 },
 "nbformat": 4,
 "nbformat_minor": 2
}
