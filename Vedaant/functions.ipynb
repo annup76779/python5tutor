{
 "cells": [
  {
   "cell_type": "markdown",
   "metadata": {},
   "source": [
    "#### what are functions\n",
    "\n",
    "1. if you are writing a program where you have to read data from excel file and then update the file\n",
    "2. and that same process has to be done at 10 different places in the program. \n",
    "3. and code to read the file is of 12 lines and code to update file is of 10 line\n",
    "4. so all total 22 line of code is required to read and update the file\n",
    "5. and for 10 places your code will be automatically 220 lines of code\n",
    "\n",
    "#### but \n",
    "1. if you make function for reading the file and another function to update the file\n",
    "2. then you code will be 22 + 20 lines code."
   ]
  },
  {
   "cell_type": "markdown",
   "metadata": {},
   "source": [
    "#### builtin functions\n",
    "1. print\n",
    "2. max\n",
    "3. min\n",
    "4. sum\n",
    "5. map\n",
    "6. filter"
   ]
  },
  {
   "cell_type": "markdown",
   "metadata": {},
   "source": [
    "#### what are user defined functions\n",
    "1. The function that we create or we can say custom function\n",
    "2. There is no limit how much we can make\n",
    "\n",
    "Syntax: \n",
    "```python\n",
    "def my_first_function(x: int, y: int):\n",
    "    a = 12 * x\n",
    "    b = 13 * y\n",
    "    return a + b\n",
    "\n",
    "res = my_first_function(1, 2)\n",
    "```"
   ]
  },
  {
   "cell_type": "code",
   "execution_count": 5,
   "metadata": {},
   "outputs": [
    {
     "name": "stdout",
     "output_type": "stream",
     "text": [
      "Bar\n"
     ]
    }
   ],
   "source": [
    "def foo():\n",
    "    print(\"Bar\")\n",
    "\n",
    "foo()"
   ]
  },
  {
   "cell_type": "code",
   "execution_count": 6,
   "metadata": {},
   "outputs": [
    {
     "name": "stdout",
     "output_type": "stream",
     "text": [
      "Bar - Vendant\n"
     ]
    }
   ],
   "source": [
    "# is there any way to transafer any value within a function \n",
    "# YES - You can use parameters and send the value as argument to the function\n",
    "\n",
    "\n",
    "# Expected output=> Bar - Vendant \n",
    "\n",
    "def modified_foo(value):\n",
    "    print(\"Bar\", \"-\", value)\n",
    "\n",
    "\n",
    "modified_foo(\"Vendant\")\n",
    "\n",
    "# whle calling a function the value that is tranfered to function body is called argument\n",
    "# while defining a function the within brackets what variables we make are called parameters. "
   ]
  },
  {
   "cell_type": "code",
   "execution_count": 7,
   "metadata": {},
   "outputs": [
    {
     "name": "stdout",
     "output_type": "stream",
     "text": [
      "Bar - Anurag - Vedant\n"
     ]
    }
   ],
   "source": [
    "def modified_foo_2(value1, value2):\n",
    "    print(\"Bar\", \"-\", value1, \"-\", value2)\n",
    "\n",
    "modified_foo_2(\"Anurag\", \"Vedant\")"
   ]
  },
  {
   "cell_type": "code",
   "execution_count": 14,
   "metadata": {},
   "outputs": [
    {
     "name": "stdout",
     "output_type": "stream",
     "text": [
      "Full Name:  Pandey \n"
     ]
    }
   ],
   "source": [
    "def generate_full_name(first_name, last_name):\n",
    "    print(\"Full Name: \", first_name, last_name)\n",
    "\n",
    "\n",
    "generate_full_name(last_name=\"Pandey\", first_name='Anurag')\n",
    "generate_full_name(\"Anurag\", \"Pandey\")\n",
    "generate_full_name(\"Anurag\", last_name=\"Pandey\")\n",
    "generate_full_name(first_name=\"Anurag\", \"Pandey\")  # X once you have started using keywork argument, you cannot using positional arguements"
   ]
  },
  {
   "cell_type": "code",
   "execution_count": 6,
   "metadata": {},
   "outputs": [
    {
     "name": "stdout",
     "output_type": "stream",
     "text": [
      "Full Name:   \n"
     ]
    }
   ],
   "source": [
    "# how to make opitonal parameters \n",
    "\n",
    "def generate_full_name2(first_name, last_name=\"\"):\n",
    "    print(\"Full Name: \", first_name, last_name)\n",
    "\n",
    "\n",
    "generate_full_name2(\"Anurag\", \"Pandey\")"
   ]
  }
 ],
 "metadata": {
  "kernelspec": {
   "display_name": "Python 3",
   "language": "python",
   "name": "python3"
  },
  "language_info": {
   "codemirror_mode": {
    "name": "ipython",
    "version": 3
   },
   "file_extension": ".py",
   "mimetype": "text/x-python",
   "name": "python",
   "nbconvert_exporter": "python",
   "pygments_lexer": "ipython3",
   "version": "3.11.9"
  }
 },
 "nbformat": 4,
 "nbformat_minor": 2
}
