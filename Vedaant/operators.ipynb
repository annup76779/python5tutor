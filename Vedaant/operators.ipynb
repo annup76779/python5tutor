{
 "cells": [
  {
   "cell_type": "markdown",
   "metadata": {},
   "source": [
    "1. arithmatic operator - +, - , * , /, //, %, **\n",
    "2. assignment operator - =, +=, -=, *=, //=, /=, %=, **=\n",
    "3. comparison operator - <, >, >=, <=, >=, !=\n",
    "4. logical operator - and, or, not\n",
    "   ```python\n",
    "    n = 12\n",
    "    m = 14\n",
    "    print(n < m) # True\n",
    "    print(n > m) # False\n",
    "    print(not n < m) # False\n",
    "    print(not n > m) # True\n",
    "   ```\n",
    "5. identity operator - is, is not\n",
    "   ```python\n",
    "    n = 12\n",
    "    print(n.__class__ is int) # True\n",
    "   ```\n",
    "6. Membership operator - in, not in\n",
    "   ```python\n",
    "    s = \"kadj\"\n",
    "    print('a' in s) # True\n",
    "    print('b' in s) # False\n",
    "   ```"
   ]
  }
 ],
 "metadata": {
  "language_info": {
   "name": "python"
  }
 },
 "nbformat": 4,
 "nbformat_minor": 2
}
