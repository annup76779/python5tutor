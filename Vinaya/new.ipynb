{
 "cells": [
  {
   "cell_type": "code",
   "execution_count": 4,
   "metadata": {},
   "outputs": [
    {
     "name": "stdout",
     "output_type": "stream",
     "text": [
      "0\n"
     ]
    }
   ],
   "source": [
    "# there are two method\n",
    "# 1. fuction are used to make generators\n",
    "# 2. \n",
    "# let's make range_new at the place of range\n",
    "def range_new(start, end, step):\n",
    "    start -= step\n",
    "    while start < end:\n",
    "        start += step\n",
    "        yield start\n",
    "\n",
    "print(range_new(0, 5, 1))\n",
    "\n",
    "# lst = [x**2 for x in range(0, 100, 3)] # iterable \n",
    "# lst\n",
    "# type(range(0, 100, 3))"
   ]
  }
 ],
 "metadata": {
  "kernelspec": {
   "display_name": "Python 3.10.4 64-bit",
   "language": "python",
   "name": "python3"
  },
  "language_info": {
   "codemirror_mode": {
    "name": "ipython",
    "version": 3
   },
   "file_extension": ".py",
   "mimetype": "text/x-python",
   "name": "python",
   "nbconvert_exporter": "python",
   "pygments_lexer": "ipython3",
   "version": "3.10.4"
  },
  "orig_nbformat": 4,
  "vscode": {
   "interpreter": {
    "hash": "4f946df053fbf2b937619d3c5458e7af74262f9a954d8797ba0b27400bcafe06"
   }
  }
 },
 "nbformat": 4,
 "nbformat_minor": 2
}
