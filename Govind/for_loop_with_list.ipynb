{
 "cells": [
  {
   "cell_type": "code",
   "execution_count": 5,
   "metadata": {},
   "outputs": [
    {
     "name": "stdout",
     "output_type": "stream",
     "text": [
      "var2\n"
     ]
    }
   ],
   "source": []
  },
  {
   "cell_type": "code",
   "execution_count": 7,
   "metadata": {},
   "outputs": [
    {
     "name": "stdout",
     "output_type": "stream",
     "text": [
      "var2\n"
     ]
    }
   ],
   "source": [
    "var1= \"wadsahfcoehfoeshf\"\n",
    "var2= \"kadkuenlkeafliewflems;aed;\"\n",
    "var3= \"ajfoajc;osejfdsnclaifooj\"\n",
    "\n",
    "\n",
    "maxlength=max(\n",
    "    len(var1)\n",
    "    ,len(var2)\n",
    "    ,len(var3))\n",
    "\n",
    "if maxlength==len(var1):\n",
    "    print(\"var1\")\n",
    "elif maxlength==len(var2):\n",
    "    print(\"var2\")\n",
    "elif maxlength==len(var3):\n",
    "    print(\"var3\")"
   ]
  },
  {
   "cell_type": "markdown",
   "metadata": {},
   "source": [
    "#### you have to take 3 number as integer input and then divide then with each other."
   ]
  },
  {
   "cell_type": "code",
   "execution_count": 1,
   "metadata": {},
   "outputs": [
    {
     "name": "stdout",
     "output_type": "stream",
     "text": [
      "2.0303030303030303\n"
     ]
    }
   ],
   "source": [
    "num1 = int(input(\"Enter first integer value: \")) # by default it's input type is string\n",
    "num2  = int(input(\"Enter second integer value: \"))\n",
    "num3 = int(input(\"Enter the third integer value: \"))\n",
    "\n",
    "\n",
    "result = num1 / num2 / num3\n",
    "print(result)"
   ]
  },
  {
   "cell_type": "code",
   "execution_count": 4,
   "metadata": {},
   "outputs": [
    {
     "name": "stdout",
     "output_type": "stream",
     "text": [
      "4.5\n"
     ]
    }
   ],
   "source": [
    "num1 =int(input(\"enter the number\"))\n",
    "num2 =int(input(\"enter the number 2\"))\n",
    "num3 =int(input(\"enter the number 3\"))\n",
    "\n",
    "\n",
    "result =num1 * num2 / num3\n",
    "print(result)\n"
   ]
  },
  {
   "cell_type": "code",
   "execution_count": 7,
   "metadata": {},
   "outputs": [
    {
     "name": "stdout",
     "output_type": "stream",
     "text": [
      "87.96459430051421 615.7521601035994\n"
     ]
    }
   ],
   "source": [
    "Num1=float(input(\"enter the radius of the circle\"))\n",
    "\n",
    "perimeter= 2 * 3.141592653589793 * Num1\n",
    "area= 3.141592653589793 * Num1**2\n",
    "print(perimeter,area)\n"
   ]
  },
  {
   "cell_type": "code",
   "execution_count": 18,
   "metadata": {},
   "outputs": [
    {
     "name": "stdout",
     "output_type": "stream",
     "text": [
      "anurag Pandey\n"
     ]
    }
   ],
   "source": [
    "first_name= input(\"enter your first Name\").strip()\n",
    "middle_name= input(\"enter your middle Name\").strip()\n",
    "last_name= input(\"enter your last Name\").strip()\n",
    "\n",
    "if(middle_name ==\"\"):\n",
    "    print(first_name , last_name)\n",
    "\n",
    "else:\n",
    "    print(first_name , middle_name , last_name)\n"
   ]
  },
  {
   "cell_type": "markdown",
   "metadata": {},
   "source": [
    "```\n",
    "89+ -> A\n",
    "74+ -> B\n",
    "59+ -> C\n",
    "39+ -> D\n",
    "otherwise -> F\n",
    "```"
   ]
  },
  {
   "cell_type": "code",
   "execution_count": 21,
   "metadata": {},
   "outputs": [
    {
     "name": "stdout",
     "output_type": "stream",
     "text": [
      "F\n"
     ]
    }
   ],
   "source": [
    "marks= int(input(\"enter you Marks\"))\n",
    "\n",
    "if(marks>=89):\n",
    "    print(\"A\")\n",
    "\n",
    "elif(marks>=74):\n",
    "        print(\"B\")\n",
    "elif(marks>=59):\n",
    "        print(\"C\")\n",
    "\n",
    "elif(marks>=39):\n",
    "          print(\"D\")\n",
    "\n",
    "elif(marks<39):\n",
    "    print(\"F\")\n"
   ]
  },
  {
   "cell_type": "code",
   "execution_count": null,
   "metadata": {},
   "outputs": [],
   "source": [
    "# I have to print 20 multiples of the given number\n",
    "number = int(input(\"Enter the number\"))\n",
    "# for loop\n",
    "for next_multiplying_value in range(1, 21):\n",
    "    print(number * next_multiplying_value)\n",
    "\n",
    "# while loop\n",
    "# squences in python\n",
    "# range()\n",
    "# string -> str\n",
    "# list \n",
    "# tuple\n"
   ]
  },
  {
   "cell_type": "code",
   "execution_count": null,
   "metadata": {},
   "outputs": [],
   "source": [
    "#multiple of any number\n",
    "number= int(input(\"Ënter the number\"))\n",
    "\n",
    "for i in range(1,21):\n",
    "    print(number*i)\n"
   ]
  },
  {
   "cell_type": "code",
   "execution_count": null,
   "metadata": {},
   "outputs": [],
   "source": [
    "#user gives you a input and check if it is even or odd and input every 20 upcoming even or odd number\n",
    "\n",
    "number= int(input(\"Ënter the Number\"))# 40\n",
    "## using for loop\n",
    "sum_= 0\n",
    "if number%2==0:\n",
    "    print(\"it is even and printing upcoming even numbers\")\n",
    "    for i in range(number, (number + 41), 2):\n",
    "        print(\"sum_ = \",sum_, \"i =\", i)\n",
    "        print(\"sum_ =\",sum_,\" + \", i, end = \"\\n\\n\")\n",
    "        sum_ = sum_ + i\n",
    "else:\n",
    "    print(\"it is odd and printing upcoming odd numbers\")\n",
    "    for i in range(number, number + 41, 2):\n",
    "        print(i)\n",
    "        sum_= sum_ + i\n",
    "\n",
    "print(sum_)"
   ]
  },
  {
   "cell_type": "code",
   "execution_count": null,
   "metadata": {},
   "outputs": [],
   "source": [
    "s = \"h\", \"b\", \"a\", \"c\", \"d\", \"e\", \"f\", \"g\"\n",
    "     0    1    2    3    4    5    6    7\n",
    "s"
   ]
  },
  {
   "cell_type": "code",
   "execution_count": 7,
   "metadata": {},
   "outputs": [
    {
     "name": "stdout",
     "output_type": "stream",
     "text": [
      "count of space =  60\n",
      "count of comma =  6\n"
     ]
    }
   ],
   "source": [
    "string = '''\n",
    "What is the category of the project like, is it something related to business, research, management, multimedia, communication, commerce or anything else.\n",
    "\n",
    "The category of the project must be mentioned immediately after writing the title of the project. The category of the project will only invite the related readers and will not waste much of their time by going through the project.\n",
    "'''\n",
    "space_count = 0\n",
    "comma_count = 0\n",
    "\n",
    "for ch in string:\n",
    "    if ch == \",\":\n",
    "        comma_count += 1\n",
    "    elif ch == \" \":\n",
    "        space_count += 1\n",
    "\n",
    "print(\"count of space = \", space_count)\n",
    "print(\"count of comma = \", comma_count)"
   ]
  },
  {
   "cell_type": "code",
   "execution_count": 3,
   "metadata": {},
   "outputs": [
    {
     "name": "stdout",
     "output_type": "stream",
     "text": [
      "Hello Admin, good to meet you.\n",
      "Hello Admin, good to meet you.\n",
      "Hello Admin, good to meet you.\n",
      "Hello Admin, good to meet you.\n",
      "Hello Admin, good to meet you.\n",
      "Hello Admin, good to meet you.\n",
      "Hello Admin, good to meet you.\n",
      "Hello Admin, good to meet you.\n",
      "Hello Admin, good to meet you.\n",
      "Hello Admin, good to meet you.\n",
      "Hello Admin, good to meet you.\n"
     ]
    }
   ],
   "source": [
    "k = 0\n",
    "msg = \"Hello Admin, good to meet you.\"\n",
    "\n",
    "# we have to write a while loop that can handle the printing of the message when admin sets k to non zero\n",
    "while k <= 10:\n",
    "    print(msg)\n",
    "    k+= 1"
   ]
  },
  {
   "cell_type": "code",
   "execution_count": 2,
   "metadata": {},
   "outputs": [
    {
     "name": "stdout",
     "output_type": "stream",
     "text": [
      "Hello Admin, good to meet you.\n",
      "Hello Admin, good to meet you.\n",
      "Hello Admin, good to meet you.\n",
      "Hello Admin, good to meet you.\n",
      "Hello Admin, good to meet you.\n",
      "Hello Admin, good to meet you.\n",
      "Hello Admin, good to meet you.\n",
      "Hello Admin, good to meet you.\n",
      "Hello Admin, good to meet you.\n",
      "Hello Admin, good to meet you.\n",
      "Hello Admin, good to meet you.\n"
     ]
    }
   ],
   "source": [
    "for k in range(0, 11):\n",
    "    print(msg)"
   ]
  }
 ],
 "metadata": {
  "kernelspec": {
   "display_name": "Python 3.10.7 64-bit",
   "language": "python",
   "name": "python3"
  },
  "language_info": {
   "codemirror_mode": {
    "name": "ipython",
    "version": 3
   },
   "file_extension": ".py",
   "mimetype": "text/x-python",
   "name": "python",
   "nbconvert_exporter": "python",
   "pygments_lexer": "ipython3",
   "version": "3.10.7"
  },
  "orig_nbformat": 4,
  "vscode": {
   "interpreter": {
    "hash": "4c75d34ee1fcdb015885d85ab071295bd815e7d150290c0ae76b929ae622a1c7"
   }
  }
 },
 "nbformat": 4,
 "nbformat_minor": 2
}
