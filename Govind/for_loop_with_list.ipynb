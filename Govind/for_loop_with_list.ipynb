{
 "cells": [
  {
   "cell_type": "code",
   "execution_count": 5,
   "metadata": {},
   "outputs": [
    {
     "name": "stdout",
     "output_type": "stream",
     "text": [
      "var2\n"
     ]
    }
   ],
   "source": []
  },
  {
   "cell_type": "code",
   "execution_count": 7,
   "metadata": {},
   "outputs": [
    {
     "name": "stdout",
     "output_type": "stream",
     "text": [
      "var2\n"
     ]
    }
   ],
   "source": [
    "var1= \"wadsahfcoehfoeshf\"\n",
    "var2= \"kadkuenlkeafliewflems;aed;\"\n",
    "var3= \"ajfoajc;osejfdsnclaifooj\"\n",
    "\n",
    "\n",
    "maxlength=max(\n",
    "    len(var1)\n",
    "    ,len(var2)\n",
    "    ,len(var3))\n",
    "\n",
    "if maxlength==len(var1):\n",
    "    print(\"var1\")\n",
    "elif maxlength==len(var2):\n",
    "    print(\"var2\")\n",
    "elif maxlength==len(var3):\n",
    "    print(\"var3\")"
   ]
  },
  {
   "cell_type": "markdown",
   "metadata": {},
   "source": [
    "#### you have to take 3 number as integer input and then divide then with each other."
   ]
  },
  {
   "cell_type": "code",
   "execution_count": 1,
   "metadata": {},
   "outputs": [
    {
     "name": "stdout",
     "output_type": "stream",
     "text": [
      "2.0303030303030303\n"
     ]
    }
   ],
   "source": [
    "num1 = int(input(\"Enter first integer value: \")) # by default it's input type is string\n",
    "num2  = int(input(\"Enter second integer value: \"))\n",
    "num3 = int(input(\"Enter the third integer value: \"))\n",
    "\n",
    "\n",
    "result = num1 / num2 / num3\n",
    "print(result)"
   ]
  },
  {
   "cell_type": "code",
   "execution_count": 4,
   "metadata": {},
   "outputs": [
    {
     "name": "stdout",
     "output_type": "stream",
     "text": [
      "4.5\n"
     ]
    }
   ],
   "source": [
    "num1 =int(input(\"enter the number\"))\n",
    "num2 =int(input(\"enter the number 2\"))\n",
    "num3 =int(input(\"enter the number 3\"))\n",
    "\n",
    "\n",
    "result =num1 * num2 / num3\n",
    "print(result)\n"
   ]
  },
  {
   "cell_type": "code",
   "execution_count": 7,
   "metadata": {},
   "outputs": [
    {
     "name": "stdout",
     "output_type": "stream",
     "text": [
      "87.96459430051421 615.7521601035994\n"
     ]
    }
   ],
   "source": [
    "Num1=float(input(\"enter the radius of the circle\"))\n",
    "\n",
    "perimeter= 2 * 3.141592653589793 * Num1\n",
    "area= 3.141592653589793 * Num1**2\n",
    "print(perimeter,area)\n"
   ]
  },
  {
   "cell_type": "code",
   "execution_count": 18,
   "metadata": {},
   "outputs": [
    {
     "name": "stdout",
     "output_type": "stream",
     "text": [
      "anurag Pandey\n"
     ]
    }
   ],
   "source": [
    "first_name= input(\"enter your first Name\").strip()\n",
    "middle_name= input(\"enter your middle Name\").strip()\n",
    "last_name= input(\"enter your last Name\").strip()\n",
    "\n",
    "if(middle_name ==\"\"):\n",
    "    print(first_name , last_name)\n",
    "\n",
    "else:\n",
    "    print(first_name , middle_name ,    last_name)\n"
   ]
  },
  {
   "cell_type": "markdown",
   "metadata": {},
   "source": [
    "```\n",
    "89+ -> A\n",
    "74+ -> B\n",
    "59+ -> C\n",
    "39+ -> D\n",
    "otherwise -> F\n",
    "```"
   ]
  },
  {
   "cell_type": "code",
   "execution_count": 21,
   "metadata": {},
   "outputs": [
    {
     "name": "stdout",
     "output_type": "stream",
     "text": [
      "F\n"
     ]
    }
   ],
   "source": [
    "marks= int(input(\"enter you Marks\"))\n",
    "\n",
    "if(marks>=89):\n",
    "    print(\"A\")\n",
    "\n",
    "elif(marks>=74):\n",
    "        print(\"B\")\n",
    "        \n",
    "        \n",
    "elif(marks>=59):\n",
    "        print(\"C\")\n",
    "\n",
    "elif(marks>=39):\n",
    "          print(\"D\")\n",
    "\n",
    "elif(marks<39):\n",
    "    print(\"F\")\n",
    "    "
   ]
  },
  {
   "cell_type": "code",
   "execution_count": null,
   "metadata": {},
   "outputs": [],
   "source": []
  }
 ],
 "metadata": {
  "kernelspec": {
   "display_name": "Python 3.10.4 64-bit",
   "language": "python",
   "name": "python3"
  },
  "language_info": {
   "codemirror_mode": {
    "name": "ipython",
    "version": 3
   },
   "file_extension": ".py",
   "mimetype": "text/x-python",
   "name": "python",
   "nbconvert_exporter": "python",
   "pygments_lexer": "ipython3",
   "version": "3.10.4"
  },
  "orig_nbformat": 4,
  "vscode": {
   "interpreter": {
    "hash": "4f946df053fbf2b937619d3c5458e7af74262f9a954d8797ba0b27400bcafe06"
   }
  }
 },
 "nbformat": 4,
 "nbformat_minor": 2
}
